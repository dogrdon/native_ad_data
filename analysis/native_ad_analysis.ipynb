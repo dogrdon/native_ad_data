{
 "cells": [
  {
   "cell_type": "code",
   "execution_count": 1,
   "metadata": {
    "collapsed": true
   },
   "outputs": [],
   "source": [
    "import pandas as pd\n",
    "from datetime import datetime\n",
    "import dateutil\n",
    "import matplotlib.pyplot as plt\n",
    "from IPython.core.display import display, HTML\n",
    "import re\n",
    "from urllib.parse import urlparse\n",
    "import json"
   ]
  },
  {
   "cell_type": "code",
   "execution_count": 2,
   "metadata": {
    "collapsed": true
   },
   "outputs": [],
   "source": [
    "data = pd.read_csv('../data/in/native_ad_data.csv')"
   ]
  },
  {
   "cell_type": "markdown",
   "metadata": {},
   "source": [
    "The one's from zergnet all have some newlines we need to get rid of and they appear to have concatenated the headline with the provider. So let's clean those up."
   ]
  },
  {
   "cell_type": "code",
   "execution_count": 3,
   "metadata": {
    "collapsed": false
   },
   "outputs": [
    {
     "data": {
      "text/html": [
       "<div>\n",
       "<table border=\"1\" class=\"dataframe\">\n",
       "  <thead>\n",
       "    <tr style=\"text-align: right;\">\n",
       "      <th></th>\n",
       "      <th>_id</th>\n",
       "      <th>headline</th>\n",
       "      <th>link</th>\n",
       "      <th>img</th>\n",
       "      <th>provider</th>\n",
       "      <th>source</th>\n",
       "      <th>img_file</th>\n",
       "      <th>date</th>\n",
       "      <th>final_link</th>\n",
       "      <th>orig_article</th>\n",
       "    </tr>\n",
       "  </thead>\n",
       "  <tbody>\n",
       "    <tr>\n",
       "      <th>0</th>\n",
       "      <td>ObjectId(58d90ce706e10d04f7e1b3d8)</td>\n",
       "      <td>20 Cool Moments From Joe Biden’s Time In Office</td>\n",
       "      <td>http://scribol.com/a/news-and-politics/ways-jo...</td>\n",
       "      <td>https://console.brax-cdn.com/creatives/98c6400...</td>\n",
       "      <td>taboola</td>\n",
       "      <td>http://tmz.com</td>\n",
       "      <td>./imgs/876aa5e83f6fb81a81908db3c02fdcc00d44400...</td>\n",
       "      <td>2017-03-27T12:59:09.279Z</td>\n",
       "      <td>http://scribol.com/a/news-and-politics/ways-jo...</td>\n",
       "      <td>NaN</td>\n",
       "    </tr>\n",
       "    <tr>\n",
       "      <th>1</th>\n",
       "      <td>ObjectId(58d90ce706e10d04f7e1b3d9)</td>\n",
       "      <td>Troubled News Anchor Does The Unthinkable On Air</td>\n",
       "      <td>http://www.trend-chaser.com/entertainment/the-...</td>\n",
       "      <td>https://console.brax-cdn.com/creatives/b86bbc0...</td>\n",
       "      <td>taboola</td>\n",
       "      <td>http://tmz.com</td>\n",
       "      <td>./imgs/bab1037467f1385cd865c48029db808b03a151d...</td>\n",
       "      <td>2017-03-27T12:59:09.819Z</td>\n",
       "      <td>http://www.trend-chaser.com/entertainment/the-...</td>\n",
       "      <td>NaN</td>\n",
       "    </tr>\n",
       "    <tr>\n",
       "      <th>2</th>\n",
       "      <td>ObjectId(58d90ce706e10d04f7e1b3da)</td>\n",
       "      <td>It's Almost Hard To Fathom What He look's Like...</td>\n",
       "      <td>http://www.journalistate.com/popular/big-holly...</td>\n",
       "      <td>http://cdn.taboolasyndication.com/libtrc/stati...</td>\n",
       "      <td>taboola</td>\n",
       "      <td>http://tmz.com</td>\n",
       "      <td>./imgs/feeb5be5a9758fcca8cef21b6fb842ccc839476...</td>\n",
       "      <td>2017-03-27T12:59:10.750Z</td>\n",
       "      <td>http://www.journalistate.com/popular/big-holly...</td>\n",
       "      <td>NaN</td>\n",
       "    </tr>\n",
       "    <tr>\n",
       "      <th>3</th>\n",
       "      <td>ObjectId(58d90ce706e10d04f7e1b3db)</td>\n",
       "      <td>Troubled News Anchor Does The Unthinkable On Air</td>\n",
       "      <td>http://www.trend-chaser.com/entertainment/the-...</td>\n",
       "      <td>https://console.brax-cdn.com/creatives/b86bbc0...</td>\n",
       "      <td>taboola</td>\n",
       "      <td>http://tmz.com</td>\n",
       "      <td>./imgs/bab1037467f1385cd865c48029db808b03a151d...</td>\n",
       "      <td>2017-03-27T12:59:11.430Z</td>\n",
       "      <td>http://www.trend-chaser.com/entertainment/the-...</td>\n",
       "      <td>NaN</td>\n",
       "    </tr>\n",
       "    <tr>\n",
       "      <th>4</th>\n",
       "      <td>ObjectId(58d90ce706e10d04f7e1b3dc)</td>\n",
       "      <td>Try NOT Gasp When You See Who Queen Latifah Is...</td>\n",
       "      <td>http://zcretuzft.iflmylife.com/entertainment/o...</td>\n",
       "      <td>http://cdn.taboolasyndication.com/libtrc/stati...</td>\n",
       "      <td>taboola</td>\n",
       "      <td>http://tmz.com</td>\n",
       "      <td>./imgs/d75401b962746864063b51f164633ffeb93931d...</td>\n",
       "      <td>2017-03-27T12:59:11.510Z</td>\n",
       "      <td>http://www.iflmylife.com/entertainment/other-h...</td>\n",
       "      <td>NaN</td>\n",
       "    </tr>\n",
       "  </tbody>\n",
       "</table>\n",
       "</div>"
      ],
      "text/plain": [
       "                                  _id  \\\n",
       "0  ObjectId(58d90ce706e10d04f7e1b3d8)   \n",
       "1  ObjectId(58d90ce706e10d04f7e1b3d9)   \n",
       "2  ObjectId(58d90ce706e10d04f7e1b3da)   \n",
       "3  ObjectId(58d90ce706e10d04f7e1b3db)   \n",
       "4  ObjectId(58d90ce706e10d04f7e1b3dc)   \n",
       "\n",
       "                                            headline  \\\n",
       "0    20 Cool Moments From Joe Biden’s Time In Office   \n",
       "1   Troubled News Anchor Does The Unthinkable On Air   \n",
       "2  It's Almost Hard To Fathom What He look's Like...   \n",
       "3   Troubled News Anchor Does The Unthinkable On Air   \n",
       "4  Try NOT Gasp When You See Who Queen Latifah Is...   \n",
       "\n",
       "                                                link  \\\n",
       "0  http://scribol.com/a/news-and-politics/ways-jo...   \n",
       "1  http://www.trend-chaser.com/entertainment/the-...   \n",
       "2  http://www.journalistate.com/popular/big-holly...   \n",
       "3  http://www.trend-chaser.com/entertainment/the-...   \n",
       "4  http://zcretuzft.iflmylife.com/entertainment/o...   \n",
       "\n",
       "                                                 img provider          source  \\\n",
       "0  https://console.brax-cdn.com/creatives/98c6400...  taboola  http://tmz.com   \n",
       "1  https://console.brax-cdn.com/creatives/b86bbc0...  taboola  http://tmz.com   \n",
       "2  http://cdn.taboolasyndication.com/libtrc/stati...  taboola  http://tmz.com   \n",
       "3  https://console.brax-cdn.com/creatives/b86bbc0...  taboola  http://tmz.com   \n",
       "4  http://cdn.taboolasyndication.com/libtrc/stati...  taboola  http://tmz.com   \n",
       "\n",
       "                                            img_file  \\\n",
       "0  ./imgs/876aa5e83f6fb81a81908db3c02fdcc00d44400...   \n",
       "1  ./imgs/bab1037467f1385cd865c48029db808b03a151d...   \n",
       "2  ./imgs/feeb5be5a9758fcca8cef21b6fb842ccc839476...   \n",
       "3  ./imgs/bab1037467f1385cd865c48029db808b03a151d...   \n",
       "4  ./imgs/d75401b962746864063b51f164633ffeb93931d...   \n",
       "\n",
       "                       date  \\\n",
       "0  2017-03-27T12:59:09.279Z   \n",
       "1  2017-03-27T12:59:09.819Z   \n",
       "2  2017-03-27T12:59:10.750Z   \n",
       "3  2017-03-27T12:59:11.430Z   \n",
       "4  2017-03-27T12:59:11.510Z   \n",
       "\n",
       "                                          final_link orig_article  \n",
       "0  http://scribol.com/a/news-and-politics/ways-jo...          NaN  \n",
       "1  http://www.trend-chaser.com/entertainment/the-...          NaN  \n",
       "2  http://www.journalistate.com/popular/big-holly...          NaN  \n",
       "3  http://www.trend-chaser.com/entertainment/the-...          NaN  \n",
       "4  http://www.iflmylife.com/entertainment/other-h...          NaN  "
      ]
     },
     "execution_count": 3,
     "metadata": {},
     "output_type": "execute_result"
    }
   ],
   "source": [
    "data['headline'] = data['headline'].apply(lambda x: re.sub('(?<=[a-z])\\.?([A-Z](.*))' , '', x.strip()))\n",
    "data.head()"
   ]
  },
  {
   "cell_type": "code",
   "execution_count": 4,
   "metadata": {
    "collapsed": false
   },
   "outputs": [],
   "source": [
    "data['img_file'] = data['img_file'].apply(lambda x: re.sub('\\.\\/imgs\\/' , '', str(x).strip()))"
   ]
  },
  {
   "cell_type": "markdown",
   "metadata": {},
   "source": [
    "OK, that's better."
   ]
  },
  {
   "cell_type": "markdown",
   "metadata": {},
   "source": [
    "Do we have any null values?"
   ]
  },
  {
   "cell_type": "code",
   "execution_count": 5,
   "metadata": {
    "collapsed": false
   },
   "outputs": [
    {
     "name": "stdout",
     "output_type": "stream",
     "text": [
      "('_id', 0)\n",
      "('headline', 0)\n",
      "('link', 0)\n",
      "('img', 0)\n",
      "('provider', 0)\n",
      "('source', 0)\n",
      "('img_file', 0)\n",
      "('date', 0)\n",
      "('final_link', 0)\n",
      "('orig_article', 59776)\n"
     ]
    }
   ],
   "source": [
    "for col in data.columns:\n",
    "    print((col, sum(data[col].isnull())))"
   ]
  },
  {
   "cell_type": "markdown",
   "metadata": {},
   "source": [
    "For future reference, we have a small number of img_files that are null (probably because the scraper errored out grabbing the file). For the most part, that's pretty good."
   ]
  },
  {
   "cell_type": "code",
   "execution_count": 6,
   "metadata": {
    "collapsed": false
   },
   "outputs": [
    {
     "data": {
      "text/html": [
       "<div>\n",
       "<table border=\"1\" class=\"dataframe\">\n",
       "  <thead>\n",
       "    <tr style=\"text-align: right;\">\n",
       "      <th></th>\n",
       "      <th>_id</th>\n",
       "      <th>headline</th>\n",
       "      <th>link</th>\n",
       "      <th>img</th>\n",
       "      <th>provider</th>\n",
       "      <th>source</th>\n",
       "      <th>img_file</th>\n",
       "      <th>date</th>\n",
       "      <th>final_link</th>\n",
       "      <th>orig_article</th>\n",
       "    </tr>\n",
       "  </thead>\n",
       "  <tbody>\n",
       "    <tr>\n",
       "      <th>count</th>\n",
       "      <td>129399</td>\n",
       "      <td>129399</td>\n",
       "      <td>129399</td>\n",
       "      <td>129399</td>\n",
       "      <td>129399</td>\n",
       "      <td>129399</td>\n",
       "      <td>129399</td>\n",
       "      <td>129399</td>\n",
       "      <td>129399</td>\n",
       "      <td>69623</td>\n",
       "    </tr>\n",
       "    <tr>\n",
       "      <th>unique</th>\n",
       "      <td>129399</td>\n",
       "      <td>18022</td>\n",
       "      <td>43315</td>\n",
       "      <td>23843</td>\n",
       "      <td>4</td>\n",
       "      <td>24</td>\n",
       "      <td>23866</td>\n",
       "      <td>129396</td>\n",
       "      <td>36713</td>\n",
       "      <td>6670</td>\n",
       "    </tr>\n",
       "    <tr>\n",
       "      <th>top</th>\n",
       "      <td>ObjectId(592a2cea9e1e2a1e74c89e82)</td>\n",
       "      <td>Here’s Why Guys Are Obsessed With This Underwear…</td>\n",
       "      <td>https://grizly.com/lifestyle/guy-turned-backya...</td>\n",
       "      <td>http://cdn.taboolasyndication.com/libtrc/stati...</td>\n",
       "      <td>taboola</td>\n",
       "      <td>http://tmz.com</td>\n",
       "      <td>db07ff3401037653d665822c5a78617464fe4ef8.jpg</td>\n",
       "      <td>2017-04-28T01:50:07.174Z</td>\n",
       "      <td>https://grizly.com/lifestyle/guy-turned-backya...</td>\n",
       "      <td>http://www.tmz.com/2017/06/02/kathy-griffin-co...</td>\n",
       "    </tr>\n",
       "    <tr>\n",
       "      <th>freq</th>\n",
       "      <td>1</td>\n",
       "      <td>996</td>\n",
       "      <td>588</td>\n",
       "      <td>621</td>\n",
       "      <td>59474</td>\n",
       "      <td>24167</td>\n",
       "      <td>621</td>\n",
       "      <td>2</td>\n",
       "      <td>588</td>\n",
       "      <td>167</td>\n",
       "    </tr>\n",
       "  </tbody>\n",
       "</table>\n",
       "</div>"
      ],
      "text/plain": [
       "                                       _id  \\\n",
       "count                               129399   \n",
       "unique                              129399   \n",
       "top     ObjectId(592a2cea9e1e2a1e74c89e82)   \n",
       "freq                                     1   \n",
       "\n",
       "                                                 headline  \\\n",
       "count                                              129399   \n",
       "unique                                              18022   \n",
       "top     Here’s Why Guys Are Obsessed With This Underwear…   \n",
       "freq                                                  996   \n",
       "\n",
       "                                                     link  \\\n",
       "count                                              129399   \n",
       "unique                                              43315   \n",
       "top     https://grizly.com/lifestyle/guy-turned-backya...   \n",
       "freq                                                  588   \n",
       "\n",
       "                                                      img provider  \\\n",
       "count                                              129399   129399   \n",
       "unique                                              23843        4   \n",
       "top     http://cdn.taboolasyndication.com/libtrc/stati...  taboola   \n",
       "freq                                                  621    59474   \n",
       "\n",
       "                source                                      img_file  \\\n",
       "count           129399                                        129399   \n",
       "unique              24                                         23866   \n",
       "top     http://tmz.com  db07ff3401037653d665822c5a78617464fe4ef8.jpg   \n",
       "freq             24167                                           621   \n",
       "\n",
       "                            date  \\\n",
       "count                     129399   \n",
       "unique                    129396   \n",
       "top     2017-04-28T01:50:07.174Z   \n",
       "freq                           2   \n",
       "\n",
       "                                               final_link  \\\n",
       "count                                              129399   \n",
       "unique                                              36713   \n",
       "top     https://grizly.com/lifestyle/guy-turned-backya...   \n",
       "freq                                                  588   \n",
       "\n",
       "                                             orig_article  \n",
       "count                                               69623  \n",
       "unique                                               6670  \n",
       "top     http://www.tmz.com/2017/06/02/kathy-griffin-co...  \n",
       "freq                                                  167  "
      ]
     },
     "execution_count": 6,
     "metadata": {},
     "output_type": "execute_result"
    }
   ],
   "source": [
    "data.describe()"
   ]
  },
  {
   "cell_type": "markdown",
   "metadata": {},
   "source": [
    "Already we can see some interesting trends here. Out of 64147 unique records, only 10260 of the headlines are unique, but 19212 of the links are unique and 12709 of the image files are unique (assuming for sure that there were issues with downloading images, but more on that later). So it seems already that there are content links which might reuse the same headline, or image for different destination articles. Let's try to dig into that."
   ]
  },
  {
   "cell_type": "markdown",
   "metadata": {},
   "source": [
    "Also, becuase we want to inspect the hosts from which the articles and images are coming from, let's parse those out in the data."
   ]
  },
  {
   "cell_type": "code",
   "execution_count": 7,
   "metadata": {
    "collapsed": true
   },
   "outputs": [],
   "source": [
    "data['img_host'] = data['img'].apply(lambda x: urlparse(x).netloc)"
   ]
  },
  {
   "cell_type": "code",
   "execution_count": 8,
   "metadata": {
    "collapsed": true
   },
   "outputs": [],
   "source": [
    "data['link_host'] = data['final_link'].apply(lambda x: urlparse(x).netloc)"
   ]
  },
  {
   "cell_type": "markdown",
   "metadata": {},
   "source": [
    "Next, let's classify each site by a very relaxed set of tags based on perceived political bias. I might be a little off on some, I referenced https://www.allsides.com/ where possible, but that was not entirely helpful in all cases. Otherwise, I just went with my own idea of where I felt a site fell on the political spectrum (e.g., left, right, or center). There is also a tag for tabloids, or primarily sites that probably don't really have an editorial perspective so much as a desire to publish whatever gets the most traffic."
   ]
  },
  {
   "cell_type": "code",
   "execution_count": 9,
   "metadata": {
    "collapsed": true
   },
   "outputs": [],
   "source": [
    "left = ['http://www.politico.com/magazine/', 'https://www.washingtonpost.com/', 'http://www.huffingtonpost.com/', 'http://gothamist.com/news', 'http://www.metro.us/news', 'http://www.politico.com/politics', 'http://www.nydailynews.com/news', 'http://www.thedailybeast.com/']\n",
    "right = ['http://www.breitbart.com', 'http://www.rt.com', 'https://nypost.com/news/', 'http://www.infowars.com/', 'https://www.therebel.media/news', 'http://observer.com/latest/']\n",
    "center = ['http://www.ibtimes.com/', 'http://www.businessinsider.com/', 'http://thehill.com']\n",
    "tabloid = ['http://tmz.com', 'http://www.dailymail.co.uk/', 'https://downtrend.com/', 'http://reductress.com/', 'http://preventionpulse.com/', 'http://elitedaily.com/', 'http://worldstarhiphop.com/videos/']"
   ]
  },
  {
   "cell_type": "code",
   "execution_count": 10,
   "metadata": {
    "collapsed": true
   },
   "outputs": [],
   "source": [
    "def get_classification(source):\n",
    "    if source in left:\n",
    "        return 'left'\n",
    "    if source in right:\n",
    "        return 'right'\n",
    "    if source in center:\n",
    "        return 'center'\n",
    "    if source in tabloid:\n",
    "        return 'tabloid'"
   ]
  },
  {
   "cell_type": "code",
   "execution_count": 11,
   "metadata": {
    "collapsed": false
   },
   "outputs": [],
   "source": [
    "data['source_class'] = data['source'].apply(lambda x: get_classification(x))"
   ]
  },
  {
   "cell_type": "code",
   "execution_count": 12,
   "metadata": {
    "collapsed": false
   },
   "outputs": [
    {
     "data": {
      "text/html": [
       "<div>\n",
       "<table border=\"1\" class=\"dataframe\">\n",
       "  <thead>\n",
       "    <tr style=\"text-align: right;\">\n",
       "      <th></th>\n",
       "      <th>_id</th>\n",
       "      <th>headline</th>\n",
       "      <th>link</th>\n",
       "      <th>img</th>\n",
       "      <th>provider</th>\n",
       "      <th>source</th>\n",
       "      <th>img_file</th>\n",
       "      <th>date</th>\n",
       "      <th>final_link</th>\n",
       "      <th>orig_article</th>\n",
       "      <th>img_host</th>\n",
       "      <th>link_host</th>\n",
       "      <th>source_class</th>\n",
       "    </tr>\n",
       "  </thead>\n",
       "  <tbody>\n",
       "    <tr>\n",
       "      <th>0</th>\n",
       "      <td>ObjectId(58d90ce706e10d04f7e1b3d8)</td>\n",
       "      <td>20 Cool Moments From Joe Biden’s Time In Office</td>\n",
       "      <td>http://scribol.com/a/news-and-politics/ways-jo...</td>\n",
       "      <td>https://console.brax-cdn.com/creatives/98c6400...</td>\n",
       "      <td>taboola</td>\n",
       "      <td>http://tmz.com</td>\n",
       "      <td>876aa5e83f6fb81a81908db3c02fdcc00d444000.png</td>\n",
       "      <td>2017-03-27T12:59:09.279Z</td>\n",
       "      <td>http://scribol.com/a/news-and-politics/ways-jo...</td>\n",
       "      <td>NaN</td>\n",
       "      <td>console.brax-cdn.com</td>\n",
       "      <td>scribol.com</td>\n",
       "      <td>tabloid</td>\n",
       "    </tr>\n",
       "    <tr>\n",
       "      <th>1</th>\n",
       "      <td>ObjectId(58d90ce706e10d04f7e1b3d9)</td>\n",
       "      <td>Troubled News Anchor Does The Unthinkable On Air</td>\n",
       "      <td>http://www.trend-chaser.com/entertainment/the-...</td>\n",
       "      <td>https://console.brax-cdn.com/creatives/b86bbc0...</td>\n",
       "      <td>taboola</td>\n",
       "      <td>http://tmz.com</td>\n",
       "      <td>bab1037467f1385cd865c48029db808b03a151d2.png</td>\n",
       "      <td>2017-03-27T12:59:09.819Z</td>\n",
       "      <td>http://www.trend-chaser.com/entertainment/the-...</td>\n",
       "      <td>NaN</td>\n",
       "      <td>console.brax-cdn.com</td>\n",
       "      <td>www.trend-chaser.com</td>\n",
       "      <td>tabloid</td>\n",
       "    </tr>\n",
       "    <tr>\n",
       "      <th>2</th>\n",
       "      <td>ObjectId(58d90ce706e10d04f7e1b3da)</td>\n",
       "      <td>It's Almost Hard To Fathom What He look's Like...</td>\n",
       "      <td>http://www.journalistate.com/popular/big-holly...</td>\n",
       "      <td>http://cdn.taboolasyndication.com/libtrc/stati...</td>\n",
       "      <td>taboola</td>\n",
       "      <td>http://tmz.com</td>\n",
       "      <td>feeb5be5a9758fcca8cef21b6fb842ccc8394766.jpg</td>\n",
       "      <td>2017-03-27T12:59:10.750Z</td>\n",
       "      <td>http://www.journalistate.com/popular/big-holly...</td>\n",
       "      <td>NaN</td>\n",
       "      <td>cdn.taboolasyndication.com</td>\n",
       "      <td>www.journalistate.com</td>\n",
       "      <td>tabloid</td>\n",
       "    </tr>\n",
       "    <tr>\n",
       "      <th>3</th>\n",
       "      <td>ObjectId(58d90ce706e10d04f7e1b3db)</td>\n",
       "      <td>Troubled News Anchor Does The Unthinkable On Air</td>\n",
       "      <td>http://www.trend-chaser.com/entertainment/the-...</td>\n",
       "      <td>https://console.brax-cdn.com/creatives/b86bbc0...</td>\n",
       "      <td>taboola</td>\n",
       "      <td>http://tmz.com</td>\n",
       "      <td>bab1037467f1385cd865c48029db808b03a151d2.png</td>\n",
       "      <td>2017-03-27T12:59:11.430Z</td>\n",
       "      <td>http://www.trend-chaser.com/entertainment/the-...</td>\n",
       "      <td>NaN</td>\n",
       "      <td>console.brax-cdn.com</td>\n",
       "      <td>www.trend-chaser.com</td>\n",
       "      <td>tabloid</td>\n",
       "    </tr>\n",
       "    <tr>\n",
       "      <th>4</th>\n",
       "      <td>ObjectId(58d90ce706e10d04f7e1b3dc)</td>\n",
       "      <td>Try NOT Gasp When You See Who Queen Latifah Is...</td>\n",
       "      <td>http://zcretuzft.iflmylife.com/entertainment/o...</td>\n",
       "      <td>http://cdn.taboolasyndication.com/libtrc/stati...</td>\n",
       "      <td>taboola</td>\n",
       "      <td>http://tmz.com</td>\n",
       "      <td>d75401b962746864063b51f164633ffeb93931d3.jpg</td>\n",
       "      <td>2017-03-27T12:59:11.510Z</td>\n",
       "      <td>http://www.iflmylife.com/entertainment/other-h...</td>\n",
       "      <td>NaN</td>\n",
       "      <td>cdn.taboolasyndication.com</td>\n",
       "      <td>www.iflmylife.com</td>\n",
       "      <td>tabloid</td>\n",
       "    </tr>\n",
       "  </tbody>\n",
       "</table>\n",
       "</div>"
      ],
      "text/plain": [
       "                                  _id  \\\n",
       "0  ObjectId(58d90ce706e10d04f7e1b3d8)   \n",
       "1  ObjectId(58d90ce706e10d04f7e1b3d9)   \n",
       "2  ObjectId(58d90ce706e10d04f7e1b3da)   \n",
       "3  ObjectId(58d90ce706e10d04f7e1b3db)   \n",
       "4  ObjectId(58d90ce706e10d04f7e1b3dc)   \n",
       "\n",
       "                                            headline  \\\n",
       "0    20 Cool Moments From Joe Biden’s Time In Office   \n",
       "1   Troubled News Anchor Does The Unthinkable On Air   \n",
       "2  It's Almost Hard To Fathom What He look's Like...   \n",
       "3   Troubled News Anchor Does The Unthinkable On Air   \n",
       "4  Try NOT Gasp When You See Who Queen Latifah Is...   \n",
       "\n",
       "                                                link  \\\n",
       "0  http://scribol.com/a/news-and-politics/ways-jo...   \n",
       "1  http://www.trend-chaser.com/entertainment/the-...   \n",
       "2  http://www.journalistate.com/popular/big-holly...   \n",
       "3  http://www.trend-chaser.com/entertainment/the-...   \n",
       "4  http://zcretuzft.iflmylife.com/entertainment/o...   \n",
       "\n",
       "                                                 img provider          source  \\\n",
       "0  https://console.brax-cdn.com/creatives/98c6400...  taboola  http://tmz.com   \n",
       "1  https://console.brax-cdn.com/creatives/b86bbc0...  taboola  http://tmz.com   \n",
       "2  http://cdn.taboolasyndication.com/libtrc/stati...  taboola  http://tmz.com   \n",
       "3  https://console.brax-cdn.com/creatives/b86bbc0...  taboola  http://tmz.com   \n",
       "4  http://cdn.taboolasyndication.com/libtrc/stati...  taboola  http://tmz.com   \n",
       "\n",
       "                                       img_file                      date  \\\n",
       "0  876aa5e83f6fb81a81908db3c02fdcc00d444000.png  2017-03-27T12:59:09.279Z   \n",
       "1  bab1037467f1385cd865c48029db808b03a151d2.png  2017-03-27T12:59:09.819Z   \n",
       "2  feeb5be5a9758fcca8cef21b6fb842ccc8394766.jpg  2017-03-27T12:59:10.750Z   \n",
       "3  bab1037467f1385cd865c48029db808b03a151d2.png  2017-03-27T12:59:11.430Z   \n",
       "4  d75401b962746864063b51f164633ffeb93931d3.jpg  2017-03-27T12:59:11.510Z   \n",
       "\n",
       "                                          final_link orig_article  \\\n",
       "0  http://scribol.com/a/news-and-politics/ways-jo...          NaN   \n",
       "1  http://www.trend-chaser.com/entertainment/the-...          NaN   \n",
       "2  http://www.journalistate.com/popular/big-holly...          NaN   \n",
       "3  http://www.trend-chaser.com/entertainment/the-...          NaN   \n",
       "4  http://www.iflmylife.com/entertainment/other-h...          NaN   \n",
       "\n",
       "                     img_host              link_host source_class  \n",
       "0        console.brax-cdn.com            scribol.com      tabloid  \n",
       "1        console.brax-cdn.com   www.trend-chaser.com      tabloid  \n",
       "2  cdn.taboolasyndication.com  www.journalistate.com      tabloid  \n",
       "3        console.brax-cdn.com   www.trend-chaser.com      tabloid  \n",
       "4  cdn.taboolasyndication.com      www.iflmylife.com      tabloid  "
      ]
     },
     "execution_count": 12,
     "metadata": {},
     "output_type": "execute_result"
    }
   ],
   "source": [
    "data.head()"
   ]
  },
  {
   "cell_type": "code",
   "execution_count": 13,
   "metadata": {
    "collapsed": false
   },
   "outputs": [],
   "source": [
    "deduped = data.drop_duplicates(subset=['headline', 'link', 'img', 'provider', 'source', 'img_file', 'final_link'], keep=False)"
   ]
  },
  {
   "cell_type": "code",
   "execution_count": 14,
   "metadata": {
    "collapsed": false
   },
   "outputs": [
    {
     "data": {
      "text/html": [
       "<div>\n",
       "<table border=\"1\" class=\"dataframe\">\n",
       "  <thead>\n",
       "    <tr style=\"text-align: right;\">\n",
       "      <th></th>\n",
       "      <th>_id</th>\n",
       "      <th>headline</th>\n",
       "      <th>link</th>\n",
       "      <th>img</th>\n",
       "      <th>provider</th>\n",
       "      <th>source</th>\n",
       "      <th>img_file</th>\n",
       "      <th>date</th>\n",
       "      <th>final_link</th>\n",
       "      <th>orig_article</th>\n",
       "      <th>img_host</th>\n",
       "      <th>link_host</th>\n",
       "      <th>source_class</th>\n",
       "    </tr>\n",
       "  </thead>\n",
       "  <tbody>\n",
       "    <tr>\n",
       "      <th>0</th>\n",
       "      <td>ObjectId(58d90ce706e10d04f7e1b3d8)</td>\n",
       "      <td>20 Cool Moments From Joe Biden’s Time In Office</td>\n",
       "      <td>http://scribol.com/a/news-and-politics/ways-jo...</td>\n",
       "      <td>https://console.brax-cdn.com/creatives/98c6400...</td>\n",
       "      <td>taboola</td>\n",
       "      <td>http://tmz.com</td>\n",
       "      <td>876aa5e83f6fb81a81908db3c02fdcc00d444000.png</td>\n",
       "      <td>2017-03-27T12:59:09.279Z</td>\n",
       "      <td>http://scribol.com/a/news-and-politics/ways-jo...</td>\n",
       "      <td>NaN</td>\n",
       "      <td>console.brax-cdn.com</td>\n",
       "      <td>scribol.com</td>\n",
       "      <td>tabloid</td>\n",
       "    </tr>\n",
       "    <tr>\n",
       "      <th>8</th>\n",
       "      <td>ObjectId(58d90ce706e10d04f7e1b3e0)</td>\n",
       "      <td>25 Pics Donald Trump Doesn't Want You To See</td>\n",
       "      <td>http://adrzr.com/54f7?utm_source=8b4&amp;utm_campa...</td>\n",
       "      <td>http://cdn.taboolasyndication.com/libtrc/stati...</td>\n",
       "      <td>taboola</td>\n",
       "      <td>http://tmz.com</td>\n",
       "      <td>d3a3f2f50c84529c08bb8314ae3aa66280f0cbc7.png</td>\n",
       "      <td>2017-03-27T12:59:13.038Z</td>\n",
       "      <td>http://detonate.com/pictures-that-trump-would-...</td>\n",
       "      <td>NaN</td>\n",
       "      <td>cdn.taboolasyndication.com</td>\n",
       "      <td>detonate.com</td>\n",
       "      <td>tabloid</td>\n",
       "    </tr>\n",
       "    <tr>\n",
       "      <th>10</th>\n",
       "      <td>ObjectId(58d90ce706e10d04f7e1b3e2)</td>\n",
       "      <td>Do This Tonight to Make Fungus Disappear by Mo...</td>\n",
       "      <td>http://japanesetoenailfunguscode.com/?aff_id=4...</td>\n",
       "      <td>https://revcontent-p0.s3.amazonaws.com/content...</td>\n",
       "      <td>revcontent</td>\n",
       "      <td>http://worldstarhiphop.com/videos/</td>\n",
       "      <td>e2bb63d58e09bae569a90f64de24c93a2d008e34.jpg</td>\n",
       "      <td>2017-03-27T12:59:15.114Z</td>\n",
       "      <td>http://japanesetoenailfunguscode.com/?aff_id=4...</td>\n",
       "      <td>NaN</td>\n",
       "      <td>revcontent-p0.s3.amazonaws.com</td>\n",
       "      <td>japanesetoenailfunguscode.com</td>\n",
       "      <td>tabloid</td>\n",
       "    </tr>\n",
       "    <tr>\n",
       "      <th>11</th>\n",
       "      <td>ObjectId(58d90ce706e10d04f7e1b3e3)</td>\n",
       "      <td>Here's What New Dental Implants Should Cost Yo...</td>\n",
       "      <td>http://gaindentalfixdeals.com/?affid=1016&amp;s1=1...</td>\n",
       "      <td>https://revcontent-p0.s3.amazonaws.com/content...</td>\n",
       "      <td>revcontent</td>\n",
       "      <td>http://worldstarhiphop.com/videos/</td>\n",
       "      <td>f70f91d2ebf37e35480fe4f689477406adf9243e.jpg</td>\n",
       "      <td>2017-03-27T12:59:15.237Z</td>\n",
       "      <td>http://gaindentalfixdeals.com/?affid=1016&amp;s1=1...</td>\n",
       "      <td>NaN</td>\n",
       "      <td>revcontent-p0.s3.amazonaws.com</td>\n",
       "      <td>gaindentalfixdeals.com</td>\n",
       "      <td>tabloid</td>\n",
       "    </tr>\n",
       "    <tr>\n",
       "      <th>12</th>\n",
       "      <td>ObjectId(58d90ce706e10d04f7e1b3e4)</td>\n",
       "      <td>Michael Jordan Has Pretty Much Given Up on His...</td>\n",
       "      <td>http://trends.revcontent.com/click.php?d=vJdwp...</td>\n",
       "      <td>https://revcontent-p0.s3.amazonaws.com/content...</td>\n",
       "      <td>revcontent</td>\n",
       "      <td>http://worldstarhiphop.com/videos/</td>\n",
       "      <td>ab914b86682795c6d6624707b22b06f88f0e551a.jpg</td>\n",
       "      <td>2017-03-27T12:59:15.614Z</td>\n",
       "      <td>http://trends.revcontent.com/click.php?d=vJdwp...</td>\n",
       "      <td>NaN</td>\n",
       "      <td>revcontent-p0.s3.amazonaws.com</td>\n",
       "      <td>trends.revcontent.com</td>\n",
       "      <td>tabloid</td>\n",
       "    </tr>\n",
       "  </tbody>\n",
       "</table>\n",
       "</div>"
      ],
      "text/plain": [
       "                                   _id  \\\n",
       "0   ObjectId(58d90ce706e10d04f7e1b3d8)   \n",
       "8   ObjectId(58d90ce706e10d04f7e1b3e0)   \n",
       "10  ObjectId(58d90ce706e10d04f7e1b3e2)   \n",
       "11  ObjectId(58d90ce706e10d04f7e1b3e3)   \n",
       "12  ObjectId(58d90ce706e10d04f7e1b3e4)   \n",
       "\n",
       "                                             headline  \\\n",
       "0     20 Cool Moments From Joe Biden’s Time In Office   \n",
       "8        25 Pics Donald Trump Doesn't Want You To See   \n",
       "10  Do This Tonight to Make Fungus Disappear by Mo...   \n",
       "11  Here's What New Dental Implants Should Cost Yo...   \n",
       "12  Michael Jordan Has Pretty Much Given Up on His...   \n",
       "\n",
       "                                                 link  \\\n",
       "0   http://scribol.com/a/news-and-politics/ways-jo...   \n",
       "8   http://adrzr.com/54f7?utm_source=8b4&utm_campa...   \n",
       "10  http://japanesetoenailfunguscode.com/?aff_id=4...   \n",
       "11  http://gaindentalfixdeals.com/?affid=1016&s1=1...   \n",
       "12  http://trends.revcontent.com/click.php?d=vJdwp...   \n",
       "\n",
       "                                                  img    provider  \\\n",
       "0   https://console.brax-cdn.com/creatives/98c6400...     taboola   \n",
       "8   http://cdn.taboolasyndication.com/libtrc/stati...     taboola   \n",
       "10  https://revcontent-p0.s3.amazonaws.com/content...  revcontent   \n",
       "11  https://revcontent-p0.s3.amazonaws.com/content...  revcontent   \n",
       "12  https://revcontent-p0.s3.amazonaws.com/content...  revcontent   \n",
       "\n",
       "                                source  \\\n",
       "0                       http://tmz.com   \n",
       "8                       http://tmz.com   \n",
       "10  http://worldstarhiphop.com/videos/   \n",
       "11  http://worldstarhiphop.com/videos/   \n",
       "12  http://worldstarhiphop.com/videos/   \n",
       "\n",
       "                                        img_file                      date  \\\n",
       "0   876aa5e83f6fb81a81908db3c02fdcc00d444000.png  2017-03-27T12:59:09.279Z   \n",
       "8   d3a3f2f50c84529c08bb8314ae3aa66280f0cbc7.png  2017-03-27T12:59:13.038Z   \n",
       "10  e2bb63d58e09bae569a90f64de24c93a2d008e34.jpg  2017-03-27T12:59:15.114Z   \n",
       "11  f70f91d2ebf37e35480fe4f689477406adf9243e.jpg  2017-03-27T12:59:15.237Z   \n",
       "12  ab914b86682795c6d6624707b22b06f88f0e551a.jpg  2017-03-27T12:59:15.614Z   \n",
       "\n",
       "                                           final_link orig_article  \\\n",
       "0   http://scribol.com/a/news-and-politics/ways-jo...          NaN   \n",
       "8   http://detonate.com/pictures-that-trump-would-...          NaN   \n",
       "10  http://japanesetoenailfunguscode.com/?aff_id=4...          NaN   \n",
       "11  http://gaindentalfixdeals.com/?affid=1016&s1=1...          NaN   \n",
       "12  http://trends.revcontent.com/click.php?d=vJdwp...          NaN   \n",
       "\n",
       "                          img_host                      link_host source_class  \n",
       "0             console.brax-cdn.com                    scribol.com      tabloid  \n",
       "8       cdn.taboolasyndication.com                   detonate.com      tabloid  \n",
       "10  revcontent-p0.s3.amazonaws.com  japanesetoenailfunguscode.com      tabloid  \n",
       "11  revcontent-p0.s3.amazonaws.com         gaindentalfixdeals.com      tabloid  \n",
       "12  revcontent-p0.s3.amazonaws.com          trends.revcontent.com      tabloid  "
      ]
     },
     "execution_count": 14,
     "metadata": {},
     "output_type": "execute_result"
    }
   ],
   "source": [
    "deduped.head()"
   ]
  },
  {
   "cell_type": "markdown",
   "metadata": {},
   "source": [
    "And let's just check on those null values again..."
   ]
  },
  {
   "cell_type": "code",
   "execution_count": 15,
   "metadata": {
    "collapsed": false
   },
   "outputs": [
    {
     "name": "stdout",
     "output_type": "stream",
     "text": [
      "('_id', 0)\n",
      "('headline', 0)\n",
      "('link', 0)\n",
      "('img', 0)\n",
      "('provider', 0)\n",
      "('source', 0)\n",
      "('img_file', 0)\n",
      "('date', 0)\n",
      "('final_link', 0)\n",
      "('orig_article', 18453)\n",
      "('img_host', 0)\n",
      "('link_host', 0)\n",
      "('source_class', 0)\n"
     ]
    }
   ],
   "source": [
    "for col in deduped.columns:\n",
    "    print((col, sum(deduped[col].isnull())))"
   ]
  },
  {
   "cell_type": "markdown",
   "metadata": {},
   "source": [
    "But that's enough of that. Let's return to the unique records we're interested in in `deduped`. But first, let's take a look at the rate of success for our record collection."
   ]
  },
  {
   "cell_type": "code",
   "execution_count": 16,
   "metadata": {
    "collapsed": false
   },
   "outputs": [
    {
     "data": {
      "text/plain": [
       "33.71741667246269"
      ]
     },
     "execution_count": 16,
     "metadata": {},
     "output_type": "execute_result"
    }
   ],
   "source": [
    "(43630/129399)*100"
   ]
  },
  {
   "cell_type": "markdown",
   "metadata": {},
   "source": [
    "Crud, doing a harvest yields results where only 33% of our sample is worth examining further. "
   ]
  },
  {
   "cell_type": "markdown",
   "metadata": {},
   "source": [
    "Note: We might still be interested in the duplicates if we take a look at the distribution of those records over time. Below, we should probably reduce the date of collection to a week or maybe a 3 day sequence and only remove duplicates if they happened within that period. Which might tell us something about content being shuffled in and out by the provider."
   ]
  },
  {
   "cell_type": "markdown",
   "metadata": {},
   "source": [
    "Let's get the top 10 headlines grouped by img"
   ]
  },
  {
   "cell_type": "code",
   "execution_count": 17,
   "metadata": {
    "collapsed": false,
    "scrolled": true
   },
   "outputs": [
    {
     "data": {
      "text/plain": [
       "img                                                                                                         headline                                                                                                 \n",
       "http://cdn.taboolasyndication.com/libtrc/static/thumbnails/21a99ebd78f2af61aeeec2074e0376c0.jpg             Nicole Kidman's Yacht Is Far From You'd Expect                                                               368\n",
       "https://revcontent-p0.s3.amazonaws.com/content/images/1495720487.jpg                                        Triple Your Accuracy With This Weird Shooting Technique Used By Seal Snipers                                 238\n",
       "http://cdn.taboolasyndication.com/libtrc/static/thumbnails/0dba2430aca9e98e05160cfd6e6d3171.jpg             Here Is How You Upgrade To Business Class                                                                    227\n",
       "http://cdn.taboolasyndication.com/libtrc/static/thumbnails/2e967b6db0813815a899401b4746a749.jpg             Stairlifts are disrupting the multi-billion dollar retirement home industry - keeping seniors independent    197\n",
       "http://cdn.taboolasyndication.com/libtrc/static/thumbnails/6b232005189e48716587f79b33347846.jpg             Tiger Woods' Yacht Is Far From You'd Expect                                                                  171\n",
       "https://revcontent-p0.s3.amazonaws.com/content/images/cf94a60e6dd053bb9a83231322545e99.jpg                  28 Pictures That Show How Crazy Woodstock 1969 Was                                                           139\n",
       "https://revcontent-p0.s3.amazonaws.com/p0/assets/content_images/emb/7152612145c7f9231d1e2229a5c7fce4-0.png  We Can Guess Your Education Level with Only 10 Questions                                                     132\n",
       "http://img2.zergnet.com/694817_300.jpg                                                                      Kim Kardashian and North West Turn Heads On The Red Carpet                                                   125\n",
       "http://cdn.taboolasyndication.com/libtrc/static/thumbnails/e70c96286da170d65cbf3fc4c9a3e400.jpg             Best Senior Living Communities Of 2017! View Pricing Here & Compare                                          121\n",
       "https://revcontent-p0.s3.amazonaws.com/content/images/1497897658.jpg                                        Trump Voters Shocked After Watching This Leaked Video                                                        120\n",
       "Name: headline, dtype: int64"
      ]
     },
     "execution_count": 17,
     "metadata": {},
     "output_type": "execute_result"
    }
   ],
   "source": [
    "deduped['headline'].groupby(deduped['img']).value_counts().nlargest(10)"
   ]
  },
  {
   "cell_type": "markdown",
   "metadata": {},
   "source": [
    "But hang on. let's just see what the top headlines are. There's certainly overlap, but it's not a one to one relationship between headlines and their images (or at least maybe it's the same image, but coming from a different URL)."
   ]
  },
  {
   "cell_type": "code",
   "execution_count": 18,
   "metadata": {
    "collapsed": false,
    "scrolled": true
   },
   "outputs": [
    {
     "data": {
      "text/plain": [
       "Nicole Kidman's Yacht Is Far From You'd Expect                                                               376\n",
       "Triple Your Accuracy With This Weird Shooting Technique Used By Seal Snipers                                 260\n",
       "Forget Social Security if you Own a Home (Do This)                                                           231\n",
       "Here Is How You Upgrade To Business Class                                                                    227\n",
       "Stairlifts are disrupting the multi-billion dollar retirement home industry - keeping seniors independent    200\n",
       "Tiger Woods' Yacht Is Far From You'd Expect                                                                  181\n",
       "Watch Obama's Face at 0:33. This Leaked Video Will Destroy Obama's Legacy                                    169\n",
       "New Jersey Landlines Get Replaced (But Not With Cell Phones)                                                 161\n",
       "Best Senior Living Communities Of 2017! View Pricing Here & Compare                                          144\n",
       "28 Pictures That Show How Crazy Woodstock 1969 Was                                                           139\n",
       "Name: headline, dtype: int64"
      ]
     },
     "execution_count": 18,
     "metadata": {},
     "output_type": "execute_result"
    }
   ],
   "source": [
    "deduped['headline'].value_counts().nlargest(10)"
   ]
  },
  {
   "cell_type": "markdown",
   "metadata": {},
   "source": [
    "Note: perhaps something we will want to look into is how many different headline, image permutations there are. I am particularly interested in the reuse of images across different headlines."
   ]
  },
  {
   "cell_type": "code",
   "execution_count": 19,
   "metadata": {
    "collapsed": false,
    "scrolled": true
   },
   "outputs": [
    {
     "data": {
      "text/plain": [
       "http://tmz.com                        5070\n",
       "http://elitedaily.com/                4873\n",
       "http://www.politico.com/magazine/     3151\n",
       "https://www.washingtonpost.com/       2961\n",
       "http://www.infowars.com/              2561\n",
       "http://www.thedailybeast.com/         2455\n",
       "http://www.breitbart.com              2443\n",
       "https://downtrend.com/                2421\n",
       "http://www.ibtimes.com/               2323\n",
       "http://thehill.com                    2001\n",
       "http://www.businessinsider.com/       1984\n",
       "http://www.rt.com                     1819\n",
       "http://www.politico.com/politics      1708\n",
       "http://worldstarhiphop.com/videos/    1292\n",
       "http://www.dailymail.co.uk/           1159\n",
       "http://reductress.com/                1082\n",
       "https://nypost.com/news/               979\n",
       "http://www.nydailynews.com/news        864\n",
       "http://www.huffingtonpost.com/         814\n",
       "https://www.therebel.media/news        756\n",
       "http://observer.com/latest/            696\n",
       "http://preventionpulse.com/            108\n",
       "http://gothamist.com/news               74\n",
       "http://www.metro.us/news                36\n",
       "Name: source, dtype: int64"
      ]
     },
     "execution_count": 19,
     "metadata": {},
     "output_type": "execute_result"
    }
   ],
   "source": [
    "deduped['source'].value_counts().nlargest(25)"
   ]
  },
  {
   "cell_type": "markdown",
   "metadata": {},
   "source": [
    "And what about by classification"
   ]
  },
  {
   "cell_type": "code",
   "execution_count": 20,
   "metadata": {
    "collapsed": false
   },
   "outputs": [
    {
     "data": {
      "text/plain": [
       "tabloid    16005\n",
       "left       12063\n",
       "right       9254\n",
       "center      6308\n",
       "Name: source_class, dtype: int64"
      ]
     },
     "execution_count": 20,
     "metadata": {},
     "output_type": "execute_result"
    }
   ],
   "source": [
    "deduped['source_class'].value_counts()"
   ]
  },
  {
   "cell_type": "code",
   "execution_count": 21,
   "metadata": {
    "collapsed": false
   },
   "outputs": [
    {
     "data": {
      "text/plain": [
       "provider    source_class  source                            \n",
       "outbrain    center        http://thehill.com                    2001\n",
       "            left          http://www.politico.com/magazine/     3151\n",
       "                          https://www.washingtonpost.com/       2961\n",
       "                          http://www.thedailybeast.com/         2455\n",
       "            right         https://nypost.com/news/               979\n",
       "                          http://observer.com/latest/            696\n",
       "revcontent  center        http://www.ibtimes.com/               2323\n",
       "            left          http://www.metro.us/news                36\n",
       "            right         http://www.infowars.com/              2561\n",
       "            tabloid       https://downtrend.com/                2421\n",
       "                          http://worldstarhiphop.com/videos/    1292\n",
       "                          http://preventionpulse.com/            108\n",
       "taboola     center        http://www.businessinsider.com/       1984\n",
       "            left          http://www.politico.com/politics      1708\n",
       "                          http://www.nydailynews.com/news        864\n",
       "                          http://www.huffingtonpost.com/         814\n",
       "                          http://gothamist.com/news               74\n",
       "            right         http://www.breitbart.com              2443\n",
       "                          http://www.rt.com                     1819\n",
       "                          https://www.therebel.media/news        756\n",
       "            tabloid       http://www.dailymail.co.uk/           1159\n",
       "                          http://reductress.com/                1082\n",
       "                          http://elitedaily.com/                 718\n",
       "                          http://tmz.com                          10\n",
       "zergnet     tabloid       http://tmz.com                        5060\n",
       "                          http://elitedaily.com/                4155\n",
       "Name: source, dtype: int64"
      ]
     },
     "execution_count": 21,
     "metadata": {},
     "output_type": "execute_result"
    }
   ],
   "source": [
    "deduped.groupby(['provider', 'source_class'])['source'].value_counts()"
   ]
  },
  {
   "cell_type": "markdown",
   "metadata": {},
   "source": [
    "ok so what are the most frequent images?"
   ]
  },
  {
   "cell_type": "code",
   "execution_count": 22,
   "metadata": {
    "collapsed": true,
    "scrolled": true
   },
   "outputs": [],
   "source": [
    "IMG_MAX=5"
   ]
  },
  {
   "cell_type": "code",
   "execution_count": 101,
   "metadata": {
    "collapsed": false
   },
   "outputs": [],
   "source": [
    "topimgs_center = deduped['img'][deduped['source_class'].isin(['center'])].value_counts().nlargest(IMG_MAX).index.tolist()"
   ]
  },
  {
   "cell_type": "code",
   "execution_count": 102,
   "metadata": {
    "collapsed": true
   },
   "outputs": [],
   "source": [
    "bottomimgs_center = deduped['img'][deduped['source_class'].isin(['center'])].value_counts().nsmallest(IMG_MAX).index.tolist()"
   ]
  },
  {
   "cell_type": "code",
   "execution_count": 103,
   "metadata": {
    "collapsed": false
   },
   "outputs": [],
   "source": [
    "topimgs_left = deduped['img'][deduped['source_class'].isin(['left'])].value_counts().nlargest(IMG_MAX).index.tolist()"
   ]
  },
  {
   "cell_type": "code",
   "execution_count": 104,
   "metadata": {
    "collapsed": true
   },
   "outputs": [],
   "source": [
    "bottomimgs_left = deduped['img'][deduped['source_class'].isin(['left'])].value_counts().nsmallest(IMG_MAX).index.tolist()"
   ]
  },
  {
   "cell_type": "code",
   "execution_count": 105,
   "metadata": {
    "collapsed": true
   },
   "outputs": [],
   "source": [
    "topimgs_right = deduped['img'][deduped['source_class'].isin(['right'])].value_counts().nlargest(IMG_MAX).index.tolist()"
   ]
  },
  {
   "cell_type": "code",
   "execution_count": 106,
   "metadata": {
    "collapsed": true
   },
   "outputs": [],
   "source": [
    "bottomimgs_right = deduped['img'][deduped['source_class'].isin(['right'])].value_counts().nsmallest(IMG_MAX).index.tolist()"
   ]
  },
  {
   "cell_type": "code",
   "execution_count": 107,
   "metadata": {
    "collapsed": true
   },
   "outputs": [],
   "source": [
    "topimgs_tabloid = deduped['img'][deduped['source_class'].isin(['tabloid'])].value_counts().nlargest(IMG_MAX).index.tolist()"
   ]
  },
  {
   "cell_type": "code",
   "execution_count": 108,
   "metadata": {
    "collapsed": true
   },
   "outputs": [],
   "source": [
    "bottomimgs_tabloid = deduped['img'][deduped['source_class'].isin(['tabloid'])].value_counts().nsmallest(IMG_MAX).index.tolist()"
   ]
  },
  {
   "cell_type": "code",
   "execution_count": 27,
   "metadata": {
    "collapsed": false
   },
   "outputs": [
    {
     "data": {
      "text/html": [
       "<img src=https://revcontent-p0.s3.amazonaws.com/content/images/1488712282.png width=\"200\"/>"
      ],
      "text/plain": [
       "<IPython.core.display.HTML object>"
      ]
     },
     "metadata": {},
     "output_type": "display_data"
    },
    {
     "data": {
      "text/html": [
       "<img src=http://cdn.taboolasyndication.com/libtrc/static/thumbnails/62ff504289dbb8ad3aab90dd38c3d76c.jpg width=\"200\"/>"
      ],
      "text/plain": [
       "<IPython.core.display.HTML object>"
      ]
     },
     "metadata": {},
     "output_type": "display_data"
    },
    {
     "data": {
      "text/html": [
       "<img src=https://revcontent-p0.s3.amazonaws.com/content/images/7fb571348a7826ef7a6de309090dd46f.png width=\"200\"/>"
      ],
      "text/plain": [
       "<IPython.core.display.HTML object>"
      ]
     },
     "metadata": {},
     "output_type": "display_data"
    },
    {
     "data": {
      "text/html": [
       "<img src=http://cdn.taboolasyndication.com/libtrc/static/thumbnails/0dba2430aca9e98e05160cfd6e6d3171.jpg width=\"200\"/>"
      ],
      "text/plain": [
       "<IPython.core.display.HTML object>"
      ]
     },
     "metadata": {},
     "output_type": "display_data"
    },
    {
     "data": {
      "text/html": [
       "<img src=https://revcontent-p0.s3.amazonaws.com/content/images/1494977893.jpg width=\"200\"/>"
      ],
      "text/plain": [
       "<IPython.core.display.HTML object>"
      ]
     },
     "metadata": {},
     "output_type": "display_data"
    }
   ],
   "source": [
    "for i in topimgs_center:\n",
    "    displaystring = '<img src={} width=\"200\"/>'.format(i)\n",
    "    display(HTML(displaystring))"
   ]
  },
  {
   "cell_type": "code",
   "execution_count": 109,
   "metadata": {
    "collapsed": false
   },
   "outputs": [
    {
     "data": {
      "text/html": [
       "<img src=http://cdn.taboolasyndication.com/libtrc/static/thumbnails/394faa2f4488f3bf97d225175eebff5b.jpg width=\"200\"/>"
      ],
      "text/plain": [
       "<IPython.core.display.HTML object>"
      ]
     },
     "metadata": {},
     "output_type": "display_data"
    },
    {
     "data": {
      "text/html": [
       "<img src=http://cdn.taboolasyndication.com/libtrc/static/thumbnails/de14fb625d3ac785182b3e85b97d885f.jpg width=\"200\"/>"
      ],
      "text/plain": [
       "<IPython.core.display.HTML object>"
      ]
     },
     "metadata": {},
     "output_type": "display_data"
    },
    {
     "data": {
      "text/html": [
       "<img src=https://console.brax-cdn.com/creatives/b86bbc0b-1fab-4ae3-9b34-fef78c1a7488/jackie3_bwg_759a02d7e689d4937105f78ac8764ec5.600x500.png width=\"200\"/>"
      ],
      "text/plain": [
       "<IPython.core.display.HTML object>"
      ]
     },
     "metadata": {},
     "output_type": "display_data"
    },
    {
     "data": {
      "text/html": [
       "<img src=http://www2.pictures.zimbio.com/mp/Jtp78uQPsCqx.jpg width=\"200\"/>"
      ],
      "text/plain": [
       "<IPython.core.display.HTML object>"
      ]
     },
     "metadata": {},
     "output_type": "display_data"
    },
    {
     "data": {
      "text/html": [
       "<img src=http://images.outbrain.com/Imaginarium/api/uuid/3ce36dbc2b578a66e0f428144908a27430fba66ef87405891bb724cc94dc91ac/215/121/1.0 width=\"200\"/>"
      ],
      "text/plain": [
       "<IPython.core.display.HTML object>"
      ]
     },
     "metadata": {},
     "output_type": "display_data"
    }
   ],
   "source": [
    "for i in bottomimgs_center:\n",
    "    displaystring = '<img src={} width=\"200\"/>'.format(i)\n",
    "    display(HTML(displaystring))"
   ]
  },
  {
   "cell_type": "code",
   "execution_count": 28,
   "metadata": {
    "collapsed": false
   },
   "outputs": [
    {
     "data": {
      "text/html": [
       "<img src=http://cdn.taboolasyndication.com/libtrc/static/thumbnails/2e967b6db0813815a899401b4746a749.jpg width=\"200\"/>"
      ],
      "text/plain": [
       "<IPython.core.display.HTML object>"
      ]
     },
     "metadata": {},
     "output_type": "display_data"
    },
    {
     "data": {
      "text/html": [
       "<img src=http://cdn.taboolasyndication.com/libtrc/static/thumbnails/0dba2430aca9e98e05160cfd6e6d3171.jpg width=\"200\"/>"
      ],
      "text/plain": [
       "<IPython.core.display.HTML object>"
      ]
     },
     "metadata": {},
     "output_type": "display_data"
    },
    {
     "data": {
      "text/html": [
       "<img src=http://cdn.taboolasyndication.com/libtrc/static/thumbnails/e70c96286da170d65cbf3fc4c9a3e400.jpg width=\"200\"/>"
      ],
      "text/plain": [
       "<IPython.core.display.HTML object>"
      ]
     },
     "metadata": {},
     "output_type": "display_data"
    },
    {
     "data": {
      "text/html": [
       "<img src=http://cdn.taboolasyndication.com/libtrc/static/thumbnails/ce36e5adf29062bfbf9db318f310cfba.jpg width=\"200\"/>"
      ],
      "text/plain": [
       "<IPython.core.display.HTML object>"
      ]
     },
     "metadata": {},
     "output_type": "display_data"
    },
    {
     "data": {
      "text/html": [
       "<img src=http://cdn.taboolasyndication.com/libtrc/static/thumbnails/70a4490ca767d58d5dcbf75a7cdb11fd.png width=\"200\"/>"
      ],
      "text/plain": [
       "<IPython.core.display.HTML object>"
      ]
     },
     "metadata": {},
     "output_type": "display_data"
    }
   ],
   "source": [
    "for i in topimgs_left:\n",
    "    displaystring = '<img src={} width=\"200\"/>'.format(i)\n",
    "    display(HTML(displaystring))"
   ]
  },
  {
   "cell_type": "code",
   "execution_count": 110,
   "metadata": {
    "collapsed": false
   },
   "outputs": [
    {
     "data": {
      "text/html": [
       "<img src=http://images.outbrain.com/Imaginarium/api/uuid/06e071eb389e6ed6a21f3d69b0cbff56753190e7c92ddbebda92a8e329bf3c0a/276/184/2.0 width=\"200\"/>"
      ],
      "text/plain": [
       "<IPython.core.display.HTML object>"
      ]
     },
     "metadata": {},
     "output_type": "display_data"
    },
    {
     "data": {
      "text/html": [
       "<img src=http://images.outbrain.com/Imaginarium/api/uuid/2ec6a5f0a65347300a3656aef7a96e2b83d8cd65f65faf65fcac2a60fb3c050f/403/218/1.0 width=\"200\"/>"
      ],
      "text/plain": [
       "<IPython.core.display.HTML object>"
      ]
     },
     "metadata": {},
     "output_type": "display_data"
    },
    {
     "data": {
      "text/html": [
       "<img src=http://images.outbrain.com/Imaginarium/api/uuid/e278e2bee8654bcd6d9d62172268b553f02e74c56a4059297c4a65dd313361a1/403/218/1.0 width=\"200\"/>"
      ],
      "text/plain": [
       "<IPython.core.display.HTML object>"
      ]
     },
     "metadata": {},
     "output_type": "display_data"
    },
    {
     "data": {
      "text/html": [
       "<img src=http://images.outbrain.com/Imaginarium/api/uuid/1248d675b9530e37ef27a733c09d9d962ff2baab69ad8ebb425ffe597d0a7de8/403/218/1.0 width=\"200\"/>"
      ],
      "text/plain": [
       "<IPython.core.display.HTML object>"
      ]
     },
     "metadata": {},
     "output_type": "display_data"
    },
    {
     "data": {
      "text/html": [
       "<img src=http://cdn.findtopten.com/images/a00086.jpg width=\"200\"/>"
      ],
      "text/plain": [
       "<IPython.core.display.HTML object>"
      ]
     },
     "metadata": {},
     "output_type": "display_data"
    }
   ],
   "source": [
    "for i in bottomimgs_left:\n",
    "    displaystring = '<img src={} width=\"200\"/>'.format(i)\n",
    "    display(HTML(displaystring))"
   ]
  },
  {
   "cell_type": "code",
   "execution_count": 29,
   "metadata": {
    "collapsed": false
   },
   "outputs": [
    {
     "data": {
      "text/html": [
       "<img src=http://cdn.taboolasyndication.com/libtrc/static/thumbnails/21a99ebd78f2af61aeeec2074e0376c0.jpg width=\"200\"/>"
      ],
      "text/plain": [
       "<IPython.core.display.HTML object>"
      ]
     },
     "metadata": {},
     "output_type": "display_data"
    },
    {
     "data": {
      "text/html": [
       "<img src=https://revcontent-p0.s3.amazonaws.com/p0/assets/content_images/emb/7152612145c7f9231d1e2229a5c7fce4-0.png width=\"200\"/>"
      ],
      "text/plain": [
       "<IPython.core.display.HTML object>"
      ]
     },
     "metadata": {},
     "output_type": "display_data"
    },
    {
     "data": {
      "text/html": [
       "<img src=http://cdn.taboolasyndication.com/libtrc/static/thumbnails/6b232005189e48716587f79b33347846.jpg width=\"200\"/>"
      ],
      "text/plain": [
       "<IPython.core.display.HTML object>"
      ]
     },
     "metadata": {},
     "output_type": "display_data"
    },
    {
     "data": {
      "text/html": [
       "<img src=https://revcontent-p0.s3.amazonaws.com/content/images/1495720487.jpg width=\"200\"/>"
      ],
      "text/plain": [
       "<IPython.core.display.HTML object>"
      ]
     },
     "metadata": {},
     "output_type": "display_data"
    },
    {
     "data": {
      "text/html": [
       "<img src=https://revcontent-p0.s3.amazonaws.com/content/images/1496675994.jpg width=\"200\"/>"
      ],
      "text/plain": [
       "<IPython.core.display.HTML object>"
      ]
     },
     "metadata": {},
     "output_type": "display_data"
    }
   ],
   "source": [
    "for i in topimgs_right:\n",
    "    displaystring = '<img src={} width=\"200\"/>'.format(i)\n",
    "    display(HTML(displaystring))"
   ]
  },
  {
   "cell_type": "code",
   "execution_count": 111,
   "metadata": {
    "collapsed": false
   },
   "outputs": [
    {
     "data": {
      "text/html": [
       "<img src=http://cdn.taboolasyndication.com/libtrc/static/thumbnails/3dab38e6db2f6d4ce717774f733ebd96.jpg width=\"200\"/>"
      ],
      "text/plain": [
       "<IPython.core.display.HTML object>"
      ]
     },
     "metadata": {},
     "output_type": "display_data"
    },
    {
     "data": {
      "text/html": [
       "<img src=http://cdn.taboolasyndication.com/libtrc/static/thumbnails/96a8ddb62fcaea1fc4c6d461e8cf9e56.jpg width=\"200\"/>"
      ],
      "text/plain": [
       "<IPython.core.display.HTML object>"
      ]
     },
     "metadata": {},
     "output_type": "display_data"
    },
    {
     "data": {
      "text/html": [
       "<img src=http://cdn.taboolasyndication.com/libtrc/static/thumbnails/e52dfdf6adc5aaff9ff883b6c28ef35a.jpg width=\"200\"/>"
      ],
      "text/plain": [
       "<IPython.core.display.HTML object>"
      ]
     },
     "metadata": {},
     "output_type": "display_data"
    },
    {
     "data": {
      "text/html": [
       "<img src=http://images.outbrain.com/Imaginarium/api/uuid/0c9e0edd1988ba10df73c644a275f918de19b02dc65a9b793b34aa850ae09cd3/260/190/2.0 width=\"200\"/>"
      ],
      "text/plain": [
       "<IPython.core.display.HTML object>"
      ]
     },
     "metadata": {},
     "output_type": "display_data"
    },
    {
     "data": {
      "text/html": [
       "<img src=http://cdn.taboolasyndication.com/libtrc/static/thumbnails/342f38ed4cd06bf8c317fc413185f25d.jpg width=\"200\"/>"
      ],
      "text/plain": [
       "<IPython.core.display.HTML object>"
      ]
     },
     "metadata": {},
     "output_type": "display_data"
    }
   ],
   "source": [
    "for i in bottomimgs_right:\n",
    "    displaystring = '<img src={} width=\"200\"/>'.format(i)\n",
    "    display(HTML(displaystring))"
   ]
  },
  {
   "cell_type": "code",
   "execution_count": 30,
   "metadata": {
    "collapsed": false
   },
   "outputs": [
    {
     "data": {
      "text/html": [
       "<img src=https://revcontent-p0.s3.amazonaws.com/content/images/cf94a60e6dd053bb9a83231322545e99.jpg width=\"200\"/>"
      ],
      "text/plain": [
       "<IPython.core.display.HTML object>"
      ]
     },
     "metadata": {},
     "output_type": "display_data"
    },
    {
     "data": {
      "text/html": [
       "<img src=http://img2.zergnet.com/694817_300.jpg width=\"200\"/>"
      ],
      "text/plain": [
       "<IPython.core.display.HTML object>"
      ]
     },
     "metadata": {},
     "output_type": "display_data"
    },
    {
     "data": {
      "text/html": [
       "<img src=https://revcontent-p0.s3.amazonaws.com/content/images/1497897658.jpg width=\"200\"/>"
      ],
      "text/plain": [
       "<IPython.core.display.HTML object>"
      ]
     },
     "metadata": {},
     "output_type": "display_data"
    },
    {
     "data": {
      "text/html": [
       "<img src=https://revcontent-p0.s3.amazonaws.com/content/images/1495720487.jpg width=\"200\"/>"
      ],
      "text/plain": [
       "<IPython.core.display.HTML object>"
      ]
     },
     "metadata": {},
     "output_type": "display_data"
    },
    {
     "data": {
      "text/html": [
       "<img src=http://img1.zergnet.com/1531624_300.jpg width=\"200\"/>"
      ],
      "text/plain": [
       "<IPython.core.display.HTML object>"
      ]
     },
     "metadata": {},
     "output_type": "display_data"
    }
   ],
   "source": [
    "for i in topimgs_tabloid:\n",
    "    displaystring = '<img src={} width=\"200\"/>'.format(i)\n",
    "    display(HTML(displaystring))"
   ]
  },
  {
   "cell_type": "code",
   "execution_count": 116,
   "metadata": {
    "collapsed": false
   },
   "outputs": [
    {
     "data": {
      "text/html": [
       "<img src=http://i2.wp.com/flyingthenest.tv/wp-content/uploads/2015/01/90e1006b_original.jpg width=\"200\"/>"
      ],
      "text/plain": [
       "<IPython.core.display.HTML object>"
      ]
     },
     "metadata": {},
     "output_type": "display_data"
    },
    {
     "data": {
      "text/html": [
       "<img src=http://cdn.taboolasyndication.com/libtrc/static/thumbnails/1590cffd170d9b688866f27e1a02fcec.jpg width=\"200\"/>"
      ],
      "text/plain": [
       "<IPython.core.display.HTML object>"
      ]
     },
     "metadata": {},
     "output_type": "display_data"
    },
    {
     "data": {
      "text/html": [
       "<img src=http://www3.pictures.zimbio.com/mp/oTTxdoykx1dx.jpg width=\"200\"/>"
      ],
      "text/plain": [
       "<IPython.core.display.HTML object>"
      ]
     },
     "metadata": {},
     "output_type": "display_data"
    },
    {
     "data": {
      "text/html": [
       "<img src=http://cdn.taboolasyndication.com/libtrc/static/thumbnails/503788997bc2dde2b543cef2667a44f0.jpg width=\"200\"/>"
      ],
      "text/plain": [
       "<IPython.core.display.HTML object>"
      ]
     },
     "metadata": {},
     "output_type": "display_data"
    },
    {
     "data": {
      "text/html": [
       "<img src=http://cdn.taboolasyndication.com/libtrc/static/thumbnails/57019c2e3d02a3c146128f7193c6cd5f.jpg width=\"200\"/>"
      ],
      "text/plain": [
       "<IPython.core.display.HTML object>"
      ]
     },
     "metadata": {},
     "output_type": "display_data"
    }
   ],
   "source": [
    "for i in bottomimgs_tabloid:\n",
    "    displaystring = '<img src={} width=\"200\"/>'.format(i)\n",
    "    display(HTML(displaystring))"
   ]
  },
  {
   "cell_type": "markdown",
   "metadata": {},
   "source": [
    "Yawn!!"
   ]
  },
  {
   "cell_type": "code",
   "execution_count": 125,
   "metadata": {
    "collapsed": false
   },
   "outputs": [
    {
     "data": {
      "text/plain": [
       "link_host               source_class\n",
       "www.zergnet.com         tabloid         7257\n",
       "trends.revcontent.com   tabloid         2957\n",
       "                        right           2008\n",
       "                        center          1657\n",
       "www.tmz.com             tabloid         1309\n",
       "thehill.com             center           673\n",
       "loanpride.com           right            650\n",
       "www.nextadvisor.com     left             328\n",
       "morningfinance.com      left             313\n",
       "www.yimgl.com           left             296\n",
       "www.historyinorbit.com  left             250\n",
       "www.talktechdaily.com   right            217\n",
       "thebetterfinance.com    left             212\n",
       "www.justjared.com       tabloid          209\n",
       "search.yahoo.com        left             206\n",
       "www.historyinorbit.com  right            199\n",
       "www.aarp.org            left             182\n",
       "scribol.com             right            175\n",
       "                        left             172\n",
       "www.lifedaily.com       left             163\n",
       "www.trend-chaser.com    left             163\n",
       "beairfareok.live        left             157\n",
       "definition.org          left             154\n",
       "weightlossgroove.com    tabloid          149\n",
       "www.directexpose.com    left             128\n",
       "Name: source_class, dtype: int64"
      ]
     },
     "execution_count": 125,
     "metadata": {},
     "output_type": "execute_result"
    }
   ],
   "source": [
    "deduped.groupby('link_host')['source_class'].value_counts().nlargest(25)"
   ]
  },
  {
   "cell_type": "code",
   "execution_count": 126,
   "metadata": {
    "collapsed": false
   },
   "outputs": [
    {
     "data": {
      "text/plain": [
       "link_host               source_class\n",
       "100journalnews.xyz      center          1\n",
       "                        tabloid         1\n",
       "100newspaper.xyz        tabloid         1\n",
       "10amazing.com           right           1\n",
       "                        tabloid         1\n",
       "10likes.info            left            1\n",
       "                        right           1\n",
       "12kkljjlkjilj.ga        right           1\n",
       "13jscdkjadbfkjdl.ga     tabloid         1\n",
       "1infolive.xyz           left            1\n",
       "                        right           1\n",
       "1papernews.xyz          tabloid         1\n",
       "25hairstyles.com        tabloid         1\n",
       "4mylikes.com            center          1\n",
       "                        right           1\n",
       "99smartclicks.com       left            1\n",
       "aboveaverage.com        center          1\n",
       "absolutecritic.com      left            1\n",
       "actawebhostingok.live   left            1\n",
       "                        right           1\n",
       "                        tabloid         1\n",
       "ad.doubleclick.net      center          1\n",
       "adfarm.mediaplex.com    left            1\n",
       "                        tabloid         1\n",
       "adsareverseok.mortgage  center          1\n",
       "Name: source_class, dtype: int64"
      ]
     },
     "execution_count": 126,
     "metadata": {},
     "output_type": "execute_result"
    }
   ],
   "source": [
    "deduped.groupby('link_host')['source_class'].value_counts().nsmallest(25)"
   ]
  },
  {
   "cell_type": "code",
   "execution_count": 32,
   "metadata": {
    "collapsed": false
   },
   "outputs": [
    {
     "data": {
      "text/plain": [
       "images.outbrain.com                          12259\n",
       "revcontent-p0.s3.amazonaws.com                8554\n",
       "cdn.taboolasyndication.com                    7310\n",
       "img4.zergnet.com                              2121\n",
       "img1.zergnet.com                              2037\n",
       "img5.zergnet.com                              2015\n",
       "img2.zergnet.com                              1948\n",
       "console.brax-cdn.com                          1837\n",
       "d2x3bkdslnxkuj.cloudfront.net                 1094\n",
       "cdn.taboola.com                                473\n",
       "prezna.com                                     332\n",
       "www.talktechdaily.com                          289\n",
       "www.consumerdaily.com                          201\n",
       "revcontent-production.s3.amazonaws.com         191\n",
       "gleaned-images.stuff.com                       188\n",
       "s3.amazonaws.com                               176\n",
       "11001100.s3.amazonaws.com                      176\n",
       "b1.spassets.com                                151\n",
       "prod-cm-minder-uploads.s3.amazonaws.com        123\n",
       "eam.hexagram.com                                87\n",
       "ec2-54-89-159-211.compute-1.amazonaws.com       80\n",
       "www2.pictures.zimbio.com                        59\n",
       "proxy.topixcdn.com                              55\n",
       "www.viral-kittens.com                           45\n",
       "www3.forbes.com                                 38\n",
       "Name: img_host, dtype: int64"
      ]
     },
     "execution_count": 32,
     "metadata": {},
     "output_type": "execute_result"
    }
   ],
   "source": [
    "deduped['img_host'].value_counts().nlargest(25)"
   ]
  },
  {
   "cell_type": "code",
   "execution_count": 33,
   "metadata": {
    "collapsed": false
   },
   "outputs": [],
   "source": [
    "deduped_date_idx = deduped.copy(deep=False)"
   ]
  },
  {
   "cell_type": "code",
   "execution_count": 34,
   "metadata": {
    "collapsed": true
   },
   "outputs": [],
   "source": [
    "deduped_date_idx['date'] = pd.to_datetime(deduped_date_idx.date)"
   ]
  },
  {
   "cell_type": "code",
   "execution_count": 35,
   "metadata": {
    "collapsed": false,
    "scrolled": true
   },
   "outputs": [],
   "source": [
    "deduped_date_idx.set_index('date',inplace=True)"
   ]
  },
  {
   "cell_type": "markdown",
   "metadata": {
    "collapsed": false
   },
   "source": [
    "See what dates we're working with"
   ]
  },
  {
   "cell_type": "code",
   "execution_count": 36,
   "metadata": {
    "collapsed": false
   },
   "outputs": [
    {
     "data": {
      "text/plain": [
       "'Start: 2017-03-27 12:59:09.279000  -  End: 2017-07-09 14:31:09.853000'"
      ]
     },
     "execution_count": 36,
     "metadata": {},
     "output_type": "execute_result"
    }
   ],
   "source": [
    "\"Start: {}  -  End: {}\".format(deduped_date_idx.index.min(), deduped_date_idx.index.max())"
   ]
  },
  {
   "cell_type": "code",
   "execution_count": 37,
   "metadata": {
    "collapsed": false
   },
   "outputs": [
    {
     "data": {
      "text/html": [
       "<div>\n",
       "<table border=\"1\" class=\"dataframe\">\n",
       "  <thead>\n",
       "    <tr style=\"text-align: right;\">\n",
       "      <th></th>\n",
       "      <th>_id</th>\n",
       "      <th>headline</th>\n",
       "      <th>link</th>\n",
       "      <th>img</th>\n",
       "      <th>provider</th>\n",
       "      <th>source</th>\n",
       "      <th>img_file</th>\n",
       "      <th>final_link</th>\n",
       "      <th>orig_article</th>\n",
       "      <th>img_host</th>\n",
       "      <th>link_host</th>\n",
       "      <th>source_class</th>\n",
       "    </tr>\n",
       "  </thead>\n",
       "  <tbody>\n",
       "    <tr>\n",
       "      <th>count</th>\n",
       "      <td>4740</td>\n",
       "      <td>4740</td>\n",
       "      <td>4740</td>\n",
       "      <td>4740</td>\n",
       "      <td>4740</td>\n",
       "      <td>4740</td>\n",
       "      <td>4740</td>\n",
       "      <td>4740</td>\n",
       "      <td>4740</td>\n",
       "      <td>4740</td>\n",
       "      <td>4740</td>\n",
       "      <td>4740</td>\n",
       "    </tr>\n",
       "    <tr>\n",
       "      <th>unique</th>\n",
       "      <td>4740</td>\n",
       "      <td>2030</td>\n",
       "      <td>4339</td>\n",
       "      <td>2247</td>\n",
       "      <td>4</td>\n",
       "      <td>20</td>\n",
       "      <td>2256</td>\n",
       "      <td>4054</td>\n",
       "      <td>892</td>\n",
       "      <td>123</td>\n",
       "      <td>575</td>\n",
       "      <td>4</td>\n",
       "    </tr>\n",
       "    <tr>\n",
       "      <th>top</th>\n",
       "      <td>ObjectId(595cd98806e10d05ed7b94fd)</td>\n",
       "      <td>Triple Your Accuracy With This Weird Shooting ...</td>\n",
       "      <td>http://nmaio.primaltraffic.com/3b3f0b9d-b2a3-4...</td>\n",
       "      <td>https://revcontent-p0.s3.amazonaws.com/content...</td>\n",
       "      <td>revcontent</td>\n",
       "      <td>https://downtrend.com/</td>\n",
       "      <td>1e3bc2adc7eba5d0f29fff42ff8ab0a55853f1aa.jpg</td>\n",
       "      <td>http://www.zergnet.com/news/1707646/what-men-f...</td>\n",
       "      <td>http://www.businessinsider.com/dave-mcclure-no...</td>\n",
       "      <td>revcontent-p0.s3.amazonaws.com</td>\n",
       "      <td>trends.revcontent.com</td>\n",
       "      <td>tabloid</td>\n",
       "    </tr>\n",
       "    <tr>\n",
       "      <th>freq</th>\n",
       "      <td>1</td>\n",
       "      <td>90</td>\n",
       "      <td>34</td>\n",
       "      <td>90</td>\n",
       "      <td>1650</td>\n",
       "      <td>495</td>\n",
       "      <td>90</td>\n",
       "      <td>15</td>\n",
       "      <td>43</td>\n",
       "      <td>1619</td>\n",
       "      <td>1650</td>\n",
       "      <td>1618</td>\n",
       "    </tr>\n",
       "  </tbody>\n",
       "</table>\n",
       "</div>"
      ],
      "text/plain": [
       "                                       _id  \\\n",
       "count                                 4740   \n",
       "unique                                4740   \n",
       "top     ObjectId(595cd98806e10d05ed7b94fd)   \n",
       "freq                                     1   \n",
       "\n",
       "                                                 headline  \\\n",
       "count                                                4740   \n",
       "unique                                               2030   \n",
       "top     Triple Your Accuracy With This Weird Shooting ...   \n",
       "freq                                                   90   \n",
       "\n",
       "                                                     link  \\\n",
       "count                                                4740   \n",
       "unique                                               4339   \n",
       "top     http://nmaio.primaltraffic.com/3b3f0b9d-b2a3-4...   \n",
       "freq                                                   34   \n",
       "\n",
       "                                                      img    provider  \\\n",
       "count                                                4740        4740   \n",
       "unique                                               2247           4   \n",
       "top     https://revcontent-p0.s3.amazonaws.com/content...  revcontent   \n",
       "freq                                                   90        1650   \n",
       "\n",
       "                        source                                      img_file  \\\n",
       "count                     4740                                          4740   \n",
       "unique                      20                                          2256   \n",
       "top     https://downtrend.com/  1e3bc2adc7eba5d0f29fff42ff8ab0a55853f1aa.jpg   \n",
       "freq                       495                                            90   \n",
       "\n",
       "                                               final_link  \\\n",
       "count                                                4740   \n",
       "unique                                               4054   \n",
       "top     http://www.zergnet.com/news/1707646/what-men-f...   \n",
       "freq                                                   15   \n",
       "\n",
       "                                             orig_article  \\\n",
       "count                                                4740   \n",
       "unique                                                892   \n",
       "top     http://www.businessinsider.com/dave-mcclure-no...   \n",
       "freq                                                   43   \n",
       "\n",
       "                              img_host              link_host source_class  \n",
       "count                             4740                   4740         4740  \n",
       "unique                             123                    575            4  \n",
       "top     revcontent-p0.s3.amazonaws.com  trends.revcontent.com      tabloid  \n",
       "freq                              1619                   1650         1618  "
      ]
     },
     "execution_count": 37,
     "metadata": {},
     "output_type": "execute_result"
    }
   ],
   "source": [
    "deduped_date_idx['2017-07-01':'2017-07-07'].describe()"
   ]
  },
  {
   "cell_type": "code",
   "execution_count": 64,
   "metadata": {
    "collapsed": false
   },
   "outputs": [
    {
     "data": {
      "text/plain": [
       "<matplotlib.axes._subplots.AxesSubplot at 0x112788e80>"
      ]
     },
     "execution_count": 64,
     "metadata": {},
     "output_type": "execute_result"
    }
   ],
   "source": [
    "deduped_date_idx['2017-03-01':'2017-07-07'].groupby('source_class').resample('M').size().plot(kind='bar')"
   ]
  },
  {
   "cell_type": "code",
   "execution_count": 65,
   "metadata": {
    "collapsed": false
   },
   "outputs": [
    {
     "data": {
      "image/png": "[encoded data removed]",
      "text/plain": [
       "<matplotlib.figure.Figure at 0x11640abe0>"
      ]
     },
     "metadata": {},
     "output_type": "display_data"
    }
   ],
   "source": [
    "plt.show()"
   ]
  },
  {
   "cell_type": "code",
   "execution_count": 66,
   "metadata": {
    "collapsed": false
   },
   "outputs": [
    {
     "data": {
      "text/plain": [
       "<matplotlib.axes._subplots.AxesSubplot at 0x1102f4e80>"
      ]
     },
     "execution_count": 66,
     "metadata": {},
     "output_type": "execute_result"
    }
   ],
   "source": [
    "deduped_date_idx['2017-03-01':'2017-07-07'].groupby(['provider']).resample('M').size().plot(kind='bar')"
   ]
  },
  {
   "cell_type": "code",
   "execution_count": 67,
   "metadata": {
    "collapsed": false
   },
   "outputs": [
    {
     "data": {
      "image/png": "[encoded data removed]",
      "text/plain": [
       "<matplotlib.figure.Figure at 0x1158604a8>"
      ]
     },
     "metadata": {},
     "output_type": "display_data"
    }
   ],
   "source": [
    "plt.show()"
   ]
  },
  {
   "cell_type": "markdown",
   "metadata": {},
   "source": [
    "What about if we check all results mentioning certain people"
   ]
  },
  {
   "cell_type": "code",
   "execution_count": 68,
   "metadata": {
    "collapsed": false
   },
   "outputs": [
    {
     "data": {
      "text/plain": [
       "<matplotlib.axes._subplots.AxesSubplot at 0x110d084e0>"
      ]
     },
     "execution_count": 68,
     "metadata": {},
     "output_type": "execute_result"
    }
   ],
   "source": [
    "(deduped_date_idx[deduped_date_idx['headline'].str.contains('Trump')]['2017-03-01':'2017-07-07']).groupby('source_class').resample('M').size().plot(kind='bar')"
   ]
  },
  {
   "cell_type": "code",
   "execution_count": 69,
   "metadata": {
    "collapsed": false
   },
   "outputs": [
    {
     "data": {
      "image/png": "[encoded data removed]",
      "text/plain": [
       "<matplotlib.figure.Figure at 0x110acef98>"
      ]
     },
     "metadata": {},
     "output_type": "display_data"
    }
   ],
   "source": [
    "plt.show()"
   ]
  },
  {
   "cell_type": "code",
   "execution_count": 70,
   "metadata": {
    "collapsed": false
   },
   "outputs": [
    {
     "data": {
      "text/plain": [
       "<matplotlib.axes._subplots.AxesSubplot at 0x11218af28>"
      ]
     },
     "execution_count": 70,
     "metadata": {},
     "output_type": "execute_result"
    }
   ],
   "source": [
    "(deduped_date_idx[deduped_date_idx['headline'].str.contains('Clinton')]['2017-03-01':'2017-07-07']).groupby('source_class').resample('M').size().plot(kind='bar')"
   ]
  },
  {
   "cell_type": "code",
   "execution_count": 71,
   "metadata": {
    "collapsed": false
   },
   "outputs": [
    {
     "data": {
      "image/png": "[encoded data removed]",
      "text/plain": [
       "<matplotlib.figure.Figure at 0x1163860b8>"
      ]
     },
     "metadata": {},
     "output_type": "display_data"
    }
   ],
   "source": [
    "plt.show()"
   ]
  },
  {
   "cell_type": "code",
   "execution_count": 72,
   "metadata": {
    "collapsed": false
   },
   "outputs": [
    {
     "data": {
      "text/plain": [
       "<matplotlib.axes._subplots.AxesSubplot at 0x111b9d048>"
      ]
     },
     "execution_count": 72,
     "metadata": {},
     "output_type": "execute_result"
    }
   ],
   "source": [
    "(deduped_date_idx[deduped_date_idx['headline'].str.contains('Obama')]['2017-03-01':'2017-07-07']).groupby('source_class').resample('M').size().plot(kind='bar')"
   ]
  },
  {
   "cell_type": "code",
   "execution_count": 73,
   "metadata": {
    "collapsed": false
   },
   "outputs": [
    {
     "data": {
      "image/png": "[encoded data removed]",
      "text/plain": [
       "<matplotlib.figure.Figure at 0x111bfcd30>"
      ]
     },
     "metadata": {},
     "output_type": "display_data"
    }
   ],
   "source": [
    "plt.show()"
   ]
  },
  {
   "cell_type": "code",
   "execution_count": 74,
   "metadata": {
    "collapsed": false
   },
   "outputs": [
    {
     "data": {
      "text/plain": [
       "Nicole Kidman's Yacht Is Far From You'd Expect                                                               348\n",
       "Triple Your Accuracy With This Weird Shooting Technique Used By Seal Snipers                                 230\n",
       "Here Is How You Upgrade To Business Class                                                                    227\n",
       "Forget Social Security if you Own a Home (Do This)                                                           224\n",
       "Stairlifts are disrupting the multi-billion dollar retirement home industry - keeping seniors independent    194\n",
       "Tiger Woods' Yacht Is Far From You'd Expect                                                                  179\n",
       "Watch Obama's Face at 0:33. This Leaked Video Will Destroy Obama's Legacy                                    164\n",
       "New Jersey Landlines Get Replaced (But Not With Cell Phones)                                                 161\n",
       "Best Senior Living Communities Of 2017! View Pricing Here & Compare                                          139\n",
       "We Can Guess Your Education Level with Only 10 Questions                                                     123\n",
       "Kim Kardashian and North West Turn Heads On The Red Carpet                                                   120\n",
       "28 Pictures That Show How Crazy Woodstock 1969 Was                                                           119\n",
       "Trump Voters Shocked After Watching This Leaked Video                                                        115\n",
       "10 Surprising Things Guys Find Unattractive                                                                  106\n",
       "Goldman Sachs & World Bank Confirm: Us Dollar Will Be Worthless in 100 Days                                  103\n",
       "Name: headline, dtype: int64"
      ]
     },
     "execution_count": 74,
     "metadata": {},
     "output_type": "execute_result"
    }
   ],
   "source": [
    "(deduped_date_idx['2017-03-27':'2017-07-07'])['headline'].value_counts().nlargest(15)"
   ]
  },
  {
   "cell_type": "code",
   "execution_count": 99,
   "metadata": {
    "collapsed": false
   },
   "outputs": [
    {
     "data": {
      "text/plain": [
       "Shady Mechanics Hate This Breakthrough Device                                          1\n",
       "China Flexing Military Muscle With New Stealth Fighter Plane                           1\n",
       "Giffords: My heart is with victims of…                                                 1\n",
       "This Genius Google Chrome Add-On Is Saving Amazon…                                     1\n",
       "One of the Best Purchases I've Ever Made: Brooklinen Bedsheets                         1\n",
       "Freshman GOP rep calls for Mueller recusal…                                            1\n",
       "Celebs Who Are Battling Life-Threatening Diseases                                      1\n",
       "Meet the Grammar App That Can Help You Impress Your Boss                               1\n",
       "[Quiz] 93% of People Can't Identify These '80s TV Shows from Just 1 Image. Can You?    1\n",
       "Big Tobacco Gets Smoked in Court: How To Cash In                                       1\n",
       "The Vietnam War Depicted Like You Have Never Seen Before                               1\n",
       "Former Olympic gymnast Kyla Ross on winning two national…                              1\n",
       "Steven Seagal's Ex-Wife Looks Completely Different                                     1\n",
       "If You're An American Resident Born Between 1936 and 1966 Check…                       1\n",
       "The Science Behind the Softest Sheets Ever                                             1\n",
       "Name: headline, dtype: int64"
      ]
     },
     "execution_count": 99,
     "metadata": {},
     "output_type": "execute_result"
    }
   ],
   "source": [
    "(deduped_date_idx['2017-03-27':'2017-07-07'])['headline'].value_counts().nsmallest(15)"
   ]
  },
  {
   "cell_type": "code",
   "execution_count": 75,
   "metadata": {
    "collapsed": false
   },
   "outputs": [
    {
     "data": {
      "text/plain": [
       "27 Stars Who Died And Not a Word Was Said                                           91\n",
       "21 Celebrities Who Died And Not a Word Was Said                                     90\n",
       "Men, Eliminate Your ED (Do This Once Daily)                                         90\n",
       "Remember Hurley? What He Looks Like Today Is Unreal                                 75\n",
       "She Never Mentions Her Other Daughter, Here's Why                                   74\n",
       "Here Is How You Upgrade To Business Class                                           70\n",
       "Celebs Who Died And No One Said A Word                                              68\n",
       "How to Fix Cracked Feet                                                             67\n",
       "Forget Social Security if you Own a Home (Do This)                                  63\n",
       "He Never Mentions His Daughter - Here Is Why                                        52\n",
       "#1 Tinnitus \"Trick\" to Stop the Ringing (Doctors Are Speechless)                    46\n",
       "We Can Guess Your Education Level with Just 10 Questions                            46\n",
       "20 Final Photos Taken Before Tragedy Struck                                         45\n",
       "New Jersey Landlines Get Replaced (But Not With Cell Phones)                        42\n",
       "14 Times Lotto Winner:Do This Every Time You Buy A Lotto Ticket (Win 1/12 Times)    40\n",
       "31 Stars Who Died And Not a Word Was Said                                           39\n",
       "Barron Trump's Leaked IQ Shocks the Nation!                                         36\n",
       "This Simple Skin Fix May Surprise You                                               35\n",
       "He Was a Huge Star, but when He Passed Away Nobody Said Anything                    35\n",
       "She Died & No One Said Anything                                                     32\n",
       "3 Signs You May Have A Fatty Liver [Watch]                                          31\n",
       "93% Of Lotto Winners Do This 1 Easy Trick Before Buying Lotto Tickets (Try This)    31\n",
       "17 Actors Who Are Gay - No. 8 Will Shock Women                                      31\n",
       "Men, Try This Tonight to Fix Your ED!                                               30\n",
       "How This App Can Teach You Spanish in Just 3 Weeks                                  29\n",
       "Name: headline, dtype: int64"
      ]
     },
     "execution_count": 75,
     "metadata": {},
     "output_type": "execute_result"
    }
   ],
   "source": [
    "deduped['headline'][deduped['source_class'].isin(['center'])].value_counts().nlargest(25)"
   ]
  },
  {
   "cell_type": "code",
   "execution_count": 98,
   "metadata": {
    "collapsed": false
   },
   "outputs": [
    {
     "data": {
      "text/plain": [
       "10 Guys Who Make a Lot of Dough By \"Icing\"                                     1\n",
       "Her Newest Look Is Absolutely Mesmerizing                                      1\n",
       "A Man In Wisconsin Discovers A Vicious Animal In The Woods…                    1\n",
       "Dealers Don't Want Cars To Just Sit Around. Search For Their Massive Deals     1\n",
       "31Co-Stars That Couldn't Stand Each Other On Set                               1\n",
       "5 Tips From A Hostage Negotiator On How To Handle Your Toddler                 1\n",
       "Revcontent Becomes Largest Content Recommendation Network in Terms of Reach    1\n",
       "U.S. Trust Shares 5 Healthcare Technologies Attracting Investors' Attention    1\n",
       "Pressure on Mc                                                                 1\n",
       "FTC needs to help promote competition…                                         1\n",
       "Franken: Dem colleague rejected Cruz during…                                   1\n",
       "India's annual GDP growth slowed to 7.1% after historic…                       1\n",
       "13 Stunning Weather Girls Who Have Gone Viral                                  1\n",
       "Cruz mocks Franken’s book with ‘covfefe’                                       1\n",
       "15 Craziest & Scariest Bridges In The World                                    1\n",
       "What Clifton Landline Users Must Know                                          1\n",
       "9 Gorgeous Female Billionaires                                                 1\n",
       "0 Interest Credit Cards Top Deals                                              1\n",
       "Mnuchin, Louise Linton spotting dining in…                                     1\n",
       "Haley: Trump believes in NATO's Article 5                                      1\n",
       "The Truth Behind Getting Cheap Cruises                                         1\n",
       "New York Times: Raising More Questions Than…                                   1\n",
       "10 Chill Ways To Cool Off This Summer In New Jersey                            1\n",
       "Tiger's Ex-Wife Used to be Stunning, But What She Looks Like…                  1\n",
       "The 20 Most Expensive Cities in the World to Live in Revealed                  1\n",
       "Name: headline, dtype: int64"
      ]
     },
     "execution_count": 98,
     "metadata": {},
     "output_type": "execute_result"
    }
   ],
   "source": [
    "deduped['headline'][deduped['source_class'].isin(['center'])].value_counts().nsmallest(25)"
   ]
  },
  {
   "cell_type": "code",
   "execution_count": 76,
   "metadata": {
    "collapsed": false
   },
   "outputs": [
    {
     "data": {
      "text/plain": [
       "Stairlifts are disrupting the multi-billion dollar retirement home industry - keeping seniors independent    173\n",
       "Forget Social Security if you Own a Home (Do This)                                                           168\n",
       "Here Is How You Upgrade To Business Class                                                                    157\n",
       "Best Senior Living Communities Of 2017! View Pricing Here & Compare                                          109\n",
       "Forget Social Security if you Own a Home (Do…                                                                 83\n",
       "Thinking About Installing Solar Panels? Read This First                                                       65\n",
       "Eddie Murphy's House Is Far From What You'd Expect                                                            63\n",
       "The Most Common Cancer Symptoms People Ignore                                                                 55\n",
       "Forget Social Security if you Own a Home…                                                                     54\n",
       "Common Cancer Symptoms That Should Never Go Unchecked                                                         50\n",
       "Veterans Hit the Jackpot in 2017                                                                              38\n",
       "If You Own A Home You Must Claim Your $4,240…                                                                 38\n",
       "(4) Major Heart Attack Red Flags                                                                              34\n",
       "How to 'Fix' Crepey Skin                                                                                      34\n",
       "Why Doctors In The Know No Longer Prescribe Blood Pressure Meds                                               32\n",
       "See Inside the Luxurious Senior Apartments in Clifton                                                         31\n",
       "Stunning New Luxury Sedans Now Available!                                                                     30\n",
       "If You Own A Home You Must Claim Your $4,240 Before Time Runs Out!                                            28\n",
       "Break In The D.B. Cooper Case                                                                                 27\n",
       "Could This Be The #1 Trick to Reverse Hearing Loss (Do This Tonight)                                          25\n",
       "9 of 10 Senior Homes are Miserable. Here's the Top Ones in Each Category.                                     25\n",
       "Don't Forget To Do This Every Time You Turn On Your PC...                                                     24\n",
       "The Surprising Guest That Johnny Carson Couldn't Stand                                                        24\n",
       "Tiger Woods' Yacht Is Far From You'd Expect                                                                   23\n",
       "See Inside the Luxurious Senior Apartments in New York                                                        22\n",
       "Name: headline, dtype: int64"
      ]
     },
     "execution_count": 76,
     "metadata": {},
     "output_type": "execute_result"
    }
   ],
   "source": [
    "deduped['headline'][deduped['source_class'].isin(['left'])].value_counts().nlargest(25)"
   ]
  },
  {
   "cell_type": "code",
   "execution_count": 97,
   "metadata": {
    "collapsed": false
   },
   "outputs": [
    {
     "data": {
      "text/plain": [
       "Car Trouble: Americans Less…                                                       1\n",
       "NURTURE: Dating and Breast Cancer                                                  1\n",
       "American Residents Born Before 1999 Check This Out                                 1\n",
       "15 Best Concept Cars For The Future                                                1\n",
       "Register for AARP's Technology Fair and Start Living a More Connected…             1\n",
       "Get speeds 20x faster than most people have at a revolutionary price.              1\n",
       "Army Demands Answers As Soldier…                                                   1\n",
       "30 Most Dangerous Species You Should Never Get Near                                1\n",
       "1 Simple Trick For Women To 'Remove' Wrinkles & Eye Bags                           1\n",
       "10 Real Images Of The Titanic That’ll Give You Chills                              1\n",
       "This Sailing Team Is Leaving Behind Quite the Legacy                               1\n",
       "Spring Into the Crystal Coast's Beautiful Weather                                  1\n",
       "27 Banned Vintage Ads That Were Once Acceptable In Society                         1\n",
       "5 Unforeseen Facts About Chronic Dry Eye                                           1\n",
       "Tell us Your Skin Concerns and We Will Create a Skin Care Regimen Just for You.    1\n",
       "The must-attend developer conference of the year.                                  1\n",
       "Register for AARP's Technology Fair and Start Living a More Connected Life         1\n",
       "Anderson Cooper Finally Brings His Partner On The Red Carpet                       1\n",
       "Ditch the Hand-Cranked Spiralizer & Upgrade to the Ultimate Kitchen Gadget         1\n",
       "This Great Dane Inspired Kitchen Remodel Will Blow You Away                        1\n",
       "How Game Of Thrones Characters Were…                                               1\n",
       "Exclusive Cars For The Richest People                                              1\n",
       "Penthouse With Ties To Mick Jagger Hits Market in London                           1\n",
       "Qualcomm Fights Back: Defending The…                                               1\n",
       "Mouth Watering 2017 Car Lease Deals                                                1\n",
       "Name: headline, dtype: int64"
      ]
     },
     "execution_count": 97,
     "metadata": {},
     "output_type": "execute_result"
    }
   ],
   "source": [
    "deduped['headline'][deduped['source_class'].isin(['left'])].value_counts().nsmallest(25)"
   ]
  },
  {
   "cell_type": "code",
   "execution_count": 77,
   "metadata": {
    "collapsed": false
   },
   "outputs": [
    {
     "data": {
      "text/plain": [
       "Nicole Kidman's Yacht Is Far From You'd Expect                                      365\n",
       "Tiger Woods' Yacht Is Far From You'd Expect                                         140\n",
       "Watch Obama's Face at 0:33. This Leaked Video Will Destroy Obama's Legacy           138\n",
       "We Can Guess Your Education Level with Only 10 Questions                            132\n",
       "Triple Your Accuracy With This Weird Shooting Technique Used By Seal Snipers        123\n",
       "Born Before 1969? You Could Get an Extra $2,194 Monthly with This                   105\n",
       "Goldman Sachs & World Bank Confirm: Us Dollar Will Be Worthless in 100 Days         103\n",
       "Search For The Best New Pickup Truck                                                 92\n",
       "Hemp Company Releases Legal CBD Oil Across All 50 States                             83\n",
       "This Is The Shopping Site Amazon Doesn't Want You To Know About                      75\n",
       "He Never Mentions His Son, Here's Why                                                73\n",
       "Exclusive: Massive US Invasion of Syria Has Already Begun \" Alex Jones' Infowars     71\n",
       "LIVE: Russian Leader Calls For Retaliation Strikes Against US \" Alex Jones' Info     69\n",
       "The One Thing All Cheaters Have in Common                                            66\n",
       "New Jersey Landlines Get Replaced (But Not With Cell Phones)                         60\n",
       "Disturbing Video Evidence Proves Obama Should Have Never Been President.             60\n",
       "Ever Googled Yourself? Do a \"Deep Search\" Instead!                                   58\n",
       "Top (5) Medical Alerts Best & Worst Medical Alert Systems.                           53\n",
       "The US Citizenship Test Question That Stumps All Americans                           50\n",
       "Malia Obama's New York Apartment Is Disgusting                                       43\n",
       "Why Metformin Makes You Sick (WATCH)                                                 40\n",
       "9 of 10 Senior Homes are Miserable. Here's the Top Ones in Each Category.            38\n",
       "Diabetes Breakthrough That Was Silenced by Drug Companies (Try It Tonight)           35\n",
       "New York Landlines Get Replaced (But Not with Cell Phones)                           35\n",
       "See Inside the Luxurious Senior Apartments in Clifton                                33\n",
       "Name: headline, dtype: int64"
      ]
     },
     "execution_count": 77,
     "metadata": {},
     "output_type": "execute_result"
    }
   ],
   "source": [
    "deduped['headline'][deduped['source_class'].isin(['right'])].value_counts().nlargest(25)"
   ]
  },
  {
   "cell_type": "code",
   "execution_count": 96,
   "metadata": {
    "collapsed": false
   },
   "outputs": [
    {
     "data": {
      "text/plain": [
       "When A Guy Rescued This Old Trunk From A Dumpster, What He Found Inside Brought Its Owner To Tears             1\n",
       "Waitress gets big tip to help pay for hearing aids                                                             1\n",
       "Julian Hernandez Was Abducted At 5 Years Old, 13 Years Later He Is Reunited…                                   1\n",
       "25 Chic Accessories You Need for Summer                                                                        1\n",
       "A Look At The Obama Presidency: What We'll Miss                                                                1\n",
       "People Born Before 1967 With No Hearing Aid Must Read This                                                     1\n",
       "The Richest NASCAR Drivers in History                                                                          1\n",
       "10 Top Trends in Real Estate You Need to Be Aware Of                                                           1\n",
       "Photographs From Iconic Moments In Time                                                                        1\n",
       "When This Baby Zebra Was Attacked Everyone Thought It Would Die, But Then…                                     1\n",
       "10 Snacks Under 250 Calories                                                                                   1\n",
       "If You Think The Hummer Is Mean, Wait Until You See This Beast                                                 1\n",
       "This Old Labrador Disappeared. Then Days Later A Hiker Saw A Body In A Stream                                  1\n",
       "Perfectly Timed Photos That Almost Broke The Internet                                                          1\n",
       "Never Take Off Your Swimsuit Again: Adorable, Restaurant-Ready Coverups                                        1\n",
       "China's New Super Jet Is A Deadly High Tech Marvel                                                             1\n",
       "Female Cop's Scandalous Double Life Revealed                                                                   1\n",
       "Lions Encounter Terrified Fox                                                                                  1\n",
       "Signs That Your Body Is Telling You That You’re Not As Healthy As You Should Be                                1\n",
       "The Most Addicting Shopping Site For Women                                                                     1\n",
       "39 Of The Most Exclusive Locations On Earth                                                                    1\n",
       "This Building Hides A Soviet Secret                                                                            1\n",
       "Mallory From \"Family Ties\" Was Stunning in the 80s... But What She Looks Like Today Will Make Your Jaw Drop    1\n",
       "The Richest Person In Every State                                                                              1\n",
       "Making Millions Through Worship, But Is It Right?                                                              1\n",
       "Name: headline, dtype: int64"
      ]
     },
     "execution_count": 96,
     "metadata": {},
     "output_type": "execute_result"
    }
   ],
   "source": [
    "deduped['headline'][deduped['source_class'].isin(['right'])].value_counts().nsmallest(25)"
   ]
  },
  {
   "cell_type": "code",
   "execution_count": 78,
   "metadata": {
    "collapsed": false
   },
   "outputs": [
    {
     "data": {
      "text/plain": [
       "28 Pictures That Show How Crazy Woodstock 1969 Was                              139\n",
       "Triple Your Accuracy With This Weird Shooting Technique Used By Seal Snipers    137\n",
       "Kim Kardashian and North West Turn Heads On The Red Carpet                      126\n",
       "Trump Voters Shocked After Watching This Leaked Video                           125\n",
       "10 Surprising Things Guys Find Unattractive                                     114\n",
       "9 Hair Mistakes That Make You Look Older                                        100\n",
       "What Tiger Woods' Ex-Wife Looks Like Now Left Us With No Words                  100\n",
       "10 Features That Attract Men The Most                                            97\n",
       "After Losing 220lbs Rebel Wilson Is Gorgeous Now!                                96\n",
       "10 Tricks To Always Look Good In Pictures                                        95\n",
       "Anthony Bourdain Relieved to No Longer Pretend About Marriage                    87\n",
       "New Pics Show Malia Obama Locking Arms With Gorgeous Guy                         86\n",
       "Here's What New Dental Implants Should Cost                                      78\n",
       "Stars Who Haven't Figured Out They Aren't Famous Anymore                         73\n",
       "6 Clothing Items Every Short Lady Should Own                                     70\n",
       "Janet Jackson Shows Off Weight Loss at Divorce Court                             57\n",
       "Have You Seen These Top Senior Apartments in Clifton                             56\n",
       "93% of Americans Won't See What's in This 1944 German Photo [video]              55\n",
       "This is What Tiger Woods' Ex is Up to These Days                                 54\n",
       "What Men Find Attractive in Different Parts of the World                         52\n",
       "Amal Clooney's Stunning Pregnancy Style                                          52\n",
       "Why You Should Never Wash Your Face In The Shower                                51\n",
       "How Dr. Oz Disappointed Us With His Double Life                                  50\n",
       "Famous People Who Destroyed Their Careers in a Matter of Seconds                 50\n",
       "Why Hannah From '13 Reasons Why' Looks So Familiar                               49\n",
       "Name: headline, dtype: int64"
      ]
     },
     "execution_count": 78,
     "metadata": {},
     "output_type": "execute_result"
    }
   ],
   "source": [
    "deduped['headline'][deduped['source_class'].isin(['tabloid'])].value_counts().nlargest(25)"
   ]
  },
  {
   "cell_type": "code",
   "execution_count": 95,
   "metadata": {
    "collapsed": false
   },
   "outputs": [
    {
     "data": {
      "text/plain": [
       "Can You Guess the '70s Hit from Its Opening Line? Take Our Quiz!            1\n",
       "6 Easy Beauty Hacks You Need For When You're Running Late                   1\n",
       "Who Jackie Kennedy Thinks Had Her Husband Killed                            1\n",
       "Here's How To Get Exclusive IPO Access, Commission-Free                     1\n",
       "30 Amazing Car Cleaning Hacks You Must Try (30 Pics)                        1\n",
       "15 Incredible Sea Arches around the World                                   1\n",
       "Oprah Winfrey's 'Wonder Woman' Party Got Gal Gadot's Approval               1\n",
       "5 Meal Delivery Services People Are Obsessed With                           1\n",
       "After Losing 70lbs Chaz Bon is Actually Stunning                            1\n",
       "The Reason Why Vitamin C Hasn't Been Seen Since The 80s                     1\n",
       "Are These The Most Important Pancreatic Cancer Symptoms Ever?               1\n",
       "Tick Paralysis in Dogs                                                      1\n",
       "35 Stars Whose Real Names Will Definitely Surprise You                      1\n",
       "Kim Kardashian Has Hired a Surrogate to Carry Her Third Baby                1\n",
       "10 Symptoms of Irritable Bowel Syndrome                                     1\n",
       "Tiniest Puppies Ever Born Will Melt Your Heart...Especially the Last One    1\n",
       "The Story Behind Kim Kardashian's Fame                                      1\n",
       "Quiz: Can You Recognize These Movies from Just One Image?                   1\n",
       "Everything You Need to Know About Security Camera Safety                    1\n",
       "Diabetes, Your A1C Goal, and Switching Insulin Treatment                    1\n",
       "Actors Whose Careers Stalled After Huge TV Success                          1\n",
       "How will preterm labor affect future deliveries?                            1\n",
       "James Worthy Makes a Bold Statement About Le                                1\n",
       "Emma Watson’s Got the Perfect Summer Updo                                   1\n",
       "The 21 countries with the most powerful passports                           1\n",
       "Name: headline, dtype: int64"
      ]
     },
     "execution_count": 95,
     "metadata": {},
     "output_type": "execute_result"
    }
   ],
   "source": [
    "deduped['headline'][deduped['source_class'].isin(['tabloid'])].value_counts().nsmallest(25)"
   ]
  },
  {
   "cell_type": "markdown",
   "metadata": {},
   "source": [
    "Let's take a look at the images for the headline about dead celebrities, are they all the same?"
   ]
  },
  {
   "cell_type": "code",
   "execution_count": 79,
   "metadata": {
    "collapsed": false
   },
   "outputs": [],
   "source": [
    "def imgs_from_headlines(headline):\n",
    "    \"\"\"\n",
    "    A function to spit out all the different images used for a headline, assuming there's no more than 50/headline\n",
    "    \"\"\"\n",
    "    all_images_dead_celeb = deduped['img'][deduped['headline'].isin([headline])].value_counts().nlargest(50).index.tolist()\n",
    "    for i in all_images_dead_celeb:\n",
    "        displaystring = '<img src={} width=\"200\"/>'.format(i)\n",
    "        display(HTML(displaystring))"
   ]
  },
  {
   "cell_type": "code",
   "execution_count": 80,
   "metadata": {
    "collapsed": false
   },
   "outputs": [
    {
     "data": {
      "text/html": [
       "<img src=https://revcontent-p0.s3.amazonaws.com/content/images/1496675994.jpg width=\"200\"/>"
      ],
      "text/plain": [
       "<IPython.core.display.HTML object>"
      ]
     },
     "metadata": {},
     "output_type": "display_data"
    }
   ],
   "source": [
    "imgs_from_headlines(\"Born Before 1969? You Could Get an Extra $2,194 Monthly with This\")"
   ]
  },
  {
   "cell_type": "code",
   "execution_count": 81,
   "metadata": {
    "collapsed": false
   },
   "outputs": [],
   "source": [
    "timestamp = datetime.now().strftime('%Y-%m-%d-%H_%M')"
   ]
  },
  {
   "cell_type": "code",
   "execution_count": 82,
   "metadata": {
    "collapsed": true
   },
   "outputs": [],
   "source": [
    "datefile = '../data/out/{}_native_ad_data_deduped.csv'.format(timestamp)"
   ]
  },
  {
   "cell_type": "code",
   "execution_count": 83,
   "metadata": {
    "collapsed": true
   },
   "outputs": [],
   "source": [
    "deduped.to_csv(datefile, index=False)"
   ]
  },
  {
   "cell_type": "markdown",
   "metadata": {},
   "source": [
    "Finally, let's generate a json file where each item is an individual image, and for each image we are listing out all the original sources, dates, headlines, classifications, and final locations for it. "
   ]
  },
  {
   "cell_type": "code",
   "execution_count": 84,
   "metadata": {
    "collapsed": false,
    "scrolled": true
   },
   "outputs": [],
   "source": [
    "img_json_data = {}\n",
    "for index, row in deduped.iterrows():\n",
    "    img_json_data[row['img_file']] = {'url':row['img'],\n",
    "                                 'dates':[],\n",
    "                                 'sources':[],\n",
    "                                 'providers':[],\n",
    "                                 'classifications':[],\n",
    "                                 'headlines':[],\n",
    "                                 'locations':[],\n",
    "                                 }"
   ]
  },
  {
   "cell_type": "code",
   "execution_count": 85,
   "metadata": {
    "collapsed": false,
    "scrolled": true
   },
   "outputs": [
    {
     "name": "stdout",
     "output_type": "stream",
     "text": [
      "19314\n"
     ]
    }
   ],
   "source": [
    "print(len(img_json_data.keys()))"
   ]
  },
  {
   "cell_type": "code",
   "execution_count": 86,
   "metadata": {
    "collapsed": false
   },
   "outputs": [],
   "source": [
    "for index, row in deduped.iterrows():\n",
    "    record = img_json_data[row['img_file']]\n",
    "    if row['date'] not in record['dates']:  \n",
    "        record['dates'].append(row['date'])\n",
    "    if row['headline'] not in record['headlines']:\n",
    "        record['headlines'].append(row['headline'])\n",
    "    if row['provider'] not in record['providers']:\n",
    "        record['providers'].append(row['provider'])\n",
    "    if row['source_class'] not in record['classifications']:\n",
    "        record['classifications'].append(row['source_class'])\n",
    "    if row['source'] not in record['sources']:\n",
    "        record['sources'].append(row['source'])\n",
    "    if row['final_link'] not in record['locations']:    \n",
    "        record['locations'].append(row['final_link'])"
   ]
  },
  {
   "cell_type": "code",
   "execution_count": 87,
   "metadata": {
    "collapsed": false,
    "scrolled": true
   },
   "outputs": [
    {
     "name": "stdout",
     "output_type": "stream",
     "text": [
      "{'url': 'https://console.brax-cdn.com/creatives/98c6400e-f2fc-4c28-8e00-6c45914e36d5/TB15_1b309a68a23702cb95e743cea5d60029.600x500.png', 'dates': ['2017-03-27T12:59:09.279Z'], 'sources': ['http://tmz.com'], 'providers': ['taboola'], 'classifications': ['tabloid'], 'headlines': ['20 Cool Moments From Joe Biden’s Time In Office'], 'locations': ['http://scribol.com/a/news-and-politics/ways-joe-biden-made-vice-presidency-cool-again-americas-uncle/?utm_source=Taboola&utm_medium=CPC&utm_campaign=Joe_Biden_Cool_VP_US_Desktop&utm_content=tmz']}\n",
      "{'url': 'http://cdn.taboolasyndication.com/libtrc/static/thumbnails/b13e719e4aff1daf7284c9bdb61e65a1.png', 'dates': ['2017-03-27T12:59:13.038Z'], 'sources': ['http://tmz.com'], 'providers': ['taboola'], 'classifications': ['tabloid'], 'headlines': [\"25 Pics Donald Trump Doesn't Want You To See\"], 'locations': ['http://detonate.com/pictures-that-trump-would-rather-keep-secret/?utm_source=8b4&utm_campaign=8b4_US_desktop_Trump_12_54f7_20160725_mm_3407&utm_term=tmz&utm_medium=cpc']}\n",
      "{'url': 'https://revcontent-p0.s3.amazonaws.com/content/images/1490017108.jpg', 'dates': ['2017-03-27T12:59:15.114Z', '2017-03-27T12:59:16.920Z', '2017-03-28T05:08:24.588Z', '2017-03-28T05:08:25.939Z'], 'sources': ['http://worldstarhiphop.com/videos/'], 'providers': ['revcontent'], 'classifications': ['tabloid'], 'headlines': ['Do This Tonight to Make Fungus Disappear by Morning (Try Today)'], 'locations': ['http://japanesetoenailfunguscode.com/?aff_id=41345&subid=3c2i08hndnwt', 'http://japanesetoenailfunguscode.com/?aff_id=41345&subid=3clq0j7vog97', 'http://japanesetoenailfunguscode.com/?aff_id=41345&subid=355sv150j7ov', 'http://japanesetoenailfunguscode.com/?aff_id=41345&subid=3ke04pkkc34k']}\n",
      "{'url': 'https://revcontent-p0.s3.amazonaws.com/content/images/1489682572.jpg', 'dates': ['2017-03-27T12:59:15.237Z', '2017-03-27T12:59:17.051Z'], 'sources': ['http://worldstarhiphop.com/videos/'], 'providers': ['revcontent'], 'classifications': ['tabloid'], 'headlines': [\"Here's What New Dental Implants Should Cost You - View Pricing & Dentist Info\"], 'locations': ['http://gaindentalfixdeals.com/?affid=1016&s1=10949&s2=1801868%7C239864%7Cworldstarhiphop.com', 'http://getdentaltoothfixdeals.com/?affid=1016&s1=10949&s2=1801868%7C239864%7Cworldstarhiphop.com']}\n",
      "{'url': 'https://revcontent-p0.s3.amazonaws.com/content/images/1486415171.jpg', 'dates': ['2017-03-27T12:59:15.614Z', '2017-03-27T12:59:17.480Z', '2017-04-29T04:22:47.966Z', '2017-05-15T10:55:38.925Z', '2017-05-15T10:55:39.281Z', '2017-05-15T10:55:39.952Z', '2017-05-15T10:55:40.263Z'], 'sources': ['http://worldstarhiphop.com/videos/'], 'providers': ['revcontent'], 'classifications': ['tabloid'], 'headlines': [\"Michael Jordan Has Pretty Much Given Up on His Son, Here's Why\"], 'locations': ['http://trends.revcontent.com/click.php?d=vJdwplKu0pUY0G8mZgW7%2BfkWm%2F8rSKsQQkXQbHQYBgW3pRycVsQRgTsyi3%2FtsV6I4lap%2BjX9h1%2BEbLcUlqTQMVSNfHQQkbUicfWHb7dw91dD0inXxnglXt10FAQWZjo1Larx5KRm92nP9arlHHZz%2BdyE9Tn5guObB8L%2FJp0Dt57DtRF%2Bfok8%2BfLSpJtcjLFjO1r35UKJAuSO4bmpYbB109TRS1lWZHUtRsO0N6DTib1O4c7Cn7iEWlC7iWej6AASi16lKmBEyLqQYrzxjEwaTbWZuqglYDO6XYRqG%2FyyuQ%2BPUcik74RbX%2BuOIkungdlYncPD0dXrvhTRETfRTPb8yoZBMt7o2VPDp0qHQXHsUiJlZGHe3MWaSTXEQuYxs2U1nLhyS8NlxIo3TAJi41W2ko8JSm2oMSb48e1EVcCuKL9Ep5cB4IcwcEyc6tJvwJRH8GMfuSYVHLMatxlsKgRlvo9snwlOIEY95fOZrXoO9B84ebMGPeUfFAuDmiK8mklUF%2FsMXmkh7sPSD7uuZyVvRRPTVC%2FfaPjZuIhk9o%2FsETyg9v7kvxHi%2FUZ%2FcN%2F6ujf%2BD5QZ61baXRElk8xvSFTDpqLW4lBTNTaJ19kKloFzPuO6dHqkLOPactBW06HeOQp8%2B5rt4xTIg5%2Bkc9ndm8mTmfpkP1hP3TeEa%2F%2FjxYV1CkXG69pOW5Mbp3b%2F03%2Fhp78P1bp1%2BtlhCORKjyGSvWfl2YTMg4bnUQddHrgw9BX0diQ4ZnuQwB6Lt7oUADBf7mhl', 'http://trends.revcontent.com/click.php?d=Bh%2F%2BvKNq0Yge75HL7eZKGEBZFXmDwUSro%2FYm%2B7dIn8ge57dHmw6JOzhz5BLk%2BlyWfl5DnJgcNB9tgTW4AabntGxJSZXpRSux0HYbxrK6BXX%2FhS6B%2BJ8RTkH9bSrvgb5THbidoOPo7HaY7Oak7vZdnRbRWJnm56YHPwQ%2Fm8dE2gm00rz1qdsEqrWHzVL3zTWuCp9imlBcXnMgCVuC2NbQl2pUrPghg3%2B8S%2BvGZzh71UUl51V8et0Ch6OemcQ1xs4%2FIKymJddu2XWF6yfqRQWXBGqUXUBXCjB9AB4J0DQfcwsMtrJX7lBPFQ1zq4ngC5MplmT5jt8GXDKx%2BP2sfPRnrc5NwLqKp93wXhKM24nR%2FUQE2b0iv7ojNe06yS7bGq4yRQmymVpombe9CMCkr3YIiGAPGIvMRmIJiDGLDCTFluqk39jiyYfJKB2guhWvPAqe7Yy%2Fo9r0fZxPsERR0DN0GtLqaRyIrR6GPavWquPWv4%2F1TJJxcbDpBcwy8A4TWYvatIjMYQUoEO24L6pd9nCEVKB3cw8BmxX0PFD4bHfCrh3CbyZmR41R9jJV6y%2FuOK3cRIig2s6Vtt8WtLVtvrXi1gm5WstuEXeaYT9z8vzk5OWn7JXFr%2BdAXjarDidQh9oi6pCeJtKgeqqmshOPA3fEF64cDkj1DsRksu8pJ5mazI9Gf5w9VykJnA87JVbg8LJFjSrqE9wOtMWyUkENOxrCNeHVU8s78LdMLMPjRZE8%2FuU5KSm85e28fW2%2FXTFVRzDT', 'http://trends.revcontent.com/click.php?d=R%2FMznJavHHk6hqB%2FW8DTG%2Fqoa5q7ipZx8O4qu6LSZUqEstCK4gNm%2BdUpwvX1yhqnrmTgZRSrbRf3ranJwsVstbshJvAOU6SKqJgqUwEJ4Y0RxhDO5Z%2Baxr5J%2B9SdPcipDFAsjIFjhCHkHyZL4QeKtuT4AYFsLkFHX1HKhHnhjCWJD0TZBpolzPVxaJ4mFhc0iYvISyHbeKMUyGM8i3iJc3pxaSJOVqmBFl%2BzJwHGnSF6UoXQy1HeHPsEa0PQ192X5bwb63CC6YAQIIKawp0HL%2FanYK7RlopuQ2RxuExb7W%2BWjYdxlUQfAU2Bf%2FFk9jhk58VCCoaGydZvxPFUuvgcudDAp3ALTYRQFNW8YqJlgTkDKxuXC%2FRyU0vHU%2Bv%2BxBFxLkKb6x%2F2V352WKOXGeIvXBd1NHKHQ%2BleUOLuTOcHVQ%2BWZCx6NLcd4jhh69Oj%2F4TLSMsSVgw0imAXXW1ismZc3Q0LodL3NO5%2BMh26EXbBjkakhxhjKEwBy5Z2mh9uAI6vZrgCf6cdjBUmkedDZ%2FwN%2FIWEsTgcSb0Lf3N1Yu%2FPL4ztOjaPoK85iCN0tmt5CNN%2FHu%2BeajrsrsEhNw7Th1qKmBWyK9T4AwC%2FoM4rYN5eyjLEiyqsk404oGVxPH6PzXRhoD%2BpTZZpFtBM5m0vpVGY%2FeloXNgGpiiXMZ1%2BqgJ0ZI0RteyS9c%2FcEBgkVhuQI5EaA1%2Bg%2BH518ZotG%2BHtzUt9E2ZLmziLlbRxlEdl1dYKIB0fyn%2Blu20YZCNJayCfzgc5XgOKYLTXZPhLkGBgvb0HL9zJ9c7xs62XPFXVIjeaV3U%3D', 'http://trends.revcontent.com/click.php?d=zT7csNf77I2ykPB6J5zpnBow7C0%2FgdQO%2FFJZHtHFxUROTLZAwaNhs5xukII%2FsS%2BkQTiX6YBklaN8GYePzEF%2Bytyh1TAp%2FJaz5S%2BBRq92tyA2GXS4iKVxOlPfGeQ6xw1w8IA07RXrr8AxL9ePw2WfP2DEiAzCdFmZU%2BdyZlkx9UoF44Tr0%2B25zrnwDBugZY%2FE2I8SjVi1E%2BxDOKV%2BiFMNjyj7GSkb7xB7ZB9t9JM46MOraK1AL4IKnVZJh8GATF6jot9x4%2FDvnjbGN84j3BfK5ymQC3q0%2BoQVF0Tcr2F7w%2FCZNGbhNERPVbWz3W0XG9cM0C1X6QB0Nx2YmTKOlg0v6OuILJxlB1YPUP59%2FoPcsHjcS0SHMunMXqE%2B1ZTOQItbOkBru%2Fe2oLm1Wknzc0%2BcELsFgKcd0PZ26zrzK59vTfDy1mku3sbmZCv7nHIwga3lX3igUapt%2Bfp65NCFhyODBCRLjxVtMRcc25N5lt9yYZj10Cv5SPY3CcowmR46ExaVFbWuWwVVGD%2FrG1TUXETKiEJXWGmY%2FtXVF8r%2FQrLz3RnpVbJEK7BYsgH7jDlosuoUX6bzBVyNGDwd8vLPlpRdI52qMW9ZfPVNEQkOYc97b4gE4zmG4PNnaVgKnE4uUBFnfxrFRpUgRl7JGnrKFMpHGJCoHgSr5ByfvRw6udPyDDP00RNHzqmwYnWS1WQaISUfUE5cZ39j4RdqFG4ulrp42y%2BQfMJAtRJw%2B7YHRFU%2Fr3PPMusmJnuOKRh1qxNjn%2F2I0ePh00sekak73PJH8QHLzLP%2FXvalFM3XKsNW%2F6N8tk0%3D', 'http://trends.revcontent.com/click.php?d=zEhzqSroRD193mvTp8qDeQ78%2BC5d%2Bt95UYzMige2O7ICjvDgETAoQDoJynnLbc66YwSU9DtjcNOK4uDi3kog3qt09Q%2BDTQ%2BaLqIIOTYub2cjlwOSvk6DoPdxZyoqvqvgOI7Ebt4tM5WDK%2B7ASYWHmW1d19eyB68MjkCm%2BFfRJrL9TVpOsuUNdB68%2F62vNHvTPvzrS9gSTfRytI55EDCXFgqLiYWUl2PQGB50sWyNotDCJmMe%2BXF2zVtqU6z%2Fkmli%2BThB7Yoe1RRxwLwDevhg0Z47vQWgHeDO%2FXYAjnrRikauG9apugaS%2Bg4SiEn9DSXwQMbz6krHAPuFcor2E%2BkENd2VXCrR1%2FaGWHJCsLHXfK5PYrIV09Ay2cURGIbahPjmDLNN%2B7vwssPjOEhibj9g8pOpDCQe1Cg1aTcmEafs9oBH%2FzGIRk31eJA%2FTYVWlTxFL336%2FyMK6sbTeug1Ek04Vbr05XNmQhRhd3L884xd7OiJTFsXhXIjPt7RgH0s5YQad%2Fbn%2F6kztu1A09wZUXAaI2k1uZ0nceFi844mTe68e528EMUSUsvnx7yacN0U4XA58%2BjG3EsGm507%2Fonjda1jzG%2BCF3tfQ%2BmtQq%2BNhVXwEQ9XGwZElfzAKiie2l7lBbxonGmb8w4WITs%2FRmuxqwCXxpg0A43XGRDi1KfhJqEvMkqOWIQGUqmOqbqL5bMCT%2FgoYnKxH96FqlNkAbMODgpA7TgQCNxkeLeqj7pYui5NgNP9Yyc%2FVYnB8YOgG1BtLtdqcAeS9u2oAzmHGjpwg%2BCW%2FxNMV8C8ZDrZdbZe3BIlZiE%3D', 'http://trends.revcontent.com/click.php?d=yhgcZoUtLD2nk6vdesk71n%2F1XgC0cbYmAOE9WH9Ui1FKFhvAy5wMaM2lOv8bjt8vlg8tBas7BGZfuoW%2BYYJ%2Bd8ome7RyySnzohklQ2ZxS%2BHLu0J%2B6tB95wRKyu%2BuV9%2F1I7U6vi8VbaFy8KKWGmQ4SmNXtRwAznmv%2Bh1B4Xgy6oKTWnpOt1LhQ85ukw7ckzfTKQXuxC%2FaUUDfhc6MRIcNmOQfYTURKv%2FYDV46B12qxma28MY1O2CdopxidA6llOM%2FyWDLHiftvjlTkRhJu1lATqdhSDU2NWK%2Fs7Wz933mgAreM5DWRyLUFyJm6Hg2ZS1s2BQCsLcDisx5ffKXdCbejydeIk6YkUut3kj%2BUfLL8GJ6PwBjNb3JTYVRZ%2BBzdgpdwZXWRMOSM5JK%2FcDryya5GpJHYIbU6HUXs6tbyEP6gMxfXveJvvHQ553PQg5CI8b07BBnb6ebs6DfWTkjCJXztaB3rfFuEyR2stgcHDKayoMuEOcxHEP1WNXOycgtTAuKqsFooJj%2BItYELkUGPAXzpBTwnSCmIV%2B06x02OsmzyepKLT3mvB4vm6w6RYb%2BTYlCY6CwCisCW3f0U%2BbnbQ%2BkfpwIpV6IudYfo%2F5zbCWj1eLqJXnnGdD67Q%2FL4CLjpcHiL1OudHGgOtGlToq82ovH8zBIZAJ8qFHdXUiYRnzCBDqL7qRXSDWMEIW%2FJScgqOqJ%2FLS18EYFMZJwYVCFoI03pw%2BhLS73cg5jFJQ%2BAlYGpo7AMDFP8dvkxJ0sXp93bDyaTrIphOLmeBr1EmpwE8nTN94JST2mghn0Ze1MCYXF%2Bzw%3D', 'http://trends.revcontent.com/click.php?d=7J0uNuYGBo92nwrA0hFHhWhYZEIHeRFos5DOeIZZNLepawY1CcdFLyUeD2LZmX5kx3lQ3iYyT4sqCjAReCNPdYTOCO1omwDWoSSltVzfX5S0%2FSXj%2F5SmuU%2Fv1H3aIy8Sbt%2BW9jVyQToUOfnxOKdQ92%2FreSiycG2PLCZXZOhCt%2FCMLXqkoOl8x3z3D4BNifXuL5UAsTMHKHbvgt1S3Bu66h55oQLGVCAv9nYoSBms%2FQZdo5HlMVO7VQl9IDfcnUsPz0E%2FG7zN7xs5Y6xb9k%2FAj4qOrc2YJj1w907pjSBfMhct0hX471jpEAyIfF7MMVLj%2FVSHmNBWcrqHFaE6TCCVkKFowkglACXJCpEkzVwaOf%2FsmyVvwKa0FY9D7qbjwWI4k6IwV8OSxDBmXSdVemzjHuFH5waovG%2ByHeiYPR656BNDCTW80CiQQXag1Rp36hb8hG%2FDwP34T46st4wQw73%2F6%2B40Of7OWg7W%2FrTWbt0pyuL5FRbWMYhbJOyCCPeJ6kjpoBiEbQLnUx7%2BObAXmVX1IwKvrqYzQnzulqXPycLjRo%2FyfzqmzvspFSnbNAIfy8br6PGPbBUVZDdLCAnstgPwY0SW85cIbaYL8cTApQeLKz9yNc6TdmrHpHrXJIEcuyaPQZm%2BxyGPuUcxFi4HQyxelv6C3WpYmhsOyqsO%2F9MxuBiU9lvOww5CkapbNKoGm2GEKE82JhuUHujCmgwlfSzw8%2BDn9csKkm6k7zyE7vGL3qAQcl2ZhJs%2FM1fw%2B%2BscKICf2Kwqz8lwmzkfAFQr2SHBPFJheZan9a4HvT4P%2BC%2FIBZQ%3D']}\n"
     ]
    }
   ],
   "source": [
    "for i in list(img_json_data.keys())[0:5]:\n",
    "    print(img_json_data[i])"
   ]
  },
  {
   "cell_type": "code",
   "execution_count": 88,
   "metadata": {
    "collapsed": false
   },
   "outputs": [],
   "source": [
    "hl_json_data = {}\n",
    "for index, row in deduped.iterrows():\n",
    "    hl_json_data[row['headline']] = {'img_urls':[],\n",
    "                                 'dates':[],\n",
    "                                 'sources':[],\n",
    "                                 'providers':[],\n",
    "                                 'classifications':[],\n",
    "                                 'imgs':[],\n",
    "                                 'locations':[],\n",
    "                                 }"
   ]
  },
  {
   "cell_type": "code",
   "execution_count": 89,
   "metadata": {
    "collapsed": false
   },
   "outputs": [
    {
     "name": "stdout",
     "output_type": "stream",
     "text": [
      "15219\n"
     ]
    }
   ],
   "source": [
    "print(len(hl_json_data.keys()))"
   ]
  },
  {
   "cell_type": "code",
   "execution_count": 90,
   "metadata": {
    "collapsed": false
   },
   "outputs": [],
   "source": [
    "for index, row in deduped.iterrows():\n",
    "    record = hl_json_data[row['headline']]\n",
    "    if row['img'] not in record['img_urls']:\n",
    "        record['img_urls'].append(row['img'])\n",
    "    if row['date'] not in record['dates']:  \n",
    "        record['dates'].append(row['date'])\n",
    "    if row['img_file'] not in record['imgs']:\n",
    "        record['imgs'].append(row['img_file'])\n",
    "    if row['provider'] not in record['providers']:\n",
    "        record['providers'].append(row['provider'])\n",
    "    if row['source_class'] not in record['classifications']:\n",
    "        record['classifications'].append(row['source_class'])\n",
    "    if row['source'] not in record['sources']:\n",
    "        record['sources'].append(row['source'])\n",
    "    if row['final_link'] not in record['locations']:    \n",
    "        record['locations'].append(row['final_link'])"
   ]
  },
  {
   "cell_type": "code",
   "execution_count": 91,
   "metadata": {
    "collapsed": false,
    "scrolled": true
   },
   "outputs": [
    {
     "name": "stdout",
     "output_type": "stream",
     "text": [
      "20 Cool Moments From Joe Biden’s Time In Office  =  {'img_urls': ['https://console.brax-cdn.com/creatives/98c6400e-f2fc-4c28-8e00-6c45914e36d5/TB15_1b309a68a23702cb95e743cea5d60029.600x500.png'], 'dates': ['2017-03-27T12:59:09.279Z'], 'sources': ['http://tmz.com'], 'providers': ['taboola'], 'classifications': ['tabloid'], 'imgs': ['876aa5e83f6fb81a81908db3c02fdcc00d444000.png'], 'locations': ['http://scribol.com/a/news-and-politics/ways-joe-biden-made-vice-presidency-cool-again-americas-uncle/?utm_source=Taboola&utm_medium=CPC&utm_campaign=Joe_Biden_Cool_VP_US_Desktop&utm_content=tmz']}\n",
      "25 Pics Donald Trump Doesn't Want You To See  =  {'img_urls': ['http://cdn.taboolasyndication.com/libtrc/static/thumbnails/b13e719e4aff1daf7284c9bdb61e65a1.png'], 'dates': ['2017-03-27T12:59:13.038Z'], 'sources': ['http://tmz.com'], 'providers': ['taboola'], 'classifications': ['tabloid'], 'imgs': ['d3a3f2f50c84529c08bb8314ae3aa66280f0cbc7.png'], 'locations': ['http://detonate.com/pictures-that-trump-would-rather-keep-secret/?utm_source=8b4&utm_campaign=8b4_US_desktop_Trump_12_54f7_20160725_mm_3407&utm_term=tmz&utm_medium=cpc']}\n",
      "Do This Tonight to Make Fungus Disappear by Morning (Try Today)  =  {'img_urls': ['https://revcontent-p0.s3.amazonaws.com/content/images/1490017108.jpg', 'https://revcontent-p0.s3.amazonaws.com/content/images/1491743806.jpg', 'https://revcontent-p0.s3.amazonaws.com/content/images/1491743305.jpg'], 'dates': ['2017-03-27T12:59:15.114Z', '2017-03-27T12:59:16.920Z', '2017-03-28T05:08:24.588Z', '2017-03-28T05:08:25.939Z', '2017-04-11T12:47:25.298Z', '2017-07-04T14:03:38.203Z', '2017-07-04T14:03:38.680Z', '2017-07-04T14:03:39.098Z', '2017-07-04T14:03:39.535Z', '2017-07-04T14:03:40.034Z', '2017-07-05T04:05:58.389Z', '2017-07-05T04:05:58.903Z', '2017-07-05T04:05:59.421Z', '2017-07-05T04:05:59.882Z', '2017-07-05T04:06:00.396Z'], 'sources': ['http://worldstarhiphop.com/videos/', 'http://www.ibtimes.com/'], 'providers': ['revcontent'], 'classifications': ['tabloid', 'center'], 'imgs': ['e2bb63d58e09bae569a90f64de24c93a2d008e34.jpg', '0c628921539854b59c97995851be9ef8d1bdb696.jpg', '356b93a452abc42620956b0b72a29f25f15c33fa.jpg'], 'locations': ['http://japanesetoenailfunguscode.com/?aff_id=41345&subid=3c2i08hndnwt', 'http://japanesetoenailfunguscode.com/?aff_id=41345&subid=3clq0j7vog97', 'http://japanesetoenailfunguscode.com/?aff_id=41345&subid=355sv150j7ov', 'http://japanesetoenailfunguscode.com/?aff_id=41345&subid=3ke04pkkc34k', 'http://topadvice.website/301-ETW.SL-me/?voluumdata=eyJvZmZlciI6Imh0dHA6XC9cL3ZvbHV1bWhpdHMuY29tXC9nby5waHA/cz0yMTU4Nzc4Njc2IiwibmV4dFBhZ2UiOiIifQ==&s=2158778676', 'http://trends.revcontent.com/click.php?d=x7%2FQosVJ78PAIitL8tCajPcUh8Rc2SRaAbUDSPneni0gnlbfCkaGGR7azcwtsJMvQfzEaEFUx%2F47V04v6u4RrI%2FDZg%2F3za%2Be7PueAZNxh%2FzCDBhjyD%2BBVdaduiM23r1E1hal5ZF6DcOPNsTwVyGkweg1F%2BXaSc4rYEHIxIDkRfAfIM1Aj06JiILpLrSPbXepp1hq7iTyUr%2FsxUWRWtrQJiv54gcDT0RhlCZD04vJUcLmgmGyj1ZnMt7bLPsDgI1lvISdknrb5mbgrtzKkuW2kyAt%2BY3fWmZv%2BxhgkXE%2FPe97El%2FD2kpgL9pYspce8prOno9MBSa9vAIqByBeB2oS6lnUVCPONyGlWBmnJj4KCXF6G2f4kiBbFgMqLblQeE96%2BAGn2%2F%2FQRtoFCy662Q9dbMaOe4grCdp7J%2FUAUl76Ebt1WhLlH1kA9ZLPZdqJ9%2BVij40tv3QyP%2BkfoQIQg2f0gWGja0VGfkqarpSi%2FwHO8atdFlBgKGMdeCjqVMez8Xg1HA7LcG0sC2cTWJXhp2gsM%2BINOybrdANJN03fNI%2FLbaVH2A8xiLGDNCvl7nqC8o9P8v6Q5KUTwhkAXeHCtG58Jlu6ODd5fvrqgkD0iEPr3MG9fyRmeImL08ON8YTdqI0riTrMd51pyhpfc3DXW%2BxhyR0I7S7ZTBADb%2BnxNnt%2FsFdCpnuKOuF%2BZdNI2ldDICAatHqKjmIa1NyfEgDpGLTdQN9p%2B477CM0HPDiDC14OX9KGPoaQcBAWYM6DcM7lzegi6h1PPLT%2Bc4q893WEkPxyCC5fhkvcLK3DF2PL7YcUFzM%3D', 'http://trends.revcontent.com/click.php?d=oFL3JtTnzEUYufrfmBU8wXAK3sGRTM%2BJPH6qCbDE%2Fgi8NRt78nZ87fZK0WNXQNQsbt08Mi2xhW%2Bbnkno6CQTFWkkHKUyRBoZ8qXFNVlwQVx%2FAFQAOmfERiPZ7MYB2SMs6fGLZLLnNWjBtz%2FFGl54xKWLvs0lXiBySPZn2wgtHDwJGaSVwbOzLowxri26nWEAKqeq%2F29sQkZv0XWgXr9vPLdjK4Q6z0xmuVJn3ZZxT90GVKPOdkZJLvfEpSPU0QhFXVxpghh3SxZwSmEvRyt4hop3JD0uQD7shQCmk0INiySX%2FOn%2FZBOSeH9%2B6MTem5pnS%2FaxT36nUFuEu7zNlfWuXXB75%2FTpHwzi2OG9%2F7qC9s4CWARIk7ZWHHZhQ%2BtR0t%2BNTDOOf5ZIzvGFjKSDQdQAP5IcMeabf%2FgxF8ERq3X3uemqgkPed4Bn6oghLavkhKH7fK7%2FJyMBK3xLVJTsX9iwwigL42VLb9bIgq6MgkCgrJWoqxQjN7U7NVCXPEgXrdpaunv093r7dXC8Fp%2FUfEKVqpCMZBj%2BMbJW3oeMrV%2Fg9864OjOC4OvAZJ9u3JQnWEYqHr7fzd8vXK9wZzUnqtQArGrKiDGAmLIl15OOmpOFLd%2BBga4AX7su3DDNch94AawRXGVNmxqVo%2FqCmkjoT28cSv%2BS%2BpEb1cER19u%2FuFNFEty4mhS96pfYFqH9jVBpg4VNQrIrdCB8sV3WF5OX%2BzQF%2BCM536FZennU1WeNAJ4hXz7mv4j3Ep0A9f%2FBVU30YlWYuGokqvnhKHMhpD%2Fzr66%2B0nBPpiQEx7z8hsvKM8u9S2w%3D', 'http://trends.revcontent.com/click.php?d=Ud%2FHgIQC%2BjI0GSC0TKZxLbEw%2B7e1R59OFqlidFC8Y55k3pCPLh8Y8MRGsZNn%2BAueZ1%2F6ifYpBlnwNdlKqLykY%2BWmqGsIRkwFUNe71EY6mT7bKYtHX8Ttdx0YkWDJMsgwEjjVV21FjmOTfZZXNe4pVxNsOCrFK8P8N5IXOQKoxVj3qT8keOWT9F98786adtf4g0oQGwJYzYD4kD67g0eDYneXA1kaKWUkjh3pkiJYbbCxJatkJ0MXA6H1yu2G%2BO%2FRSnDy6Bg0DtkKOkR0HFf45GgLndVzZrzItPx%2FnBeoo85HSsxvTy%2BDIzicUpirDt1kLhAahXZbBjIH92UfeTFxmwY4Q37b7cm6P0KS%2F7MPqr1S7glBk8pGbYicnHGjDcq3%2BdNPG8pWK%2Fu0wM0xuCNBYiM6NysfKV487x5GEEP2MM6KJO2MNitdQN%2BRx3V0gy%2Fpx2RvlZJfIYh0pT%2FHs5B0jatOrxkr7iRPaeAbqkwSua1aL7RCJXMZcW9zcvDkLYVNZ%2FTndUFmTxGoM8L%2BbsuUW45gcqQ4BylpXw3CkF2WY0ds1iGAs8wjhYM9IQ48sT%2FES2yyokdYmuZdrlIoOYPJWpYRygr%2FiKQBrhKPSWdbvSFR1qb8AuZCujBcUBv3i2729vk9sX0FH9yJZXX1SsAbA%2FnlsMfmagFTIOfcIvjZvtSG71WxvJidWkvvR7NqN%2BaNw6Ui%2FR65DLkO85hXiC6DOrwCakPs25j6yq%2FW%2B%2FCiZ6UgeE7MrNh9tBYMXeLn6czRE520XhfHyASO%2FEYfLoIF%2FI4VA2JWsZLIxsVX9J8%2BkKQ%3D', 'http://trends.revcontent.com/click.php?d=b5qdGdmj08D2mk6gieqw4cAQTs27tbxdOw9g6WIEcuURoaMGYrI2GtO1b64XLKSD9MD1VSiZMSDLFo%2BYXWkeS%2FQBI930SB8Ich%2BAl6mpFpVCu0jWHp1Siobex2DP%2B%2F6llXROjwHHyab6MMnvyf2ZvW7oikuN149vgEAKAuZIAXaSZdRYYfXNRj9GM6Q%2FGa9l19TuZgdmPV679DAQ2b9AcaR17EZPykkEnYD16WWVrhjYxY3TFDf%2BP1GFXMxpOTWdCKHuOWn7dpckvO44SKDP%2FJ4MSMjQkTRYx0BYrWknmWJfMTr7FlEenrmerNFT2m4XHLlu5m3Wf1mE44kjVcjv%2B3aRUyJbWiq3m1ixiyATrNjDMXIVjWIURUJwuwyHRZshpAk33ouRcn3xyIXWUbLYQT%2BKBDJtmS9GMHKrUrA8Rn9RzWFpFQ804Rbkx5Yq%2FlkfS%2FEClerMlPMZCccprVnXoU16WGnpc1mhp8ZQTKCMVgJSyRt2%2FgB6I2%2F%2BG4I6Mkont0Ao3zuNf4ttBnYrBSLIhZxarqWoekEKXlT%2BMpxYFTw%2BNRl1Ow3ZFoq2uPF0SXLEsSkgsexu1zEzO3uyRmaJPmxB43eRXYG%2BehstgjSHSJdF%2FEJ0qiMiV8o%2BojHDA9WHKSdqVOfG5qR6bIsBFrG%2FFAoh0c3lKT9RDrUMLjDHIhIrzH9YLTZOFn%2BaM5SJekVZxik7okArlG%2B03qEqgZO7gtOyHHYoF5WGoJRiUR6WodntUIdZ64%2BIyOOxwu9qGxboTrT0bUxCoiuG5B%2FVY96ANg%3D%3D', 'http://trends.revcontent.com/click.php?d=At17qHdUIXeTti4sK7tv%2FmrbyXYwjQKd7RE3FvW9CrkA63gC%2BsL9nYEaWF4aVF0FvADDkZAVv08eVer%2BYWQzP%2BzF66QM2BQhICZfC2kRiE7nmDgqd7AGP9Hw%2BeePRzqzXxKyGFTAIuijV8JrD3QtViCc79v43GFjHJ3LYMl%2F8FApF7OK%2B%2BWGkDjgMXMPqea%2Bqk7jQGuqqMg39TCpjN0zxRLMuziPz0Rg4oUJin8H8a%2FRQv2bhGy0iPJJXJ0kAjDGOsITL88xDO1rYblPb9rzSF9N7nLpjZlLuz0PPMsC4q8RxiGQ5JKhxIHBaU9qGuKkWRpC%2F4mXuXX8st6Ap99IXXwsTPgXugF%2BIh8lQ%2BOQDblYX01MeMD2GvCOS6t7a9WaIXBTM3dhzv2UOBEGiN40sdAmfUP7s0cg21iecRvMnq8nqbFBKrBFcKDrQFPene8M9BYa7OPG8Twd9Ht7pripWfbykxu%2BhNC2mViZcFP%2FhQz10Kkrq5lkvwyfEdzuHPILo4MJocjtKvH1C1HMlEA6TQJAJwQyO8K3KILSKVqQAQIgqkh7zaCRo75rzeo9qY7ArW%2FavZBbM08GzCj%2B%2Fc6zhsvaCjvlwNAvwNkKBPO4UAQSwY3TVvSzahqk9ZMkciGnQLRlDsWcbanLDsqqbG2EV4R%2Bl5c%2FGRf7E0SobESTvn6vTm49KP%2F6CcbwbY9ijYRDjJrVkDuTHRp9A8DqO4i1aG9MSUKXDxK%2FOy%2FZJlfAQ50tdz7oCKUEjLLMHGtRUF1RQPN1GvpPN07CDdoGnFaVYw%3D%3D', 'http://trends.revcontent.com/click.php?d=H7p9jvqg8Y0rPriUusTzzIkG7hn23JZEoKBAiTFioIIXdxfCWPvLrzfSdQ1WeuHPvSwyoQUxAsR4dc5PejgiGnoZU0du3Xoy1lR5E7jcy7EJYbVMZeWx90%2B%2B6o2SkG9SZcFmqRIKVExlGtaa5G7OXpMBequ%2FYY0NYllRPQ%2FtV5%2ByY5aKE1cRCbUr4%2Bn5jQEoYOKZfeGcCgaDwojxwZ7MW6V7vYe0tKlHSd1ABG57tilNjwSho3W2fLBbVR9oLuRFKrlxSGTeGSF7lXe%2BUHtKZDtAyWTCBUW0foFKzde9Wv4ejPaRMUU7DgAio%2Bzey0YTj%2B%2BIc4GEw5aTFU9u8UHxcVOyDFqItlGGrpMo9a9qZAOxSPW%2FnfDmJ70yaBesd%2FeUiL2KBjyrpUbkqtAd0oVpwmkzu73SojqCeuo3gTJZtRnunE4cXNVEPmk9wiuSt3miUOAIXwtR5%2BJeuUeJxoO1upv1K0M%2FC%2F4ERdpV5%2FKYb1u%2BdCabqYbgqL1Ey%2F6ouMsaT8NM9UTM9oJgnorIzQSHUDVeao8n4FTid3xm8derPFI8nRsMgArbzSbOfo1x2D2x27V6HoD4h8O4HzcV%2BWejsD%2FzOFBYjW%2FVFJU9x5EU5%2Fzm0wT6ckNT3mH6eOZrClgUFd5AneySSSD%2Bau29NIuarb91xgvVylFBtRdSqYl7Jl5pN0BtTOtoCwTBnQmo50DWsLFReYwObo8p%2BmMYsrQLEBhcvEkqSVXFs9uu9hnHzCFAKO2AZO61tmScf64eYR5T97Fg16ilyjVQOpa4gehd3P%2BZBY9Axph%2BTc2lxh1oBAc%3D', 'http://trends.revcontent.com/click.php?d=k93fr5s6%2B9BTtZsxe%2FGhrSj5bBYkmji%2FO%2FkcXN6qyNwROVcuMZHXA8UQrIS7GeDmVtKvpbQNujTBJzsWdz%2BO01VNxa%2FRVF2SXsncjMjHvNKElb5KNo1Zg2gf71aXqU3l68%2FFqCnJIRWNFnXQRg94igBgm%2B2lJqzrsErPUH%2BB4G5aYWTpencZqKwB0yuuHfwBw7hNrOI0VB6%2BCaYORLokQbZE7Fkw%2BarOQz94DaLMF5%2BO%2FAIKKVuEJIvNukoYwyX1ZylZLM8C%2FsBJrjTHaLuX5AnsWcLGFiAG2g4XiKaowm%2F2HbF00xoaL36p7FsWY0qitqcMG34E7LBUWV%2BLr6GPvoNgglItEjH0InL6c%2FKcBReQtyovQGovRS8nPprtVMu197LTvuNspjA5CCRC9qlsdeDgZ1qC18Ymi8wniAKzBmBNsys475IDkKRImvYq59f3fwJKO3u1V2MLhOIC%2BfKoMIttOqzt2N6LUX04SbEW6nehdMDKUwsj6aqF2l8QjrRWGE8yedY1jVQn1J9t3STYM1zkd4wGBO3NML2kzAmKdoK7rfzIubd0RcachqaWOuIcgnL6rdNHBJE%2FyAJQRWODshZoLwi%2F0j0f3ywqgD%2BtPiNBtcpUSyEGRNQrgsh7j6bQ9Nnib3bqC2bsncg9%2F9DXIGuWkpER2%2BAEzRjWrNKrpXkGQPeT3SL70zzFlRRj2LKmTptU0KpX9Ade3OgOnTxM%2B0bHYocBhgcumHr2xHM9aIvJC0myH68fwda9E5dTXooyZPwc2E0kyc%2FxKMxzcjeoSTFbRocgsm7bwPzIFVq71XA%3D', 'http://trends.revcontent.com/click.php?d=D7zVhol0pjaqu0QuKSDNf4tzwdp%2FAgTXGJLJieK2e39fGbQv8NxMNDHmRLR1c0WlUwJ1S293lwKpnVRjOs66UFs9VTJasbuGHThLm1CKKe7WEnIMHwkQspXlXZgRtrXTxaISRnYnZASyJWSSvwfA5dzyWgOlrNK%2BTB1a95fpOKCsvBEZ4zC2UPVyP%2FoIXgqs6Sx5%2BCLjmWJR0TDFFQ85M9DL49tPjcAMWdj6MCCi1MmoM4XCTQjauySRkETmTBkM8ep12ZQdEfKilq7qxwsOHiVHAXcjnJwKkqNedn0K2mxT1mfhwNXjJhNFrUsqRNy7A41oesEIeVIrv9rPQ4Tp3jOMqtZN81KYjnxKOaj58jQrOn9J68KzWrynOz1lGDljI%2FqOU%2Fp8hpBHLs8zVe6Vw48DFQz8e2kN3jefoMLts4GDK19PqRHrt5HPmfHQiRaJboNsj%2F9%2B1l0XgZZXG192RPcmpTuSkI0nlPsCpDUhIfENp%2F63JO7%2FUGP8V4eG84i2MeLJzNIyZioG%2FsRmilRWQrwf%2F7KOb2iL04TdhkKkQI647VIAy12guVlxJNPWkINQYfdliaAgEO8%2FMmQub8x8dacFJmrOPaczsJqKMb7GIBNhTkaqvSi7vaOJ7XsXmc%2FFyIljE1d5BiuO1JDg%2B1%2BD%2BiSJhjZnlCC6FJ81HYmTvbykhP2uU3EJKx%2B5MrCa%2B5ZdXyBGOHkI6H9ANjTxVA1XYy0rXeq4%2FyxJbr2OWfv5JjXMOs4zZQtsYZgJx4NglqnCptaU5ToR1xATnHrcNjktfwxxr831AIX7Ae%2Ba8hL4e7c%3D', 'http://trends.revcontent.com/click.php?d=llkLgynpMSuoHPGQYCk5IeOyAOSTv7I1PwhbKHT42YJ5D2N1E8UUtiL4iOlZJ6db%2B97lsGuZrdSG4LXEF2vRPBMbDtk88%2FlLMmcs2cP2nxRmCoR31Xh%2F4hlCbEp%2B8pkQl1HfrPDKg3jZnS%2BeB1xogko%2Be3HOu43zaSq5IFQguexGkl686qBGFPQTPCO%2B03RE0kDZQaPgz%2ByUALkmEe9odQZt7AkKUsI%2Fjpa7bl%2BltvAoXcngsrWdbM4kZZz%2FoTQAgoP6mXxla11MuPIQHxK1L0Xbmvyv0FraRUOpSidH2xTAKcKO45UWCw9Pv9eMZ8pHl9y0U8v7B55kaZ3kQTYjpDAhl2ZZ5yZJKARUKwPoW6R9tlskBXeHQ6hRMS9x2DWUlTUC2%2FnRmrInRSJ5ShpX9e1JgLqkSXX2Ma34ZH5V5VOKxuYs0%2FKpSZ5FhmwT762%2B%2Foi0eTXBUnfBMvvJ8MW%2FIa%2Fjo0sWM4nMZONImcRB9WfU2fzVddocxhDeDFGT75GpDubzu7RnXXRs2SKV9QfssoXI2BacrcfVyhujMGiX3A3yiHkPQ96eBeN6S0xaSPEF9Nsqg9vMPGfcQ%2B98IiNGxweJuTWK8FCMeXvznCQQzeZ2d5XHHxtLXFKJrMm7o9w6VtuIAZLjM%2BA9SOO4Bz6e8PygcMkbY%2F2tp3JKFKMYznLQum%2BuNjT3YwMWyiTDinnyuXgMPQ%2BkXM46r4cGCJ4fq87WzSIoUgSGKs%2F360oLV9UyuBNeuWgmuCugPQGT92tRHxntw3bnmVDMPChnVCl%2B9gOv%2BDS7roxOXVjrY7woWjE%3D', 'http://trends.revcontent.com/click.php?d=VpyJ0dMuxKyTm4JrCI9q7xrUyZt6E7QHaLSPji6QkIE7FHCh9GSglnKawc7mzVhouPTQMS3sBprsZiVWlC%2Bk3%2BKkQUUKVDwIWYqTt5QSVRJkoleZWvQniF%2FiTkvjz9d9fsqLyrinoJdmapt8w3eAP%2BinP70yOec60KjE0rf8DjzgtMKowU36vdAESiwXM3%2B49lAkX30aHvJrle3qDo5mA2Z7Rgovjckqlq8fqy%2FXkHfHM7O0RCO00tBtLLEgYKpXeIMJPDpbQcVElaDH0YdcSNoIZYYbXPuhsa3Z%2FxTDOa4hYvY5HZjOUs0ziSHIEAgR7tjcRLeLVwZ5XKPF0B%2F7R2DYQPp9vCoUWKLWAn0Cf22CtBNljHAggGRfStQSApKw5G0QGRgEXh6Jo9KPGc%2F%2FOXvOq9wUhF5QqKRut9PyuT62oBOP4BEXtqACKG1bsjK2tqoVN%2BOawBP3W5RP1OzHHVrItquNeAU%2B%2BbyS9oh2Tc5W7fDTBykFACynvZYVT8qhnJegpWI1NxLDn%2BxFEPnC%2F1njKsijDxwZiN66smEVRBV9Qwe8Acq5GhxhzF7%2BWCNZGdFx7i3U%2BdxmSYHcpNT6%2F8NgqPkZqlsxQ9daa%2FMWBVvxUjr7spIgqaIFrYwSi0H1T7LqoHkfhKzgJRbKYFzQjg%2Bcbgaof5ZxQMReiFhMvQtfhGYJietI3Jhf6iuAB0nEEVEFaz78P%2B59heyhGMthJFxzK%2BcFXXINq8ORAVs5jaJyZq%2BZS3XQ1CcEpstJ6fQvBLrZephQ4iPaBf%2FTOJiAQ4ZlslqjILYC4FAieHC3hsU%3D']}\n",
      "Here's What New Dental Implants Should Cost You - View Pricing & Dentist Info  =  {'img_urls': ['https://revcontent-p0.s3.amazonaws.com/content/images/1489682572.jpg'], 'dates': ['2017-03-27T12:59:15.237Z', '2017-03-27T12:59:17.051Z'], 'sources': ['http://worldstarhiphop.com/videos/'], 'providers': ['revcontent'], 'classifications': ['tabloid'], 'imgs': ['f70f91d2ebf37e35480fe4f689477406adf9243e.jpg'], 'locations': ['http://gaindentalfixdeals.com/?affid=1016&s1=10949&s2=1801868%7C239864%7Cworldstarhiphop.com', 'http://getdentaltoothfixdeals.com/?affid=1016&s1=10949&s2=1801868%7C239864%7Cworldstarhiphop.com']}\n",
      "Michael Jordan Has Pretty Much Given Up on His Son, Here's Why  =  {'img_urls': ['https://revcontent-p0.s3.amazonaws.com/content/images/1486415171.jpg'], 'dates': ['2017-03-27T12:59:15.614Z', '2017-03-27T12:59:17.480Z', '2017-04-29T04:22:47.966Z', '2017-05-15T10:55:38.925Z', '2017-05-15T10:55:39.281Z', '2017-05-15T10:55:39.952Z', '2017-05-15T10:55:40.263Z'], 'sources': ['http://worldstarhiphop.com/videos/'], 'providers': ['revcontent'], 'classifications': ['tabloid'], 'imgs': ['ab914b86682795c6d6624707b22b06f88f0e551a.jpg'], 'locations': ['http://trends.revcontent.com/click.php?d=vJdwplKu0pUY0G8mZgW7%2BfkWm%2F8rSKsQQkXQbHQYBgW3pRycVsQRgTsyi3%2FtsV6I4lap%2BjX9h1%2BEbLcUlqTQMVSNfHQQkbUicfWHb7dw91dD0inXxnglXt10FAQWZjo1Larx5KRm92nP9arlHHZz%2BdyE9Tn5guObB8L%2FJp0Dt57DtRF%2Bfok8%2BfLSpJtcjLFjO1r35UKJAuSO4bmpYbB109TRS1lWZHUtRsO0N6DTib1O4c7Cn7iEWlC7iWej6AASi16lKmBEyLqQYrzxjEwaTbWZuqglYDO6XYRqG%2FyyuQ%2BPUcik74RbX%2BuOIkungdlYncPD0dXrvhTRETfRTPb8yoZBMt7o2VPDp0qHQXHsUiJlZGHe3MWaSTXEQuYxs2U1nLhyS8NlxIo3TAJi41W2ko8JSm2oMSb48e1EVcCuKL9Ep5cB4IcwcEyc6tJvwJRH8GMfuSYVHLMatxlsKgRlvo9snwlOIEY95fOZrXoO9B84ebMGPeUfFAuDmiK8mklUF%2FsMXmkh7sPSD7uuZyVvRRPTVC%2FfaPjZuIhk9o%2FsETyg9v7kvxHi%2FUZ%2FcN%2F6ujf%2BD5QZ61baXRElk8xvSFTDpqLW4lBTNTaJ19kKloFzPuO6dHqkLOPactBW06HeOQp8%2B5rt4xTIg5%2Bkc9ndm8mTmfpkP1hP3TeEa%2F%2FjxYV1CkXG69pOW5Mbp3b%2F03%2Fhp78P1bp1%2BtlhCORKjyGSvWfl2YTMg4bnUQddHrgw9BX0diQ4ZnuQwB6Lt7oUADBf7mhl', 'http://trends.revcontent.com/click.php?d=Bh%2F%2BvKNq0Yge75HL7eZKGEBZFXmDwUSro%2FYm%2B7dIn8ge57dHmw6JOzhz5BLk%2BlyWfl5DnJgcNB9tgTW4AabntGxJSZXpRSux0HYbxrK6BXX%2FhS6B%2BJ8RTkH9bSrvgb5THbidoOPo7HaY7Oak7vZdnRbRWJnm56YHPwQ%2Fm8dE2gm00rz1qdsEqrWHzVL3zTWuCp9imlBcXnMgCVuC2NbQl2pUrPghg3%2B8S%2BvGZzh71UUl51V8et0Ch6OemcQ1xs4%2FIKymJddu2XWF6yfqRQWXBGqUXUBXCjB9AB4J0DQfcwsMtrJX7lBPFQ1zq4ngC5MplmT5jt8GXDKx%2BP2sfPRnrc5NwLqKp93wXhKM24nR%2FUQE2b0iv7ojNe06yS7bGq4yRQmymVpombe9CMCkr3YIiGAPGIvMRmIJiDGLDCTFluqk39jiyYfJKB2guhWvPAqe7Yy%2Fo9r0fZxPsERR0DN0GtLqaRyIrR6GPavWquPWv4%2F1TJJxcbDpBcwy8A4TWYvatIjMYQUoEO24L6pd9nCEVKB3cw8BmxX0PFD4bHfCrh3CbyZmR41R9jJV6y%2FuOK3cRIig2s6Vtt8WtLVtvrXi1gm5WstuEXeaYT9z8vzk5OWn7JXFr%2BdAXjarDidQh9oi6pCeJtKgeqqmshOPA3fEF64cDkj1DsRksu8pJ5mazI9Gf5w9VykJnA87JVbg8LJFjSrqE9wOtMWyUkENOxrCNeHVU8s78LdMLMPjRZE8%2FuU5KSm85e28fW2%2FXTFVRzDT', 'http://trends.revcontent.com/click.php?d=R%2FMznJavHHk6hqB%2FW8DTG%2Fqoa5q7ipZx8O4qu6LSZUqEstCK4gNm%2BdUpwvX1yhqnrmTgZRSrbRf3ranJwsVstbshJvAOU6SKqJgqUwEJ4Y0RxhDO5Z%2Baxr5J%2B9SdPcipDFAsjIFjhCHkHyZL4QeKtuT4AYFsLkFHX1HKhHnhjCWJD0TZBpolzPVxaJ4mFhc0iYvISyHbeKMUyGM8i3iJc3pxaSJOVqmBFl%2BzJwHGnSF6UoXQy1HeHPsEa0PQ192X5bwb63CC6YAQIIKawp0HL%2FanYK7RlopuQ2RxuExb7W%2BWjYdxlUQfAU2Bf%2FFk9jhk58VCCoaGydZvxPFUuvgcudDAp3ALTYRQFNW8YqJlgTkDKxuXC%2FRyU0vHU%2Bv%2BxBFxLkKb6x%2F2V352WKOXGeIvXBd1NHKHQ%2BleUOLuTOcHVQ%2BWZCx6NLcd4jhh69Oj%2F4TLSMsSVgw0imAXXW1ismZc3Q0LodL3NO5%2BMh26EXbBjkakhxhjKEwBy5Z2mh9uAI6vZrgCf6cdjBUmkedDZ%2FwN%2FIWEsTgcSb0Lf3N1Yu%2FPL4ztOjaPoK85iCN0tmt5CNN%2FHu%2BeajrsrsEhNw7Th1qKmBWyK9T4AwC%2FoM4rYN5eyjLEiyqsk404oGVxPH6PzXRhoD%2BpTZZpFtBM5m0vpVGY%2FeloXNgGpiiXMZ1%2BqgJ0ZI0RteyS9c%2FcEBgkVhuQI5EaA1%2Bg%2BH518ZotG%2BHtzUt9E2ZLmziLlbRxlEdl1dYKIB0fyn%2Blu20YZCNJayCfzgc5XgOKYLTXZPhLkGBgvb0HL9zJ9c7xs62XPFXVIjeaV3U%3D', 'http://trends.revcontent.com/click.php?d=zT7csNf77I2ykPB6J5zpnBow7C0%2FgdQO%2FFJZHtHFxUROTLZAwaNhs5xukII%2FsS%2BkQTiX6YBklaN8GYePzEF%2Bytyh1TAp%2FJaz5S%2BBRq92tyA2GXS4iKVxOlPfGeQ6xw1w8IA07RXrr8AxL9ePw2WfP2DEiAzCdFmZU%2BdyZlkx9UoF44Tr0%2B25zrnwDBugZY%2FE2I8SjVi1E%2BxDOKV%2BiFMNjyj7GSkb7xB7ZB9t9JM46MOraK1AL4IKnVZJh8GATF6jot9x4%2FDvnjbGN84j3BfK5ymQC3q0%2BoQVF0Tcr2F7w%2FCZNGbhNERPVbWz3W0XG9cM0C1X6QB0Nx2YmTKOlg0v6OuILJxlB1YPUP59%2FoPcsHjcS0SHMunMXqE%2B1ZTOQItbOkBru%2Fe2oLm1Wknzc0%2BcELsFgKcd0PZ26zrzK59vTfDy1mku3sbmZCv7nHIwga3lX3igUapt%2Bfp65NCFhyODBCRLjxVtMRcc25N5lt9yYZj10Cv5SPY3CcowmR46ExaVFbWuWwVVGD%2FrG1TUXETKiEJXWGmY%2FtXVF8r%2FQrLz3RnpVbJEK7BYsgH7jDlosuoUX6bzBVyNGDwd8vLPlpRdI52qMW9ZfPVNEQkOYc97b4gE4zmG4PNnaVgKnE4uUBFnfxrFRpUgRl7JGnrKFMpHGJCoHgSr5ByfvRw6udPyDDP00RNHzqmwYnWS1WQaISUfUE5cZ39j4RdqFG4ulrp42y%2BQfMJAtRJw%2B7YHRFU%2Fr3PPMusmJnuOKRh1qxNjn%2F2I0ePh00sekak73PJH8QHLzLP%2FXvalFM3XKsNW%2F6N8tk0%3D', 'http://trends.revcontent.com/click.php?d=zEhzqSroRD193mvTp8qDeQ78%2BC5d%2Bt95UYzMige2O7ICjvDgETAoQDoJynnLbc66YwSU9DtjcNOK4uDi3kog3qt09Q%2BDTQ%2BaLqIIOTYub2cjlwOSvk6DoPdxZyoqvqvgOI7Ebt4tM5WDK%2B7ASYWHmW1d19eyB68MjkCm%2BFfRJrL9TVpOsuUNdB68%2F62vNHvTPvzrS9gSTfRytI55EDCXFgqLiYWUl2PQGB50sWyNotDCJmMe%2BXF2zVtqU6z%2Fkmli%2BThB7Yoe1RRxwLwDevhg0Z47vQWgHeDO%2FXYAjnrRikauG9apugaS%2Bg4SiEn9DSXwQMbz6krHAPuFcor2E%2BkENd2VXCrR1%2FaGWHJCsLHXfK5PYrIV09Ay2cURGIbahPjmDLNN%2B7vwssPjOEhibj9g8pOpDCQe1Cg1aTcmEafs9oBH%2FzGIRk31eJA%2FTYVWlTxFL336%2FyMK6sbTeug1Ek04Vbr05XNmQhRhd3L884xd7OiJTFsXhXIjPt7RgH0s5YQad%2Fbn%2F6kztu1A09wZUXAaI2k1uZ0nceFi844mTe68e528EMUSUsvnx7yacN0U4XA58%2BjG3EsGm507%2Fonjda1jzG%2BCF3tfQ%2BmtQq%2BNhVXwEQ9XGwZElfzAKiie2l7lBbxonGmb8w4WITs%2FRmuxqwCXxpg0A43XGRDi1KfhJqEvMkqOWIQGUqmOqbqL5bMCT%2FgoYnKxH96FqlNkAbMODgpA7TgQCNxkeLeqj7pYui5NgNP9Yyc%2FVYnB8YOgG1BtLtdqcAeS9u2oAzmHGjpwg%2BCW%2FxNMV8C8ZDrZdbZe3BIlZiE%3D', 'http://trends.revcontent.com/click.php?d=yhgcZoUtLD2nk6vdesk71n%2F1XgC0cbYmAOE9WH9Ui1FKFhvAy5wMaM2lOv8bjt8vlg8tBas7BGZfuoW%2BYYJ%2Bd8ome7RyySnzohklQ2ZxS%2BHLu0J%2B6tB95wRKyu%2BuV9%2F1I7U6vi8VbaFy8KKWGmQ4SmNXtRwAznmv%2Bh1B4Xgy6oKTWnpOt1LhQ85ukw7ckzfTKQXuxC%2FaUUDfhc6MRIcNmOQfYTURKv%2FYDV46B12qxma28MY1O2CdopxidA6llOM%2FyWDLHiftvjlTkRhJu1lATqdhSDU2NWK%2Fs7Wz933mgAreM5DWRyLUFyJm6Hg2ZS1s2BQCsLcDisx5ffKXdCbejydeIk6YkUut3kj%2BUfLL8GJ6PwBjNb3JTYVRZ%2BBzdgpdwZXWRMOSM5JK%2FcDryya5GpJHYIbU6HUXs6tbyEP6gMxfXveJvvHQ553PQg5CI8b07BBnb6ebs6DfWTkjCJXztaB3rfFuEyR2stgcHDKayoMuEOcxHEP1WNXOycgtTAuKqsFooJj%2BItYELkUGPAXzpBTwnSCmIV%2B06x02OsmzyepKLT3mvB4vm6w6RYb%2BTYlCY6CwCisCW3f0U%2BbnbQ%2BkfpwIpV6IudYfo%2F5zbCWj1eLqJXnnGdD67Q%2FL4CLjpcHiL1OudHGgOtGlToq82ovH8zBIZAJ8qFHdXUiYRnzCBDqL7qRXSDWMEIW%2FJScgqOqJ%2FLS18EYFMZJwYVCFoI03pw%2BhLS73cg5jFJQ%2BAlYGpo7AMDFP8dvkxJ0sXp93bDyaTrIphOLmeBr1EmpwE8nTN94JST2mghn0Ze1MCYXF%2Bzw%3D', 'http://trends.revcontent.com/click.php?d=7J0uNuYGBo92nwrA0hFHhWhYZEIHeRFos5DOeIZZNLepawY1CcdFLyUeD2LZmX5kx3lQ3iYyT4sqCjAReCNPdYTOCO1omwDWoSSltVzfX5S0%2FSXj%2F5SmuU%2Fv1H3aIy8Sbt%2BW9jVyQToUOfnxOKdQ92%2FreSiycG2PLCZXZOhCt%2FCMLXqkoOl8x3z3D4BNifXuL5UAsTMHKHbvgt1S3Bu66h55oQLGVCAv9nYoSBms%2FQZdo5HlMVO7VQl9IDfcnUsPz0E%2FG7zN7xs5Y6xb9k%2FAj4qOrc2YJj1w907pjSBfMhct0hX471jpEAyIfF7MMVLj%2FVSHmNBWcrqHFaE6TCCVkKFowkglACXJCpEkzVwaOf%2FsmyVvwKa0FY9D7qbjwWI4k6IwV8OSxDBmXSdVemzjHuFH5waovG%2ByHeiYPR656BNDCTW80CiQQXag1Rp36hb8hG%2FDwP34T46st4wQw73%2F6%2B40Of7OWg7W%2FrTWbt0pyuL5FRbWMYhbJOyCCPeJ6kjpoBiEbQLnUx7%2BObAXmVX1IwKvrqYzQnzulqXPycLjRo%2FyfzqmzvspFSnbNAIfy8br6PGPbBUVZDdLCAnstgPwY0SW85cIbaYL8cTApQeLKz9yNc6TdmrHpHrXJIEcuyaPQZm%2BxyGPuUcxFi4HQyxelv6C3WpYmhsOyqsO%2F9MxuBiU9lvOww5CkapbNKoGm2GEKE82JhuUHujCmgwlfSzw8%2BDn9csKkm6k7zyE7vGL3qAQcl2ZhJs%2FM1fw%2B%2BscKICf2Kwqz8lwmzkfAFQr2SHBPFJheZan9a4HvT4P%2BC%2FIBZQ%3D']}\n"
     ]
    }
   ],
   "source": [
    "for i in list(hl_json_data.keys())[0:5]:\n",
    "    print(i, \" = \" ,hl_json_data[i])"
   ]
  },
  {
   "cell_type": "code",
   "execution_count": 92,
   "metadata": {
    "collapsed": true
   },
   "outputs": [],
   "source": [
    "def to_json_file(json_data, prefix):\n",
    "    filename = \"../data/out/{}_grouped_data.json\".format(prefix)\n",
    "    with open(filename, 'w') as outfile:\n",
    "        json.dump(json_data, outfile, indent=4)"
   ]
  },
  {
   "cell_type": "code",
   "execution_count": 93,
   "metadata": {
    "collapsed": false
   },
   "outputs": [],
   "source": [
    "to_json_file(img_json_data, \"images\")"
   ]
  },
  {
   "cell_type": "code",
   "execution_count": 94,
   "metadata": {
    "collapsed": true
   },
   "outputs": [],
   "source": [
    "to_json_file(hl_json_data, \"headlines\")"
   ]
  }
 ],
 "metadata": {
  "kernelspec": {
   "display_name": "Python 3",
   "language": "python",
   "name": "python3"
  },
  "language_info": {
   "codemirror_mode": {
    "name": "ipython",
    "version": 3
   },
   "file_extension": ".py",
   "mimetype": "text/x-python",
   "name": "python",
   "nbconvert_exporter": "python",
   "pygments_lexer": "ipython3",
   "version": "3.6.0"
  }
 },
 "nbformat": 4,
 "nbformat_minor": 1
}
