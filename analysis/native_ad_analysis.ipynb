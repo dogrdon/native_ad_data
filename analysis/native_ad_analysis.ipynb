{
 "cells": [
  {
   "cell_type": "code",
   "execution_count": 1,
   "metadata": {
    "collapsed": true
   },
   "outputs": [],
   "source": [
    "import pandas as pd\n",
    "from datetime import datetime\n",
    "import matplotlib.pyplot as plt\n",
    "from IPython.core.display import display, HTML\n",
    "import re\n",
    "from urllib.parse import urlparse"
   ]
  },
  {
   "cell_type": "code",
   "execution_count": 2,
   "metadata": {
    "collapsed": true
   },
   "outputs": [],
   "source": [
    "data = pd.read_csv('../data/in/native_ad_data.csv')"
   ]
  },
  {
   "cell_type": "markdown",
   "metadata": {},
   "source": [
    "The one's from zergnet all have some newlines we need to get rid of and they appear to have concatenated the headline with the provider. So let's clean those up."
   ]
  },
  {
   "cell_type": "code",
   "execution_count": 3,
   "metadata": {
    "collapsed": false
   },
   "outputs": [
    {
     "data": {
      "text/html": [
       "<div>\n",
       "<table border=\"1\" class=\"dataframe\">\n",
       "  <thead>\n",
       "    <tr style=\"text-align: right;\">\n",
       "      <th></th>\n",
       "      <th>_id</th>\n",
       "      <th>headline</th>\n",
       "      <th>link</th>\n",
       "      <th>img</th>\n",
       "      <th>provider</th>\n",
       "      <th>source</th>\n",
       "      <th>img_file</th>\n",
       "      <th>date</th>\n",
       "      <th>final_link</th>\n",
       "      <th>orig_article</th>\n",
       "    </tr>\n",
       "  </thead>\n",
       "  <tbody>\n",
       "    <tr>\n",
       "      <th>0</th>\n",
       "      <td>ObjectId(58d90ce706e10d04f7e1b3d8)</td>\n",
       "      <td>20 Cool Moments From Joe Biden’s Time In Office</td>\n",
       "      <td>http://scribol.com/a/news-and-politics/ways-jo...</td>\n",
       "      <td>https://console.brax-cdn.com/creatives/98c6400...</td>\n",
       "      <td>taboola</td>\n",
       "      <td>http://tmz.com</td>\n",
       "      <td>./imgs/876aa5e83f6fb81a81908db3c02fdcc00d44400...</td>\n",
       "      <td>2017-03-27T12:59:09.279Z</td>\n",
       "      <td>http://scribol.com/a/news-and-politics/ways-jo...</td>\n",
       "      <td>NaN</td>\n",
       "    </tr>\n",
       "    <tr>\n",
       "      <th>1</th>\n",
       "      <td>ObjectId(58d90ce706e10d04f7e1b3d9)</td>\n",
       "      <td>Troubled News Anchor Does The Unthinkable On Air</td>\n",
       "      <td>http://www.trend-chaser.com/entertainment/the-...</td>\n",
       "      <td>https://console.brax-cdn.com/creatives/b86bbc0...</td>\n",
       "      <td>taboola</td>\n",
       "      <td>http://tmz.com</td>\n",
       "      <td>./imgs/bab1037467f1385cd865c48029db808b03a151d...</td>\n",
       "      <td>2017-03-27T12:59:09.819Z</td>\n",
       "      <td>http://www.trend-chaser.com/entertainment/the-...</td>\n",
       "      <td>NaN</td>\n",
       "    </tr>\n",
       "    <tr>\n",
       "      <th>2</th>\n",
       "      <td>ObjectId(58d90ce706e10d04f7e1b3da)</td>\n",
       "      <td>It's Almost Hard To Fathom What He look's Like...</td>\n",
       "      <td>http://www.journalistate.com/popular/big-holly...</td>\n",
       "      <td>http://cdn.taboolasyndication.com/libtrc/stati...</td>\n",
       "      <td>taboola</td>\n",
       "      <td>http://tmz.com</td>\n",
       "      <td>./imgs/feeb5be5a9758fcca8cef21b6fb842ccc839476...</td>\n",
       "      <td>2017-03-27T12:59:10.750Z</td>\n",
       "      <td>http://www.journalistate.com/popular/big-holly...</td>\n",
       "      <td>NaN</td>\n",
       "    </tr>\n",
       "    <tr>\n",
       "      <th>3</th>\n",
       "      <td>ObjectId(58d90ce706e10d04f7e1b3db)</td>\n",
       "      <td>Troubled News Anchor Does The Unthinkable On Air</td>\n",
       "      <td>http://www.trend-chaser.com/entertainment/the-...</td>\n",
       "      <td>https://console.brax-cdn.com/creatives/b86bbc0...</td>\n",
       "      <td>taboola</td>\n",
       "      <td>http://tmz.com</td>\n",
       "      <td>./imgs/bab1037467f1385cd865c48029db808b03a151d...</td>\n",
       "      <td>2017-03-27T12:59:11.430Z</td>\n",
       "      <td>http://www.trend-chaser.com/entertainment/the-...</td>\n",
       "      <td>NaN</td>\n",
       "    </tr>\n",
       "    <tr>\n",
       "      <th>4</th>\n",
       "      <td>ObjectId(58d90ce706e10d04f7e1b3dc)</td>\n",
       "      <td>Try NOT Gasp When You See Who Queen Latifah Is...</td>\n",
       "      <td>http://zcretuzft.iflmylife.com/entertainment/o...</td>\n",
       "      <td>http://cdn.taboolasyndication.com/libtrc/stati...</td>\n",
       "      <td>taboola</td>\n",
       "      <td>http://tmz.com</td>\n",
       "      <td>./imgs/d75401b962746864063b51f164633ffeb93931d...</td>\n",
       "      <td>2017-03-27T12:59:11.510Z</td>\n",
       "      <td>http://www.iflmylife.com/entertainment/other-h...</td>\n",
       "      <td>NaN</td>\n",
       "    </tr>\n",
       "  </tbody>\n",
       "</table>\n",
       "</div>"
      ],
      "text/plain": [
       "                                  _id  \\\n",
       "0  ObjectId(58d90ce706e10d04f7e1b3d8)   \n",
       "1  ObjectId(58d90ce706e10d04f7e1b3d9)   \n",
       "2  ObjectId(58d90ce706e10d04f7e1b3da)   \n",
       "3  ObjectId(58d90ce706e10d04f7e1b3db)   \n",
       "4  ObjectId(58d90ce706e10d04f7e1b3dc)   \n",
       "\n",
       "                                            headline  \\\n",
       "0    20 Cool Moments From Joe Biden’s Time In Office   \n",
       "1   Troubled News Anchor Does The Unthinkable On Air   \n",
       "2  It's Almost Hard To Fathom What He look's Like...   \n",
       "3   Troubled News Anchor Does The Unthinkable On Air   \n",
       "4  Try NOT Gasp When You See Who Queen Latifah Is...   \n",
       "\n",
       "                                                link  \\\n",
       "0  http://scribol.com/a/news-and-politics/ways-jo...   \n",
       "1  http://www.trend-chaser.com/entertainment/the-...   \n",
       "2  http://www.journalistate.com/popular/big-holly...   \n",
       "3  http://www.trend-chaser.com/entertainment/the-...   \n",
       "4  http://zcretuzft.iflmylife.com/entertainment/o...   \n",
       "\n",
       "                                                 img provider          source  \\\n",
       "0  https://console.brax-cdn.com/creatives/98c6400...  taboola  http://tmz.com   \n",
       "1  https://console.brax-cdn.com/creatives/b86bbc0...  taboola  http://tmz.com   \n",
       "2  http://cdn.taboolasyndication.com/libtrc/stati...  taboola  http://tmz.com   \n",
       "3  https://console.brax-cdn.com/creatives/b86bbc0...  taboola  http://tmz.com   \n",
       "4  http://cdn.taboolasyndication.com/libtrc/stati...  taboola  http://tmz.com   \n",
       "\n",
       "                                            img_file  \\\n",
       "0  ./imgs/876aa5e83f6fb81a81908db3c02fdcc00d44400...   \n",
       "1  ./imgs/bab1037467f1385cd865c48029db808b03a151d...   \n",
       "2  ./imgs/feeb5be5a9758fcca8cef21b6fb842ccc839476...   \n",
       "3  ./imgs/bab1037467f1385cd865c48029db808b03a151d...   \n",
       "4  ./imgs/d75401b962746864063b51f164633ffeb93931d...   \n",
       "\n",
       "                       date  \\\n",
       "0  2017-03-27T12:59:09.279Z   \n",
       "1  2017-03-27T12:59:09.819Z   \n",
       "2  2017-03-27T12:59:10.750Z   \n",
       "3  2017-03-27T12:59:11.430Z   \n",
       "4  2017-03-27T12:59:11.510Z   \n",
       "\n",
       "                                          final_link orig_article  \n",
       "0  http://scribol.com/a/news-and-politics/ways-jo...          NaN  \n",
       "1  http://www.trend-chaser.com/entertainment/the-...          NaN  \n",
       "2  http://www.journalistate.com/popular/big-holly...          NaN  \n",
       "3  http://www.trend-chaser.com/entertainment/the-...          NaN  \n",
       "4  http://www.iflmylife.com/entertainment/other-h...          NaN  "
      ]
     },
     "execution_count": 3,
     "metadata": {},
     "output_type": "execute_result"
    }
   ],
   "source": [
    "data['headline'] = data['headline'].apply(lambda x: re.sub('(?<=[a-z])\\.?([A-Z](.*))' , '', x.strip()))\n",
    "data.head()"
   ]
  },
  {
   "cell_type": "code",
   "execution_count": 4,
   "metadata": {
    "collapsed": false
   },
   "outputs": [
    {
     "data": {
      "text/plain": [
       "0         876aa5e83f6fb81a81908db3c02fdcc00d444000.png\n",
       "1         bab1037467f1385cd865c48029db808b03a151d2.png\n",
       "2         feeb5be5a9758fcca8cef21b6fb842ccc8394766.jpg\n",
       "3         bab1037467f1385cd865c48029db808b03a151d2.png\n",
       "4         d75401b962746864063b51f164633ffeb93931d3.jpg\n",
       "5         9eb97ec8e2851dd2fd90c3e28b56ff23b72790d2.jpg\n",
       "6         d75401b962746864063b51f164633ffeb93931d3.jpg\n",
       "7         4d1b9f3e2b22d301db93b301a63c3f25b3ea7904.png\n",
       "8         d3a3f2f50c84529c08bb8314ae3aa66280f0cbc7.png\n",
       "9         45d1417bbb2868b7ab6771f4edc7feb048f2068b.png\n",
       "10        e2bb63d58e09bae569a90f64de24c93a2d008e34.jpg\n",
       "11        f70f91d2ebf37e35480fe4f689477406adf9243e.jpg\n",
       "12        ab914b86682795c6d6624707b22b06f88f0e551a.jpg\n",
       "13        76544095ea7e1e5f74e9d210dab401d2cf7a7e9d.jpg\n",
       "14        224f6c16c9e0b27545c84bd7b65a8f58f32a0541.jpg\n",
       "15        45d1417bbb2868b7ab6771f4edc7feb048f2068b.png\n",
       "16        e2bb63d58e09bae569a90f64de24c93a2d008e34.jpg\n",
       "17        f70f91d2ebf37e35480fe4f689477406adf9243e.jpg\n",
       "18        ab914b86682795c6d6624707b22b06f88f0e551a.jpg\n",
       "19        76544095ea7e1e5f74e9d210dab401d2cf7a7e9d.jpg\n",
       "20        224f6c16c9e0b27545c84bd7b65a8f58f32a0541.jpg\n",
       "21        62a0d14abd1a08904c540cd1fbdb40ee395a591c.jpg\n",
       "22        6167e08a529c3f21687351bee16f38586cc1a31a.jpg\n",
       "23        694b824be4ad0f0a3b0b794c15c38bb80b4423bc.jpg\n",
       "24        4944ab5fe311adde8438172760d4ddf788d6ed59.jpg\n",
       "25        d69eebc5053118bc7353cd7a95f799dd1cfa1179.jpg\n",
       "26        b506e3f28e7f45fe63a7c6d9366443c2bb9eef52.jpg\n",
       "27        dfdb37f7b05b1db09d3f3dc3dad58b07e03f0a68.png\n",
       "28        6820f03a36052ba5da9b4f6fc131bb9b6fbaa8fb.jpg\n",
       "29        1051407c3614e21ed02c5684044738836626bf62.jpg\n",
       "                              ...                     \n",
       "129369    d722608da1457ff561d60b5e71ff666e9ef4ab16.jpg\n",
       "129370    d159f85d52f9c5a18ef0cdbf6fce5710fed28fe3.jpg\n",
       "129371    42059ee2727f2009ad5f053780254d20fc450a22.jpg\n",
       "129372    e30500c963c4920b78f07bd26c19f5828c4b1067.jpg\n",
       "129373    279e0bda6ea7281bf75477a21f09d11f9f0238d2.jpg\n",
       "129374    65c999b43891624109d0ff137b4bd6f75c18b25b.jpg\n",
       "129375    9b6ee8ed747cb0b788d047981d4e2ed5ec819c98.jpg\n",
       "129376    86555ce77197d366ba3b57c2bfeedff5165c534b.png\n",
       "129377    03ae0385b07916fa93c694ea2fc848234b7c8cc0.jpg\n",
       "129378    cd9a150b4de98355421261004d127ecced7c1c0c.png\n",
       "129379    9c90ada62def7654fc1b972369a5ff86358f9bbf.png\n",
       "129380    f18167ca58fee4ae691a28ecd39b0c1afe2689e4.jpg\n",
       "129381    e0f95485c1b6b4eea7755a6ed75cf4e20d9670cd.jpg\n",
       "129382    e4c0ddb1aa1f6188dc3ac8be44291d9b301bc362.png\n",
       "129383    1e9946a37804290f9b2a9355ee9e83ff30e59b04.jpg\n",
       "129384    5a49f41c76553dd330f7bec915db08054cfcbee0.jpg\n",
       "129385    0ef518a3cb26a482f90d357c52e3c294b2d21b9d.png\n",
       "129386    96719bab7b30ae49a3b638f33993321933e9d319.jpg\n",
       "129387    e526a7cb9642b7284675406507bdbcbd074fb508.png\n",
       "129388    c7f8a2630d941ce0498e78ba8ba6e7afed6faaab.png\n",
       "129389    34055827287b88f39213c097743fe1ec1e18efee.jpg\n",
       "129390    6b6358a8503f9033fcf87f0f9a447832f28288db.jpg\n",
       "129391    e75ae012327e48b2c19d22e52e2f80036b888a08.jpg\n",
       "129392    49cfc379da2beb17160e35897f66089f1ac64076.jpg\n",
       "129393    f18167ca58fee4ae691a28ecd39b0c1afe2689e4.jpg\n",
       "129394    e486aa81e4096900432662e574bf5928bb258801.jpg\n",
       "129395    8ddfefc10050b320e197fe8eaa472ced9b41a058.jpg\n",
       "129396    f18167ca58fee4ae691a28ecd39b0c1afe2689e4.jpg\n",
       "129397    4ccfbbfe94fc46661b6935f4449347dff6dd3a53.png\n",
       "129398    b8abf89e3effc8105cb0f5cf621bf4bd7b322f42.png\n",
       "Name: img_file, dtype: object"
      ]
     },
     "execution_count": 4,
     "metadata": {},
     "output_type": "execute_result"
    }
   ],
   "source": [
    "data['img_file'] = data['img_file'].apply(lambda x: re.sub('\\.\\/imgs\\/' , '', str(x).strip()))\n",
    "data['img_file']\n"
   ]
  },
  {
   "cell_type": "markdown",
   "metadata": {},
   "source": [
    "OK, that's better."
   ]
  },
  {
   "cell_type": "markdown",
   "metadata": {},
   "source": [
    "Do we have any null values?"
   ]
  },
  {
   "cell_type": "code",
   "execution_count": 5,
   "metadata": {
    "collapsed": false
   },
   "outputs": [
    {
     "name": "stdout",
     "output_type": "stream",
     "text": [
      "('_id', 0)\n",
      "('headline', 0)\n",
      "('link', 0)\n",
      "('img', 0)\n",
      "('provider', 0)\n",
      "('source', 0)\n",
      "('img_file', 0)\n",
      "('date', 0)\n",
      "('final_link', 0)\n",
      "('orig_article', 59776)\n"
     ]
    }
   ],
   "source": [
    "for col in data.columns:\n",
    "    print((col, sum(data[col].isnull())))"
   ]
  },
  {
   "cell_type": "markdown",
   "metadata": {},
   "source": [
    "For future reference, we have a small number of img_files that are null (probably because the scraper errored out grabbing the file). For the most part, that's pretty good."
   ]
  },
  {
   "cell_type": "code",
   "execution_count": 6,
   "metadata": {
    "collapsed": false
   },
   "outputs": [
    {
     "data": {
      "text/html": [
       "<div>\n",
       "<table border=\"1\" class=\"dataframe\">\n",
       "  <thead>\n",
       "    <tr style=\"text-align: right;\">\n",
       "      <th></th>\n",
       "      <th>_id</th>\n",
       "      <th>headline</th>\n",
       "      <th>link</th>\n",
       "      <th>img</th>\n",
       "      <th>provider</th>\n",
       "      <th>source</th>\n",
       "      <th>img_file</th>\n",
       "      <th>date</th>\n",
       "      <th>final_link</th>\n",
       "      <th>orig_article</th>\n",
       "    </tr>\n",
       "  </thead>\n",
       "  <tbody>\n",
       "    <tr>\n",
       "      <th>count</th>\n",
       "      <td>129399</td>\n",
       "      <td>129399</td>\n",
       "      <td>129399</td>\n",
       "      <td>129399</td>\n",
       "      <td>129399</td>\n",
       "      <td>129399</td>\n",
       "      <td>129399</td>\n",
       "      <td>129399</td>\n",
       "      <td>129399</td>\n",
       "      <td>69623</td>\n",
       "    </tr>\n",
       "    <tr>\n",
       "      <th>unique</th>\n",
       "      <td>129399</td>\n",
       "      <td>18022</td>\n",
       "      <td>43315</td>\n",
       "      <td>23843</td>\n",
       "      <td>4</td>\n",
       "      <td>24</td>\n",
       "      <td>23866</td>\n",
       "      <td>129396</td>\n",
       "      <td>36713</td>\n",
       "      <td>6670</td>\n",
       "    </tr>\n",
       "    <tr>\n",
       "      <th>top</th>\n",
       "      <td>ObjectId(5960e80c06e10d0e718bd6c6)</td>\n",
       "      <td>Here’s Why Guys Are Obsessed With This Underwear…</td>\n",
       "      <td>https://grizly.com/lifestyle/guy-turned-backya...</td>\n",
       "      <td>http://cdn.taboolasyndication.com/libtrc/stati...</td>\n",
       "      <td>taboola</td>\n",
       "      <td>http://tmz.com</td>\n",
       "      <td>db07ff3401037653d665822c5a78617464fe4ef8.jpg</td>\n",
       "      <td>2017-05-30T04:48:58.234Z</td>\n",
       "      <td>https://grizly.com/lifestyle/guy-turned-backya...</td>\n",
       "      <td>http://www.tmz.com/2017/06/02/kathy-griffin-co...</td>\n",
       "    </tr>\n",
       "    <tr>\n",
       "      <th>freq</th>\n",
       "      <td>1</td>\n",
       "      <td>996</td>\n",
       "      <td>588</td>\n",
       "      <td>621</td>\n",
       "      <td>59474</td>\n",
       "      <td>24167</td>\n",
       "      <td>621</td>\n",
       "      <td>2</td>\n",
       "      <td>588</td>\n",
       "      <td>167</td>\n",
       "    </tr>\n",
       "  </tbody>\n",
       "</table>\n",
       "</div>"
      ],
      "text/plain": [
       "                                       _id  \\\n",
       "count                               129399   \n",
       "unique                              129399   \n",
       "top     ObjectId(5960e80c06e10d0e718bd6c6)   \n",
       "freq                                     1   \n",
       "\n",
       "                                                 headline  \\\n",
       "count                                              129399   \n",
       "unique                                              18022   \n",
       "top     Here’s Why Guys Are Obsessed With This Underwear…   \n",
       "freq                                                  996   \n",
       "\n",
       "                                                     link  \\\n",
       "count                                              129399   \n",
       "unique                                              43315   \n",
       "top     https://grizly.com/lifestyle/guy-turned-backya...   \n",
       "freq                                                  588   \n",
       "\n",
       "                                                      img provider  \\\n",
       "count                                              129399   129399   \n",
       "unique                                              23843        4   \n",
       "top     http://cdn.taboolasyndication.com/libtrc/stati...  taboola   \n",
       "freq                                                  621    59474   \n",
       "\n",
       "                source                                      img_file  \\\n",
       "count           129399                                        129399   \n",
       "unique              24                                         23866   \n",
       "top     http://tmz.com  db07ff3401037653d665822c5a78617464fe4ef8.jpg   \n",
       "freq             24167                                           621   \n",
       "\n",
       "                            date  \\\n",
       "count                     129399   \n",
       "unique                    129396   \n",
       "top     2017-05-30T04:48:58.234Z   \n",
       "freq                           2   \n",
       "\n",
       "                                               final_link  \\\n",
       "count                                              129399   \n",
       "unique                                              36713   \n",
       "top     https://grizly.com/lifestyle/guy-turned-backya...   \n",
       "freq                                                  588   \n",
       "\n",
       "                                             orig_article  \n",
       "count                                               69623  \n",
       "unique                                               6670  \n",
       "top     http://www.tmz.com/2017/06/02/kathy-griffin-co...  \n",
       "freq                                                  167  "
      ]
     },
     "execution_count": 6,
     "metadata": {},
     "output_type": "execute_result"
    }
   ],
   "source": [
    "data.describe()"
   ]
  },
  {
   "cell_type": "markdown",
   "metadata": {},
   "source": [
    "Already we can see some interesting trends here. Out of 64147 unique records, only 10260 of the headlines are unique, but 19212 of the links are unique and 12709 of the image files are unique (assuming for sure that there were issues with downloading images, but more on that later). So it seems already that there are content links which might reuse the same headline, or image for different destination articles. Let's try to dig into that."
   ]
  },
  {
   "cell_type": "markdown",
   "metadata": {},
   "source": [
    "Also, becuase we want to inspect the hosts from which the articles and images are coming from, let's parse those out in the data."
   ]
  },
  {
   "cell_type": "code",
   "execution_count": 7,
   "metadata": {
    "collapsed": true
   },
   "outputs": [],
   "source": [
    "data['img_host'] = data['img'].apply(lambda x: urlparse(x).netloc)"
   ]
  },
  {
   "cell_type": "code",
   "execution_count": 8,
   "metadata": {
    "collapsed": true
   },
   "outputs": [],
   "source": [
    "data['link_host'] = data['final_link'].apply(lambda x: urlparse(x).netloc)"
   ]
  },
  {
   "cell_type": "markdown",
   "metadata": {},
   "source": [
    "Next, let's classify each site by a very relaxed set of tags based on perceived political bias. I might be a little off on some, I referenced https://www.allsides.com/ where possible, but that was not entirely helpful in all cases. Otherwise, I just went with my own idea of where I felt a site fell on the political spectrum (e.g., left, right, or center). There is also a tag for tabloids, or primarily sites that probably don't really have an editorial perspective so much as a desire to publish whatever gets the most traffic."
   ]
  },
  {
   "cell_type": "code",
   "execution_count": 9,
   "metadata": {
    "collapsed": true
   },
   "outputs": [],
   "source": [
    "left = ['http://www.politico.com/magazine/', 'https://www.washingtonpost.com/', 'http://www.huffingtonpost.com/', 'http://gothamist.com/news', 'http://www.metro.us/news', 'http://www.politico.com/politics', 'http://www.nydailynews.com/news', 'http://www.thedailybeast.com/']\n",
    "right = ['http://www.breitbart.com', 'http://www.rt.com', 'https://nypost.com/news/', 'http://www.infowars.com/', 'https://www.therebel.media/news', 'http://observer.com/latest/']\n",
    "center = ['http://www.ibtimes.com/', 'http://www.businessinsider.com/', 'http://thehill.com']\n",
    "tabloid = ['http://tmz.com', 'http://www.dailymail.co.uk/', 'https://downtrend.com/', 'http://reductress.com/', 'http://preventionpulse.com/', 'http://elitedaily.com/', 'http://worldstarhiphop.com/videos/']"
   ]
  },
  {
   "cell_type": "code",
   "execution_count": 10,
   "metadata": {
    "collapsed": true
   },
   "outputs": [],
   "source": [
    "def get_classification(source):\n",
    "    if source in left:\n",
    "        return 'left'\n",
    "    if source in right:\n",
    "        return 'right'\n",
    "    if source in center:\n",
    "        return 'center'\n",
    "    if source in tabloid:\n",
    "        return 'tabloid'"
   ]
  },
  {
   "cell_type": "code",
   "execution_count": 11,
   "metadata": {
    "collapsed": false
   },
   "outputs": [],
   "source": [
    "data['source_class'] = data['source'].apply(lambda x: get_classification(x))"
   ]
  },
  {
   "cell_type": "code",
   "execution_count": 12,
   "metadata": {
    "collapsed": false
   },
   "outputs": [
    {
     "data": {
      "text/html": [
       "<div>\n",
       "<table border=\"1\" class=\"dataframe\">\n",
       "  <thead>\n",
       "    <tr style=\"text-align: right;\">\n",
       "      <th></th>\n",
       "      <th>_id</th>\n",
       "      <th>headline</th>\n",
       "      <th>link</th>\n",
       "      <th>img</th>\n",
       "      <th>provider</th>\n",
       "      <th>source</th>\n",
       "      <th>img_file</th>\n",
       "      <th>date</th>\n",
       "      <th>final_link</th>\n",
       "      <th>orig_article</th>\n",
       "      <th>img_host</th>\n",
       "      <th>link_host</th>\n",
       "      <th>source_class</th>\n",
       "    </tr>\n",
       "  </thead>\n",
       "  <tbody>\n",
       "    <tr>\n",
       "      <th>0</th>\n",
       "      <td>ObjectId(58d90ce706e10d04f7e1b3d8)</td>\n",
       "      <td>20 Cool Moments From Joe Biden’s Time In Office</td>\n",
       "      <td>http://scribol.com/a/news-and-politics/ways-jo...</td>\n",
       "      <td>https://console.brax-cdn.com/creatives/98c6400...</td>\n",
       "      <td>taboola</td>\n",
       "      <td>http://tmz.com</td>\n",
       "      <td>876aa5e83f6fb81a81908db3c02fdcc00d444000.png</td>\n",
       "      <td>2017-03-27T12:59:09.279Z</td>\n",
       "      <td>http://scribol.com/a/news-and-politics/ways-jo...</td>\n",
       "      <td>NaN</td>\n",
       "      <td>console.brax-cdn.com</td>\n",
       "      <td>scribol.com</td>\n",
       "      <td>tabloid</td>\n",
       "    </tr>\n",
       "    <tr>\n",
       "      <th>1</th>\n",
       "      <td>ObjectId(58d90ce706e10d04f7e1b3d9)</td>\n",
       "      <td>Troubled News Anchor Does The Unthinkable On Air</td>\n",
       "      <td>http://www.trend-chaser.com/entertainment/the-...</td>\n",
       "      <td>https://console.brax-cdn.com/creatives/b86bbc0...</td>\n",
       "      <td>taboola</td>\n",
       "      <td>http://tmz.com</td>\n",
       "      <td>bab1037467f1385cd865c48029db808b03a151d2.png</td>\n",
       "      <td>2017-03-27T12:59:09.819Z</td>\n",
       "      <td>http://www.trend-chaser.com/entertainment/the-...</td>\n",
       "      <td>NaN</td>\n",
       "      <td>console.brax-cdn.com</td>\n",
       "      <td>www.trend-chaser.com</td>\n",
       "      <td>tabloid</td>\n",
       "    </tr>\n",
       "    <tr>\n",
       "      <th>2</th>\n",
       "      <td>ObjectId(58d90ce706e10d04f7e1b3da)</td>\n",
       "      <td>It's Almost Hard To Fathom What He look's Like...</td>\n",
       "      <td>http://www.journalistate.com/popular/big-holly...</td>\n",
       "      <td>http://cdn.taboolasyndication.com/libtrc/stati...</td>\n",
       "      <td>taboola</td>\n",
       "      <td>http://tmz.com</td>\n",
       "      <td>feeb5be5a9758fcca8cef21b6fb842ccc8394766.jpg</td>\n",
       "      <td>2017-03-27T12:59:10.750Z</td>\n",
       "      <td>http://www.journalistate.com/popular/big-holly...</td>\n",
       "      <td>NaN</td>\n",
       "      <td>cdn.taboolasyndication.com</td>\n",
       "      <td>www.journalistate.com</td>\n",
       "      <td>tabloid</td>\n",
       "    </tr>\n",
       "    <tr>\n",
       "      <th>3</th>\n",
       "      <td>ObjectId(58d90ce706e10d04f7e1b3db)</td>\n",
       "      <td>Troubled News Anchor Does The Unthinkable On Air</td>\n",
       "      <td>http://www.trend-chaser.com/entertainment/the-...</td>\n",
       "      <td>https://console.brax-cdn.com/creatives/b86bbc0...</td>\n",
       "      <td>taboola</td>\n",
       "      <td>http://tmz.com</td>\n",
       "      <td>bab1037467f1385cd865c48029db808b03a151d2.png</td>\n",
       "      <td>2017-03-27T12:59:11.430Z</td>\n",
       "      <td>http://www.trend-chaser.com/entertainment/the-...</td>\n",
       "      <td>NaN</td>\n",
       "      <td>console.brax-cdn.com</td>\n",
       "      <td>www.trend-chaser.com</td>\n",
       "      <td>tabloid</td>\n",
       "    </tr>\n",
       "    <tr>\n",
       "      <th>4</th>\n",
       "      <td>ObjectId(58d90ce706e10d04f7e1b3dc)</td>\n",
       "      <td>Try NOT Gasp When You See Who Queen Latifah Is...</td>\n",
       "      <td>http://zcretuzft.iflmylife.com/entertainment/o...</td>\n",
       "      <td>http://cdn.taboolasyndication.com/libtrc/stati...</td>\n",
       "      <td>taboola</td>\n",
       "      <td>http://tmz.com</td>\n",
       "      <td>d75401b962746864063b51f164633ffeb93931d3.jpg</td>\n",
       "      <td>2017-03-27T12:59:11.510Z</td>\n",
       "      <td>http://www.iflmylife.com/entertainment/other-h...</td>\n",
       "      <td>NaN</td>\n",
       "      <td>cdn.taboolasyndication.com</td>\n",
       "      <td>www.iflmylife.com</td>\n",
       "      <td>tabloid</td>\n",
       "    </tr>\n",
       "  </tbody>\n",
       "</table>\n",
       "</div>"
      ],
      "text/plain": [
       "                                  _id  \\\n",
       "0  ObjectId(58d90ce706e10d04f7e1b3d8)   \n",
       "1  ObjectId(58d90ce706e10d04f7e1b3d9)   \n",
       "2  ObjectId(58d90ce706e10d04f7e1b3da)   \n",
       "3  ObjectId(58d90ce706e10d04f7e1b3db)   \n",
       "4  ObjectId(58d90ce706e10d04f7e1b3dc)   \n",
       "\n",
       "                                            headline  \\\n",
       "0    20 Cool Moments From Joe Biden’s Time In Office   \n",
       "1   Troubled News Anchor Does The Unthinkable On Air   \n",
       "2  It's Almost Hard To Fathom What He look's Like...   \n",
       "3   Troubled News Anchor Does The Unthinkable On Air   \n",
       "4  Try NOT Gasp When You See Who Queen Latifah Is...   \n",
       "\n",
       "                                                link  \\\n",
       "0  http://scribol.com/a/news-and-politics/ways-jo...   \n",
       "1  http://www.trend-chaser.com/entertainment/the-...   \n",
       "2  http://www.journalistate.com/popular/big-holly...   \n",
       "3  http://www.trend-chaser.com/entertainment/the-...   \n",
       "4  http://zcretuzft.iflmylife.com/entertainment/o...   \n",
       "\n",
       "                                                 img provider          source  \\\n",
       "0  https://console.brax-cdn.com/creatives/98c6400...  taboola  http://tmz.com   \n",
       "1  https://console.brax-cdn.com/creatives/b86bbc0...  taboola  http://tmz.com   \n",
       "2  http://cdn.taboolasyndication.com/libtrc/stati...  taboola  http://tmz.com   \n",
       "3  https://console.brax-cdn.com/creatives/b86bbc0...  taboola  http://tmz.com   \n",
       "4  http://cdn.taboolasyndication.com/libtrc/stati...  taboola  http://tmz.com   \n",
       "\n",
       "                                       img_file                      date  \\\n",
       "0  876aa5e83f6fb81a81908db3c02fdcc00d444000.png  2017-03-27T12:59:09.279Z   \n",
       "1  bab1037467f1385cd865c48029db808b03a151d2.png  2017-03-27T12:59:09.819Z   \n",
       "2  feeb5be5a9758fcca8cef21b6fb842ccc8394766.jpg  2017-03-27T12:59:10.750Z   \n",
       "3  bab1037467f1385cd865c48029db808b03a151d2.png  2017-03-27T12:59:11.430Z   \n",
       "4  d75401b962746864063b51f164633ffeb93931d3.jpg  2017-03-27T12:59:11.510Z   \n",
       "\n",
       "                                          final_link orig_article  \\\n",
       "0  http://scribol.com/a/news-and-politics/ways-jo...          NaN   \n",
       "1  http://www.trend-chaser.com/entertainment/the-...          NaN   \n",
       "2  http://www.journalistate.com/popular/big-holly...          NaN   \n",
       "3  http://www.trend-chaser.com/entertainment/the-...          NaN   \n",
       "4  http://www.iflmylife.com/entertainment/other-h...          NaN   \n",
       "\n",
       "                     img_host              link_host source_class  \n",
       "0        console.brax-cdn.com            scribol.com      tabloid  \n",
       "1        console.brax-cdn.com   www.trend-chaser.com      tabloid  \n",
       "2  cdn.taboolasyndication.com  www.journalistate.com      tabloid  \n",
       "3        console.brax-cdn.com   www.trend-chaser.com      tabloid  \n",
       "4  cdn.taboolasyndication.com      www.iflmylife.com      tabloid  "
      ]
     },
     "execution_count": 12,
     "metadata": {},
     "output_type": "execute_result"
    }
   ],
   "source": [
    "data.head()"
   ]
  },
  {
   "cell_type": "code",
   "execution_count": 13,
   "metadata": {
    "collapsed": true
   },
   "outputs": [],
   "source": [
    "data_non_date_indexed = data.copy(deep=False)"
   ]
  },
  {
   "cell_type": "markdown",
   "metadata": {},
   "source": [
    "Let's create one dataframe that is date indexed"
   ]
  },
  {
   "cell_type": "code",
   "execution_count": 14,
   "metadata": {
    "collapsed": false
   },
   "outputs": [
    {
     "data": {
      "text/html": [
       "<div>\n",
       "<table border=\"1\" class=\"dataframe\">\n",
       "  <thead>\n",
       "    <tr style=\"text-align: right;\">\n",
       "      <th></th>\n",
       "      <th>_id</th>\n",
       "      <th>headline</th>\n",
       "      <th>link</th>\n",
       "      <th>img</th>\n",
       "      <th>provider</th>\n",
       "      <th>source</th>\n",
       "      <th>img_file</th>\n",
       "      <th>final_link</th>\n",
       "      <th>orig_article</th>\n",
       "      <th>img_host</th>\n",
       "      <th>link_host</th>\n",
       "      <th>source_class</th>\n",
       "      <th>date</th>\n",
       "    </tr>\n",
       "    <tr>\n",
       "      <th>date</th>\n",
       "      <th></th>\n",
       "      <th></th>\n",
       "      <th></th>\n",
       "      <th></th>\n",
       "      <th></th>\n",
       "      <th></th>\n",
       "      <th></th>\n",
       "      <th></th>\n",
       "      <th></th>\n",
       "      <th></th>\n",
       "      <th></th>\n",
       "      <th></th>\n",
       "      <th></th>\n",
       "    </tr>\n",
       "  </thead>\n",
       "  <tbody>\n",
       "    <tr>\n",
       "      <th>2017-03-27 12:59:09.279</th>\n",
       "      <td>ObjectId(58d90ce706e10d04f7e1b3d8)</td>\n",
       "      <td>20 Cool Moments From Joe Biden’s Time In Office</td>\n",
       "      <td>http://scribol.com/a/news-and-politics/ways-jo...</td>\n",
       "      <td>https://console.brax-cdn.com/creatives/98c6400...</td>\n",
       "      <td>taboola</td>\n",
       "      <td>http://tmz.com</td>\n",
       "      <td>876aa5e83f6fb81a81908db3c02fdcc00d444000.png</td>\n",
       "      <td>http://scribol.com/a/news-and-politics/ways-jo...</td>\n",
       "      <td>NaN</td>\n",
       "      <td>console.brax-cdn.com</td>\n",
       "      <td>scribol.com</td>\n",
       "      <td>tabloid</td>\n",
       "      <td>2017-03-27</td>\n",
       "    </tr>\n",
       "    <tr>\n",
       "      <th>2017-03-27 12:59:09.819</th>\n",
       "      <td>ObjectId(58d90ce706e10d04f7e1b3d9)</td>\n",
       "      <td>Troubled News Anchor Does The Unthinkable On Air</td>\n",
       "      <td>http://www.trend-chaser.com/entertainment/the-...</td>\n",
       "      <td>https://console.brax-cdn.com/creatives/b86bbc0...</td>\n",
       "      <td>taboola</td>\n",
       "      <td>http://tmz.com</td>\n",
       "      <td>bab1037467f1385cd865c48029db808b03a151d2.png</td>\n",
       "      <td>http://www.trend-chaser.com/entertainment/the-...</td>\n",
       "      <td>NaN</td>\n",
       "      <td>console.brax-cdn.com</td>\n",
       "      <td>www.trend-chaser.com</td>\n",
       "      <td>tabloid</td>\n",
       "      <td>2017-03-27</td>\n",
       "    </tr>\n",
       "    <tr>\n",
       "      <th>2017-03-27 12:59:10.750</th>\n",
       "      <td>ObjectId(58d90ce706e10d04f7e1b3da)</td>\n",
       "      <td>It's Almost Hard To Fathom What He look's Like...</td>\n",
       "      <td>http://www.journalistate.com/popular/big-holly...</td>\n",
       "      <td>http://cdn.taboolasyndication.com/libtrc/stati...</td>\n",
       "      <td>taboola</td>\n",
       "      <td>http://tmz.com</td>\n",
       "      <td>feeb5be5a9758fcca8cef21b6fb842ccc8394766.jpg</td>\n",
       "      <td>http://www.journalistate.com/popular/big-holly...</td>\n",
       "      <td>NaN</td>\n",
       "      <td>cdn.taboolasyndication.com</td>\n",
       "      <td>www.journalistate.com</td>\n",
       "      <td>tabloid</td>\n",
       "      <td>2017-03-27</td>\n",
       "    </tr>\n",
       "    <tr>\n",
       "      <th>2017-03-27 12:59:11.430</th>\n",
       "      <td>ObjectId(58d90ce706e10d04f7e1b3db)</td>\n",
       "      <td>Troubled News Anchor Does The Unthinkable On Air</td>\n",
       "      <td>http://www.trend-chaser.com/entertainment/the-...</td>\n",
       "      <td>https://console.brax-cdn.com/creatives/b86bbc0...</td>\n",
       "      <td>taboola</td>\n",
       "      <td>http://tmz.com</td>\n",
       "      <td>bab1037467f1385cd865c48029db808b03a151d2.png</td>\n",
       "      <td>http://www.trend-chaser.com/entertainment/the-...</td>\n",
       "      <td>NaN</td>\n",
       "      <td>console.brax-cdn.com</td>\n",
       "      <td>www.trend-chaser.com</td>\n",
       "      <td>tabloid</td>\n",
       "      <td>2017-03-27</td>\n",
       "    </tr>\n",
       "    <tr>\n",
       "      <th>2017-03-27 12:59:11.510</th>\n",
       "      <td>ObjectId(58d90ce706e10d04f7e1b3dc)</td>\n",
       "      <td>Try NOT Gasp When You See Who Queen Latifah Is...</td>\n",
       "      <td>http://zcretuzft.iflmylife.com/entertainment/o...</td>\n",
       "      <td>http://cdn.taboolasyndication.com/libtrc/stati...</td>\n",
       "      <td>taboola</td>\n",
       "      <td>http://tmz.com</td>\n",
       "      <td>d75401b962746864063b51f164633ffeb93931d3.jpg</td>\n",
       "      <td>http://www.iflmylife.com/entertainment/other-h...</td>\n",
       "      <td>NaN</td>\n",
       "      <td>cdn.taboolasyndication.com</td>\n",
       "      <td>www.iflmylife.com</td>\n",
       "      <td>tabloid</td>\n",
       "      <td>2017-03-27</td>\n",
       "    </tr>\n",
       "  </tbody>\n",
       "</table>\n",
       "</div>"
      ],
      "text/plain": [
       "                                                        _id  \\\n",
       "date                                                          \n",
       "2017-03-27 12:59:09.279  ObjectId(58d90ce706e10d04f7e1b3d8)   \n",
       "2017-03-27 12:59:09.819  ObjectId(58d90ce706e10d04f7e1b3d9)   \n",
       "2017-03-27 12:59:10.750  ObjectId(58d90ce706e10d04f7e1b3da)   \n",
       "2017-03-27 12:59:11.430  ObjectId(58d90ce706e10d04f7e1b3db)   \n",
       "2017-03-27 12:59:11.510  ObjectId(58d90ce706e10d04f7e1b3dc)   \n",
       "\n",
       "                                                                  headline  \\\n",
       "date                                                                         \n",
       "2017-03-27 12:59:09.279    20 Cool Moments From Joe Biden’s Time In Office   \n",
       "2017-03-27 12:59:09.819   Troubled News Anchor Does The Unthinkable On Air   \n",
       "2017-03-27 12:59:10.750  It's Almost Hard To Fathom What He look's Like...   \n",
       "2017-03-27 12:59:11.430   Troubled News Anchor Does The Unthinkable On Air   \n",
       "2017-03-27 12:59:11.510  Try NOT Gasp When You See Who Queen Latifah Is...   \n",
       "\n",
       "                                                                      link  \\\n",
       "date                                                                         \n",
       "2017-03-27 12:59:09.279  http://scribol.com/a/news-and-politics/ways-jo...   \n",
       "2017-03-27 12:59:09.819  http://www.trend-chaser.com/entertainment/the-...   \n",
       "2017-03-27 12:59:10.750  http://www.journalistate.com/popular/big-holly...   \n",
       "2017-03-27 12:59:11.430  http://www.trend-chaser.com/entertainment/the-...   \n",
       "2017-03-27 12:59:11.510  http://zcretuzft.iflmylife.com/entertainment/o...   \n",
       "\n",
       "                                                                       img  \\\n",
       "date                                                                         \n",
       "2017-03-27 12:59:09.279  https://console.brax-cdn.com/creatives/98c6400...   \n",
       "2017-03-27 12:59:09.819  https://console.brax-cdn.com/creatives/b86bbc0...   \n",
       "2017-03-27 12:59:10.750  http://cdn.taboolasyndication.com/libtrc/stati...   \n",
       "2017-03-27 12:59:11.430  https://console.brax-cdn.com/creatives/b86bbc0...   \n",
       "2017-03-27 12:59:11.510  http://cdn.taboolasyndication.com/libtrc/stati...   \n",
       "\n",
       "                        provider          source  \\\n",
       "date                                               \n",
       "2017-03-27 12:59:09.279  taboola  http://tmz.com   \n",
       "2017-03-27 12:59:09.819  taboola  http://tmz.com   \n",
       "2017-03-27 12:59:10.750  taboola  http://tmz.com   \n",
       "2017-03-27 12:59:11.430  taboola  http://tmz.com   \n",
       "2017-03-27 12:59:11.510  taboola  http://tmz.com   \n",
       "\n",
       "                                                             img_file  \\\n",
       "date                                                                    \n",
       "2017-03-27 12:59:09.279  876aa5e83f6fb81a81908db3c02fdcc00d444000.png   \n",
       "2017-03-27 12:59:09.819  bab1037467f1385cd865c48029db808b03a151d2.png   \n",
       "2017-03-27 12:59:10.750  feeb5be5a9758fcca8cef21b6fb842ccc8394766.jpg   \n",
       "2017-03-27 12:59:11.430  bab1037467f1385cd865c48029db808b03a151d2.png   \n",
       "2017-03-27 12:59:11.510  d75401b962746864063b51f164633ffeb93931d3.jpg   \n",
       "\n",
       "                                                                final_link  \\\n",
       "date                                                                         \n",
       "2017-03-27 12:59:09.279  http://scribol.com/a/news-and-politics/ways-jo...   \n",
       "2017-03-27 12:59:09.819  http://www.trend-chaser.com/entertainment/the-...   \n",
       "2017-03-27 12:59:10.750  http://www.journalistate.com/popular/big-holly...   \n",
       "2017-03-27 12:59:11.430  http://www.trend-chaser.com/entertainment/the-...   \n",
       "2017-03-27 12:59:11.510  http://www.iflmylife.com/entertainment/other-h...   \n",
       "\n",
       "                        orig_article                    img_host  \\\n",
       "date                                                               \n",
       "2017-03-27 12:59:09.279          NaN        console.brax-cdn.com   \n",
       "2017-03-27 12:59:09.819          NaN        console.brax-cdn.com   \n",
       "2017-03-27 12:59:10.750          NaN  cdn.taboolasyndication.com   \n",
       "2017-03-27 12:59:11.430          NaN        console.brax-cdn.com   \n",
       "2017-03-27 12:59:11.510          NaN  cdn.taboolasyndication.com   \n",
       "\n",
       "                                     link_host source_class        date  \n",
       "date                                                                     \n",
       "2017-03-27 12:59:09.279            scribol.com      tabloid  2017-03-27  \n",
       "2017-03-27 12:59:09.819   www.trend-chaser.com      tabloid  2017-03-27  \n",
       "2017-03-27 12:59:10.750  www.journalistate.com      tabloid  2017-03-27  \n",
       "2017-03-27 12:59:11.430   www.trend-chaser.com      tabloid  2017-03-27  \n",
       "2017-03-27 12:59:11.510      www.iflmylife.com      tabloid  2017-03-27  "
      ]
     },
     "execution_count": 14,
     "metadata": {},
     "output_type": "execute_result"
    }
   ],
   "source": [
    "data['date'] = pd.to_datetime(data['date'])\n",
    "data['date'].dtype\n",
    "data = data.set_index('date')\n",
    "data['date'] = data.index.date\n",
    "data.head()"
   ]
  },
  {
   "cell_type": "code",
   "execution_count": 15,
   "metadata": {
    "collapsed": false
   },
   "outputs": [],
   "source": [
    "deduped = data.drop_duplicates(subset=['headline', 'link', 'img', 'provider', 'source', 'img_file', 'final_link'], keep=False)"
   ]
  },
  {
   "cell_type": "code",
   "execution_count": 16,
   "metadata": {
    "collapsed": false
   },
   "outputs": [
    {
     "data": {
      "text/html": [
       "<div>\n",
       "<table border=\"1\" class=\"dataframe\">\n",
       "  <thead>\n",
       "    <tr style=\"text-align: right;\">\n",
       "      <th></th>\n",
       "      <th>_id</th>\n",
       "      <th>headline</th>\n",
       "      <th>link</th>\n",
       "      <th>img</th>\n",
       "      <th>provider</th>\n",
       "      <th>source</th>\n",
       "      <th>img_file</th>\n",
       "      <th>final_link</th>\n",
       "      <th>orig_article</th>\n",
       "      <th>img_host</th>\n",
       "      <th>link_host</th>\n",
       "      <th>source_class</th>\n",
       "      <th>date</th>\n",
       "    </tr>\n",
       "    <tr>\n",
       "      <th>date</th>\n",
       "      <th></th>\n",
       "      <th></th>\n",
       "      <th></th>\n",
       "      <th></th>\n",
       "      <th></th>\n",
       "      <th></th>\n",
       "      <th></th>\n",
       "      <th></th>\n",
       "      <th></th>\n",
       "      <th></th>\n",
       "      <th></th>\n",
       "      <th></th>\n",
       "      <th></th>\n",
       "    </tr>\n",
       "  </thead>\n",
       "  <tbody>\n",
       "    <tr>\n",
       "      <th>2017-03-27 12:59:09.279</th>\n",
       "      <td>ObjectId(58d90ce706e10d04f7e1b3d8)</td>\n",
       "      <td>20 Cool Moments From Joe Biden’s Time In Office</td>\n",
       "      <td>http://scribol.com/a/news-and-politics/ways-jo...</td>\n",
       "      <td>https://console.brax-cdn.com/creatives/98c6400...</td>\n",
       "      <td>taboola</td>\n",
       "      <td>http://tmz.com</td>\n",
       "      <td>876aa5e83f6fb81a81908db3c02fdcc00d444000.png</td>\n",
       "      <td>http://scribol.com/a/news-and-politics/ways-jo...</td>\n",
       "      <td>NaN</td>\n",
       "      <td>console.brax-cdn.com</td>\n",
       "      <td>scribol.com</td>\n",
       "      <td>tabloid</td>\n",
       "      <td>2017-03-27</td>\n",
       "    </tr>\n",
       "    <tr>\n",
       "      <th>2017-03-27 12:59:13.038</th>\n",
       "      <td>ObjectId(58d90ce706e10d04f7e1b3e0)</td>\n",
       "      <td>25 Pics Donald Trump Doesn't Want You To See</td>\n",
       "      <td>http://adrzr.com/54f7?utm_source=8b4&amp;utm_campa...</td>\n",
       "      <td>http://cdn.taboolasyndication.com/libtrc/stati...</td>\n",
       "      <td>taboola</td>\n",
       "      <td>http://tmz.com</td>\n",
       "      <td>d3a3f2f50c84529c08bb8314ae3aa66280f0cbc7.png</td>\n",
       "      <td>http://detonate.com/pictures-that-trump-would-...</td>\n",
       "      <td>NaN</td>\n",
       "      <td>cdn.taboolasyndication.com</td>\n",
       "      <td>detonate.com</td>\n",
       "      <td>tabloid</td>\n",
       "      <td>2017-03-27</td>\n",
       "    </tr>\n",
       "    <tr>\n",
       "      <th>2017-03-27 12:59:15.114</th>\n",
       "      <td>ObjectId(58d90ce706e10d04f7e1b3e2)</td>\n",
       "      <td>Do This Tonight to Make Fungus Disappear by Mo...</td>\n",
       "      <td>http://japanesetoenailfunguscode.com/?aff_id=4...</td>\n",
       "      <td>https://revcontent-p0.s3.amazonaws.com/content...</td>\n",
       "      <td>revcontent</td>\n",
       "      <td>http://worldstarhiphop.com/videos/</td>\n",
       "      <td>e2bb63d58e09bae569a90f64de24c93a2d008e34.jpg</td>\n",
       "      <td>http://japanesetoenailfunguscode.com/?aff_id=4...</td>\n",
       "      <td>NaN</td>\n",
       "      <td>revcontent-p0.s3.amazonaws.com</td>\n",
       "      <td>japanesetoenailfunguscode.com</td>\n",
       "      <td>tabloid</td>\n",
       "      <td>2017-03-27</td>\n",
       "    </tr>\n",
       "    <tr>\n",
       "      <th>2017-03-27 12:59:15.237</th>\n",
       "      <td>ObjectId(58d90ce706e10d04f7e1b3e3)</td>\n",
       "      <td>Here's What New Dental Implants Should Cost Yo...</td>\n",
       "      <td>http://gaindentalfixdeals.com/?affid=1016&amp;s1=1...</td>\n",
       "      <td>https://revcontent-p0.s3.amazonaws.com/content...</td>\n",
       "      <td>revcontent</td>\n",
       "      <td>http://worldstarhiphop.com/videos/</td>\n",
       "      <td>f70f91d2ebf37e35480fe4f689477406adf9243e.jpg</td>\n",
       "      <td>http://gaindentalfixdeals.com/?affid=1016&amp;s1=1...</td>\n",
       "      <td>NaN</td>\n",
       "      <td>revcontent-p0.s3.amazonaws.com</td>\n",
       "      <td>gaindentalfixdeals.com</td>\n",
       "      <td>tabloid</td>\n",
       "      <td>2017-03-27</td>\n",
       "    </tr>\n",
       "    <tr>\n",
       "      <th>2017-03-27 12:59:15.614</th>\n",
       "      <td>ObjectId(58d90ce706e10d04f7e1b3e4)</td>\n",
       "      <td>Michael Jordan Has Pretty Much Given Up on His...</td>\n",
       "      <td>http://trends.revcontent.com/click.php?d=vJdwp...</td>\n",
       "      <td>https://revcontent-p0.s3.amazonaws.com/content...</td>\n",
       "      <td>revcontent</td>\n",
       "      <td>http://worldstarhiphop.com/videos/</td>\n",
       "      <td>ab914b86682795c6d6624707b22b06f88f0e551a.jpg</td>\n",
       "      <td>http://trends.revcontent.com/click.php?d=vJdwp...</td>\n",
       "      <td>NaN</td>\n",
       "      <td>revcontent-p0.s3.amazonaws.com</td>\n",
       "      <td>trends.revcontent.com</td>\n",
       "      <td>tabloid</td>\n",
       "      <td>2017-03-27</td>\n",
       "    </tr>\n",
       "  </tbody>\n",
       "</table>\n",
       "</div>"
      ],
      "text/plain": [
       "                                                        _id  \\\n",
       "date                                                          \n",
       "2017-03-27 12:59:09.279  ObjectId(58d90ce706e10d04f7e1b3d8)   \n",
       "2017-03-27 12:59:13.038  ObjectId(58d90ce706e10d04f7e1b3e0)   \n",
       "2017-03-27 12:59:15.114  ObjectId(58d90ce706e10d04f7e1b3e2)   \n",
       "2017-03-27 12:59:15.237  ObjectId(58d90ce706e10d04f7e1b3e3)   \n",
       "2017-03-27 12:59:15.614  ObjectId(58d90ce706e10d04f7e1b3e4)   \n",
       "\n",
       "                                                                  headline  \\\n",
       "date                                                                         \n",
       "2017-03-27 12:59:09.279    20 Cool Moments From Joe Biden’s Time In Office   \n",
       "2017-03-27 12:59:13.038       25 Pics Donald Trump Doesn't Want You To See   \n",
       "2017-03-27 12:59:15.114  Do This Tonight to Make Fungus Disappear by Mo...   \n",
       "2017-03-27 12:59:15.237  Here's What New Dental Implants Should Cost Yo...   \n",
       "2017-03-27 12:59:15.614  Michael Jordan Has Pretty Much Given Up on His...   \n",
       "\n",
       "                                                                      link  \\\n",
       "date                                                                         \n",
       "2017-03-27 12:59:09.279  http://scribol.com/a/news-and-politics/ways-jo...   \n",
       "2017-03-27 12:59:13.038  http://adrzr.com/54f7?utm_source=8b4&utm_campa...   \n",
       "2017-03-27 12:59:15.114  http://japanesetoenailfunguscode.com/?aff_id=4...   \n",
       "2017-03-27 12:59:15.237  http://gaindentalfixdeals.com/?affid=1016&s1=1...   \n",
       "2017-03-27 12:59:15.614  http://trends.revcontent.com/click.php?d=vJdwp...   \n",
       "\n",
       "                                                                       img  \\\n",
       "date                                                                         \n",
       "2017-03-27 12:59:09.279  https://console.brax-cdn.com/creatives/98c6400...   \n",
       "2017-03-27 12:59:13.038  http://cdn.taboolasyndication.com/libtrc/stati...   \n",
       "2017-03-27 12:59:15.114  https://revcontent-p0.s3.amazonaws.com/content...   \n",
       "2017-03-27 12:59:15.237  https://revcontent-p0.s3.amazonaws.com/content...   \n",
       "2017-03-27 12:59:15.614  https://revcontent-p0.s3.amazonaws.com/content...   \n",
       "\n",
       "                           provider                              source  \\\n",
       "date                                                                      \n",
       "2017-03-27 12:59:09.279     taboola                      http://tmz.com   \n",
       "2017-03-27 12:59:13.038     taboola                      http://tmz.com   \n",
       "2017-03-27 12:59:15.114  revcontent  http://worldstarhiphop.com/videos/   \n",
       "2017-03-27 12:59:15.237  revcontent  http://worldstarhiphop.com/videos/   \n",
       "2017-03-27 12:59:15.614  revcontent  http://worldstarhiphop.com/videos/   \n",
       "\n",
       "                                                             img_file  \\\n",
       "date                                                                    \n",
       "2017-03-27 12:59:09.279  876aa5e83f6fb81a81908db3c02fdcc00d444000.png   \n",
       "2017-03-27 12:59:13.038  d3a3f2f50c84529c08bb8314ae3aa66280f0cbc7.png   \n",
       "2017-03-27 12:59:15.114  e2bb63d58e09bae569a90f64de24c93a2d008e34.jpg   \n",
       "2017-03-27 12:59:15.237  f70f91d2ebf37e35480fe4f689477406adf9243e.jpg   \n",
       "2017-03-27 12:59:15.614  ab914b86682795c6d6624707b22b06f88f0e551a.jpg   \n",
       "\n",
       "                                                                final_link  \\\n",
       "date                                                                         \n",
       "2017-03-27 12:59:09.279  http://scribol.com/a/news-and-politics/ways-jo...   \n",
       "2017-03-27 12:59:13.038  http://detonate.com/pictures-that-trump-would-...   \n",
       "2017-03-27 12:59:15.114  http://japanesetoenailfunguscode.com/?aff_id=4...   \n",
       "2017-03-27 12:59:15.237  http://gaindentalfixdeals.com/?affid=1016&s1=1...   \n",
       "2017-03-27 12:59:15.614  http://trends.revcontent.com/click.php?d=vJdwp...   \n",
       "\n",
       "                        orig_article                        img_host  \\\n",
       "date                                                                   \n",
       "2017-03-27 12:59:09.279          NaN            console.brax-cdn.com   \n",
       "2017-03-27 12:59:13.038          NaN      cdn.taboolasyndication.com   \n",
       "2017-03-27 12:59:15.114          NaN  revcontent-p0.s3.amazonaws.com   \n",
       "2017-03-27 12:59:15.237          NaN  revcontent-p0.s3.amazonaws.com   \n",
       "2017-03-27 12:59:15.614          NaN  revcontent-p0.s3.amazonaws.com   \n",
       "\n",
       "                                             link_host source_class  \\\n",
       "date                                                                  \n",
       "2017-03-27 12:59:09.279                    scribol.com      tabloid   \n",
       "2017-03-27 12:59:13.038                   detonate.com      tabloid   \n",
       "2017-03-27 12:59:15.114  japanesetoenailfunguscode.com      tabloid   \n",
       "2017-03-27 12:59:15.237         gaindentalfixdeals.com      tabloid   \n",
       "2017-03-27 12:59:15.614          trends.revcontent.com      tabloid   \n",
       "\n",
       "                               date  \n",
       "date                                 \n",
       "2017-03-27 12:59:09.279  2017-03-27  \n",
       "2017-03-27 12:59:13.038  2017-03-27  \n",
       "2017-03-27 12:59:15.114  2017-03-27  \n",
       "2017-03-27 12:59:15.237  2017-03-27  \n",
       "2017-03-27 12:59:15.614  2017-03-27  "
      ]
     },
     "execution_count": 16,
     "metadata": {},
     "output_type": "execute_result"
    }
   ],
   "source": [
    "deduped.head()"
   ]
  },
  {
   "cell_type": "code",
   "execution_count": 17,
   "metadata": {
    "collapsed": true
   },
   "outputs": [],
   "source": [
    "deduped_non_date_indexed = data_non_date_indexed.drop_duplicates(subset=['headline', 'link', 'img', 'provider', 'source', 'img_file', 'final_link'], keep=False)"
   ]
  },
  {
   "cell_type": "code",
   "execution_count": 18,
   "metadata": {
    "collapsed": false
   },
   "outputs": [
    {
     "data": {
      "text/html": [
       "<div>\n",
       "<table border=\"1\" class=\"dataframe\">\n",
       "  <thead>\n",
       "    <tr style=\"text-align: right;\">\n",
       "      <th></th>\n",
       "      <th>_id</th>\n",
       "      <th>headline</th>\n",
       "      <th>link</th>\n",
       "      <th>img</th>\n",
       "      <th>provider</th>\n",
       "      <th>source</th>\n",
       "      <th>img_file</th>\n",
       "      <th>date</th>\n",
       "      <th>final_link</th>\n",
       "      <th>orig_article</th>\n",
       "      <th>img_host</th>\n",
       "      <th>link_host</th>\n",
       "      <th>source_class</th>\n",
       "    </tr>\n",
       "  </thead>\n",
       "  <tbody>\n",
       "    <tr>\n",
       "      <th>0</th>\n",
       "      <td>ObjectId(58d90ce706e10d04f7e1b3d8)</td>\n",
       "      <td>20 Cool Moments From Joe Biden’s Time In Office</td>\n",
       "      <td>http://scribol.com/a/news-and-politics/ways-jo...</td>\n",
       "      <td>https://console.brax-cdn.com/creatives/98c6400...</td>\n",
       "      <td>taboola</td>\n",
       "      <td>http://tmz.com</td>\n",
       "      <td>876aa5e83f6fb81a81908db3c02fdcc00d444000.png</td>\n",
       "      <td>2017-03-27T12:59:09.279Z</td>\n",
       "      <td>http://scribol.com/a/news-and-politics/ways-jo...</td>\n",
       "      <td>NaN</td>\n",
       "      <td>console.brax-cdn.com</td>\n",
       "      <td>scribol.com</td>\n",
       "      <td>tabloid</td>\n",
       "    </tr>\n",
       "    <tr>\n",
       "      <th>8</th>\n",
       "      <td>ObjectId(58d90ce706e10d04f7e1b3e0)</td>\n",
       "      <td>25 Pics Donald Trump Doesn't Want You To See</td>\n",
       "      <td>http://adrzr.com/54f7?utm_source=8b4&amp;utm_campa...</td>\n",
       "      <td>http://cdn.taboolasyndication.com/libtrc/stati...</td>\n",
       "      <td>taboola</td>\n",
       "      <td>http://tmz.com</td>\n",
       "      <td>d3a3f2f50c84529c08bb8314ae3aa66280f0cbc7.png</td>\n",
       "      <td>2017-03-27T12:59:13.038Z</td>\n",
       "      <td>http://detonate.com/pictures-that-trump-would-...</td>\n",
       "      <td>NaN</td>\n",
       "      <td>cdn.taboolasyndication.com</td>\n",
       "      <td>detonate.com</td>\n",
       "      <td>tabloid</td>\n",
       "    </tr>\n",
       "    <tr>\n",
       "      <th>10</th>\n",
       "      <td>ObjectId(58d90ce706e10d04f7e1b3e2)</td>\n",
       "      <td>Do This Tonight to Make Fungus Disappear by Mo...</td>\n",
       "      <td>http://japanesetoenailfunguscode.com/?aff_id=4...</td>\n",
       "      <td>https://revcontent-p0.s3.amazonaws.com/content...</td>\n",
       "      <td>revcontent</td>\n",
       "      <td>http://worldstarhiphop.com/videos/</td>\n",
       "      <td>e2bb63d58e09bae569a90f64de24c93a2d008e34.jpg</td>\n",
       "      <td>2017-03-27T12:59:15.114Z</td>\n",
       "      <td>http://japanesetoenailfunguscode.com/?aff_id=4...</td>\n",
       "      <td>NaN</td>\n",
       "      <td>revcontent-p0.s3.amazonaws.com</td>\n",
       "      <td>japanesetoenailfunguscode.com</td>\n",
       "      <td>tabloid</td>\n",
       "    </tr>\n",
       "    <tr>\n",
       "      <th>11</th>\n",
       "      <td>ObjectId(58d90ce706e10d04f7e1b3e3)</td>\n",
       "      <td>Here's What New Dental Implants Should Cost Yo...</td>\n",
       "      <td>http://gaindentalfixdeals.com/?affid=1016&amp;s1=1...</td>\n",
       "      <td>https://revcontent-p0.s3.amazonaws.com/content...</td>\n",
       "      <td>revcontent</td>\n",
       "      <td>http://worldstarhiphop.com/videos/</td>\n",
       "      <td>f70f91d2ebf37e35480fe4f689477406adf9243e.jpg</td>\n",
       "      <td>2017-03-27T12:59:15.237Z</td>\n",
       "      <td>http://gaindentalfixdeals.com/?affid=1016&amp;s1=1...</td>\n",
       "      <td>NaN</td>\n",
       "      <td>revcontent-p0.s3.amazonaws.com</td>\n",
       "      <td>gaindentalfixdeals.com</td>\n",
       "      <td>tabloid</td>\n",
       "    </tr>\n",
       "    <tr>\n",
       "      <th>12</th>\n",
       "      <td>ObjectId(58d90ce706e10d04f7e1b3e4)</td>\n",
       "      <td>Michael Jordan Has Pretty Much Given Up on His...</td>\n",
       "      <td>http://trends.revcontent.com/click.php?d=vJdwp...</td>\n",
       "      <td>https://revcontent-p0.s3.amazonaws.com/content...</td>\n",
       "      <td>revcontent</td>\n",
       "      <td>http://worldstarhiphop.com/videos/</td>\n",
       "      <td>ab914b86682795c6d6624707b22b06f88f0e551a.jpg</td>\n",
       "      <td>2017-03-27T12:59:15.614Z</td>\n",
       "      <td>http://trends.revcontent.com/click.php?d=vJdwp...</td>\n",
       "      <td>NaN</td>\n",
       "      <td>revcontent-p0.s3.amazonaws.com</td>\n",
       "      <td>trends.revcontent.com</td>\n",
       "      <td>tabloid</td>\n",
       "    </tr>\n",
       "  </tbody>\n",
       "</table>\n",
       "</div>"
      ],
      "text/plain": [
       "                                   _id  \\\n",
       "0   ObjectId(58d90ce706e10d04f7e1b3d8)   \n",
       "8   ObjectId(58d90ce706e10d04f7e1b3e0)   \n",
       "10  ObjectId(58d90ce706e10d04f7e1b3e2)   \n",
       "11  ObjectId(58d90ce706e10d04f7e1b3e3)   \n",
       "12  ObjectId(58d90ce706e10d04f7e1b3e4)   \n",
       "\n",
       "                                             headline  \\\n",
       "0     20 Cool Moments From Joe Biden’s Time In Office   \n",
       "8        25 Pics Donald Trump Doesn't Want You To See   \n",
       "10  Do This Tonight to Make Fungus Disappear by Mo...   \n",
       "11  Here's What New Dental Implants Should Cost Yo...   \n",
       "12  Michael Jordan Has Pretty Much Given Up on His...   \n",
       "\n",
       "                                                 link  \\\n",
       "0   http://scribol.com/a/news-and-politics/ways-jo...   \n",
       "8   http://adrzr.com/54f7?utm_source=8b4&utm_campa...   \n",
       "10  http://japanesetoenailfunguscode.com/?aff_id=4...   \n",
       "11  http://gaindentalfixdeals.com/?affid=1016&s1=1...   \n",
       "12  http://trends.revcontent.com/click.php?d=vJdwp...   \n",
       "\n",
       "                                                  img    provider  \\\n",
       "0   https://console.brax-cdn.com/creatives/98c6400...     taboola   \n",
       "8   http://cdn.taboolasyndication.com/libtrc/stati...     taboola   \n",
       "10  https://revcontent-p0.s3.amazonaws.com/content...  revcontent   \n",
       "11  https://revcontent-p0.s3.amazonaws.com/content...  revcontent   \n",
       "12  https://revcontent-p0.s3.amazonaws.com/content...  revcontent   \n",
       "\n",
       "                                source  \\\n",
       "0                       http://tmz.com   \n",
       "8                       http://tmz.com   \n",
       "10  http://worldstarhiphop.com/videos/   \n",
       "11  http://worldstarhiphop.com/videos/   \n",
       "12  http://worldstarhiphop.com/videos/   \n",
       "\n",
       "                                        img_file                      date  \\\n",
       "0   876aa5e83f6fb81a81908db3c02fdcc00d444000.png  2017-03-27T12:59:09.279Z   \n",
       "8   d3a3f2f50c84529c08bb8314ae3aa66280f0cbc7.png  2017-03-27T12:59:13.038Z   \n",
       "10  e2bb63d58e09bae569a90f64de24c93a2d008e34.jpg  2017-03-27T12:59:15.114Z   \n",
       "11  f70f91d2ebf37e35480fe4f689477406adf9243e.jpg  2017-03-27T12:59:15.237Z   \n",
       "12  ab914b86682795c6d6624707b22b06f88f0e551a.jpg  2017-03-27T12:59:15.614Z   \n",
       "\n",
       "                                           final_link orig_article  \\\n",
       "0   http://scribol.com/a/news-and-politics/ways-jo...          NaN   \n",
       "8   http://detonate.com/pictures-that-trump-would-...          NaN   \n",
       "10  http://japanesetoenailfunguscode.com/?aff_id=4...          NaN   \n",
       "11  http://gaindentalfixdeals.com/?affid=1016&s1=1...          NaN   \n",
       "12  http://trends.revcontent.com/click.php?d=vJdwp...          NaN   \n",
       "\n",
       "                          img_host                      link_host source_class  \n",
       "0             console.brax-cdn.com                    scribol.com      tabloid  \n",
       "8       cdn.taboolasyndication.com                   detonate.com      tabloid  \n",
       "10  revcontent-p0.s3.amazonaws.com  japanesetoenailfunguscode.com      tabloid  \n",
       "11  revcontent-p0.s3.amazonaws.com         gaindentalfixdeals.com      tabloid  \n",
       "12  revcontent-p0.s3.amazonaws.com          trends.revcontent.com      tabloid  "
      ]
     },
     "execution_count": 18,
     "metadata": {},
     "output_type": "execute_result"
    }
   ],
   "source": [
    "deduped_non_date_indexed.head()"
   ]
  },
  {
   "cell_type": "code",
   "execution_count": 19,
   "metadata": {
    "collapsed": false
   },
   "outputs": [
    {
     "data": {
      "text/html": [
       "<div>\n",
       "<table border=\"1\" class=\"dataframe\">\n",
       "  <thead>\n",
       "    <tr style=\"text-align: right;\">\n",
       "      <th></th>\n",
       "      <th>_id</th>\n",
       "      <th>headline</th>\n",
       "      <th>link</th>\n",
       "      <th>img</th>\n",
       "      <th>provider</th>\n",
       "      <th>source</th>\n",
       "      <th>img_file</th>\n",
       "      <th>final_link</th>\n",
       "      <th>orig_article</th>\n",
       "      <th>img_host</th>\n",
       "      <th>link_host</th>\n",
       "      <th>source_class</th>\n",
       "      <th>date</th>\n",
       "    </tr>\n",
       "  </thead>\n",
       "  <tbody>\n",
       "    <tr>\n",
       "      <th>count</th>\n",
       "      <td>43630</td>\n",
       "      <td>43630</td>\n",
       "      <td>43630</td>\n",
       "      <td>43630</td>\n",
       "      <td>43630</td>\n",
       "      <td>43630</td>\n",
       "      <td>43630</td>\n",
       "      <td>43630</td>\n",
       "      <td>25177</td>\n",
       "      <td>43630</td>\n",
       "      <td>43630</td>\n",
       "      <td>43630</td>\n",
       "      <td>43630</td>\n",
       "    </tr>\n",
       "    <tr>\n",
       "      <th>unique</th>\n",
       "      <td>43630</td>\n",
       "      <td>15219</td>\n",
       "      <td>35541</td>\n",
       "      <td>19311</td>\n",
       "      <td>4</td>\n",
       "      <td>24</td>\n",
       "      <td>19314</td>\n",
       "      <td>30873</td>\n",
       "      <td>5195</td>\n",
       "      <td>568</td>\n",
       "      <td>2196</td>\n",
       "      <td>4</td>\n",
       "      <td>93</td>\n",
       "    </tr>\n",
       "    <tr>\n",
       "      <th>top</th>\n",
       "      <td>ObjectId(592f13719e1e2a3b94a6fbf1)</td>\n",
       "      <td>Nicole Kidman's Yacht Is Far From You'd Expect</td>\n",
       "      <td>http://topictracker.online/?utm_campaign=us-tb...</td>\n",
       "      <td>http://cdn.taboolasyndication.com/libtrc/stati...</td>\n",
       "      <td>taboola</td>\n",
       "      <td>http://tmz.com</td>\n",
       "      <td>f18167ca58fee4ae691a28ecd39b0c1afe2689e4.jpg</td>\n",
       "      <td>http://www.zergnet.com/news/694817/kim-kardash...</td>\n",
       "      <td>http://elitedaily.com/women/elite-daily-wants-...</td>\n",
       "      <td>images.outbrain.com</td>\n",
       "      <td>www.zergnet.com</td>\n",
       "      <td>tabloid</td>\n",
       "      <td>2017-07-08</td>\n",
       "    </tr>\n",
       "    <tr>\n",
       "      <th>freq</th>\n",
       "      <td>1</td>\n",
       "      <td>376</td>\n",
       "      <td>110</td>\n",
       "      <td>368</td>\n",
       "      <td>13431</td>\n",
       "      <td>5070</td>\n",
       "      <td>368</td>\n",
       "      <td>126</td>\n",
       "      <td>51</td>\n",
       "      <td>12259</td>\n",
       "      <td>7257</td>\n",
       "      <td>16005</td>\n",
       "      <td>1353</td>\n",
       "    </tr>\n",
       "  </tbody>\n",
       "</table>\n",
       "</div>"
      ],
      "text/plain": [
       "                                       _id  \\\n",
       "count                                43630   \n",
       "unique                               43630   \n",
       "top     ObjectId(592f13719e1e2a3b94a6fbf1)   \n",
       "freq                                     1   \n",
       "\n",
       "                                              headline  \\\n",
       "count                                            43630   \n",
       "unique                                           15219   \n",
       "top     Nicole Kidman's Yacht Is Far From You'd Expect   \n",
       "freq                                               376   \n",
       "\n",
       "                                                     link  \\\n",
       "count                                               43630   \n",
       "unique                                              35541   \n",
       "top     http://topictracker.online/?utm_campaign=us-tb...   \n",
       "freq                                                  110   \n",
       "\n",
       "                                                      img provider  \\\n",
       "count                                               43630    43630   \n",
       "unique                                              19311        4   \n",
       "top     http://cdn.taboolasyndication.com/libtrc/stati...  taboola   \n",
       "freq                                                  368    13431   \n",
       "\n",
       "                source                                      img_file  \\\n",
       "count            43630                                         43630   \n",
       "unique              24                                         19314   \n",
       "top     http://tmz.com  f18167ca58fee4ae691a28ecd39b0c1afe2689e4.jpg   \n",
       "freq              5070                                           368   \n",
       "\n",
       "                                               final_link  \\\n",
       "count                                               43630   \n",
       "unique                                              30873   \n",
       "top     http://www.zergnet.com/news/694817/kim-kardash...   \n",
       "freq                                                  126   \n",
       "\n",
       "                                             orig_article  \\\n",
       "count                                               25177   \n",
       "unique                                               5195   \n",
       "top     http://elitedaily.com/women/elite-daily-wants-...   \n",
       "freq                                                   51   \n",
       "\n",
       "                   img_host        link_host source_class        date  \n",
       "count                 43630            43630        43630       43630  \n",
       "unique                  568             2196            4          93  \n",
       "top     images.outbrain.com  www.zergnet.com      tabloid  2017-07-08  \n",
       "freq                  12259             7257        16005        1353  "
      ]
     },
     "execution_count": 19,
     "metadata": {},
     "output_type": "execute_result"
    }
   ],
   "source": [
    "deduped.describe()"
   ]
  },
  {
   "cell_type": "markdown",
   "metadata": {},
   "source": [
    "And let's just check on those null values again..."
   ]
  },
  {
   "cell_type": "code",
   "execution_count": 20,
   "metadata": {
    "collapsed": false
   },
   "outputs": [
    {
     "name": "stdout",
     "output_type": "stream",
     "text": [
      "('_id', 0)\n",
      "('headline', 0)\n",
      "('link', 0)\n",
      "('img', 0)\n",
      "('provider', 0)\n",
      "('source', 0)\n",
      "('img_file', 0)\n",
      "('final_link', 0)\n",
      "('orig_article', 18453)\n",
      "('img_host', 0)\n",
      "('link_host', 0)\n",
      "('source_class', 0)\n",
      "('date', 0)\n"
     ]
    }
   ],
   "source": [
    "for col in deduped.columns:\n",
    "    print((col, sum(deduped[col].isnull())))"
   ]
  },
  {
   "cell_type": "markdown",
   "metadata": {},
   "source": [
    "Just to be sure it's doing what we assume it's doing, let's just remove duplicates based on headline. I assume this would leave us with far less records as I don't doubt that the same headline migh appear on another website."
   ]
  },
  {
   "cell_type": "code",
   "execution_count": 21,
   "metadata": {
    "collapsed": true
   },
   "outputs": [],
   "source": [
    "deduped_hl = data.drop_duplicates(subset=['headline'], keep=False)"
   ]
  },
  {
   "cell_type": "code",
   "execution_count": 22,
   "metadata": {
    "collapsed": false
   },
   "outputs": [
    {
     "data": {
      "text/html": [
       "<div>\n",
       "<table border=\"1\" class=\"dataframe\">\n",
       "  <thead>\n",
       "    <tr style=\"text-align: right;\">\n",
       "      <th></th>\n",
       "      <th>_id</th>\n",
       "      <th>headline</th>\n",
       "      <th>link</th>\n",
       "      <th>img</th>\n",
       "      <th>provider</th>\n",
       "      <th>source</th>\n",
       "      <th>img_file</th>\n",
       "      <th>final_link</th>\n",
       "      <th>orig_article</th>\n",
       "      <th>img_host</th>\n",
       "      <th>link_host</th>\n",
       "      <th>source_class</th>\n",
       "      <th>date</th>\n",
       "    </tr>\n",
       "  </thead>\n",
       "  <tbody>\n",
       "    <tr>\n",
       "      <th>count</th>\n",
       "      <td>8466</td>\n",
       "      <td>8466</td>\n",
       "      <td>8466</td>\n",
       "      <td>8466</td>\n",
       "      <td>8466</td>\n",
       "      <td>8466</td>\n",
       "      <td>8466</td>\n",
       "      <td>8466</td>\n",
       "      <td>4509</td>\n",
       "      <td>8466</td>\n",
       "      <td>8466</td>\n",
       "      <td>8466</td>\n",
       "      <td>8466</td>\n",
       "    </tr>\n",
       "    <tr>\n",
       "      <th>unique</th>\n",
       "      <td>8466</td>\n",
       "      <td>8466</td>\n",
       "      <td>7787</td>\n",
       "      <td>8036</td>\n",
       "      <td>4</td>\n",
       "      <td>24</td>\n",
       "      <td>8009</td>\n",
       "      <td>7793</td>\n",
       "      <td>2135</td>\n",
       "      <td>400</td>\n",
       "      <td>1601</td>\n",
       "      <td>4</td>\n",
       "      <td>93</td>\n",
       "    </tr>\n",
       "    <tr>\n",
       "      <th>top</th>\n",
       "      <td>ObjectId(5904b68d06e10d08b96da8c6)</td>\n",
       "      <td>Why You Should Eat Anchovies If You Have…</td>\n",
       "      <td>http://advertisementfeature.cnn.com/2017/yanmar</td>\n",
       "      <td>http://cdn.taboolasyndication.com/libtrc/stati...</td>\n",
       "      <td>outbrain</td>\n",
       "      <td>http://www.politico.com/magazine/</td>\n",
       "      <td>nan</td>\n",
       "      <td>http://www.homeadvisor.com/?utm_source=Outbrain</td>\n",
       "      <td>http://www.businessinsider.com/dave-mcclure-no...</td>\n",
       "      <td>images.outbrain.com</td>\n",
       "      <td>www.zergnet.com</td>\n",
       "      <td>left</td>\n",
       "      <td>2017-07-01</td>\n",
       "    </tr>\n",
       "    <tr>\n",
       "      <th>freq</th>\n",
       "      <td>1</td>\n",
       "      <td>1</td>\n",
       "      <td>9</td>\n",
       "      <td>8</td>\n",
       "      <td>4166</td>\n",
       "      <td>1347</td>\n",
       "      <td>31</td>\n",
       "      <td>10</td>\n",
       "      <td>28</td>\n",
       "      <td>4168</td>\n",
       "      <td>884</td>\n",
       "      <td>3443</td>\n",
       "      <td>264</td>\n",
       "    </tr>\n",
       "  </tbody>\n",
       "</table>\n",
       "</div>"
      ],
      "text/plain": [
       "                                       _id  \\\n",
       "count                                 8466   \n",
       "unique                                8466   \n",
       "top     ObjectId(5904b68d06e10d08b96da8c6)   \n",
       "freq                                     1   \n",
       "\n",
       "                                         headline  \\\n",
       "count                                        8466   \n",
       "unique                                       8466   \n",
       "top     Why You Should Eat Anchovies If You Have…   \n",
       "freq                                            1   \n",
       "\n",
       "                                                   link  \\\n",
       "count                                              8466   \n",
       "unique                                             7787   \n",
       "top     http://advertisementfeature.cnn.com/2017/yanmar   \n",
       "freq                                                  9   \n",
       "\n",
       "                                                      img  provider  \\\n",
       "count                                                8466      8466   \n",
       "unique                                               8036         4   \n",
       "top     http://cdn.taboolasyndication.com/libtrc/stati...  outbrain   \n",
       "freq                                                    8      4166   \n",
       "\n",
       "                                   source img_file  \\\n",
       "count                                8466     8466   \n",
       "unique                                 24     8009   \n",
       "top     http://www.politico.com/magazine/      nan   \n",
       "freq                                 1347       31   \n",
       "\n",
       "                                             final_link  \\\n",
       "count                                              8466   \n",
       "unique                                             7793   \n",
       "top     http://www.homeadvisor.com/?utm_source=Outbrain   \n",
       "freq                                                 10   \n",
       "\n",
       "                                             orig_article  \\\n",
       "count                                                4509   \n",
       "unique                                               2135   \n",
       "top     http://www.businessinsider.com/dave-mcclure-no...   \n",
       "freq                                                   28   \n",
       "\n",
       "                   img_host        link_host source_class        date  \n",
       "count                  8466             8466         8466        8466  \n",
       "unique                  400             1601            4          93  \n",
       "top     images.outbrain.com  www.zergnet.com         left  2017-07-01  \n",
       "freq                   4168              884         3443         264  "
      ]
     },
     "execution_count": 22,
     "metadata": {},
     "output_type": "execute_result"
    }
   ],
   "source": [
    "deduped_hl.describe()"
   ]
  },
  {
   "cell_type": "markdown",
   "metadata": {},
   "source": [
    "And sure enought we're only left with 8466 records if we only want records with unique headlines."
   ]
  },
  {
   "cell_type": "code",
   "execution_count": 23,
   "metadata": {
    "collapsed": true
   },
   "outputs": [],
   "source": [
    "deduped_hl_source = data.drop_duplicates(subset=['headline', 'source'], keep=False)"
   ]
  },
  {
   "cell_type": "code",
   "execution_count": 24,
   "metadata": {
    "collapsed": false
   },
   "outputs": [
    {
     "data": {
      "text/html": [
       "<div>\n",
       "<table border=\"1\" class=\"dataframe\">\n",
       "  <thead>\n",
       "    <tr style=\"text-align: right;\">\n",
       "      <th></th>\n",
       "      <th>_id</th>\n",
       "      <th>headline</th>\n",
       "      <th>link</th>\n",
       "      <th>img</th>\n",
       "      <th>provider</th>\n",
       "      <th>source</th>\n",
       "      <th>img_file</th>\n",
       "      <th>final_link</th>\n",
       "      <th>orig_article</th>\n",
       "      <th>img_host</th>\n",
       "      <th>link_host</th>\n",
       "      <th>source_class</th>\n",
       "      <th>date</th>\n",
       "    </tr>\n",
       "  </thead>\n",
       "  <tbody>\n",
       "    <tr>\n",
       "      <th>count</th>\n",
       "      <td>13270</td>\n",
       "      <td>13270</td>\n",
       "      <td>13270</td>\n",
       "      <td>13270</td>\n",
       "      <td>13270</td>\n",
       "      <td>13270</td>\n",
       "      <td>13270</td>\n",
       "      <td>13270</td>\n",
       "      <td>7028</td>\n",
       "      <td>13270</td>\n",
       "      <td>13270</td>\n",
       "      <td>13270</td>\n",
       "      <td>13270</td>\n",
       "    </tr>\n",
       "    <tr>\n",
       "      <th>unique</th>\n",
       "      <td>13270</td>\n",
       "      <td>11376</td>\n",
       "      <td>11438</td>\n",
       "      <td>11527</td>\n",
       "      <td>4</td>\n",
       "      <td>24</td>\n",
       "      <td>11492</td>\n",
       "      <td>11450</td>\n",
       "      <td>2979</td>\n",
       "      <td>526</td>\n",
       "      <td>1814</td>\n",
       "      <td>4</td>\n",
       "      <td>93</td>\n",
       "    </tr>\n",
       "    <tr>\n",
       "      <th>top</th>\n",
       "      <td>ObjectId(59457ebe9e1e2a7b398bec62)</td>\n",
       "      <td>5 Steps To Raising A Viking Child</td>\n",
       "      <td>https://ad.doubleclick.net/ddm/trackclk/N6296....</td>\n",
       "      <td>https://pgeveryday-com.secure.footprint.net/As...</td>\n",
       "      <td>taboola</td>\n",
       "      <td>http://www.politico.com/magazine/</td>\n",
       "      <td>nan</td>\n",
       "      <td>https://www.verizon.com/home/fios-gigabit-conn...</td>\n",
       "      <td>http://www.businessinsider.com/dave-mcclure-no...</td>\n",
       "      <td>images.outbrain.com</td>\n",
       "      <td>www.zergnet.com</td>\n",
       "      <td>left</td>\n",
       "      <td>2017-07-01</td>\n",
       "    </tr>\n",
       "    <tr>\n",
       "      <th>freq</th>\n",
       "      <td>1</td>\n",
       "      <td>6</td>\n",
       "      <td>21</td>\n",
       "      <td>9</td>\n",
       "      <td>6218</td>\n",
       "      <td>1550</td>\n",
       "      <td>52</td>\n",
       "      <td>21</td>\n",
       "      <td>41</td>\n",
       "      <td>5815</td>\n",
       "      <td>980</td>\n",
       "      <td>5543</td>\n",
       "      <td>392</td>\n",
       "    </tr>\n",
       "  </tbody>\n",
       "</table>\n",
       "</div>"
      ],
      "text/plain": [
       "                                       _id                           headline  \\\n",
       "count                                13270                              13270   \n",
       "unique                               13270                              11376   \n",
       "top     ObjectId(59457ebe9e1e2a7b398bec62)  5 Steps To Raising A Viking Child   \n",
       "freq                                     1                                  6   \n",
       "\n",
       "                                                     link  \\\n",
       "count                                               13270   \n",
       "unique                                              11438   \n",
       "top     https://ad.doubleclick.net/ddm/trackclk/N6296....   \n",
       "freq                                                   21   \n",
       "\n",
       "                                                      img provider  \\\n",
       "count                                               13270    13270   \n",
       "unique                                              11527        4   \n",
       "top     https://pgeveryday-com.secure.footprint.net/As...  taboola   \n",
       "freq                                                    9     6218   \n",
       "\n",
       "                                   source img_file  \\\n",
       "count                               13270    13270   \n",
       "unique                                 24    11492   \n",
       "top     http://www.politico.com/magazine/      nan   \n",
       "freq                                 1550       52   \n",
       "\n",
       "                                               final_link  \\\n",
       "count                                               13270   \n",
       "unique                                              11450   \n",
       "top     https://www.verizon.com/home/fios-gigabit-conn...   \n",
       "freq                                                   21   \n",
       "\n",
       "                                             orig_article  \\\n",
       "count                                                7028   \n",
       "unique                                               2979   \n",
       "top     http://www.businessinsider.com/dave-mcclure-no...   \n",
       "freq                                                   41   \n",
       "\n",
       "                   img_host        link_host source_class        date  \n",
       "count                 13270            13270        13270       13270  \n",
       "unique                  526             1814            4          93  \n",
       "top     images.outbrain.com  www.zergnet.com         left  2017-07-01  \n",
       "freq                   5815              980         5543         392  "
      ]
     },
     "execution_count": 24,
     "metadata": {},
     "output_type": "execute_result"
    }
   ],
   "source": [
    "deduped_hl_source.describe()"
   ]
  },
  {
   "cell_type": "markdown",
   "metadata": {},
   "source": [
    "But that's enough of that. Let's return to the unique records we're interested in in `deduped`. But first, let's take a look at the rate of success for our record collection."
   ]
  },
  {
   "cell_type": "code",
   "execution_count": 25,
   "metadata": {
    "collapsed": false
   },
   "outputs": [
    {
     "data": {
      "text/plain": [
       "33.71741667246269"
      ]
     },
     "execution_count": 25,
     "metadata": {},
     "output_type": "execute_result"
    }
   ],
   "source": [
    "(43630/129399)*100"
   ]
  },
  {
   "cell_type": "markdown",
   "metadata": {},
   "source": [
    "Crud, doing a harvest yields results where only 33% of our sample is worth examining further. "
   ]
  },
  {
   "cell_type": "markdown",
   "metadata": {},
   "source": [
    "Note: We might still be interested in the duplicates if we take a look at the distribution of those records over time. Below, we should probably reduce the date of collection to a week or maybe a 3 day sequence and only remove duplicates if they happened within that period. Which might tell us something about content being shuffled in and out by the provider."
   ]
  },
  {
   "cell_type": "markdown",
   "metadata": {},
   "source": [
    "Let's get the top 10 headlines grouped by img"
   ]
  },
  {
   "cell_type": "code",
   "execution_count": 26,
   "metadata": {
    "collapsed": false,
    "scrolled": true
   },
   "outputs": [
    {
     "data": {
      "text/plain": [
       "img                                                                                                         headline                                                                                                 \n",
       "http://cdn.taboolasyndication.com/libtrc/static/thumbnails/21a99ebd78f2af61aeeec2074e0376c0.jpg             Nicole Kidman's Yacht Is Far From You'd Expect                                                               368\n",
       "https://revcontent-p0.s3.amazonaws.com/content/images/1495720487.jpg                                        Triple Your Accuracy With This Weird Shooting Technique Used By Seal Snipers                                 238\n",
       "http://cdn.taboolasyndication.com/libtrc/static/thumbnails/0dba2430aca9e98e05160cfd6e6d3171.jpg             Here Is How You Upgrade To Business Class                                                                    227\n",
       "http://cdn.taboolasyndication.com/libtrc/static/thumbnails/2e967b6db0813815a899401b4746a749.jpg             Stairlifts are disrupting the multi-billion dollar retirement home industry - keeping seniors independent    197\n",
       "http://cdn.taboolasyndication.com/libtrc/static/thumbnails/6b232005189e48716587f79b33347846.jpg             Tiger Woods' Yacht Is Far From You'd Expect                                                                  171\n",
       "https://revcontent-p0.s3.amazonaws.com/content/images/cf94a60e6dd053bb9a83231322545e99.jpg                  28 Pictures That Show How Crazy Woodstock 1969 Was                                                           139\n",
       "https://revcontent-p0.s3.amazonaws.com/p0/assets/content_images/emb/7152612145c7f9231d1e2229a5c7fce4-0.png  We Can Guess Your Education Level with Only 10 Questions                                                     132\n",
       "http://img2.zergnet.com/694817_300.jpg                                                                      Kim Kardashian and North West Turn Heads On The Red Carpet                                                   125\n",
       "http://cdn.taboolasyndication.com/libtrc/static/thumbnails/e70c96286da170d65cbf3fc4c9a3e400.jpg             Best Senior Living Communities Of 2017! View Pricing Here & Compare                                          121\n",
       "https://revcontent-p0.s3.amazonaws.com/content/images/1497897658.jpg                                        Trump Voters Shocked After Watching This Leaked Video                                                        120\n",
       "Name: headline, dtype: int64"
      ]
     },
     "execution_count": 26,
     "metadata": {},
     "output_type": "execute_result"
    }
   ],
   "source": [
    "deduped['headline'].groupby(deduped['img']).value_counts().nlargest(10)"
   ]
  },
  {
   "cell_type": "markdown",
   "metadata": {},
   "source": [
    "But hang on. let's just see what the top headlines are. There's certainly overlap, but it's not a one to one relationship between headlines and their images (or at least maybe it's the same image, but coming from a different URL)."
   ]
  },
  {
   "cell_type": "code",
   "execution_count": 27,
   "metadata": {
    "collapsed": false,
    "scrolled": true
   },
   "outputs": [
    {
     "data": {
      "text/plain": [
       "Nicole Kidman's Yacht Is Far From You'd Expect                                                               376\n",
       "Triple Your Accuracy With This Weird Shooting Technique Used By Seal Snipers                                 260\n",
       "Forget Social Security if you Own a Home (Do This)                                                           231\n",
       "Here Is How You Upgrade To Business Class                                                                    227\n",
       "Stairlifts are disrupting the multi-billion dollar retirement home industry - keeping seniors independent    200\n",
       "Tiger Woods' Yacht Is Far From You'd Expect                                                                  181\n",
       "Watch Obama's Face at 0:33. This Leaked Video Will Destroy Obama's Legacy                                    169\n",
       "New Jersey Landlines Get Replaced (But Not With Cell Phones)                                                 161\n",
       "Best Senior Living Communities Of 2017! View Pricing Here & Compare                                          144\n",
       "28 Pictures That Show How Crazy Woodstock 1969 Was                                                           139\n",
       "Name: headline, dtype: int64"
      ]
     },
     "execution_count": 27,
     "metadata": {},
     "output_type": "execute_result"
    }
   ],
   "source": [
    "deduped['headline'].value_counts().nlargest(10)"
   ]
  },
  {
   "cell_type": "markdown",
   "metadata": {},
   "source": [
    "Note: perhaps something we will want to look into is how many different headline, image permutations there are. I am particularly interested in the reuse of images across different headlines."
   ]
  },
  {
   "cell_type": "code",
   "execution_count": 28,
   "metadata": {
    "collapsed": false,
    "scrolled": true
   },
   "outputs": [
    {
     "data": {
      "text/plain": [
       "http://tmz.com                        5070\n",
       "http://elitedaily.com/                4873\n",
       "http://www.politico.com/magazine/     3151\n",
       "https://www.washingtonpost.com/       2961\n",
       "http://www.infowars.com/              2561\n",
       "http://www.thedailybeast.com/         2455\n",
       "http://www.breitbart.com              2443\n",
       "https://downtrend.com/                2421\n",
       "http://www.ibtimes.com/               2323\n",
       "http://thehill.com                    2001\n",
       "http://www.businessinsider.com/       1984\n",
       "http://www.rt.com                     1819\n",
       "http://www.politico.com/politics      1708\n",
       "http://worldstarhiphop.com/videos/    1292\n",
       "http://www.dailymail.co.uk/           1159\n",
       "http://reductress.com/                1082\n",
       "https://nypost.com/news/               979\n",
       "http://www.nydailynews.com/news        864\n",
       "http://www.huffingtonpost.com/         814\n",
       "https://www.therebel.media/news        756\n",
       "http://observer.com/latest/            696\n",
       "http://preventionpulse.com/            108\n",
       "http://gothamist.com/news               74\n",
       "http://www.metro.us/news                36\n",
       "Name: source, dtype: int64"
      ]
     },
     "execution_count": 28,
     "metadata": {},
     "output_type": "execute_result"
    }
   ],
   "source": [
    "deduped['source'].value_counts().nlargest(25)"
   ]
  },
  {
   "cell_type": "markdown",
   "metadata": {},
   "source": [
    "And what about by classification"
   ]
  },
  {
   "cell_type": "code",
   "execution_count": 29,
   "metadata": {
    "collapsed": false
   },
   "outputs": [
    {
     "data": {
      "text/plain": [
       "tabloid    16005\n",
       "left       12063\n",
       "right       9254\n",
       "center      6308\n",
       "Name: source_class, dtype: int64"
      ]
     },
     "execution_count": 29,
     "metadata": {},
     "output_type": "execute_result"
    }
   ],
   "source": [
    "deduped['source_class'].value_counts()"
   ]
  },
  {
   "cell_type": "markdown",
   "metadata": {},
   "source": [
    "ok so what are the most frequent images?"
   ]
  },
  {
   "cell_type": "code",
   "execution_count": 30,
   "metadata": {
    "collapsed": true,
    "scrolled": true
   },
   "outputs": [],
   "source": [
    "IMG_MAX=5"
   ]
  },
  {
   "cell_type": "code",
   "execution_count": 31,
   "metadata": {
    "collapsed": false
   },
   "outputs": [],
   "source": [
    "topimgs_center = deduped_non_date_indexed['img'][deduped_non_date_indexed['source_class'].isin(['center'])].value_counts().nlargest(IMG_MAX).index.tolist()"
   ]
  },
  {
   "cell_type": "code",
   "execution_count": 32,
   "metadata": {
    "collapsed": false
   },
   "outputs": [],
   "source": [
    "topimgs_left = deduped_non_date_indexed['img'][deduped_non_date_indexed['source_class'].isin(['left'])].value_counts().nlargest(IMG_MAX).index.tolist()"
   ]
  },
  {
   "cell_type": "code",
   "execution_count": 33,
   "metadata": {
    "collapsed": true
   },
   "outputs": [],
   "source": [
    "topimgs_right = deduped_non_date_indexed['img'][deduped_non_date_indexed['source_class'].isin(['right'])].value_counts().nlargest(IMG_MAX).index.tolist()"
   ]
  },
  {
   "cell_type": "code",
   "execution_count": 34,
   "metadata": {
    "collapsed": true
   },
   "outputs": [],
   "source": [
    "topimgs_tabloid = deduped_non_date_indexed['img'][deduped_non_date_indexed['source_class'].isin(['tabloid'])].value_counts().nlargest(IMG_MAX).index.tolist()"
   ]
  },
  {
   "cell_type": "markdown",
   "metadata": {},
   "source": [
    "If we go back to our provider list, we'll notice that there is nothing from revcontent, and this will reflect in that the 4 sites that are missing from our crawl on our server are all revcontent sites. That's annoying."
   ]
  },
  {
   "cell_type": "code",
   "execution_count": 35,
   "metadata": {
    "collapsed": false
   },
   "outputs": [
    {
     "data": {
      "text/plain": [
       "taboola       13431\n",
       "outbrain      12243\n",
       "zergnet        9215\n",
       "revcontent     8741\n",
       "Name: provider, dtype: int64"
      ]
     },
     "execution_count": 35,
     "metadata": {},
     "output_type": "execute_result"
    }
   ],
   "source": [
    "deduped['provider'].value_counts()"
   ]
  },
  {
   "cell_type": "markdown",
   "metadata": {},
   "source": [
    "Great, lets compare them by source."
   ]
  },
  {
   "cell_type": "code",
   "execution_count": 36,
   "metadata": {
    "collapsed": false
   },
   "outputs": [
    {
     "data": {
      "text/html": [
       "<img src=https://revcontent-p0.s3.amazonaws.com/content/images/1488712282.png width=\"200\"/>"
      ],
      "text/plain": [
       "<IPython.core.display.HTML object>"
      ]
     },
     "metadata": {},
     "output_type": "display_data"
    },
    {
     "data": {
      "text/html": [
       "<img src=http://cdn.taboolasyndication.com/libtrc/static/thumbnails/62ff504289dbb8ad3aab90dd38c3d76c.jpg width=\"200\"/>"
      ],
      "text/plain": [
       "<IPython.core.display.HTML object>"
      ]
     },
     "metadata": {},
     "output_type": "display_data"
    },
    {
     "data": {
      "text/html": [
       "<img src=https://revcontent-p0.s3.amazonaws.com/content/images/7fb571348a7826ef7a6de309090dd46f.png width=\"200\"/>"
      ],
      "text/plain": [
       "<IPython.core.display.HTML object>"
      ]
     },
     "metadata": {},
     "output_type": "display_data"
    },
    {
     "data": {
      "text/html": [
       "<img src=http://cdn.taboolasyndication.com/libtrc/static/thumbnails/0dba2430aca9e98e05160cfd6e6d3171.jpg width=\"200\"/>"
      ],
      "text/plain": [
       "<IPython.core.display.HTML object>"
      ]
     },
     "metadata": {},
     "output_type": "display_data"
    },
    {
     "data": {
      "text/html": [
       "<img src=https://revcontent-p0.s3.amazonaws.com/content/images/1494977893.jpg width=\"200\"/>"
      ],
      "text/plain": [
       "<IPython.core.display.HTML object>"
      ]
     },
     "metadata": {},
     "output_type": "display_data"
    }
   ],
   "source": [
    "for i in topimgs_center:\n",
    "    displaystring = '<img src={} width=\"200\"/>'.format(i)\n",
    "    display(HTML(displaystring))"
   ]
  },
  {
   "cell_type": "code",
   "execution_count": 37,
   "metadata": {
    "collapsed": false
   },
   "outputs": [
    {
     "data": {
      "text/html": [
       "<img src=http://cdn.taboolasyndication.com/libtrc/static/thumbnails/2e967b6db0813815a899401b4746a749.jpg width=\"200\"/>"
      ],
      "text/plain": [
       "<IPython.core.display.HTML object>"
      ]
     },
     "metadata": {},
     "output_type": "display_data"
    },
    {
     "data": {
      "text/html": [
       "<img src=http://cdn.taboolasyndication.com/libtrc/static/thumbnails/0dba2430aca9e98e05160cfd6e6d3171.jpg width=\"200\"/>"
      ],
      "text/plain": [
       "<IPython.core.display.HTML object>"
      ]
     },
     "metadata": {},
     "output_type": "display_data"
    },
    {
     "data": {
      "text/html": [
       "<img src=http://cdn.taboolasyndication.com/libtrc/static/thumbnails/e70c96286da170d65cbf3fc4c9a3e400.jpg width=\"200\"/>"
      ],
      "text/plain": [
       "<IPython.core.display.HTML object>"
      ]
     },
     "metadata": {},
     "output_type": "display_data"
    },
    {
     "data": {
      "text/html": [
       "<img src=http://cdn.taboolasyndication.com/libtrc/static/thumbnails/ce36e5adf29062bfbf9db318f310cfba.jpg width=\"200\"/>"
      ],
      "text/plain": [
       "<IPython.core.display.HTML object>"
      ]
     },
     "metadata": {},
     "output_type": "display_data"
    },
    {
     "data": {
      "text/html": [
       "<img src=http://cdn.taboolasyndication.com/libtrc/static/thumbnails/70a4490ca767d58d5dcbf75a7cdb11fd.png width=\"200\"/>"
      ],
      "text/plain": [
       "<IPython.core.display.HTML object>"
      ]
     },
     "metadata": {},
     "output_type": "display_data"
    }
   ],
   "source": [
    "for i in topimgs_left:\n",
    "    displaystring = '<img src={} width=\"200\"/>'.format(i)\n",
    "    display(HTML(displaystring))"
   ]
  },
  {
   "cell_type": "code",
   "execution_count": 38,
   "metadata": {
    "collapsed": false
   },
   "outputs": [
    {
     "data": {
      "text/html": [
       "<img src=http://cdn.taboolasyndication.com/libtrc/static/thumbnails/21a99ebd78f2af61aeeec2074e0376c0.jpg width=\"200\"/>"
      ],
      "text/plain": [
       "<IPython.core.display.HTML object>"
      ]
     },
     "metadata": {},
     "output_type": "display_data"
    },
    {
     "data": {
      "text/html": [
       "<img src=https://revcontent-p0.s3.amazonaws.com/p0/assets/content_images/emb/7152612145c7f9231d1e2229a5c7fce4-0.png width=\"200\"/>"
      ],
      "text/plain": [
       "<IPython.core.display.HTML object>"
      ]
     },
     "metadata": {},
     "output_type": "display_data"
    },
    {
     "data": {
      "text/html": [
       "<img src=http://cdn.taboolasyndication.com/libtrc/static/thumbnails/6b232005189e48716587f79b33347846.jpg width=\"200\"/>"
      ],
      "text/plain": [
       "<IPython.core.display.HTML object>"
      ]
     },
     "metadata": {},
     "output_type": "display_data"
    },
    {
     "data": {
      "text/html": [
       "<img src=https://revcontent-p0.s3.amazonaws.com/content/images/1495720487.jpg width=\"200\"/>"
      ],
      "text/plain": [
       "<IPython.core.display.HTML object>"
      ]
     },
     "metadata": {},
     "output_type": "display_data"
    },
    {
     "data": {
      "text/html": [
       "<img src=https://revcontent-p0.s3.amazonaws.com/content/images/1496675994.jpg width=\"200\"/>"
      ],
      "text/plain": [
       "<IPython.core.display.HTML object>"
      ]
     },
     "metadata": {},
     "output_type": "display_data"
    }
   ],
   "source": [
    "for i in topimgs_right:\n",
    "    displaystring = '<img src={} width=\"200\"/>'.format(i)\n",
    "    display(HTML(displaystring))"
   ]
  },
  {
   "cell_type": "code",
   "execution_count": 39,
   "metadata": {
    "collapsed": false
   },
   "outputs": [
    {
     "data": {
      "text/html": [
       "<img src=https://revcontent-p0.s3.amazonaws.com/content/images/cf94a60e6dd053bb9a83231322545e99.jpg width=\"200\"/>"
      ],
      "text/plain": [
       "<IPython.core.display.HTML object>"
      ]
     },
     "metadata": {},
     "output_type": "display_data"
    },
    {
     "data": {
      "text/html": [
       "<img src=http://img2.zergnet.com/694817_300.jpg width=\"200\"/>"
      ],
      "text/plain": [
       "<IPython.core.display.HTML object>"
      ]
     },
     "metadata": {},
     "output_type": "display_data"
    },
    {
     "data": {
      "text/html": [
       "<img src=https://revcontent-p0.s3.amazonaws.com/content/images/1497897658.jpg width=\"200\"/>"
      ],
      "text/plain": [
       "<IPython.core.display.HTML object>"
      ]
     },
     "metadata": {},
     "output_type": "display_data"
    },
    {
     "data": {
      "text/html": [
       "<img src=https://revcontent-p0.s3.amazonaws.com/content/images/1495720487.jpg width=\"200\"/>"
      ],
      "text/plain": [
       "<IPython.core.display.HTML object>"
      ]
     },
     "metadata": {},
     "output_type": "display_data"
    },
    {
     "data": {
      "text/html": [
       "<img src=http://img1.zergnet.com/1531624_300.jpg width=\"200\"/>"
      ],
      "text/plain": [
       "<IPython.core.display.HTML object>"
      ]
     },
     "metadata": {},
     "output_type": "display_data"
    }
   ],
   "source": [
    "for i in topimgs_tabloid:\n",
    "    displaystring = '<img src={} width=\"200\"/>'.format(i)\n",
    "    display(HTML(displaystring))"
   ]
  },
  {
   "cell_type": "markdown",
   "metadata": {},
   "source": [
    "Yawn!!"
   ]
  },
  {
   "cell_type": "code",
   "execution_count": 40,
   "metadata": {
    "collapsed": false
   },
   "outputs": [
    {
     "data": {
      "text/plain": [
       "www.zergnet.com              7257\n",
       "trends.revcontent.com        6658\n",
       "www.tmz.com                  1309\n",
       "loanpride.com                 925\n",
       "thehill.com                   674\n",
       "www.historyinorbit.com        504\n",
       "www.yimgl.com                 478\n",
       "www.talktechdaily.com         477\n",
       "scribol.com                   460\n",
       "www.nextadvisor.com           438\n",
       "morningfinance.com            368\n",
       "search.yahoo.com              288\n",
       "www.lifedaily.com             270\n",
       "www.trend-chaser.com          267\n",
       "thebetterfinance.com          265\n",
       "www.directexpose.com          258\n",
       "weightlossgroove.com          241\n",
       "definition.org                240\n",
       "beairfareok.live              227\n",
       "www.aarp.org                  217\n",
       "www.justjared.com             209\n",
       "www.thebrofessional.net       197\n",
       "frank151.com                  196\n",
       "postpopular.com               186\n",
       "quizzes.howstuffworks.com     183\n",
       "Name: link_host, dtype: int64"
      ]
     },
     "execution_count": 40,
     "metadata": {},
     "output_type": "execute_result"
    }
   ],
   "source": [
    "deduped['link_host'].value_counts().nlargest(25)"
   ]
  },
  {
   "cell_type": "code",
   "execution_count": 41,
   "metadata": {
    "collapsed": false
   },
   "outputs": [
    {
     "data": {
      "text/plain": [
       "images.outbrain.com                          12259\n",
       "revcontent-p0.s3.amazonaws.com                8554\n",
       "cdn.taboolasyndication.com                    7310\n",
       "img4.zergnet.com                              2121\n",
       "img1.zergnet.com                              2037\n",
       "img5.zergnet.com                              2015\n",
       "img2.zergnet.com                              1948\n",
       "console.brax-cdn.com                          1837\n",
       "d2x3bkdslnxkuj.cloudfront.net                 1094\n",
       "cdn.taboola.com                                473\n",
       "prezna.com                                     332\n",
       "www.talktechdaily.com                          289\n",
       "www.consumerdaily.com                          201\n",
       "revcontent-production.s3.amazonaws.com         191\n",
       "gleaned-images.stuff.com                       188\n",
       "11001100.s3.amazonaws.com                      176\n",
       "s3.amazonaws.com                               176\n",
       "b1.spassets.com                                151\n",
       "prod-cm-minder-uploads.s3.amazonaws.com        123\n",
       "eam.hexagram.com                                87\n",
       "ec2-54-89-159-211.compute-1.amazonaws.com       80\n",
       "www2.pictures.zimbio.com                        59\n",
       "proxy.topixcdn.com                              55\n",
       "www.viral-kittens.com                           45\n",
       "www3.forbes.com                                 38\n",
       "Name: img_host, dtype: int64"
      ]
     },
     "execution_count": 41,
     "metadata": {},
     "output_type": "execute_result"
    }
   ],
   "source": [
    "deduped['img_host'].value_counts().nlargest(25)"
   ]
  },
  {
   "cell_type": "code",
   "execution_count": 42,
   "metadata": {
    "collapsed": false
   },
   "outputs": [],
   "source": [
    "dates = deduped['date']"
   ]
  },
  {
   "cell_type": "markdown",
   "metadata": {
    "collapsed": false
   },
   "source": [
    "See what dates we're working with"
   ]
  },
  {
   "cell_type": "code",
   "execution_count": 43,
   "metadata": {
    "collapsed": false
   },
   "outputs": [
    {
     "data": {
      "text/plain": [
       "'Start: 2017-03-27 12:59:09.279000  -  End: 2017-07-09 14:31:09.853000'"
      ]
     },
     "execution_count": 43,
     "metadata": {},
     "output_type": "execute_result"
    }
   ],
   "source": [
    "\"Start: {}  -  End: {}\".format(deduped.index.min(), deduped.index.max())"
   ]
  },
  {
   "cell_type": "code",
   "execution_count": 44,
   "metadata": {
    "collapsed": true
   },
   "outputs": [],
   "source": [
    "deduped = deduped.sort_values('date', ascending=True)"
   ]
  },
  {
   "cell_type": "code",
   "execution_count": 45,
   "metadata": {
    "collapsed": false
   },
   "outputs": [
    {
     "data": {
      "text/html": [
       "<div>\n",
       "<table border=\"1\" class=\"dataframe\">\n",
       "  <thead>\n",
       "    <tr style=\"text-align: right;\">\n",
       "      <th></th>\n",
       "      <th>_id</th>\n",
       "      <th>headline</th>\n",
       "      <th>link</th>\n",
       "      <th>img</th>\n",
       "      <th>provider</th>\n",
       "      <th>source</th>\n",
       "      <th>img_file</th>\n",
       "      <th>final_link</th>\n",
       "      <th>orig_article</th>\n",
       "      <th>img_host</th>\n",
       "      <th>link_host</th>\n",
       "      <th>source_class</th>\n",
       "      <th>date</th>\n",
       "    </tr>\n",
       "  </thead>\n",
       "  <tbody>\n",
       "    <tr>\n",
       "      <th>count</th>\n",
       "      <td>4740</td>\n",
       "      <td>4740</td>\n",
       "      <td>4740</td>\n",
       "      <td>4740</td>\n",
       "      <td>4740</td>\n",
       "      <td>4740</td>\n",
       "      <td>4740</td>\n",
       "      <td>4740</td>\n",
       "      <td>4740</td>\n",
       "      <td>4740</td>\n",
       "      <td>4740</td>\n",
       "      <td>4740</td>\n",
       "      <td>4740</td>\n",
       "    </tr>\n",
       "    <tr>\n",
       "      <th>unique</th>\n",
       "      <td>4740</td>\n",
       "      <td>2030</td>\n",
       "      <td>4339</td>\n",
       "      <td>2247</td>\n",
       "      <td>4</td>\n",
       "      <td>20</td>\n",
       "      <td>2256</td>\n",
       "      <td>4054</td>\n",
       "      <td>892</td>\n",
       "      <td>123</td>\n",
       "      <td>575</td>\n",
       "      <td>4</td>\n",
       "      <td>6</td>\n",
       "    </tr>\n",
       "    <tr>\n",
       "      <th>top</th>\n",
       "      <td>ObjectId(595c669c06e10d026bff5626)</td>\n",
       "      <td>Triple Your Accuracy With This Weird Shooting ...</td>\n",
       "      <td>http://nmaio.primaltraffic.com/3b3f0b9d-b2a3-4...</td>\n",
       "      <td>https://revcontent-p0.s3.amazonaws.com/content...</td>\n",
       "      <td>revcontent</td>\n",
       "      <td>http://www.infowars.com/</td>\n",
       "      <td>1e3bc2adc7eba5d0f29fff42ff8ab0a55853f1aa.jpg</td>\n",
       "      <td>http://www.zergnet.com/news/694817/kim-kardash...</td>\n",
       "      <td>http://www.businessinsider.com/dave-mcclure-no...</td>\n",
       "      <td>revcontent-p0.s3.amazonaws.com</td>\n",
       "      <td>trends.revcontent.com</td>\n",
       "      <td>tabloid</td>\n",
       "      <td>2017-07-07</td>\n",
       "    </tr>\n",
       "    <tr>\n",
       "      <th>freq</th>\n",
       "      <td>1</td>\n",
       "      <td>90</td>\n",
       "      <td>34</td>\n",
       "      <td>90</td>\n",
       "      <td>1650</td>\n",
       "      <td>495</td>\n",
       "      <td>90</td>\n",
       "      <td>15</td>\n",
       "      <td>43</td>\n",
       "      <td>1619</td>\n",
       "      <td>1650</td>\n",
       "      <td>1618</td>\n",
       "      <td>1068</td>\n",
       "    </tr>\n",
       "  </tbody>\n",
       "</table>\n",
       "</div>"
      ],
      "text/plain": [
       "                                       _id  \\\n",
       "count                                 4740   \n",
       "unique                                4740   \n",
       "top     ObjectId(595c669c06e10d026bff5626)   \n",
       "freq                                     1   \n",
       "\n",
       "                                                 headline  \\\n",
       "count                                                4740   \n",
       "unique                                               2030   \n",
       "top     Triple Your Accuracy With This Weird Shooting ...   \n",
       "freq                                                   90   \n",
       "\n",
       "                                                     link  \\\n",
       "count                                                4740   \n",
       "unique                                               4339   \n",
       "top     http://nmaio.primaltraffic.com/3b3f0b9d-b2a3-4...   \n",
       "freq                                                   34   \n",
       "\n",
       "                                                      img    provider  \\\n",
       "count                                                4740        4740   \n",
       "unique                                               2247           4   \n",
       "top     https://revcontent-p0.s3.amazonaws.com/content...  revcontent   \n",
       "freq                                                   90        1650   \n",
       "\n",
       "                          source  \\\n",
       "count                       4740   \n",
       "unique                        20   \n",
       "top     http://www.infowars.com/   \n",
       "freq                         495   \n",
       "\n",
       "                                            img_file  \\\n",
       "count                                           4740   \n",
       "unique                                          2256   \n",
       "top     1e3bc2adc7eba5d0f29fff42ff8ab0a55853f1aa.jpg   \n",
       "freq                                              90   \n",
       "\n",
       "                                               final_link  \\\n",
       "count                                                4740   \n",
       "unique                                               4054   \n",
       "top     http://www.zergnet.com/news/694817/kim-kardash...   \n",
       "freq                                                   15   \n",
       "\n",
       "                                             orig_article  \\\n",
       "count                                                4740   \n",
       "unique                                                892   \n",
       "top     http://www.businessinsider.com/dave-mcclure-no...   \n",
       "freq                                                   43   \n",
       "\n",
       "                              img_host              link_host source_class  \\\n",
       "count                             4740                   4740         4740   \n",
       "unique                             123                    575            4   \n",
       "top     revcontent-p0.s3.amazonaws.com  trends.revcontent.com      tabloid   \n",
       "freq                              1619                   1650         1618   \n",
       "\n",
       "              date  \n",
       "count         4740  \n",
       "unique           6  \n",
       "top     2017-07-07  \n",
       "freq          1068  "
      ]
     },
     "execution_count": 45,
     "metadata": {},
     "output_type": "execute_result"
    }
   ],
   "source": [
    "deduped['2017-07-01':'2017-07-07'].describe()"
   ]
  },
  {
   "cell_type": "code",
   "execution_count": 46,
   "metadata": {
    "collapsed": false
   },
   "outputs": [
    {
     "data": {
      "text/plain": [
       "<matplotlib.axes._subplots.AxesSubplot at 0x114f72748>"
      ]
     },
     "execution_count": 46,
     "metadata": {},
     "output_type": "execute_result"
    }
   ],
   "source": [
    "deduped['2017-03-27':'2017-07-09'].groupby('source_class').resample('M').size().plot(kind='bar')"
   ]
  },
  {
   "cell_type": "code",
   "execution_count": 47,
   "metadata": {
    "collapsed": false
   },
   "outputs": [
    {
     "data": {
      "image/png": "[encoded data removed]",
      "text/plain": [
       "<matplotlib.figure.Figure at 0x114f9a358>"
      ]
     },
     "metadata": {},
     "output_type": "display_data"
    }
   ],
   "source": [
    "plt.show()"
   ]
  },
  {
   "cell_type": "code",
   "execution_count": 48,
   "metadata": {
    "collapsed": false
   },
   "outputs": [
    {
     "data": {
      "text/plain": [
       "Nicole Kidman's Yacht Is Far From You'd Expect                                                               376\n",
       "Triple Your Accuracy With This Weird Shooting Technique Used By Seal Snipers                                 260\n",
       "Forget Social Security if you Own a Home (Do This)                                                           231\n",
       "Here Is How You Upgrade To Business Class                                                                    227\n",
       "Stairlifts are disrupting the multi-billion dollar retirement home industry - keeping seniors independent    200\n",
       "Tiger Woods' Yacht Is Far From You'd Expect                                                                  181\n",
       "Watch Obama's Face at 0:33. This Leaked Video Will Destroy Obama's Legacy                                    169\n",
       "New Jersey Landlines Get Replaced (But Not With Cell Phones)                                                 161\n",
       "Best Senior Living Communities Of 2017! View Pricing Here & Compare                                          144\n",
       "28 Pictures That Show How Crazy Woodstock 1969 Was                                                           139\n",
       "Name: headline, dtype: int64"
      ]
     },
     "execution_count": 48,
     "metadata": {},
     "output_type": "execute_result"
    }
   ],
   "source": [
    "(deduped['2017-03-01':'2017-07-31'])['headline'].value_counts().nlargest(10)"
   ]
  },
  {
   "cell_type": "code",
   "execution_count": 49,
   "metadata": {
    "collapsed": false
   },
   "outputs": [
    {
     "data": {
      "text/plain": [
       "27 Stars Who Died And Not a Word Was Said              91\n",
       "Men, Eliminate Your ED (Do This Once Daily)            90\n",
       "21 Celebrities Who Died And Not a Word Was Said        90\n",
       "Remember Hurley? What He Looks Like Today Is Unreal    75\n",
       "She Never Mentions Her Other Daughter, Here's Why      74\n",
       "Here Is How You Upgrade To Business Class              70\n",
       "Celebs Who Died And No One Said A Word                 68\n",
       "How to Fix Cracked Feet                                67\n",
       "Forget Social Security if you Own a Home (Do This)     63\n",
       "He Never Mentions His Daughter - Here Is Why           52\n",
       "Name: headline, dtype: int64"
      ]
     },
     "execution_count": 49,
     "metadata": {},
     "output_type": "execute_result"
    }
   ],
   "source": [
    "deduped_non_date_indexed['headline'][deduped_non_date_indexed['source_class'].isin(['center'])].value_counts().nlargest(10)"
   ]
  },
  {
   "cell_type": "code",
   "execution_count": 50,
   "metadata": {
    "collapsed": false
   },
   "outputs": [
    {
     "data": {
      "text/plain": [
       "Stairlifts are disrupting the multi-billion dollar retirement home industry - keeping seniors independent    173\n",
       "Forget Social Security if you Own a Home (Do This)                                                           168\n",
       "Here Is How You Upgrade To Business Class                                                                    157\n",
       "Best Senior Living Communities Of 2017! View Pricing Here & Compare                                          109\n",
       "Forget Social Security if you Own a Home (Do…                                                                 83\n",
       "Thinking About Installing Solar Panels? Read This First                                                       65\n",
       "Eddie Murphy's House Is Far From What You'd Expect                                                            63\n",
       "The Most Common Cancer Symptoms People Ignore                                                                 55\n",
       "Forget Social Security if you Own a Home…                                                                     54\n",
       "Common Cancer Symptoms That Should Never Go Unchecked                                                         50\n",
       "Name: headline, dtype: int64"
      ]
     },
     "execution_count": 50,
     "metadata": {},
     "output_type": "execute_result"
    }
   ],
   "source": [
    "deduped_non_date_indexed['headline'][deduped_non_date_indexed['source_class'].isin(['left'])].value_counts().nlargest(10)"
   ]
  },
  {
   "cell_type": "code",
   "execution_count": 51,
   "metadata": {
    "collapsed": false
   },
   "outputs": [
    {
     "data": {
      "text/plain": [
       "Nicole Kidman's Yacht Is Far From You'd Expect                                  365\n",
       "Tiger Woods' Yacht Is Far From You'd Expect                                     140\n",
       "Watch Obama's Face at 0:33. This Leaked Video Will Destroy Obama's Legacy       138\n",
       "We Can Guess Your Education Level with Only 10 Questions                        132\n",
       "Triple Your Accuracy With This Weird Shooting Technique Used By Seal Snipers    123\n",
       "Born Before 1969? You Could Get an Extra $2,194 Monthly with This               105\n",
       "Goldman Sachs & World Bank Confirm: Us Dollar Will Be Worthless in 100 Days     103\n",
       "Search For The Best New Pickup Truck                                             92\n",
       "Hemp Company Releases Legal CBD Oil Across All 50 States                         83\n",
       "This Is The Shopping Site Amazon Doesn't Want You To Know About                  75\n",
       "Name: headline, dtype: int64"
      ]
     },
     "execution_count": 51,
     "metadata": {},
     "output_type": "execute_result"
    }
   ],
   "source": [
    "deduped_non_date_indexed['headline'][deduped_non_date_indexed['source_class'].isin(['right'])].value_counts().nlargest(10)"
   ]
  },
  {
   "cell_type": "code",
   "execution_count": 52,
   "metadata": {
    "collapsed": false
   },
   "outputs": [
    {
     "data": {
      "text/plain": [
       "28 Pictures That Show How Crazy Woodstock 1969 Was                              139\n",
       "Triple Your Accuracy With This Weird Shooting Technique Used By Seal Snipers    137\n",
       "Kim Kardashian and North West Turn Heads On The Red Carpet                      126\n",
       "Trump Voters Shocked After Watching This Leaked Video                           125\n",
       "10 Surprising Things Guys Find Unattractive                                     114\n",
       "What Tiger Woods' Ex-Wife Looks Like Now Left Us With No Words                  100\n",
       "9 Hair Mistakes That Make You Look Older                                        100\n",
       "10 Features That Attract Men The Most                                            97\n",
       "After Losing 220lbs Rebel Wilson Is Gorgeous Now!                                96\n",
       "10 Tricks To Always Look Good In Pictures                                        95\n",
       "Name: headline, dtype: int64"
      ]
     },
     "execution_count": 52,
     "metadata": {},
     "output_type": "execute_result"
    }
   ],
   "source": [
    "deduped_non_date_indexed['headline'][deduped_non_date_indexed['source_class'].isin(['tabloid'])].value_counts().nlargest(10)"
   ]
  },
  {
   "cell_type": "markdown",
   "metadata": {},
   "source": [
    "Let's take a look at the images for the headline about dead celebrities, are they all the same?"
   ]
  },
  {
   "cell_type": "code",
   "execution_count": 53,
   "metadata": {
    "collapsed": false
   },
   "outputs": [],
   "source": [
    "def imgs_from_headlines(headline):\n",
    "    \"\"\"\n",
    "    A function to spit out all the different images used for a headline, assuming there's no more than 50/headline\n",
    "    \"\"\"\n",
    "    all_images_dead_celeb = deduped_non_date_indexed['img'][deduped_non_date_indexed['headline'].isin([headline])].value_counts().nlargest(50).index.tolist()\n",
    "    for i in all_images_dead_celeb:\n",
    "        displaystring = '<img src={} width=\"200\"/>'.format(i)\n",
    "        display(HTML(displaystring))"
   ]
  },
  {
   "cell_type": "code",
   "execution_count": 54,
   "metadata": {
    "collapsed": false
   },
   "outputs": [
    {
     "data": {
      "text/html": [
       "<img src=http://img1.zergnet.com/1531624_300.jpg width=\"200\"/>"
      ],
      "text/plain": [
       "<IPython.core.display.HTML object>"
      ]
     },
     "metadata": {},
     "output_type": "display_data"
    },
    {
     "data": {
      "text/html": [
       "<img src=https://d2x3bkdslnxkuj.cloudfront.net/1531624_300.jpg width=\"200\"/>"
      ],
      "text/plain": [
       "<IPython.core.display.HTML object>"
      ]
     },
     "metadata": {},
     "output_type": "display_data"
    }
   ],
   "source": [
    "imgs_from_headlines(\"10 Surprising Things Guys Find Unattractive\")"
   ]
  },
  {
   "cell_type": "code",
   "execution_count": 55,
   "metadata": {
    "collapsed": true
   },
   "outputs": [],
   "source": [
    "del deduped['_id']"
   ]
  },
  {
   "cell_type": "code",
   "execution_count": 56,
   "metadata": {
    "collapsed": false
   },
   "outputs": [],
   "source": [
    "timestamp = datetime.now().strftime('%Y-%m-%d-%H_%M')"
   ]
  },
  {
   "cell_type": "code",
   "execution_count": 57,
   "metadata": {
    "collapsed": true
   },
   "outputs": [],
   "source": [
    "datefile = '../data/out/{}_native_ad_data_deduped.csv'.format(timestamp)"
   ]
  },
  {
   "cell_type": "code",
   "execution_count": 58,
   "metadata": {
    "collapsed": true
   },
   "outputs": [],
   "source": [
    "deduped.to_csv(datefile, index=False)"
   ]
  }
 ],
 "metadata": {
  "kernelspec": {
   "display_name": "Python 3",
   "language": "python",
   "name": "python3"
  },
  "language_info": {
   "codemirror_mode": {
    "name": "ipython",
    "version": 3
   },
   "file_extension": ".py",
   "mimetype": "text/x-python",
   "name": "python",
   "nbconvert_exporter": "python",
   "pygments_lexer": "ipython3",
   "version": "3.6.0"
  }
 },
 "nbformat": 4,
 "nbformat_minor": 1
}
