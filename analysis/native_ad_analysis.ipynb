{
 "cells": [
  {
   "cell_type": "code",
   "execution_count": 1,
   "metadata": {
    "collapsed": true
   },
   "outputs": [],
   "source": [
    "import pandas as pd\n",
    "from datetime import datetime\n",
    "import matplotlib.pyplot as plt\n",
    "from IPython.core.display import display, HTML\n",
    "import re\n",
    "from urllib.parse import urlparse"
   ]
  },
  {
   "cell_type": "code",
   "execution_count": 2,
   "metadata": {
    "collapsed": true
   },
   "outputs": [],
   "source": [
    "data = pd.read_csv('../data/in/native_ad_data.csv')"
   ]
  },
  {
   "cell_type": "markdown",
   "metadata": {},
   "source": [
    "Let's start with a littler data cleanup: stripdown dates"
   ]
  },
  {
   "cell_type": "code",
   "execution_count": 3,
   "metadata": {
    "collapsed": true
   },
   "outputs": [],
   "source": [
    "data['date'] = pd.to_datetime(data['date'])"
   ]
  },
  {
   "cell_type": "code",
   "execution_count": 4,
   "metadata": {
    "collapsed": false
   },
   "outputs": [
    {
     "data": {
      "text/plain": [
       "dtype('<M8[ns]')"
      ]
     },
     "execution_count": 4,
     "metadata": {},
     "output_type": "execute_result"
    }
   ],
   "source": [
    "data['date'].dtype"
   ]
  },
  {
   "cell_type": "code",
   "execution_count": 5,
   "metadata": {
    "collapsed": true
   },
   "outputs": [],
   "source": [
    "data = data.set_index('date')"
   ]
  },
  {
   "cell_type": "code",
   "execution_count": 6,
   "metadata": {
    "collapsed": true
   },
   "outputs": [],
   "source": [
    "data['date'] = data.index.date"
   ]
  },
  {
   "cell_type": "code",
   "execution_count": 7,
   "metadata": {
    "collapsed": false
   },
   "outputs": [
    {
     "data": {
      "text/html": [
       "<div>\n",
       "<table border=\"1\" class=\"dataframe\">\n",
       "  <thead>\n",
       "    <tr style=\"text-align: right;\">\n",
       "      <th></th>\n",
       "      <th>_id</th>\n",
       "      <th>headline</th>\n",
       "      <th>link</th>\n",
       "      <th>img</th>\n",
       "      <th>provider</th>\n",
       "      <th>source</th>\n",
       "      <th>img_file</th>\n",
       "      <th>final_link</th>\n",
       "      <th>orig_article</th>\n",
       "      <th>date</th>\n",
       "    </tr>\n",
       "    <tr>\n",
       "      <th>date</th>\n",
       "      <th></th>\n",
       "      <th></th>\n",
       "      <th></th>\n",
       "      <th></th>\n",
       "      <th></th>\n",
       "      <th></th>\n",
       "      <th></th>\n",
       "      <th></th>\n",
       "      <th></th>\n",
       "      <th></th>\n",
       "    </tr>\n",
       "  </thead>\n",
       "  <tbody>\n",
       "    <tr>\n",
       "      <th>2017-03-27 12:59:09.279</th>\n",
       "      <td>ObjectId(58d90ce706e10d04f7e1b3d8)</td>\n",
       "      <td>20 Cool Moments From Joe Biden’s Time In Office</td>\n",
       "      <td>http://scribol.com/a/news-and-politics/ways-jo...</td>\n",
       "      <td>https://console.brax-cdn.com/creatives/98c6400...</td>\n",
       "      <td>taboola</td>\n",
       "      <td>http://tmz.com</td>\n",
       "      <td>./imgs/876aa5e83f6fb81a81908db3c02fdcc00d44400...</td>\n",
       "      <td>http://scribol.com/a/news-and-politics/ways-jo...</td>\n",
       "      <td>NaN</td>\n",
       "      <td>2017-03-27</td>\n",
       "    </tr>\n",
       "    <tr>\n",
       "      <th>2017-03-27 12:59:09.819</th>\n",
       "      <td>ObjectId(58d90ce706e10d04f7e1b3d9)</td>\n",
       "      <td>Troubled News Anchor Does The Unthinkable On Air</td>\n",
       "      <td>http://www.trend-chaser.com/entertainment/the-...</td>\n",
       "      <td>https://console.brax-cdn.com/creatives/b86bbc0...</td>\n",
       "      <td>taboola</td>\n",
       "      <td>http://tmz.com</td>\n",
       "      <td>./imgs/bab1037467f1385cd865c48029db808b03a151d...</td>\n",
       "      <td>http://www.trend-chaser.com/entertainment/the-...</td>\n",
       "      <td>NaN</td>\n",
       "      <td>2017-03-27</td>\n",
       "    </tr>\n",
       "    <tr>\n",
       "      <th>2017-03-27 12:59:10.750</th>\n",
       "      <td>ObjectId(58d90ce706e10d04f7e1b3da)</td>\n",
       "      <td>It's Almost Hard To Fathom What He look's Like...</td>\n",
       "      <td>http://www.journalistate.com/popular/big-holly...</td>\n",
       "      <td>http://cdn.taboolasyndication.com/libtrc/stati...</td>\n",
       "      <td>taboola</td>\n",
       "      <td>http://tmz.com</td>\n",
       "      <td>./imgs/feeb5be5a9758fcca8cef21b6fb842ccc839476...</td>\n",
       "      <td>http://www.journalistate.com/popular/big-holly...</td>\n",
       "      <td>NaN</td>\n",
       "      <td>2017-03-27</td>\n",
       "    </tr>\n",
       "    <tr>\n",
       "      <th>2017-03-27 12:59:11.430</th>\n",
       "      <td>ObjectId(58d90ce706e10d04f7e1b3db)</td>\n",
       "      <td>Troubled News Anchor Does The Unthinkable On Air</td>\n",
       "      <td>http://www.trend-chaser.com/entertainment/the-...</td>\n",
       "      <td>https://console.brax-cdn.com/creatives/b86bbc0...</td>\n",
       "      <td>taboola</td>\n",
       "      <td>http://tmz.com</td>\n",
       "      <td>./imgs/bab1037467f1385cd865c48029db808b03a151d...</td>\n",
       "      <td>http://www.trend-chaser.com/entertainment/the-...</td>\n",
       "      <td>NaN</td>\n",
       "      <td>2017-03-27</td>\n",
       "    </tr>\n",
       "    <tr>\n",
       "      <th>2017-03-27 12:59:11.510</th>\n",
       "      <td>ObjectId(58d90ce706e10d04f7e1b3dc)</td>\n",
       "      <td>Try NOT Gasp When You See Who Queen Latifah Is...</td>\n",
       "      <td>http://zcretuzft.iflmylife.com/entertainment/o...</td>\n",
       "      <td>http://cdn.taboolasyndication.com/libtrc/stati...</td>\n",
       "      <td>taboola</td>\n",
       "      <td>http://tmz.com</td>\n",
       "      <td>./imgs/d75401b962746864063b51f164633ffeb93931d...</td>\n",
       "      <td>http://www.iflmylife.com/entertainment/other-h...</td>\n",
       "      <td>NaN</td>\n",
       "      <td>2017-03-27</td>\n",
       "    </tr>\n",
       "  </tbody>\n",
       "</table>\n",
       "</div>"
      ],
      "text/plain": [
       "                                                        _id  \\\n",
       "date                                                          \n",
       "2017-03-27 12:59:09.279  ObjectId(58d90ce706e10d04f7e1b3d8)   \n",
       "2017-03-27 12:59:09.819  ObjectId(58d90ce706e10d04f7e1b3d9)   \n",
       "2017-03-27 12:59:10.750  ObjectId(58d90ce706e10d04f7e1b3da)   \n",
       "2017-03-27 12:59:11.430  ObjectId(58d90ce706e10d04f7e1b3db)   \n",
       "2017-03-27 12:59:11.510  ObjectId(58d90ce706e10d04f7e1b3dc)   \n",
       "\n",
       "                                                                  headline  \\\n",
       "date                                                                         \n",
       "2017-03-27 12:59:09.279    20 Cool Moments From Joe Biden’s Time In Office   \n",
       "2017-03-27 12:59:09.819   Troubled News Anchor Does The Unthinkable On Air   \n",
       "2017-03-27 12:59:10.750  It's Almost Hard To Fathom What He look's Like...   \n",
       "2017-03-27 12:59:11.430   Troubled News Anchor Does The Unthinkable On Air   \n",
       "2017-03-27 12:59:11.510  Try NOT Gasp When You See Who Queen Latifah Is...   \n",
       "\n",
       "                                                                      link  \\\n",
       "date                                                                         \n",
       "2017-03-27 12:59:09.279  http://scribol.com/a/news-and-politics/ways-jo...   \n",
       "2017-03-27 12:59:09.819  http://www.trend-chaser.com/entertainment/the-...   \n",
       "2017-03-27 12:59:10.750  http://www.journalistate.com/popular/big-holly...   \n",
       "2017-03-27 12:59:11.430  http://www.trend-chaser.com/entertainment/the-...   \n",
       "2017-03-27 12:59:11.510  http://zcretuzft.iflmylife.com/entertainment/o...   \n",
       "\n",
       "                                                                       img  \\\n",
       "date                                                                         \n",
       "2017-03-27 12:59:09.279  https://console.brax-cdn.com/creatives/98c6400...   \n",
       "2017-03-27 12:59:09.819  https://console.brax-cdn.com/creatives/b86bbc0...   \n",
       "2017-03-27 12:59:10.750  http://cdn.taboolasyndication.com/libtrc/stati...   \n",
       "2017-03-27 12:59:11.430  https://console.brax-cdn.com/creatives/b86bbc0...   \n",
       "2017-03-27 12:59:11.510  http://cdn.taboolasyndication.com/libtrc/stati...   \n",
       "\n",
       "                        provider          source  \\\n",
       "date                                               \n",
       "2017-03-27 12:59:09.279  taboola  http://tmz.com   \n",
       "2017-03-27 12:59:09.819  taboola  http://tmz.com   \n",
       "2017-03-27 12:59:10.750  taboola  http://tmz.com   \n",
       "2017-03-27 12:59:11.430  taboola  http://tmz.com   \n",
       "2017-03-27 12:59:11.510  taboola  http://tmz.com   \n",
       "\n",
       "                                                                  img_file  \\\n",
       "date                                                                         \n",
       "2017-03-27 12:59:09.279  ./imgs/876aa5e83f6fb81a81908db3c02fdcc00d44400...   \n",
       "2017-03-27 12:59:09.819  ./imgs/bab1037467f1385cd865c48029db808b03a151d...   \n",
       "2017-03-27 12:59:10.750  ./imgs/feeb5be5a9758fcca8cef21b6fb842ccc839476...   \n",
       "2017-03-27 12:59:11.430  ./imgs/bab1037467f1385cd865c48029db808b03a151d...   \n",
       "2017-03-27 12:59:11.510  ./imgs/d75401b962746864063b51f164633ffeb93931d...   \n",
       "\n",
       "                                                                final_link  \\\n",
       "date                                                                         \n",
       "2017-03-27 12:59:09.279  http://scribol.com/a/news-and-politics/ways-jo...   \n",
       "2017-03-27 12:59:09.819  http://www.trend-chaser.com/entertainment/the-...   \n",
       "2017-03-27 12:59:10.750  http://www.journalistate.com/popular/big-holly...   \n",
       "2017-03-27 12:59:11.430  http://www.trend-chaser.com/entertainment/the-...   \n",
       "2017-03-27 12:59:11.510  http://www.iflmylife.com/entertainment/other-h...   \n",
       "\n",
       "                        orig_article        date  \n",
       "date                                              \n",
       "2017-03-27 12:59:09.279          NaN  2017-03-27  \n",
       "2017-03-27 12:59:09.819          NaN  2017-03-27  \n",
       "2017-03-27 12:59:10.750          NaN  2017-03-27  \n",
       "2017-03-27 12:59:11.430          NaN  2017-03-27  \n",
       "2017-03-27 12:59:11.510          NaN  2017-03-27  "
      ]
     },
     "execution_count": 7,
     "metadata": {},
     "output_type": "execute_result"
    }
   ],
   "source": [
    "data.head()"
   ]
  },
  {
   "cell_type": "markdown",
   "metadata": {},
   "source": [
    "The one's from zergnet all have some newlines we need to get rid of and they appear to have concatenated the headline with the provider. So let's clean those up."
   ]
  },
  {
   "cell_type": "code",
   "execution_count": 8,
   "metadata": {
    "collapsed": false
   },
   "outputs": [
    {
     "data": {
      "text/html": [
       "<div>\n",
       "<table border=\"1\" class=\"dataframe\">\n",
       "  <thead>\n",
       "    <tr style=\"text-align: right;\">\n",
       "      <th></th>\n",
       "      <th>_id</th>\n",
       "      <th>headline</th>\n",
       "      <th>link</th>\n",
       "      <th>img</th>\n",
       "      <th>provider</th>\n",
       "      <th>source</th>\n",
       "      <th>img_file</th>\n",
       "      <th>final_link</th>\n",
       "      <th>orig_article</th>\n",
       "      <th>date</th>\n",
       "    </tr>\n",
       "    <tr>\n",
       "      <th>date</th>\n",
       "      <th></th>\n",
       "      <th></th>\n",
       "      <th></th>\n",
       "      <th></th>\n",
       "      <th></th>\n",
       "      <th></th>\n",
       "      <th></th>\n",
       "      <th></th>\n",
       "      <th></th>\n",
       "      <th></th>\n",
       "    </tr>\n",
       "  </thead>\n",
       "  <tbody>\n",
       "    <tr>\n",
       "      <th>2017-03-27 12:59:09.279</th>\n",
       "      <td>ObjectId(58d90ce706e10d04f7e1b3d8)</td>\n",
       "      <td>20 Cool Moments From Joe Biden’s Time In Office</td>\n",
       "      <td>http://scribol.com/a/news-and-politics/ways-jo...</td>\n",
       "      <td>https://console.brax-cdn.com/creatives/98c6400...</td>\n",
       "      <td>taboola</td>\n",
       "      <td>http://tmz.com</td>\n",
       "      <td>./imgs/876aa5e83f6fb81a81908db3c02fdcc00d44400...</td>\n",
       "      <td>http://scribol.com/a/news-and-politics/ways-jo...</td>\n",
       "      <td>NaN</td>\n",
       "      <td>2017-03-27</td>\n",
       "    </tr>\n",
       "    <tr>\n",
       "      <th>2017-03-27 12:59:09.819</th>\n",
       "      <td>ObjectId(58d90ce706e10d04f7e1b3d9)</td>\n",
       "      <td>Troubled News Anchor Does The Unthinkable On Air</td>\n",
       "      <td>http://www.trend-chaser.com/entertainment/the-...</td>\n",
       "      <td>https://console.brax-cdn.com/creatives/b86bbc0...</td>\n",
       "      <td>taboola</td>\n",
       "      <td>http://tmz.com</td>\n",
       "      <td>./imgs/bab1037467f1385cd865c48029db808b03a151d...</td>\n",
       "      <td>http://www.trend-chaser.com/entertainment/the-...</td>\n",
       "      <td>NaN</td>\n",
       "      <td>2017-03-27</td>\n",
       "    </tr>\n",
       "    <tr>\n",
       "      <th>2017-03-27 12:59:10.750</th>\n",
       "      <td>ObjectId(58d90ce706e10d04f7e1b3da)</td>\n",
       "      <td>It's Almost Hard To Fathom What He look's Like...</td>\n",
       "      <td>http://www.journalistate.com/popular/big-holly...</td>\n",
       "      <td>http://cdn.taboolasyndication.com/libtrc/stati...</td>\n",
       "      <td>taboola</td>\n",
       "      <td>http://tmz.com</td>\n",
       "      <td>./imgs/feeb5be5a9758fcca8cef21b6fb842ccc839476...</td>\n",
       "      <td>http://www.journalistate.com/popular/big-holly...</td>\n",
       "      <td>NaN</td>\n",
       "      <td>2017-03-27</td>\n",
       "    </tr>\n",
       "    <tr>\n",
       "      <th>2017-03-27 12:59:11.430</th>\n",
       "      <td>ObjectId(58d90ce706e10d04f7e1b3db)</td>\n",
       "      <td>Troubled News Anchor Does The Unthinkable On Air</td>\n",
       "      <td>http://www.trend-chaser.com/entertainment/the-...</td>\n",
       "      <td>https://console.brax-cdn.com/creatives/b86bbc0...</td>\n",
       "      <td>taboola</td>\n",
       "      <td>http://tmz.com</td>\n",
       "      <td>./imgs/bab1037467f1385cd865c48029db808b03a151d...</td>\n",
       "      <td>http://www.trend-chaser.com/entertainment/the-...</td>\n",
       "      <td>NaN</td>\n",
       "      <td>2017-03-27</td>\n",
       "    </tr>\n",
       "    <tr>\n",
       "      <th>2017-03-27 12:59:11.510</th>\n",
       "      <td>ObjectId(58d90ce706e10d04f7e1b3dc)</td>\n",
       "      <td>Try NOT Gasp When You See Who Queen Latifah Is...</td>\n",
       "      <td>http://zcretuzft.iflmylife.com/entertainment/o...</td>\n",
       "      <td>http://cdn.taboolasyndication.com/libtrc/stati...</td>\n",
       "      <td>taboola</td>\n",
       "      <td>http://tmz.com</td>\n",
       "      <td>./imgs/d75401b962746864063b51f164633ffeb93931d...</td>\n",
       "      <td>http://www.iflmylife.com/entertainment/other-h...</td>\n",
       "      <td>NaN</td>\n",
       "      <td>2017-03-27</td>\n",
       "    </tr>\n",
       "  </tbody>\n",
       "</table>\n",
       "</div>"
      ],
      "text/plain": [
       "                                                        _id  \\\n",
       "date                                                          \n",
       "2017-03-27 12:59:09.279  ObjectId(58d90ce706e10d04f7e1b3d8)   \n",
       "2017-03-27 12:59:09.819  ObjectId(58d90ce706e10d04f7e1b3d9)   \n",
       "2017-03-27 12:59:10.750  ObjectId(58d90ce706e10d04f7e1b3da)   \n",
       "2017-03-27 12:59:11.430  ObjectId(58d90ce706e10d04f7e1b3db)   \n",
       "2017-03-27 12:59:11.510  ObjectId(58d90ce706e10d04f7e1b3dc)   \n",
       "\n",
       "                                                                  headline  \\\n",
       "date                                                                         \n",
       "2017-03-27 12:59:09.279    20 Cool Moments From Joe Biden’s Time In Office   \n",
       "2017-03-27 12:59:09.819   Troubled News Anchor Does The Unthinkable On Air   \n",
       "2017-03-27 12:59:10.750  It's Almost Hard To Fathom What He look's Like...   \n",
       "2017-03-27 12:59:11.430   Troubled News Anchor Does The Unthinkable On Air   \n",
       "2017-03-27 12:59:11.510  Try NOT Gasp When You See Who Queen Latifah Is...   \n",
       "\n",
       "                                                                      link  \\\n",
       "date                                                                         \n",
       "2017-03-27 12:59:09.279  http://scribol.com/a/news-and-politics/ways-jo...   \n",
       "2017-03-27 12:59:09.819  http://www.trend-chaser.com/entertainment/the-...   \n",
       "2017-03-27 12:59:10.750  http://www.journalistate.com/popular/big-holly...   \n",
       "2017-03-27 12:59:11.430  http://www.trend-chaser.com/entertainment/the-...   \n",
       "2017-03-27 12:59:11.510  http://zcretuzft.iflmylife.com/entertainment/o...   \n",
       "\n",
       "                                                                       img  \\\n",
       "date                                                                         \n",
       "2017-03-27 12:59:09.279  https://console.brax-cdn.com/creatives/98c6400...   \n",
       "2017-03-27 12:59:09.819  https://console.brax-cdn.com/creatives/b86bbc0...   \n",
       "2017-03-27 12:59:10.750  http://cdn.taboolasyndication.com/libtrc/stati...   \n",
       "2017-03-27 12:59:11.430  https://console.brax-cdn.com/creatives/b86bbc0...   \n",
       "2017-03-27 12:59:11.510  http://cdn.taboolasyndication.com/libtrc/stati...   \n",
       "\n",
       "                        provider          source  \\\n",
       "date                                               \n",
       "2017-03-27 12:59:09.279  taboola  http://tmz.com   \n",
       "2017-03-27 12:59:09.819  taboola  http://tmz.com   \n",
       "2017-03-27 12:59:10.750  taboola  http://tmz.com   \n",
       "2017-03-27 12:59:11.430  taboola  http://tmz.com   \n",
       "2017-03-27 12:59:11.510  taboola  http://tmz.com   \n",
       "\n",
       "                                                                  img_file  \\\n",
       "date                                                                         \n",
       "2017-03-27 12:59:09.279  ./imgs/876aa5e83f6fb81a81908db3c02fdcc00d44400...   \n",
       "2017-03-27 12:59:09.819  ./imgs/bab1037467f1385cd865c48029db808b03a151d...   \n",
       "2017-03-27 12:59:10.750  ./imgs/feeb5be5a9758fcca8cef21b6fb842ccc839476...   \n",
       "2017-03-27 12:59:11.430  ./imgs/bab1037467f1385cd865c48029db808b03a151d...   \n",
       "2017-03-27 12:59:11.510  ./imgs/d75401b962746864063b51f164633ffeb93931d...   \n",
       "\n",
       "                                                                final_link  \\\n",
       "date                                                                         \n",
       "2017-03-27 12:59:09.279  http://scribol.com/a/news-and-politics/ways-jo...   \n",
       "2017-03-27 12:59:09.819  http://www.trend-chaser.com/entertainment/the-...   \n",
       "2017-03-27 12:59:10.750  http://www.journalistate.com/popular/big-holly...   \n",
       "2017-03-27 12:59:11.430  http://www.trend-chaser.com/entertainment/the-...   \n",
       "2017-03-27 12:59:11.510  http://www.iflmylife.com/entertainment/other-h...   \n",
       "\n",
       "                        orig_article        date  \n",
       "date                                              \n",
       "2017-03-27 12:59:09.279          NaN  2017-03-27  \n",
       "2017-03-27 12:59:09.819          NaN  2017-03-27  \n",
       "2017-03-27 12:59:10.750          NaN  2017-03-27  \n",
       "2017-03-27 12:59:11.430          NaN  2017-03-27  \n",
       "2017-03-27 12:59:11.510          NaN  2017-03-27  "
      ]
     },
     "execution_count": 8,
     "metadata": {},
     "output_type": "execute_result"
    }
   ],
   "source": [
    "data['headline'] = data['headline'].apply(lambda x: re.sub('(?<=[a-z])\\.?([A-Z](.*))' , '', x.strip()))\n",
    "data.head()"
   ]
  },
  {
   "cell_type": "code",
   "execution_count": 9,
   "metadata": {
    "collapsed": false
   },
   "outputs": [
    {
     "data": {
      "text/plain": [
       "date\n",
       "2017-03-27 12:59:09.279    876aa5e83f6fb81a81908db3c02fdcc00d444000.png\n",
       "2017-03-27 12:59:09.819    bab1037467f1385cd865c48029db808b03a151d2.png\n",
       "2017-03-27 12:59:10.750    feeb5be5a9758fcca8cef21b6fb842ccc8394766.jpg\n",
       "2017-03-27 12:59:11.430    bab1037467f1385cd865c48029db808b03a151d2.png\n",
       "2017-03-27 12:59:11.510    d75401b962746864063b51f164633ffeb93931d3.jpg\n",
       "2017-03-27 12:59:12.607    9eb97ec8e2851dd2fd90c3e28b56ff23b72790d2.jpg\n",
       "2017-03-27 12:59:12.848    d75401b962746864063b51f164633ffeb93931d3.jpg\n",
       "2017-03-27 12:59:12.984    4d1b9f3e2b22d301db93b301a63c3f25b3ea7904.png\n",
       "2017-03-27 12:59:13.038    d3a3f2f50c84529c08bb8314ae3aa66280f0cbc7.png\n",
       "2017-03-27 12:59:14.659    45d1417bbb2868b7ab6771f4edc7feb048f2068b.png\n",
       "2017-03-27 12:59:15.114    e2bb63d58e09bae569a90f64de24c93a2d008e34.jpg\n",
       "2017-03-27 12:59:15.237    f70f91d2ebf37e35480fe4f689477406adf9243e.jpg\n",
       "2017-03-27 12:59:15.614    ab914b86682795c6d6624707b22b06f88f0e551a.jpg\n",
       "2017-03-27 12:59:16.168    76544095ea7e1e5f74e9d210dab401d2cf7a7e9d.jpg\n",
       "2017-03-27 12:59:16.302    224f6c16c9e0b27545c84bd7b65a8f58f32a0541.jpg\n",
       "2017-03-27 12:59:16.832    45d1417bbb2868b7ab6771f4edc7feb048f2068b.png\n",
       "2017-03-27 12:59:16.920    e2bb63d58e09bae569a90f64de24c93a2d008e34.jpg\n",
       "2017-03-27 12:59:17.051    f70f91d2ebf37e35480fe4f689477406adf9243e.jpg\n",
       "2017-03-27 12:59:17.480    ab914b86682795c6d6624707b22b06f88f0e551a.jpg\n",
       "2017-03-27 12:59:17.697    76544095ea7e1e5f74e9d210dab401d2cf7a7e9d.jpg\n",
       "2017-03-27 12:59:17.864    224f6c16c9e0b27545c84bd7b65a8f58f32a0541.jpg\n",
       "2017-03-27 12:59:17.945    62a0d14abd1a08904c540cd1fbdb40ee395a591c.jpg\n",
       "2017-03-27 12:59:18.421    6167e08a529c3f21687351bee16f38586cc1a31a.jpg\n",
       "2017-03-27 12:59:18.474    694b824be4ad0f0a3b0b794c15c38bb80b4423bc.jpg\n",
       "2017-03-27 12:59:18.617    4944ab5fe311adde8438172760d4ddf788d6ed59.jpg\n",
       "2017-03-27 12:59:19.807    d69eebc5053118bc7353cd7a95f799dd1cfa1179.jpg\n",
       "2017-03-27 12:59:19.993    b506e3f28e7f45fe63a7c6d9366443c2bb9eef52.jpg\n",
       "2017-03-27 12:59:20.470    dfdb37f7b05b1db09d3f3dc3dad58b07e03f0a68.png\n",
       "2017-03-27 12:59:20.784    6820f03a36052ba5da9b4f6fc131bb9b6fbaa8fb.jpg\n",
       "2017-03-27 12:59:20.985    1051407c3614e21ed02c5684044738836626bf62.jpg\n",
       "                                               ...                     \n",
       "2017-07-09 14:30:48.229    d722608da1457ff561d60b5e71ff666e9ef4ab16.jpg\n",
       "2017-07-09 14:30:50.674    d159f85d52f9c5a18ef0cdbf6fce5710fed28fe3.jpg\n",
       "2017-07-09 14:30:53.130    42059ee2727f2009ad5f053780254d20fc450a22.jpg\n",
       "2017-07-09 14:30:54.953    e30500c963c4920b78f07bd26c19f5828c4b1067.jpg\n",
       "2017-07-09 14:30:56.193    279e0bda6ea7281bf75477a21f09d11f9f0238d2.jpg\n",
       "2017-07-09 14:30:56.995    65c999b43891624109d0ff137b4bd6f75c18b25b.jpg\n",
       "2017-07-09 14:30:57.961    9b6ee8ed747cb0b788d047981d4e2ed5ec819c98.jpg\n",
       "2017-07-09 14:30:58.493    86555ce77197d366ba3b57c2bfeedff5165c534b.png\n",
       "2017-07-09 14:30:59.701    03ae0385b07916fa93c694ea2fc848234b7c8cc0.jpg\n",
       "2017-07-09 14:31:00.246    cd9a150b4de98355421261004d127ecced7c1c0c.png\n",
       "2017-07-09 14:31:00.731    9c90ada62def7654fc1b972369a5ff86358f9bbf.png\n",
       "2017-07-09 14:31:01.129    f18167ca58fee4ae691a28ecd39b0c1afe2689e4.jpg\n",
       "2017-07-09 14:31:01.218    e0f95485c1b6b4eea7755a6ed75cf4e20d9670cd.jpg\n",
       "2017-07-09 14:31:02.657    e4c0ddb1aa1f6188dc3ac8be44291d9b301bc362.png\n",
       "2017-07-09 14:31:02.840    1e9946a37804290f9b2a9355ee9e83ff30e59b04.jpg\n",
       "2017-07-09 14:31:02.934    5a49f41c76553dd330f7bec915db08054cfcbee0.jpg\n",
       "2017-07-09 14:31:03.072    0ef518a3cb26a482f90d357c52e3c294b2d21b9d.png\n",
       "2017-07-09 14:31:03.286    96719bab7b30ae49a3b638f33993321933e9d319.jpg\n",
       "2017-07-09 14:31:03.801    e526a7cb9642b7284675406507bdbcbd074fb508.png\n",
       "2017-07-09 14:31:04.600    c7f8a2630d941ce0498e78ba8ba6e7afed6faaab.png\n",
       "2017-07-09 14:31:05.756    34055827287b88f39213c097743fe1ec1e18efee.jpg\n",
       "2017-07-09 14:31:06.892    6b6358a8503f9033fcf87f0f9a447832f28288db.jpg\n",
       "2017-07-09 14:31:07.019    e75ae012327e48b2c19d22e52e2f80036b888a08.jpg\n",
       "2017-07-09 14:31:07.188    49cfc379da2beb17160e35897f66089f1ac64076.jpg\n",
       "2017-07-09 14:31:07.986    f18167ca58fee4ae691a28ecd39b0c1afe2689e4.jpg\n",
       "2017-07-09 14:31:08.254    e486aa81e4096900432662e574bf5928bb258801.jpg\n",
       "2017-07-09 14:31:08.513    8ddfefc10050b320e197fe8eaa472ced9b41a058.jpg\n",
       "2017-07-09 14:31:09.853    f18167ca58fee4ae691a28ecd39b0c1afe2689e4.jpg\n",
       "2017-07-09 14:31:10.192    4ccfbbfe94fc46661b6935f4449347dff6dd3a53.png\n",
       "2017-07-09 14:31:10.811    b8abf89e3effc8105cb0f5cf621bf4bd7b322f42.png\n",
       "Name: img_file, dtype: object"
      ]
     },
     "execution_count": 9,
     "metadata": {},
     "output_type": "execute_result"
    }
   ],
   "source": [
    "data['img_file'] = data['img_file'].apply(lambda x: re.sub('\\.\\/imgs\\/' , '', str(x).strip()))\n",
    "data['img_file']\n"
   ]
  },
  {
   "cell_type": "markdown",
   "metadata": {},
   "source": [
    "OK, that's better."
   ]
  },
  {
   "cell_type": "markdown",
   "metadata": {},
   "source": [
    "Do we have any null values?"
   ]
  },
  {
   "cell_type": "code",
   "execution_count": 10,
   "metadata": {
    "collapsed": false
   },
   "outputs": [
    {
     "name": "stdout",
     "output_type": "stream",
     "text": [
      "('_id', 0)\n",
      "('headline', 0)\n",
      "('link', 0)\n",
      "('img', 0)\n",
      "('provider', 0)\n",
      "('source', 0)\n",
      "('img_file', 0)\n",
      "('final_link', 0)\n",
      "('orig_article', 59776)\n",
      "('date', 0)\n"
     ]
    }
   ],
   "source": [
    "for col in data.columns:\n",
    "    print((col, sum(data[col].isnull())))"
   ]
  },
  {
   "cell_type": "markdown",
   "metadata": {},
   "source": [
    "For future reference, we have a small number of img_files that are null (probably because the scraper errored out grabbing the file). For the most part, that's pretty good."
   ]
  },
  {
   "cell_type": "code",
   "execution_count": 11,
   "metadata": {
    "collapsed": false
   },
   "outputs": [
    {
     "data": {
      "text/html": [
       "<div>\n",
       "<table border=\"1\" class=\"dataframe\">\n",
       "  <thead>\n",
       "    <tr style=\"text-align: right;\">\n",
       "      <th></th>\n",
       "      <th>_id</th>\n",
       "      <th>headline</th>\n",
       "      <th>link</th>\n",
       "      <th>img</th>\n",
       "      <th>provider</th>\n",
       "      <th>source</th>\n",
       "      <th>img_file</th>\n",
       "      <th>final_link</th>\n",
       "      <th>orig_article</th>\n",
       "      <th>date</th>\n",
       "    </tr>\n",
       "  </thead>\n",
       "  <tbody>\n",
       "    <tr>\n",
       "      <th>count</th>\n",
       "      <td>129399</td>\n",
       "      <td>129399</td>\n",
       "      <td>129399</td>\n",
       "      <td>129399</td>\n",
       "      <td>129399</td>\n",
       "      <td>129399</td>\n",
       "      <td>129399</td>\n",
       "      <td>129399</td>\n",
       "      <td>69623</td>\n",
       "      <td>129399</td>\n",
       "    </tr>\n",
       "    <tr>\n",
       "      <th>unique</th>\n",
       "      <td>129399</td>\n",
       "      <td>18022</td>\n",
       "      <td>43315</td>\n",
       "      <td>23843</td>\n",
       "      <td>4</td>\n",
       "      <td>24</td>\n",
       "      <td>23866</td>\n",
       "      <td>36713</td>\n",
       "      <td>6670</td>\n",
       "      <td>93</td>\n",
       "    </tr>\n",
       "    <tr>\n",
       "      <th>top</th>\n",
       "      <td>ObjectId(594279329e1e2a7afd0c898d)</td>\n",
       "      <td>Here’s Why Guys Are Obsessed With This Underwear…</td>\n",
       "      <td>https://grizly.com/lifestyle/guy-turned-backya...</td>\n",
       "      <td>http://cdn.taboolasyndication.com/libtrc/stati...</td>\n",
       "      <td>taboola</td>\n",
       "      <td>http://tmz.com</td>\n",
       "      <td>db07ff3401037653d665822c5a78617464fe4ef8.jpg</td>\n",
       "      <td>https://grizly.com/lifestyle/guy-turned-backya...</td>\n",
       "      <td>http://www.tmz.com/2017/06/02/kathy-griffin-co...</td>\n",
       "      <td>2017-06-24</td>\n",
       "    </tr>\n",
       "    <tr>\n",
       "      <th>freq</th>\n",
       "      <td>1</td>\n",
       "      <td>996</td>\n",
       "      <td>588</td>\n",
       "      <td>621</td>\n",
       "      <td>59474</td>\n",
       "      <td>24167</td>\n",
       "      <td>621</td>\n",
       "      <td>588</td>\n",
       "      <td>167</td>\n",
       "      <td>3125</td>\n",
       "    </tr>\n",
       "  </tbody>\n",
       "</table>\n",
       "</div>"
      ],
      "text/plain": [
       "                                       _id  \\\n",
       "count                               129399   \n",
       "unique                              129399   \n",
       "top     ObjectId(594279329e1e2a7afd0c898d)   \n",
       "freq                                     1   \n",
       "\n",
       "                                                 headline  \\\n",
       "count                                              129399   \n",
       "unique                                              18022   \n",
       "top     Here’s Why Guys Are Obsessed With This Underwear…   \n",
       "freq                                                  996   \n",
       "\n",
       "                                                     link  \\\n",
       "count                                              129399   \n",
       "unique                                              43315   \n",
       "top     https://grizly.com/lifestyle/guy-turned-backya...   \n",
       "freq                                                  588   \n",
       "\n",
       "                                                      img provider  \\\n",
       "count                                              129399   129399   \n",
       "unique                                              23843        4   \n",
       "top     http://cdn.taboolasyndication.com/libtrc/stati...  taboola   \n",
       "freq                                                  621    59474   \n",
       "\n",
       "                source                                      img_file  \\\n",
       "count           129399                                        129399   \n",
       "unique              24                                         23866   \n",
       "top     http://tmz.com  db07ff3401037653d665822c5a78617464fe4ef8.jpg   \n",
       "freq             24167                                           621   \n",
       "\n",
       "                                               final_link  \\\n",
       "count                                              129399   \n",
       "unique                                              36713   \n",
       "top     https://grizly.com/lifestyle/guy-turned-backya...   \n",
       "freq                                                  588   \n",
       "\n",
       "                                             orig_article        date  \n",
       "count                                               69623      129399  \n",
       "unique                                               6670          93  \n",
       "top     http://www.tmz.com/2017/06/02/kathy-griffin-co...  2017-06-24  \n",
       "freq                                                  167        3125  "
      ]
     },
     "execution_count": 11,
     "metadata": {},
     "output_type": "execute_result"
    }
   ],
   "source": [
    "data.describe()"
   ]
  },
  {
   "cell_type": "markdown",
   "metadata": {},
   "source": [
    "Already we can see some interesting trends here. Out of 64147 unique records, only 10260 of the headlines are unique, but 19212 of the links are unique and 12709 of the image files are unique (assuming for sure that there were issues with downloading images, but more on that later). So it seems already that there are content links which might reuse the same headline, or image for different destination articles. Let's try to dig into that."
   ]
  },
  {
   "cell_type": "markdown",
   "metadata": {},
   "source": [
    "Also, becuase we want to inspect the hosts from which the articles and images are coming from, let's parse those out in the data."
   ]
  },
  {
   "cell_type": "code",
   "execution_count": 12,
   "metadata": {
    "collapsed": true
   },
   "outputs": [],
   "source": [
    "data['img_host'] = data['img'].apply(lambda x: urlparse(x).netloc)"
   ]
  },
  {
   "cell_type": "code",
   "execution_count": 13,
   "metadata": {
    "collapsed": true
   },
   "outputs": [],
   "source": [
    "data['link_host'] = data['final_link'].apply(lambda x: urlparse(x).netloc)"
   ]
  },
  {
   "cell_type": "code",
   "execution_count": 14,
   "metadata": {
    "collapsed": false
   },
   "outputs": [
    {
     "data": {
      "text/html": [
       "<div>\n",
       "<table border=\"1\" class=\"dataframe\">\n",
       "  <thead>\n",
       "    <tr style=\"text-align: right;\">\n",
       "      <th></th>\n",
       "      <th>_id</th>\n",
       "      <th>headline</th>\n",
       "      <th>link</th>\n",
       "      <th>img</th>\n",
       "      <th>provider</th>\n",
       "      <th>source</th>\n",
       "      <th>img_file</th>\n",
       "      <th>final_link</th>\n",
       "      <th>orig_article</th>\n",
       "      <th>date</th>\n",
       "      <th>img_host</th>\n",
       "      <th>link_host</th>\n",
       "    </tr>\n",
       "    <tr>\n",
       "      <th>date</th>\n",
       "      <th></th>\n",
       "      <th></th>\n",
       "      <th></th>\n",
       "      <th></th>\n",
       "      <th></th>\n",
       "      <th></th>\n",
       "      <th></th>\n",
       "      <th></th>\n",
       "      <th></th>\n",
       "      <th></th>\n",
       "      <th></th>\n",
       "      <th></th>\n",
       "    </tr>\n",
       "  </thead>\n",
       "  <tbody>\n",
       "    <tr>\n",
       "      <th>2017-03-27 12:59:09.279</th>\n",
       "      <td>ObjectId(58d90ce706e10d04f7e1b3d8)</td>\n",
       "      <td>20 Cool Moments From Joe Biden’s Time In Office</td>\n",
       "      <td>http://scribol.com/a/news-and-politics/ways-jo...</td>\n",
       "      <td>https://console.brax-cdn.com/creatives/98c6400...</td>\n",
       "      <td>taboola</td>\n",
       "      <td>http://tmz.com</td>\n",
       "      <td>876aa5e83f6fb81a81908db3c02fdcc00d444000.png</td>\n",
       "      <td>http://scribol.com/a/news-and-politics/ways-jo...</td>\n",
       "      <td>NaN</td>\n",
       "      <td>2017-03-27</td>\n",
       "      <td>console.brax-cdn.com</td>\n",
       "      <td>scribol.com</td>\n",
       "    </tr>\n",
       "    <tr>\n",
       "      <th>2017-03-27 12:59:09.819</th>\n",
       "      <td>ObjectId(58d90ce706e10d04f7e1b3d9)</td>\n",
       "      <td>Troubled News Anchor Does The Unthinkable On Air</td>\n",
       "      <td>http://www.trend-chaser.com/entertainment/the-...</td>\n",
       "      <td>https://console.brax-cdn.com/creatives/b86bbc0...</td>\n",
       "      <td>taboola</td>\n",
       "      <td>http://tmz.com</td>\n",
       "      <td>bab1037467f1385cd865c48029db808b03a151d2.png</td>\n",
       "      <td>http://www.trend-chaser.com/entertainment/the-...</td>\n",
       "      <td>NaN</td>\n",
       "      <td>2017-03-27</td>\n",
       "      <td>console.brax-cdn.com</td>\n",
       "      <td>www.trend-chaser.com</td>\n",
       "    </tr>\n",
       "    <tr>\n",
       "      <th>2017-03-27 12:59:10.750</th>\n",
       "      <td>ObjectId(58d90ce706e10d04f7e1b3da)</td>\n",
       "      <td>It's Almost Hard To Fathom What He look's Like...</td>\n",
       "      <td>http://www.journalistate.com/popular/big-holly...</td>\n",
       "      <td>http://cdn.taboolasyndication.com/libtrc/stati...</td>\n",
       "      <td>taboola</td>\n",
       "      <td>http://tmz.com</td>\n",
       "      <td>feeb5be5a9758fcca8cef21b6fb842ccc8394766.jpg</td>\n",
       "      <td>http://www.journalistate.com/popular/big-holly...</td>\n",
       "      <td>NaN</td>\n",
       "      <td>2017-03-27</td>\n",
       "      <td>cdn.taboolasyndication.com</td>\n",
       "      <td>www.journalistate.com</td>\n",
       "    </tr>\n",
       "    <tr>\n",
       "      <th>2017-03-27 12:59:11.430</th>\n",
       "      <td>ObjectId(58d90ce706e10d04f7e1b3db)</td>\n",
       "      <td>Troubled News Anchor Does The Unthinkable On Air</td>\n",
       "      <td>http://www.trend-chaser.com/entertainment/the-...</td>\n",
       "      <td>https://console.brax-cdn.com/creatives/b86bbc0...</td>\n",
       "      <td>taboola</td>\n",
       "      <td>http://tmz.com</td>\n",
       "      <td>bab1037467f1385cd865c48029db808b03a151d2.png</td>\n",
       "      <td>http://www.trend-chaser.com/entertainment/the-...</td>\n",
       "      <td>NaN</td>\n",
       "      <td>2017-03-27</td>\n",
       "      <td>console.brax-cdn.com</td>\n",
       "      <td>www.trend-chaser.com</td>\n",
       "    </tr>\n",
       "    <tr>\n",
       "      <th>2017-03-27 12:59:11.510</th>\n",
       "      <td>ObjectId(58d90ce706e10d04f7e1b3dc)</td>\n",
       "      <td>Try NOT Gasp When You See Who Queen Latifah Is...</td>\n",
       "      <td>http://zcretuzft.iflmylife.com/entertainment/o...</td>\n",
       "      <td>http://cdn.taboolasyndication.com/libtrc/stati...</td>\n",
       "      <td>taboola</td>\n",
       "      <td>http://tmz.com</td>\n",
       "      <td>d75401b962746864063b51f164633ffeb93931d3.jpg</td>\n",
       "      <td>http://www.iflmylife.com/entertainment/other-h...</td>\n",
       "      <td>NaN</td>\n",
       "      <td>2017-03-27</td>\n",
       "      <td>cdn.taboolasyndication.com</td>\n",
       "      <td>www.iflmylife.com</td>\n",
       "    </tr>\n",
       "  </tbody>\n",
       "</table>\n",
       "</div>"
      ],
      "text/plain": [
       "                                                        _id  \\\n",
       "date                                                          \n",
       "2017-03-27 12:59:09.279  ObjectId(58d90ce706e10d04f7e1b3d8)   \n",
       "2017-03-27 12:59:09.819  ObjectId(58d90ce706e10d04f7e1b3d9)   \n",
       "2017-03-27 12:59:10.750  ObjectId(58d90ce706e10d04f7e1b3da)   \n",
       "2017-03-27 12:59:11.430  ObjectId(58d90ce706e10d04f7e1b3db)   \n",
       "2017-03-27 12:59:11.510  ObjectId(58d90ce706e10d04f7e1b3dc)   \n",
       "\n",
       "                                                                  headline  \\\n",
       "date                                                                         \n",
       "2017-03-27 12:59:09.279    20 Cool Moments From Joe Biden’s Time In Office   \n",
       "2017-03-27 12:59:09.819   Troubled News Anchor Does The Unthinkable On Air   \n",
       "2017-03-27 12:59:10.750  It's Almost Hard To Fathom What He look's Like...   \n",
       "2017-03-27 12:59:11.430   Troubled News Anchor Does The Unthinkable On Air   \n",
       "2017-03-27 12:59:11.510  Try NOT Gasp When You See Who Queen Latifah Is...   \n",
       "\n",
       "                                                                      link  \\\n",
       "date                                                                         \n",
       "2017-03-27 12:59:09.279  http://scribol.com/a/news-and-politics/ways-jo...   \n",
       "2017-03-27 12:59:09.819  http://www.trend-chaser.com/entertainment/the-...   \n",
       "2017-03-27 12:59:10.750  http://www.journalistate.com/popular/big-holly...   \n",
       "2017-03-27 12:59:11.430  http://www.trend-chaser.com/entertainment/the-...   \n",
       "2017-03-27 12:59:11.510  http://zcretuzft.iflmylife.com/entertainment/o...   \n",
       "\n",
       "                                                                       img  \\\n",
       "date                                                                         \n",
       "2017-03-27 12:59:09.279  https://console.brax-cdn.com/creatives/98c6400...   \n",
       "2017-03-27 12:59:09.819  https://console.brax-cdn.com/creatives/b86bbc0...   \n",
       "2017-03-27 12:59:10.750  http://cdn.taboolasyndication.com/libtrc/stati...   \n",
       "2017-03-27 12:59:11.430  https://console.brax-cdn.com/creatives/b86bbc0...   \n",
       "2017-03-27 12:59:11.510  http://cdn.taboolasyndication.com/libtrc/stati...   \n",
       "\n",
       "                        provider          source  \\\n",
       "date                                               \n",
       "2017-03-27 12:59:09.279  taboola  http://tmz.com   \n",
       "2017-03-27 12:59:09.819  taboola  http://tmz.com   \n",
       "2017-03-27 12:59:10.750  taboola  http://tmz.com   \n",
       "2017-03-27 12:59:11.430  taboola  http://tmz.com   \n",
       "2017-03-27 12:59:11.510  taboola  http://tmz.com   \n",
       "\n",
       "                                                             img_file  \\\n",
       "date                                                                    \n",
       "2017-03-27 12:59:09.279  876aa5e83f6fb81a81908db3c02fdcc00d444000.png   \n",
       "2017-03-27 12:59:09.819  bab1037467f1385cd865c48029db808b03a151d2.png   \n",
       "2017-03-27 12:59:10.750  feeb5be5a9758fcca8cef21b6fb842ccc8394766.jpg   \n",
       "2017-03-27 12:59:11.430  bab1037467f1385cd865c48029db808b03a151d2.png   \n",
       "2017-03-27 12:59:11.510  d75401b962746864063b51f164633ffeb93931d3.jpg   \n",
       "\n",
       "                                                                final_link  \\\n",
       "date                                                                         \n",
       "2017-03-27 12:59:09.279  http://scribol.com/a/news-and-politics/ways-jo...   \n",
       "2017-03-27 12:59:09.819  http://www.trend-chaser.com/entertainment/the-...   \n",
       "2017-03-27 12:59:10.750  http://www.journalistate.com/popular/big-holly...   \n",
       "2017-03-27 12:59:11.430  http://www.trend-chaser.com/entertainment/the-...   \n",
       "2017-03-27 12:59:11.510  http://www.iflmylife.com/entertainment/other-h...   \n",
       "\n",
       "                        orig_article        date                    img_host  \\\n",
       "date                                                                           \n",
       "2017-03-27 12:59:09.279          NaN  2017-03-27        console.brax-cdn.com   \n",
       "2017-03-27 12:59:09.819          NaN  2017-03-27        console.brax-cdn.com   \n",
       "2017-03-27 12:59:10.750          NaN  2017-03-27  cdn.taboolasyndication.com   \n",
       "2017-03-27 12:59:11.430          NaN  2017-03-27        console.brax-cdn.com   \n",
       "2017-03-27 12:59:11.510          NaN  2017-03-27  cdn.taboolasyndication.com   \n",
       "\n",
       "                                     link_host  \n",
       "date                                            \n",
       "2017-03-27 12:59:09.279            scribol.com  \n",
       "2017-03-27 12:59:09.819   www.trend-chaser.com  \n",
       "2017-03-27 12:59:10.750  www.journalistate.com  \n",
       "2017-03-27 12:59:11.430   www.trend-chaser.com  \n",
       "2017-03-27 12:59:11.510      www.iflmylife.com  "
      ]
     },
     "execution_count": 14,
     "metadata": {},
     "output_type": "execute_result"
    }
   ],
   "source": [
    "data.head()"
   ]
  },
  {
   "cell_type": "markdown",
   "metadata": {},
   "source": [
    "We're working with a lot of duplicates, I'm sure. Let's remove anything where the headline, link, img, provider, source, img_file, final_link are the same. This should only give us back the unique records we're looking for."
   ]
  },
  {
   "cell_type": "code",
   "execution_count": 15,
   "metadata": {
    "collapsed": false
   },
   "outputs": [],
   "source": [
    "deduped = data.drop_duplicates(subset=['headline', 'link', 'img', 'provider', 'source', 'img_file', 'final_link', 'orig_article'], keep=False)"
   ]
  },
  {
   "cell_type": "code",
   "execution_count": 16,
   "metadata": {
    "collapsed": false
   },
   "outputs": [
    {
     "data": {
      "text/html": [
       "<div>\n",
       "<table border=\"1\" class=\"dataframe\">\n",
       "  <thead>\n",
       "    <tr style=\"text-align: right;\">\n",
       "      <th></th>\n",
       "      <th>_id</th>\n",
       "      <th>headline</th>\n",
       "      <th>link</th>\n",
       "      <th>img</th>\n",
       "      <th>provider</th>\n",
       "      <th>source</th>\n",
       "      <th>img_file</th>\n",
       "      <th>final_link</th>\n",
       "      <th>orig_article</th>\n",
       "      <th>date</th>\n",
       "      <th>img_host</th>\n",
       "      <th>link_host</th>\n",
       "    </tr>\n",
       "  </thead>\n",
       "  <tbody>\n",
       "    <tr>\n",
       "      <th>count</th>\n",
       "      <td>82098</td>\n",
       "      <td>82098</td>\n",
       "      <td>82098</td>\n",
       "      <td>82098</td>\n",
       "      <td>82098</td>\n",
       "      <td>82098</td>\n",
       "      <td>82098</td>\n",
       "      <td>82098</td>\n",
       "      <td>62973</td>\n",
       "      <td>82098</td>\n",
       "      <td>82098</td>\n",
       "      <td>82098</td>\n",
       "    </tr>\n",
       "    <tr>\n",
       "      <th>unique</th>\n",
       "      <td>82098</td>\n",
       "      <td>16910</td>\n",
       "      <td>39448</td>\n",
       "      <td>22167</td>\n",
       "      <td>4</td>\n",
       "      <td>24</td>\n",
       "      <td>22191</td>\n",
       "      <td>34298</td>\n",
       "      <td>6669</td>\n",
       "      <td>93</td>\n",
       "      <td>587</td>\n",
       "      <td>2237</td>\n",
       "    </tr>\n",
       "    <tr>\n",
       "      <th>top</th>\n",
       "      <td>ObjectId(594279329e1e2a7afd0c898d)</td>\n",
       "      <td>25 Makeup Tips All Older Women Should Know</td>\n",
       "      <td>https://grizly.com/lifestyle/guy-turned-backya...</td>\n",
       "      <td>http://cdn.taboolasyndication.com/libtrc/stati...</td>\n",
       "      <td>taboola</td>\n",
       "      <td>http://tmz.com</td>\n",
       "      <td>f18167ca58fee4ae691a28ecd39b0c1afe2689e4.jpg</td>\n",
       "      <td>https://grizly.com/lifestyle/guy-turned-backya...</td>\n",
       "      <td>http://www.tmz.com/2017/06/02/kathy-griffin-co...</td>\n",
       "      <td>2017-06-20</td>\n",
       "      <td>images.outbrain.com</td>\n",
       "      <td>www.zergnet.com</td>\n",
       "    </tr>\n",
       "    <tr>\n",
       "      <th>freq</th>\n",
       "      <td>1</td>\n",
       "      <td>414</td>\n",
       "      <td>289</td>\n",
       "      <td>368</td>\n",
       "      <td>33456</td>\n",
       "      <td>10729</td>\n",
       "      <td>368</td>\n",
       "      <td>289</td>\n",
       "      <td>88</td>\n",
       "      <td>2696</td>\n",
       "      <td>22540</td>\n",
       "      <td>10459</td>\n",
       "    </tr>\n",
       "  </tbody>\n",
       "</table>\n",
       "</div>"
      ],
      "text/plain": [
       "                                       _id  \\\n",
       "count                                82098   \n",
       "unique                               82098   \n",
       "top     ObjectId(594279329e1e2a7afd0c898d)   \n",
       "freq                                     1   \n",
       "\n",
       "                                          headline  \\\n",
       "count                                        82098   \n",
       "unique                                       16910   \n",
       "top     25 Makeup Tips All Older Women Should Know   \n",
       "freq                                           414   \n",
       "\n",
       "                                                     link  \\\n",
       "count                                               82098   \n",
       "unique                                              39448   \n",
       "top     https://grizly.com/lifestyle/guy-turned-backya...   \n",
       "freq                                                  289   \n",
       "\n",
       "                                                      img provider  \\\n",
       "count                                               82098    82098   \n",
       "unique                                              22167        4   \n",
       "top     http://cdn.taboolasyndication.com/libtrc/stati...  taboola   \n",
       "freq                                                  368    33456   \n",
       "\n",
       "                source                                      img_file  \\\n",
       "count            82098                                         82098   \n",
       "unique              24                                         22191   \n",
       "top     http://tmz.com  f18167ca58fee4ae691a28ecd39b0c1afe2689e4.jpg   \n",
       "freq             10729                                           368   \n",
       "\n",
       "                                               final_link  \\\n",
       "count                                               82098   \n",
       "unique                                              34298   \n",
       "top     https://grizly.com/lifestyle/guy-turned-backya...   \n",
       "freq                                                  289   \n",
       "\n",
       "                                             orig_article        date  \\\n",
       "count                                               62973       82098   \n",
       "unique                                               6669          93   \n",
       "top     http://www.tmz.com/2017/06/02/kathy-griffin-co...  2017-06-20   \n",
       "freq                                                   88        2696   \n",
       "\n",
       "                   img_host        link_host  \n",
       "count                 82098            82098  \n",
       "unique                  587             2237  \n",
       "top     images.outbrain.com  www.zergnet.com  \n",
       "freq                  22540            10459  "
      ]
     },
     "execution_count": 16,
     "metadata": {},
     "output_type": "execute_result"
    }
   ],
   "source": [
    "deduped.describe()"
   ]
  },
  {
   "cell_type": "markdown",
   "metadata": {},
   "source": [
    "And let's just check on those null values again..."
   ]
  },
  {
   "cell_type": "code",
   "execution_count": 17,
   "metadata": {
    "collapsed": false
   },
   "outputs": [
    {
     "name": "stdout",
     "output_type": "stream",
     "text": [
      "('_id', 0)\n",
      "('headline', 0)\n",
      "('link', 0)\n",
      "('img', 0)\n",
      "('provider', 0)\n",
      "('source', 0)\n",
      "('img_file', 0)\n",
      "('final_link', 0)\n",
      "('orig_article', 19125)\n",
      "('date', 0)\n",
      "('img_host', 0)\n",
      "('link_host', 0)\n"
     ]
    }
   ],
   "source": [
    "for col in deduped.columns:\n",
    "    print((col, sum(deduped[col].isnull())))"
   ]
  },
  {
   "cell_type": "markdown",
   "metadata": {},
   "source": [
    "only 0.2% of images are not available. I think that's ok, It's possible, since we have the original URL, that we might be able to go back and grab them."
   ]
  },
  {
   "cell_type": "markdown",
   "metadata": {},
   "source": [
    "Just to be sure it's doing what we assume it's doing, let's just remove duplicates based on headline. I assume this would leave us with far less records as I don't doubt that the same headline migh appear on another website."
   ]
  },
  {
   "cell_type": "code",
   "execution_count": 18,
   "metadata": {
    "collapsed": true
   },
   "outputs": [],
   "source": [
    "deduped_hl = data.drop_duplicates(subset=['headline'], keep=False)"
   ]
  },
  {
   "cell_type": "code",
   "execution_count": 19,
   "metadata": {
    "collapsed": false
   },
   "outputs": [
    {
     "data": {
      "text/html": [
       "<div>\n",
       "<table border=\"1\" class=\"dataframe\">\n",
       "  <thead>\n",
       "    <tr style=\"text-align: right;\">\n",
       "      <th></th>\n",
       "      <th>_id</th>\n",
       "      <th>headline</th>\n",
       "      <th>link</th>\n",
       "      <th>img</th>\n",
       "      <th>provider</th>\n",
       "      <th>source</th>\n",
       "      <th>img_file</th>\n",
       "      <th>final_link</th>\n",
       "      <th>orig_article</th>\n",
       "      <th>date</th>\n",
       "      <th>img_host</th>\n",
       "      <th>link_host</th>\n",
       "    </tr>\n",
       "  </thead>\n",
       "  <tbody>\n",
       "    <tr>\n",
       "      <th>count</th>\n",
       "      <td>8466</td>\n",
       "      <td>8466</td>\n",
       "      <td>8466</td>\n",
       "      <td>8466</td>\n",
       "      <td>8466</td>\n",
       "      <td>8466</td>\n",
       "      <td>8466</td>\n",
       "      <td>8466</td>\n",
       "      <td>4509</td>\n",
       "      <td>8466</td>\n",
       "      <td>8466</td>\n",
       "      <td>8466</td>\n",
       "    </tr>\n",
       "    <tr>\n",
       "      <th>unique</th>\n",
       "      <td>8466</td>\n",
       "      <td>8466</td>\n",
       "      <td>7787</td>\n",
       "      <td>8036</td>\n",
       "      <td>4</td>\n",
       "      <td>24</td>\n",
       "      <td>8009</td>\n",
       "      <td>7793</td>\n",
       "      <td>2135</td>\n",
       "      <td>93</td>\n",
       "      <td>400</td>\n",
       "      <td>1601</td>\n",
       "    </tr>\n",
       "    <tr>\n",
       "      <th>top</th>\n",
       "      <td>ObjectId(5934ba9d9e1e2a210446183d)</td>\n",
       "      <td>Stars Who Got Dumped While Pregnant</td>\n",
       "      <td>http://advertisementfeature.cnn.com/2017/yanmar</td>\n",
       "      <td>http://cdn.taboolasyndication.com/libtrc/stati...</td>\n",
       "      <td>outbrain</td>\n",
       "      <td>http://www.politico.com/magazine/</td>\n",
       "      <td>nan</td>\n",
       "      <td>http://www.homeadvisor.com/?utm_source=Outbrain</td>\n",
       "      <td>http://www.businessinsider.com/dave-mcclure-no...</td>\n",
       "      <td>2017-07-01</td>\n",
       "      <td>images.outbrain.com</td>\n",
       "      <td>www.zergnet.com</td>\n",
       "    </tr>\n",
       "    <tr>\n",
       "      <th>freq</th>\n",
       "      <td>1</td>\n",
       "      <td>1</td>\n",
       "      <td>9</td>\n",
       "      <td>8</td>\n",
       "      <td>4166</td>\n",
       "      <td>1347</td>\n",
       "      <td>31</td>\n",
       "      <td>10</td>\n",
       "      <td>28</td>\n",
       "      <td>264</td>\n",
       "      <td>4168</td>\n",
       "      <td>884</td>\n",
       "    </tr>\n",
       "  </tbody>\n",
       "</table>\n",
       "</div>"
      ],
      "text/plain": [
       "                                       _id  \\\n",
       "count                                 8466   \n",
       "unique                                8466   \n",
       "top     ObjectId(5934ba9d9e1e2a210446183d)   \n",
       "freq                                     1   \n",
       "\n",
       "                                   headline  \\\n",
       "count                                  8466   \n",
       "unique                                 8466   \n",
       "top     Stars Who Got Dumped While Pregnant   \n",
       "freq                                      1   \n",
       "\n",
       "                                                   link  \\\n",
       "count                                              8466   \n",
       "unique                                             7787   \n",
       "top     http://advertisementfeature.cnn.com/2017/yanmar   \n",
       "freq                                                  9   \n",
       "\n",
       "                                                      img  provider  \\\n",
       "count                                                8466      8466   \n",
       "unique                                               8036         4   \n",
       "top     http://cdn.taboolasyndication.com/libtrc/stati...  outbrain   \n",
       "freq                                                    8      4166   \n",
       "\n",
       "                                   source img_file  \\\n",
       "count                                8466     8466   \n",
       "unique                                 24     8009   \n",
       "top     http://www.politico.com/magazine/      nan   \n",
       "freq                                 1347       31   \n",
       "\n",
       "                                             final_link  \\\n",
       "count                                              8466   \n",
       "unique                                             7793   \n",
       "top     http://www.homeadvisor.com/?utm_source=Outbrain   \n",
       "freq                                                 10   \n",
       "\n",
       "                                             orig_article        date  \\\n",
       "count                                                4509        8466   \n",
       "unique                                               2135          93   \n",
       "top     http://www.businessinsider.com/dave-mcclure-no...  2017-07-01   \n",
       "freq                                                   28         264   \n",
       "\n",
       "                   img_host        link_host  \n",
       "count                  8466             8466  \n",
       "unique                  400             1601  \n",
       "top     images.outbrain.com  www.zergnet.com  \n",
       "freq                   4168              884  "
      ]
     },
     "execution_count": 19,
     "metadata": {},
     "output_type": "execute_result"
    }
   ],
   "source": [
    "deduped_hl.describe()"
   ]
  },
  {
   "cell_type": "markdown",
   "metadata": {},
   "source": [
    "And sure enought we're only left with 4999 records if we only want records with unique headlines."
   ]
  },
  {
   "cell_type": "code",
   "execution_count": 20,
   "metadata": {
    "collapsed": true
   },
   "outputs": [],
   "source": [
    "deduped_hl_source = data.drop_duplicates(subset=['headline', 'source'], keep=False)"
   ]
  },
  {
   "cell_type": "code",
   "execution_count": 21,
   "metadata": {
    "collapsed": false
   },
   "outputs": [
    {
     "data": {
      "text/html": [
       "<div>\n",
       "<table border=\"1\" class=\"dataframe\">\n",
       "  <thead>\n",
       "    <tr style=\"text-align: right;\">\n",
       "      <th></th>\n",
       "      <th>_id</th>\n",
       "      <th>headline</th>\n",
       "      <th>link</th>\n",
       "      <th>img</th>\n",
       "      <th>provider</th>\n",
       "      <th>source</th>\n",
       "      <th>img_file</th>\n",
       "      <th>final_link</th>\n",
       "      <th>orig_article</th>\n",
       "      <th>date</th>\n",
       "      <th>img_host</th>\n",
       "      <th>link_host</th>\n",
       "    </tr>\n",
       "  </thead>\n",
       "  <tbody>\n",
       "    <tr>\n",
       "      <th>count</th>\n",
       "      <td>13270</td>\n",
       "      <td>13270</td>\n",
       "      <td>13270</td>\n",
       "      <td>13270</td>\n",
       "      <td>13270</td>\n",
       "      <td>13270</td>\n",
       "      <td>13270</td>\n",
       "      <td>13270</td>\n",
       "      <td>7028</td>\n",
       "      <td>13270</td>\n",
       "      <td>13270</td>\n",
       "      <td>13270</td>\n",
       "    </tr>\n",
       "    <tr>\n",
       "      <th>unique</th>\n",
       "      <td>13270</td>\n",
       "      <td>11376</td>\n",
       "      <td>11438</td>\n",
       "      <td>11527</td>\n",
       "      <td>4</td>\n",
       "      <td>24</td>\n",
       "      <td>11492</td>\n",
       "      <td>11450</td>\n",
       "      <td>2979</td>\n",
       "      <td>93</td>\n",
       "      <td>526</td>\n",
       "      <td>1814</td>\n",
       "    </tr>\n",
       "    <tr>\n",
       "      <th>top</th>\n",
       "      <td>ObjectId(59360bf19e1e2a62f9cee41f)</td>\n",
       "      <td>5 Steps To Raising A Viking Child</td>\n",
       "      <td>https://ad.doubleclick.net/ddm/trackclk/N6296....</td>\n",
       "      <td>https://pgeveryday-com.secure.footprint.net/As...</td>\n",
       "      <td>taboola</td>\n",
       "      <td>http://www.politico.com/magazine/</td>\n",
       "      <td>nan</td>\n",
       "      <td>https://www.verizon.com/home/fios-gigabit-conn...</td>\n",
       "      <td>http://www.businessinsider.com/dave-mcclure-no...</td>\n",
       "      <td>2017-07-01</td>\n",
       "      <td>images.outbrain.com</td>\n",
       "      <td>www.zergnet.com</td>\n",
       "    </tr>\n",
       "    <tr>\n",
       "      <th>freq</th>\n",
       "      <td>1</td>\n",
       "      <td>6</td>\n",
       "      <td>21</td>\n",
       "      <td>9</td>\n",
       "      <td>6218</td>\n",
       "      <td>1550</td>\n",
       "      <td>52</td>\n",
       "      <td>21</td>\n",
       "      <td>41</td>\n",
       "      <td>392</td>\n",
       "      <td>5815</td>\n",
       "      <td>980</td>\n",
       "    </tr>\n",
       "  </tbody>\n",
       "</table>\n",
       "</div>"
      ],
      "text/plain": [
       "                                       _id                           headline  \\\n",
       "count                                13270                              13270   \n",
       "unique                               13270                              11376   \n",
       "top     ObjectId(59360bf19e1e2a62f9cee41f)  5 Steps To Raising A Viking Child   \n",
       "freq                                     1                                  6   \n",
       "\n",
       "                                                     link  \\\n",
       "count                                               13270   \n",
       "unique                                              11438   \n",
       "top     https://ad.doubleclick.net/ddm/trackclk/N6296....   \n",
       "freq                                                   21   \n",
       "\n",
       "                                                      img provider  \\\n",
       "count                                               13270    13270   \n",
       "unique                                              11527        4   \n",
       "top     https://pgeveryday-com.secure.footprint.net/As...  taboola   \n",
       "freq                                                    9     6218   \n",
       "\n",
       "                                   source img_file  \\\n",
       "count                               13270    13270   \n",
       "unique                                 24    11492   \n",
       "top     http://www.politico.com/magazine/      nan   \n",
       "freq                                 1550       52   \n",
       "\n",
       "                                               final_link  \\\n",
       "count                                               13270   \n",
       "unique                                              11450   \n",
       "top     https://www.verizon.com/home/fios-gigabit-conn...   \n",
       "freq                                                   21   \n",
       "\n",
       "                                             orig_article        date  \\\n",
       "count                                                7028       13270   \n",
       "unique                                               2979          93   \n",
       "top     http://www.businessinsider.com/dave-mcclure-no...  2017-07-01   \n",
       "freq                                                   41         392   \n",
       "\n",
       "                   img_host        link_host  \n",
       "count                 13270            13270  \n",
       "unique                  526             1814  \n",
       "top     images.outbrain.com  www.zergnet.com  \n",
       "freq                   5815              980  "
      ]
     },
     "execution_count": 21,
     "metadata": {},
     "output_type": "execute_result"
    }
   ],
   "source": [
    "deduped_hl_source.describe()"
   ]
  },
  {
   "cell_type": "markdown",
   "metadata": {},
   "source": [
    "But that's enough of that. Let's return to the unique records we're interested in in `deduped`. But first, let's take a look at the rate of success for our record collection."
   ]
  },
  {
   "cell_type": "code",
   "execution_count": 22,
   "metadata": {
    "collapsed": false
   },
   "outputs": [
    {
     "data": {
      "text/plain": [
       "29.823686220711803"
      ]
     },
     "execution_count": 22,
     "metadata": {},
     "output_type": "execute_result"
    }
   ],
   "source": [
    "(19131/64147)*100"
   ]
  },
  {
   "cell_type": "markdown",
   "metadata": {},
   "source": [
    "Crud, doing a harvest yields results where only 30% of our sample is worth examining further. By projection, if we wanted to examine ~100,000 unique records, we're going to have to collect ~340000 records. At this rate, that's still some time away. But let's have our anlysis framework ready for that time."
   ]
  },
  {
   "cell_type": "markdown",
   "metadata": {},
   "source": [
    "Note: We might still be interested in the duplicates if we take a look at the distribution of those records over time. Below, we should probably reduce the date of collection to a week or maybe a 3 day sequence and only remove duplicates if they happened within that period. Which might tell us something about content being shuffled in and out by the provider."
   ]
  },
  {
   "cell_type": "markdown",
   "metadata": {},
   "source": [
    "Let's get the top 10 headlines grouped by img"
   ]
  },
  {
   "cell_type": "code",
   "execution_count": 23,
   "metadata": {
    "collapsed": false,
    "scrolled": true
   },
   "outputs": [
    {
     "data": {
      "text/plain": [
       "img                                                                                              headline                                                                                                 \n",
       "http://cdn.taboolasyndication.com/libtrc/static/thumbnails/21a99ebd78f2af61aeeec2074e0376c0.jpg  Nicole Kidman's Yacht Is Far From You'd Expect                                                               368\n",
       "https://revcontent-p0.s3.amazonaws.com/content/images/1495720487.jpg                             Triple Your Accuracy With This Weird Shooting Technique Used By Seal Snipers                                 238\n",
       "http://img2.zergnet.com/694817_300.jpg                                                           Kim Kardashian and North West Turn Heads On The Red Carpet                                                   231\n",
       "http://cdn.taboolasyndication.com/libtrc/static/thumbnails/0dba2430aca9e98e05160cfd6e6d3171.jpg  Here Is How You Upgrade To Business Class                                                                    227\n",
       "http://img1.zergnet.com/1531624_300.jpg                                                          10 Surprising Things Guys Find Unattractive                                                                  217\n",
       "http://cdn.taboolasyndication.com/libtrc/static/thumbnails/4343e61bc7b036a926ac52627e74cabd.jpg  Don't Buy Furniture Until You See This Site                                                                  216\n",
       "http://img5.zergnet.com/1402938_300.jpg                                                          9 Hair Mistakes That Make You Look Older                                                                     206\n",
       "http://cdn.taboolasyndication.com/libtrc/static/thumbnails/b11088050b2cd257d58f325a1c9ea583.jpg  12 Things Americans are Shocked by in Europe                                                                 199\n",
       "http://cdn.taboolasyndication.com/libtrc/static/thumbnails/2e967b6db0813815a899401b4746a749.jpg  Stairlifts are disrupting the multi-billion dollar retirement home industry - keeping seniors independent    197\n",
       "http://img1.zergnet.com/1400060_300.jpg                                                          10 Features That Attract Men The Most                                                                        194\n",
       "Name: headline, dtype: int64"
      ]
     },
     "execution_count": 23,
     "metadata": {},
     "output_type": "execute_result"
    }
   ],
   "source": [
    "deduped['headline'].groupby(deduped['img']).value_counts().nlargest(10)"
   ]
  },
  {
   "cell_type": "code",
   "execution_count": 24,
   "metadata": {
    "collapsed": false,
    "scrolled": true
   },
   "outputs": [
    {
     "data": {
      "text/plain": [
       "25 Makeup Tips All Older Women Should Know                                      414\n",
       "Here’s Why Guys Are Obsessed With This Underwear…                               377\n",
       "Nicole Kidman's Yacht Is Far From You'd Expect                                  376\n",
       "Don't Buy Furniture Until You See This Site                                     321\n",
       "Triple Your Accuracy With This Weird Shooting Technique Used By Seal Snipers    260\n",
       "His Neighbors Were Outraged at First. Now They Think He’s a Genius!             255\n",
       "Kim Kardashian and North West Turn Heads On The Red Carpet                      232\n",
       "Forget Social Security if you Own a Home (Do This)                              231\n",
       "Here Is How You Upgrade To Business Class                                       227\n",
       "Remember Barbi Benton? What She Looks Like Today Is Unreal                      226\n",
       "Name: headline, dtype: int64"
      ]
     },
     "execution_count": 24,
     "metadata": {},
     "output_type": "execute_result"
    }
   ],
   "source": [
    "deduped['headline'].value_counts().nlargest(10)"
   ]
  },
  {
   "cell_type": "markdown",
   "metadata": {},
   "source": [
    "But hang on. let's just see what the top headlines are. There's certainly overlap, but it's not a one to one relationship between headlines and their images (or at least maybe it's the same image, but coming from a different URL)."
   ]
  },
  {
   "cell_type": "markdown",
   "metadata": {},
   "source": [
    "Note: perhaps something we will want to look into is how many different headline, image permutations there are. I am particularly interested in the reuse of images across different headlines."
   ]
  },
  {
   "cell_type": "code",
   "execution_count": 25,
   "metadata": {
    "collapsed": false,
    "scrolled": true
   },
   "outputs": [
    {
     "data": {
      "text/plain": [
       "http://tmz.com                        10729\n",
       "http://elitedaily.com/                 7378\n",
       "http://www.breitbart.com               7232\n",
       "http://thehill.com                     5888\n",
       "http://www.politico.com/magazine/      4526\n",
       "http://www.businessinsider.com/        4518\n",
       "https://www.washingtonpost.com/        4333\n",
       "http://www.dailymail.co.uk/            4051\n",
       "http://www.thedailybeast.com/          3761\n",
       "http://www.rt.com                      3447\n",
       "http://www.politico.com/politics       3059\n",
       "http://www.nydailynews.com/news        2897\n",
       "https://nypost.com/news/               2711\n",
       "http://www.infowars.com/               2561\n",
       "https://www.therebel.media/news        2474\n",
       "https://downtrend.com/                 2421\n",
       "http://reductress.com/                 2394\n",
       "http://www.ibtimes.com/                2323\n",
       "http://www.huffingtonpost.com/         2322\n",
       "http://observer.com/latest/            1303\n",
       "http://worldstarhiphop.com/videos/     1292\n",
       "http://gothamist.com/news               334\n",
       "http://preventionpulse.com/             108\n",
       "http://www.metro.us/news                 36\n",
       "Name: source, dtype: int64"
      ]
     },
     "execution_count": 25,
     "metadata": {},
     "output_type": "execute_result"
    }
   ],
   "source": [
    "deduped['source'].value_counts().nlargest(25)"
   ]
  },
  {
   "cell_type": "markdown",
   "metadata": {},
   "source": [
    "Whoops, if you notice, there are some sites missing here. Because of the inconsistencies in how PhantomJS works, 4 of our sites have not been collected from this entire time (they have been on our local copy)."
   ]
  },
  {
   "cell_type": "markdown",
   "metadata": {},
   "source": [
    "ok so what are the most frequent images?"
   ]
  },
  {
   "cell_type": "code",
   "execution_count": 26,
   "metadata": {
    "collapsed": true,
    "scrolled": true
   },
   "outputs": [],
   "source": [
    "IMG_MAX=3"
   ]
  },
  {
   "cell_type": "code",
   "execution_count": 27,
   "metadata": {
    "collapsed": false
   },
   "outputs": [],
   "source": [
    "#topimgs_taboola = deduped['img'][deduped['provider'].isin(['taboola'])].value_counts().nlargest(IMG_MAX).index.tolist()"
   ]
  },
  {
   "cell_type": "code",
   "execution_count": 28,
   "metadata": {
    "collapsed": false
   },
   "outputs": [],
   "source": [
    "#topimgs_outbrain = deduped['img'][deduped['provider'].isin(['outbrain'])].value_counts().nlargest(IMG_MAX).index.tolist()"
   ]
  },
  {
   "cell_type": "code",
   "execution_count": 29,
   "metadata": {
    "collapsed": true
   },
   "outputs": [],
   "source": [
    "#topimgs_zergnet = deduped['img'][deduped['provider'].isin(['zergnet'])].value_counts().nlargest(IMG_MAX).index.tolist()"
   ]
  },
  {
   "cell_type": "markdown",
   "metadata": {},
   "source": [
    "If we go back to our provider list, we'll notice that there is nothing from revcontent, and this will reflect in that the 4 sites that are missing from our crawl on our server are all revcontent sites. That's annoying."
   ]
  },
  {
   "cell_type": "code",
   "execution_count": 30,
   "metadata": {
    "collapsed": false
   },
   "outputs": [
    {
     "data": {
      "text/plain": [
       "taboola       33456\n",
       "outbrain      22522\n",
       "zergnet       17379\n",
       "revcontent     8741\n",
       "Name: provider, dtype: int64"
      ]
     },
     "execution_count": 30,
     "metadata": {},
     "output_type": "execute_result"
    }
   ],
   "source": [
    "deduped['provider'].value_counts()"
   ]
  },
  {
   "cell_type": "code",
   "execution_count": 31,
   "metadata": {
    "collapsed": false
   },
   "outputs": [],
   "source": [
    "#for i in topimgs:\n",
    "#    displaystring = '<img src={} width=\"200\"/>'.format(i)\n",
    "#    display(HTML(displaystring))"
   ]
  },
  {
   "cell_type": "markdown",
   "metadata": {},
   "source": [
    "Great, lets compare them by source."
   ]
  },
  {
   "cell_type": "code",
   "execution_count": 32,
   "metadata": {
    "collapsed": false
   },
   "outputs": [],
   "source": [
    "#for i in topimgs_taboola:\n",
    "#    displaystring = '<img src={} width=\"200\"/>'.format(i)\n",
    "#    display(HTML(displaystring))"
   ]
  },
  {
   "cell_type": "code",
   "execution_count": 33,
   "metadata": {
    "collapsed": false
   },
   "outputs": [],
   "source": [
    "#for i in topimgs_outbrain:\n",
    "#    displaystring = '<img src={} width=\"200\"/>'.format(i)\n",
    "#    display(HTML(displaystring))"
   ]
  },
  {
   "cell_type": "code",
   "execution_count": 34,
   "metadata": {
    "collapsed": false
   },
   "outputs": [],
   "source": [
    "#for i in topimgs_zergnet:\n",
    "#    displaystring = '<img src={} width=\"200\"/>'.format(i)\n",
    "#    display(HTML(displaystring))"
   ]
  },
  {
   "cell_type": "markdown",
   "metadata": {},
   "source": [
    "Yawn!!"
   ]
  },
  {
   "cell_type": "code",
   "execution_count": 35,
   "metadata": {
    "collapsed": false
   },
   "outputs": [
    {
     "data": {
      "text/plain": [
       "www.zergnet.com               10459\n",
       "trends.revcontent.com          6658\n",
       "thehill.com                    2377\n",
       "scribol.com                    1836\n",
       "www.tmz.com                    1756\n",
       "www.historyinorbit.com         1274\n",
       "loanpride.com                   925\n",
       "www.popoholic.com               895\n",
       "www.thehollywoodgossip.com      860\n",
       "www.celebdirtylaundry.com       812\n",
       "definition.org                  796\n",
       "search.yahoo.com                743\n",
       "screencrush.com                 736\n",
       "activly.com                     731\n",
       "www.trend-chaser.com            703\n",
       "www.livingly.com                669\n",
       "www.kbb.com                     646\n",
       "mtonews.com                     638\n",
       "www.nextadvisor.com             613\n",
       "coed.com                        606\n",
       "www.thebrofessional.net         585\n",
       "frank151.com                    557\n",
       "www.lonny.com                   557\n",
       "www.lifedaily.com               543\n",
       "quizzes.howstuffworks.com       535\n",
       "Name: link_host, dtype: int64"
      ]
     },
     "execution_count": 35,
     "metadata": {},
     "output_type": "execute_result"
    }
   ],
   "source": [
    "deduped['link_host'].value_counts().nlargest(25)"
   ]
  },
  {
   "cell_type": "code",
   "execution_count": 36,
   "metadata": {
    "collapsed": false
   },
   "outputs": [
    {
     "data": {
      "text/plain": [
       "images.outbrain.com                        22540\n",
       "cdn.taboolasyndication.com                 15780\n",
       "revcontent-p0.s3.amazonaws.com              8554\n",
       "console.brax-cdn.com                        5046\n",
       "img1.zergnet.com                            4517\n",
       "img4.zergnet.com                            4279\n",
       "img5.zergnet.com                            3617\n",
       "img2.zergnet.com                            3576\n",
       "prezna.com                                  1497\n",
       "d2x3bkdslnxkuj.cloudfront.net               1390\n",
       "cdn.taboola.com                             1362\n",
       "eam.hexagram.com                             784\n",
       "prod-cm-minder-uploads.s3.amazonaws.com      761\n",
       "b1.spassets.com                              708\n",
       "gleaned-images.stuff.com                     632\n",
       "s3.amazonaws.com                             533\n",
       "11001100.s3.amazonaws.com                    422\n",
       "www.talktechdaily.com                        289\n",
       "www2.pictures.zimbio.com                     233\n",
       "proxy.topixcdn.com                           223\n",
       "www4.pictures.zimbio.com                     211\n",
       "eam.pubocean.com                             207\n",
       "www.consumerdaily.com                        201\n",
       "www1.pictures.zimbio.com                     192\n",
       "revcontent-production.s3.amazonaws.com       191\n",
       "Name: img_host, dtype: int64"
      ]
     },
     "execution_count": 36,
     "metadata": {},
     "output_type": "execute_result"
    }
   ],
   "source": [
    "deduped['img_host'].value_counts().nlargest(25)"
   ]
  },
  {
   "cell_type": "code",
   "execution_count": 37,
   "metadata": {
    "collapsed": false
   },
   "outputs": [],
   "source": [
    "dates = deduped['date']"
   ]
  },
  {
   "cell_type": "markdown",
   "metadata": {
    "collapsed": false
   },
   "source": [
    "See what dates we're working with"
   ]
  },
  {
   "cell_type": "code",
   "execution_count": 38,
   "metadata": {
    "collapsed": false
   },
   "outputs": [
    {
     "data": {
      "text/plain": [
       "'Start: 2017-03-27 12:59:09.279000  -  End: 2017-07-09 14:31:10.811000'"
      ]
     },
     "execution_count": 38,
     "metadata": {},
     "output_type": "execute_result"
    }
   ],
   "source": [
    "\"Start: {}  -  End: {}\".format(deduped.index.min(), deduped.index.max())"
   ]
  },
  {
   "cell_type": "code",
   "execution_count": 39,
   "metadata": {
    "collapsed": true
   },
   "outputs": [],
   "source": [
    "deduped = deduped.sort_values('date', ascending=True)"
   ]
  },
  {
   "cell_type": "code",
   "execution_count": 40,
   "metadata": {
    "collapsed": false
   },
   "outputs": [
    {
     "data": {
      "text/html": [
       "<div>\n",
       "<table border=\"1\" class=\"dataframe\">\n",
       "  <thead>\n",
       "    <tr style=\"text-align: right;\">\n",
       "      <th></th>\n",
       "      <th>_id</th>\n",
       "      <th>headline</th>\n",
       "      <th>link</th>\n",
       "      <th>img</th>\n",
       "      <th>provider</th>\n",
       "      <th>source</th>\n",
       "      <th>img_file</th>\n",
       "      <th>final_link</th>\n",
       "      <th>orig_article</th>\n",
       "      <th>date</th>\n",
       "      <th>img_host</th>\n",
       "      <th>link_host</th>\n",
       "    </tr>\n",
       "  </thead>\n",
       "  <tbody>\n",
       "    <tr>\n",
       "      <th>count</th>\n",
       "      <td>10130</td>\n",
       "      <td>10130</td>\n",
       "      <td>10130</td>\n",
       "      <td>10130</td>\n",
       "      <td>10130</td>\n",
       "      <td>10130</td>\n",
       "      <td>10130</td>\n",
       "      <td>10130</td>\n",
       "      <td>10130</td>\n",
       "      <td>10130</td>\n",
       "      <td>10130</td>\n",
       "      <td>10130</td>\n",
       "    </tr>\n",
       "    <tr>\n",
       "      <th>unique</th>\n",
       "      <td>10130</td>\n",
       "      <td>2934</td>\n",
       "      <td>5809</td>\n",
       "      <td>3376</td>\n",
       "      <td>4</td>\n",
       "      <td>20</td>\n",
       "      <td>3387</td>\n",
       "      <td>5371</td>\n",
       "      <td>1106</td>\n",
       "      <td>6</td>\n",
       "      <td>162</td>\n",
       "      <td>677</td>\n",
       "    </tr>\n",
       "    <tr>\n",
       "      <th>top</th>\n",
       "      <td>ObjectId(595cd98806e10d05ed7b9563)</td>\n",
       "      <td>Triple Your Accuracy With This Weird Shooting ...</td>\n",
       "      <td>https://grizly.com/lifestyle/guy-turned-backya...</td>\n",
       "      <td>https://revcontent-p0.s3.amazonaws.com/content...</td>\n",
       "      <td>taboola</td>\n",
       "      <td>http://tmz.com</td>\n",
       "      <td>1e3bc2adc7eba5d0f29fff42ff8ab0a55853f1aa.jpg</td>\n",
       "      <td>https://grizly.com/lifestyle/guy-turned-backya...</td>\n",
       "      <td>http://www.tmz.com/2017/06/30/joe-jackson-hosp...</td>\n",
       "      <td>2017-07-07</td>\n",
       "      <td>images.outbrain.com</td>\n",
       "      <td>trends.revcontent.com</td>\n",
       "    </tr>\n",
       "    <tr>\n",
       "      <th>freq</th>\n",
       "      <td>1</td>\n",
       "      <td>90</td>\n",
       "      <td>40</td>\n",
       "      <td>90</td>\n",
       "      <td>3905</td>\n",
       "      <td>1078</td>\n",
       "      <td>90</td>\n",
       "      <td>40</td>\n",
       "      <td>58</td>\n",
       "      <td>2094</td>\n",
       "      <td>2554</td>\n",
       "      <td>1650</td>\n",
       "    </tr>\n",
       "  </tbody>\n",
       "</table>\n",
       "</div>"
      ],
      "text/plain": [
       "                                       _id  \\\n",
       "count                                10130   \n",
       "unique                               10130   \n",
       "top     ObjectId(595cd98806e10d05ed7b9563)   \n",
       "freq                                     1   \n",
       "\n",
       "                                                 headline  \\\n",
       "count                                               10130   \n",
       "unique                                               2934   \n",
       "top     Triple Your Accuracy With This Weird Shooting ...   \n",
       "freq                                                   90   \n",
       "\n",
       "                                                     link  \\\n",
       "count                                               10130   \n",
       "unique                                               5809   \n",
       "top     https://grizly.com/lifestyle/guy-turned-backya...   \n",
       "freq                                                   40   \n",
       "\n",
       "                                                      img provider  \\\n",
       "count                                               10130    10130   \n",
       "unique                                               3376        4   \n",
       "top     https://revcontent-p0.s3.amazonaws.com/content...  taboola   \n",
       "freq                                                   90     3905   \n",
       "\n",
       "                source                                      img_file  \\\n",
       "count            10130                                         10130   \n",
       "unique              20                                          3387   \n",
       "top     http://tmz.com  1e3bc2adc7eba5d0f29fff42ff8ab0a55853f1aa.jpg   \n",
       "freq              1078                                            90   \n",
       "\n",
       "                                               final_link  \\\n",
       "count                                               10130   \n",
       "unique                                               5371   \n",
       "top     https://grizly.com/lifestyle/guy-turned-backya...   \n",
       "freq                                                   40   \n",
       "\n",
       "                                             orig_article        date  \\\n",
       "count                                               10130       10130   \n",
       "unique                                               1106           6   \n",
       "top     http://www.tmz.com/2017/06/30/joe-jackson-hosp...  2017-07-07   \n",
       "freq                                                   58        2094   \n",
       "\n",
       "                   img_host              link_host  \n",
       "count                 10130                  10130  \n",
       "unique                  162                    677  \n",
       "top     images.outbrain.com  trends.revcontent.com  \n",
       "freq                   2554                   1650  "
      ]
     },
     "execution_count": 40,
     "metadata": {},
     "output_type": "execute_result"
    }
   ],
   "source": [
    "deduped['2017-07-01':'2017-07-07'].describe()"
   ]
  },
  {
   "cell_type": "code",
   "execution_count": 41,
   "metadata": {
    "collapsed": false
   },
   "outputs": [
    {
     "data": {
      "text/plain": [
       "<matplotlib.axes._subplots.AxesSubplot at 0x1065589e8>"
      ]
     },
     "execution_count": 41,
     "metadata": {},
     "output_type": "execute_result"
    }
   ],
   "source": [
    "deduped['2017-07-01':'2017-07-09'].groupby(['provider', 'source']).resample('M').size().plot(kind='bar')"
   ]
  },
  {
   "cell_type": "code",
   "execution_count": 42,
   "metadata": {
    "collapsed": false
   },
   "outputs": [
    {
     "data": {
      "image/png": "[encoded data removed]",
      "text/plain": [
       "<matplotlib.figure.Figure at 0x106dc15f8>"
      ]
     },
     "metadata": {},
     "output_type": "display_data"
    }
   ],
   "source": [
    "plt.show()"
   ]
  },
  {
   "cell_type": "code",
   "execution_count": 43,
   "metadata": {
    "collapsed": false
   },
   "outputs": [
    {
     "data": {
      "text/plain": [
       "<matplotlib.axes._subplots.AxesSubplot at 0x106cdabe0>"
      ]
     },
     "execution_count": 43,
     "metadata": {},
     "output_type": "execute_result"
    }
   ],
   "source": [
    "deduped['2017-06-01':'2017-06-30'].groupby(['provider', 'source']).resample('M').size().plot(kind='bar')"
   ]
  },
  {
   "cell_type": "code",
   "execution_count": 44,
   "metadata": {
    "collapsed": false
   },
   "outputs": [
    {
     "data": {
      "image/png": "[encoded data removed]",
      "text/plain": [
       "<matplotlib.figure.Figure at 0x106cee5f8>"
      ]
     },
     "metadata": {},
     "output_type": "display_data"
    }
   ],
   "source": [
    "plt.show()"
   ]
  },
  {
   "cell_type": "code",
   "execution_count": 45,
   "metadata": {
    "collapsed": false
   },
   "outputs": [
    {
     "data": {
      "text/plain": [
       "<matplotlib.axes._subplots.AxesSubplot at 0x106f2d908>"
      ]
     },
     "execution_count": 45,
     "metadata": {},
     "output_type": "execute_result"
    }
   ],
   "source": [
    "deduped['2017-05-01':'2017-05-31'].groupby(['provider', 'source']).resample('M').size().plot(kind='bar')"
   ]
  },
  {
   "cell_type": "code",
   "execution_count": 46,
   "metadata": {
    "collapsed": false
   },
   "outputs": [
    {
     "data": {
      "image/png": "[encoded data removed]",
      "text/plain": [
       "<matplotlib.figure.Figure at 0x106f3a438>"
      ]
     },
     "metadata": {},
     "output_type": "display_data"
    }
   ],
   "source": [
    "plt.show()"
   ]
  },
  {
   "cell_type": "code",
   "execution_count": 47,
   "metadata": {
    "collapsed": false
   },
   "outputs": [
    {
     "data": {
      "text/plain": [
       "<matplotlib.axes._subplots.AxesSubplot at 0x10915d828>"
      ]
     },
     "execution_count": 47,
     "metadata": {},
     "output_type": "execute_result"
    }
   ],
   "source": [
    "deduped['2017-04-01':'2017-04-30'].groupby(['provider', 'source']).resample('M').size().plot(kind='bar')"
   ]
  },
  {
   "cell_type": "code",
   "execution_count": 48,
   "metadata": {
    "collapsed": false
   },
   "outputs": [
    {
     "data": {
      "image/png": "[encoded data removed]",
      "text/plain": [
       "<matplotlib.figure.Figure at 0x109a08940>"
      ]
     },
     "metadata": {},
     "output_type": "display_data"
    }
   ],
   "source": [
    "plt.show()"
   ]
  },
  {
   "cell_type": "code",
   "execution_count": 49,
   "metadata": {
    "collapsed": false
   },
   "outputs": [
    {
     "data": {
      "text/plain": [
       "<matplotlib.axes._subplots.AxesSubplot at 0x10c332ba8>"
      ]
     },
     "execution_count": 49,
     "metadata": {},
     "output_type": "execute_result"
    }
   ],
   "source": [
    "deduped['2017-03-27':'2017-03-31'].groupby(['provider', 'source']).resample('M').size().plot(kind='bar')"
   ]
  },
  {
   "cell_type": "code",
   "execution_count": 50,
   "metadata": {
    "collapsed": false
   },
   "outputs": [
    {
     "data": {
      "image/png": "[encoded data removed]",
      "text/plain": [
       "<matplotlib.figure.Figure at 0x10a801c88>"
      ]
     },
     "metadata": {},
     "output_type": "display_data"
    }
   ],
   "source": [
    "plt.show()"
   ]
  },
  {
   "cell_type": "code",
   "execution_count": 51,
   "metadata": {
    "collapsed": false
   },
   "outputs": [
    {
     "data": {
      "text/plain": [
       "Triple Your Accuracy With This Weird Shooting Technique Used By Seal Snipers    20\n",
       "Here’s Why Guys Are Obsessed With This Underwear…                               16\n",
       "24 Times Lotto Winner: This Method Will Make You Win the Lotto Consistently     13\n",
       "Don't Buy Furniture Until You See This Site                                     13\n",
       "Steven Tyler's Car Is Far From What You'd Expect                                12\n",
       "This Is The Shopping Site Amazon Doesn't Want You To Know About                 10\n",
       "Goldman Sachs & World Bank Confirm: Us Dollar Will Be Worthless in 100 Days     10\n",
       "Disturbing Video Evidence Proves Obama Should Have Never Been President.        10\n",
       "21 Celebrities Who Died And Not a Word Was Said                                 10\n",
       "The Unusual Link Between Coconut Oil and Alzheimer's                            10\n",
       "Name: headline, dtype: int64"
      ]
     },
     "execution_count": 51,
     "metadata": {},
     "output_type": "execute_result"
    }
   ],
   "source": [
    "(deduped['2017-07-04':'2017-07-04'])['headline'].value_counts().nlargest(10)"
   ]
  },
  {
   "cell_type": "code",
   "execution_count": 52,
   "metadata": {
    "collapsed": true
   },
   "outputs": [],
   "source": [
    "deduped.to_csv('../data/out/native_ad_data_deduped.csv', index=False)"
   ]
  }
 ],
 "metadata": {
  "kernelspec": {
   "display_name": "Python 3",
   "language": "python",
   "name": "python3"
  },
  "language_info": {
   "codemirror_mode": {
    "name": "ipython",
    "version": 3
   },
   "file_extension": ".py",
   "mimetype": "text/x-python",
   "name": "python",
   "nbconvert_exporter": "python",
   "pygments_lexer": "ipython3",
   "version": "3.6.0"
  }
 },
 "nbformat": 4,
 "nbformat_minor": 1
}
