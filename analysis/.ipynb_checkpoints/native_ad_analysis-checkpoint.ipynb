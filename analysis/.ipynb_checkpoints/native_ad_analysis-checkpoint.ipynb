{
 "cells": [
  {
   "cell_type": "code",
   "execution_count": 1,
   "metadata": {
    "collapsed": true
   },
   "outputs": [],
   "source": [
    "import pandas as pd\n",
    "from datetime import datetime"
   ]
  },
  {
   "cell_type": "code",
   "execution_count": 2,
   "metadata": {
    "collapsed": true
   },
   "outputs": [],
   "source": [
    "from IPython.core.display import display, HTML"
   ]
  },
  {
   "cell_type": "code",
   "execution_count": 3,
   "metadata": {
    "collapsed": true
   },
   "outputs": [],
   "source": [
    "import re"
   ]
  },
  {
   "cell_type": "code",
   "execution_count": 4,
   "metadata": {
    "collapsed": true
   },
   "outputs": [],
   "source": [
    "data = pd.read_csv('../native_ad_data.csv')"
   ]
  },
  {
   "cell_type": "markdown",
   "metadata": {},
   "source": [
    "Let's start with a littler data cleanup: stripdown dates"
   ]
  },
  {
   "cell_type": "code",
   "execution_count": 5,
   "metadata": {
    "collapsed": false
   },
   "outputs": [],
   "source": [
    "#data['date'] = data['date'].apply(lambda x: x.split('T')[0])"
   ]
  },
  {
   "cell_type": "code",
   "execution_count": 6,
   "metadata": {
    "collapsed": false
   },
   "outputs": [
    {
     "data": {
      "text/plain": [
       "dtype('O')"
      ]
     },
     "execution_count": 6,
     "metadata": {},
     "output_type": "execute_result"
    }
   ],
   "source": [
    "data['date'].dtype"
   ]
  },
  {
   "cell_type": "code",
   "execution_count": 36,
   "metadata": {
    "collapsed": true
   },
   "outputs": [],
   "source": [
    "data['date'] = pd.to_datetime(data['date'])"
   ]
  },
  {
   "cell_type": "code",
   "execution_count": null,
   "metadata": {
    "collapsed": true
   },
   "outputs": [],
   "source": [
    "data['date'].dtype"
   ]
  },
  {
   "cell_type": "code",
   "execution_count": 7,
   "metadata": {
    "collapsed": false
   },
   "outputs": [
    {
     "data": {
      "text/html": [
       "<div>\n",
       "<table border=\"1\" class=\"dataframe\">\n",
       "  <thead>\n",
       "    <tr style=\"text-align: right;\">\n",
       "      <th></th>\n",
       "      <th>_id</th>\n",
       "      <th>headline</th>\n",
       "      <th>link</th>\n",
       "      <th>img</th>\n",
       "      <th>provider</th>\n",
       "      <th>source</th>\n",
       "      <th>img_file</th>\n",
       "      <th>date</th>\n",
       "      <th>final_link</th>\n",
       "    </tr>\n",
       "  </thead>\n",
       "  <tbody>\n",
       "    <tr>\n",
       "      <th>0</th>\n",
       "      <td>ObjectId(58fc4a639e1e2a693fe54747)</td>\n",
       "      <td>\\nWhy People At NBC Are Reportedly Worried Abo...</td>\n",
       "      <td>http://www.zergnet.com/i/1597590/50261/0/0/139...</td>\n",
       "      <td>http://img5.zergnet.com/1597590_300.jpg</td>\n",
       "      <td>zergnet</td>\n",
       "      <td>http://tmz.com</td>\n",
       "      <td>76f999e904074946360b8116ed46841d6c26d2df.jpg</td>\n",
       "      <td>2017-04-23T06:30:59.796Z</td>\n",
       "      <td>http://www.zergnet.com/news/1597590/why-people...</td>\n",
       "    </tr>\n",
       "    <tr>\n",
       "      <th>1</th>\n",
       "      <td>ObjectId(58fc4a639e1e2a693fe54748)</td>\n",
       "      <td>\\nMagic Johnson Opens Up About His Son EJ Comi...</td>\n",
       "      <td>http://www.zergnet.com/i/1642211/50261/0/0/139...</td>\n",
       "      <td>http://img4.zergnet.com/1642211_300.jpg</td>\n",
       "      <td>zergnet</td>\n",
       "      <td>http://tmz.com</td>\n",
       "      <td>fab1d021d6f6a57c778988a90aa7803375e2550a.jpg</td>\n",
       "      <td>2017-04-23T06:30:59.835Z</td>\n",
       "      <td>http://www.zergnet.com/news/1642211/magic-john...</td>\n",
       "    </tr>\n",
       "    <tr>\n",
       "      <th>2</th>\n",
       "      <td>ObjectId(58fc4a639e1e2a693fe54749)</td>\n",
       "      <td>\\nAnthony Bourdain Relieved to No Longer Prete...</td>\n",
       "      <td>http://www.zergnet.com/i/1597599/50261/0/0/139...</td>\n",
       "      <td>http://img4.zergnet.com/1597599_300.jpg</td>\n",
       "      <td>zergnet</td>\n",
       "      <td>http://tmz.com</td>\n",
       "      <td>db6f8f33bfca04150222fb771cfc86fd572f6e9b.jpg</td>\n",
       "      <td>2017-04-23T06:30:59.889Z</td>\n",
       "      <td>http://www.zergnet.com/news/1597599/anthony-bo...</td>\n",
       "    </tr>\n",
       "    <tr>\n",
       "      <th>3</th>\n",
       "      <td>ObjectId(58fc4a639e1e2a693fe5474a)</td>\n",
       "      <td>\\nThe Real Reason Demi Moore &amp; Ashton Kutcher ...</td>\n",
       "      <td>http://www.zergnet.com/i/1611238/50261/0/0/139...</td>\n",
       "      <td>http://img5.zergnet.com/1611238_300.jpg</td>\n",
       "      <td>zergnet</td>\n",
       "      <td>http://tmz.com</td>\n",
       "      <td>ba5f7e095f8d048dfbe36997a122205ed8847bcd.jpg</td>\n",
       "      <td>2017-04-23T06:30:59.943Z</td>\n",
       "      <td>http://www.zergnet.com/news/1611238/the-real-r...</td>\n",
       "    </tr>\n",
       "    <tr>\n",
       "      <th>4</th>\n",
       "      <td>ObjectId(58fc4a639e1e2a693fe5474b)</td>\n",
       "      <td>\\nCarmelo and La La Anthony's Prenup Will Cont...</td>\n",
       "      <td>http://www.zergnet.com/io/1646212/50262/0/0/13...</td>\n",
       "      <td>http://img1.zergnet.com/1646212_300.jpg</td>\n",
       "      <td>zergnet</td>\n",
       "      <td>http://tmz.com</td>\n",
       "      <td>2c2eded673d1577bb7f5e139867bf7d08289eeae.jpg</td>\n",
       "      <td>2017-04-23T06:31:00.003Z</td>\n",
       "      <td>http://www.tmz.com/2017/04/20/carmelo-la-la-an...</td>\n",
       "    </tr>\n",
       "  </tbody>\n",
       "</table>\n",
       "</div>"
      ],
      "text/plain": [
       "                                  _id  \\\n",
       "0  ObjectId(58fc4a639e1e2a693fe54747)   \n",
       "1  ObjectId(58fc4a639e1e2a693fe54748)   \n",
       "2  ObjectId(58fc4a639e1e2a693fe54749)   \n",
       "3  ObjectId(58fc4a639e1e2a693fe5474a)   \n",
       "4  ObjectId(58fc4a639e1e2a693fe5474b)   \n",
       "\n",
       "                                            headline  \\\n",
       "0  \\nWhy People At NBC Are Reportedly Worried Abo...   \n",
       "1  \\nMagic Johnson Opens Up About His Son EJ Comi...   \n",
       "2  \\nAnthony Bourdain Relieved to No Longer Prete...   \n",
       "3  \\nThe Real Reason Demi Moore & Ashton Kutcher ...   \n",
       "4  \\nCarmelo and La La Anthony's Prenup Will Cont...   \n",
       "\n",
       "                                                link  \\\n",
       "0  http://www.zergnet.com/i/1597590/50261/0/0/139...   \n",
       "1  http://www.zergnet.com/i/1642211/50261/0/0/139...   \n",
       "2  http://www.zergnet.com/i/1597599/50261/0/0/139...   \n",
       "3  http://www.zergnet.com/i/1611238/50261/0/0/139...   \n",
       "4  http://www.zergnet.com/io/1646212/50262/0/0/13...   \n",
       "\n",
       "                                       img provider          source  \\\n",
       "0  http://img5.zergnet.com/1597590_300.jpg  zergnet  http://tmz.com   \n",
       "1  http://img4.zergnet.com/1642211_300.jpg  zergnet  http://tmz.com   \n",
       "2  http://img4.zergnet.com/1597599_300.jpg  zergnet  http://tmz.com   \n",
       "3  http://img5.zergnet.com/1611238_300.jpg  zergnet  http://tmz.com   \n",
       "4  http://img1.zergnet.com/1646212_300.jpg  zergnet  http://tmz.com   \n",
       "\n",
       "                                       img_file                      date  \\\n",
       "0  76f999e904074946360b8116ed46841d6c26d2df.jpg  2017-04-23T06:30:59.796Z   \n",
       "1  fab1d021d6f6a57c778988a90aa7803375e2550a.jpg  2017-04-23T06:30:59.835Z   \n",
       "2  db6f8f33bfca04150222fb771cfc86fd572f6e9b.jpg  2017-04-23T06:30:59.889Z   \n",
       "3  ba5f7e095f8d048dfbe36997a122205ed8847bcd.jpg  2017-04-23T06:30:59.943Z   \n",
       "4  2c2eded673d1577bb7f5e139867bf7d08289eeae.jpg  2017-04-23T06:31:00.003Z   \n",
       "\n",
       "                                          final_link  \n",
       "0  http://www.zergnet.com/news/1597590/why-people...  \n",
       "1  http://www.zergnet.com/news/1642211/magic-john...  \n",
       "2  http://www.zergnet.com/news/1597599/anthony-bo...  \n",
       "3  http://www.zergnet.com/news/1611238/the-real-r...  \n",
       "4  http://www.tmz.com/2017/04/20/carmelo-la-la-an...  "
      ]
     },
     "execution_count": 7,
     "metadata": {},
     "output_type": "execute_result"
    }
   ],
   "source": [
    "data.head()"
   ]
  },
  {
   "cell_type": "markdown",
   "metadata": {},
   "source": [
    "The one's from zergnet all have some newlines we need to get rid of and they appear to have concatenated the headline with the provider. So let's clean those up."
   ]
  },
  {
   "cell_type": "code",
   "execution_count": 8,
   "metadata": {
    "collapsed": false
   },
   "outputs": [
    {
     "data": {
      "text/html": [
       "<div>\n",
       "<table border=\"1\" class=\"dataframe\">\n",
       "  <thead>\n",
       "    <tr style=\"text-align: right;\">\n",
       "      <th></th>\n",
       "      <th>_id</th>\n",
       "      <th>headline</th>\n",
       "      <th>link</th>\n",
       "      <th>img</th>\n",
       "      <th>provider</th>\n",
       "      <th>source</th>\n",
       "      <th>img_file</th>\n",
       "      <th>date</th>\n",
       "      <th>final_link</th>\n",
       "    </tr>\n",
       "  </thead>\n",
       "  <tbody>\n",
       "    <tr>\n",
       "      <th>0</th>\n",
       "      <td>ObjectId(58fc4a639e1e2a693fe54747)</td>\n",
       "      <td>Why People At NBC Are Reportedly Worried About...</td>\n",
       "      <td>http://www.zergnet.com/i/1597590/50261/0/0/139...</td>\n",
       "      <td>http://img5.zergnet.com/1597590_300.jpg</td>\n",
       "      <td>zergnet</td>\n",
       "      <td>http://tmz.com</td>\n",
       "      <td>76f999e904074946360b8116ed46841d6c26d2df.jpg</td>\n",
       "      <td>2017-04-23T06:30:59.796Z</td>\n",
       "      <td>http://www.zergnet.com/news/1597590/why-people...</td>\n",
       "    </tr>\n",
       "    <tr>\n",
       "      <th>1</th>\n",
       "      <td>ObjectId(58fc4a639e1e2a693fe54748)</td>\n",
       "      <td>Magic Johnson Opens Up About His Son EJ Coming...</td>\n",
       "      <td>http://www.zergnet.com/i/1642211/50261/0/0/139...</td>\n",
       "      <td>http://img4.zergnet.com/1642211_300.jpg</td>\n",
       "      <td>zergnet</td>\n",
       "      <td>http://tmz.com</td>\n",
       "      <td>fab1d021d6f6a57c778988a90aa7803375e2550a.jpg</td>\n",
       "      <td>2017-04-23T06:30:59.835Z</td>\n",
       "      <td>http://www.zergnet.com/news/1642211/magic-john...</td>\n",
       "    </tr>\n",
       "    <tr>\n",
       "      <th>2</th>\n",
       "      <td>ObjectId(58fc4a639e1e2a693fe54749)</td>\n",
       "      <td>Anthony Bourdain Relieved to No Longer Pretend...</td>\n",
       "      <td>http://www.zergnet.com/i/1597599/50261/0/0/139...</td>\n",
       "      <td>http://img4.zergnet.com/1597599_300.jpg</td>\n",
       "      <td>zergnet</td>\n",
       "      <td>http://tmz.com</td>\n",
       "      <td>db6f8f33bfca04150222fb771cfc86fd572f6e9b.jpg</td>\n",
       "      <td>2017-04-23T06:30:59.889Z</td>\n",
       "      <td>http://www.zergnet.com/news/1597599/anthony-bo...</td>\n",
       "    </tr>\n",
       "    <tr>\n",
       "      <th>3</th>\n",
       "      <td>ObjectId(58fc4a639e1e2a693fe5474a)</td>\n",
       "      <td>The Real Reason Demi Moore &amp; Ashton Kutcher Go...</td>\n",
       "      <td>http://www.zergnet.com/i/1611238/50261/0/0/139...</td>\n",
       "      <td>http://img5.zergnet.com/1611238_300.jpg</td>\n",
       "      <td>zergnet</td>\n",
       "      <td>http://tmz.com</td>\n",
       "      <td>ba5f7e095f8d048dfbe36997a122205ed8847bcd.jpg</td>\n",
       "      <td>2017-04-23T06:30:59.943Z</td>\n",
       "      <td>http://www.zergnet.com/news/1611238/the-real-r...</td>\n",
       "    </tr>\n",
       "    <tr>\n",
       "      <th>4</th>\n",
       "      <td>ObjectId(58fc4a639e1e2a693fe5474b)</td>\n",
       "      <td>Carmelo and La La Anthony's Prenup Will Contro...</td>\n",
       "      <td>http://www.zergnet.com/io/1646212/50262/0/0/13...</td>\n",
       "      <td>http://img1.zergnet.com/1646212_300.jpg</td>\n",
       "      <td>zergnet</td>\n",
       "      <td>http://tmz.com</td>\n",
       "      <td>2c2eded673d1577bb7f5e139867bf7d08289eeae.jpg</td>\n",
       "      <td>2017-04-23T06:31:00.003Z</td>\n",
       "      <td>http://www.tmz.com/2017/04/20/carmelo-la-la-an...</td>\n",
       "    </tr>\n",
       "  </tbody>\n",
       "</table>\n",
       "</div>"
      ],
      "text/plain": [
       "                                  _id  \\\n",
       "0  ObjectId(58fc4a639e1e2a693fe54747)   \n",
       "1  ObjectId(58fc4a639e1e2a693fe54748)   \n",
       "2  ObjectId(58fc4a639e1e2a693fe54749)   \n",
       "3  ObjectId(58fc4a639e1e2a693fe5474a)   \n",
       "4  ObjectId(58fc4a639e1e2a693fe5474b)   \n",
       "\n",
       "                                            headline  \\\n",
       "0  Why People At NBC Are Reportedly Worried About...   \n",
       "1  Magic Johnson Opens Up About His Son EJ Coming...   \n",
       "2  Anthony Bourdain Relieved to No Longer Pretend...   \n",
       "3  The Real Reason Demi Moore & Ashton Kutcher Go...   \n",
       "4  Carmelo and La La Anthony's Prenup Will Contro...   \n",
       "\n",
       "                                                link  \\\n",
       "0  http://www.zergnet.com/i/1597590/50261/0/0/139...   \n",
       "1  http://www.zergnet.com/i/1642211/50261/0/0/139...   \n",
       "2  http://www.zergnet.com/i/1597599/50261/0/0/139...   \n",
       "3  http://www.zergnet.com/i/1611238/50261/0/0/139...   \n",
       "4  http://www.zergnet.com/io/1646212/50262/0/0/13...   \n",
       "\n",
       "                                       img provider          source  \\\n",
       "0  http://img5.zergnet.com/1597590_300.jpg  zergnet  http://tmz.com   \n",
       "1  http://img4.zergnet.com/1642211_300.jpg  zergnet  http://tmz.com   \n",
       "2  http://img4.zergnet.com/1597599_300.jpg  zergnet  http://tmz.com   \n",
       "3  http://img5.zergnet.com/1611238_300.jpg  zergnet  http://tmz.com   \n",
       "4  http://img1.zergnet.com/1646212_300.jpg  zergnet  http://tmz.com   \n",
       "\n",
       "                                       img_file                      date  \\\n",
       "0  76f999e904074946360b8116ed46841d6c26d2df.jpg  2017-04-23T06:30:59.796Z   \n",
       "1  fab1d021d6f6a57c778988a90aa7803375e2550a.jpg  2017-04-23T06:30:59.835Z   \n",
       "2  db6f8f33bfca04150222fb771cfc86fd572f6e9b.jpg  2017-04-23T06:30:59.889Z   \n",
       "3  ba5f7e095f8d048dfbe36997a122205ed8847bcd.jpg  2017-04-23T06:30:59.943Z   \n",
       "4  2c2eded673d1577bb7f5e139867bf7d08289eeae.jpg  2017-04-23T06:31:00.003Z   \n",
       "\n",
       "                                          final_link  \n",
       "0  http://www.zergnet.com/news/1597590/why-people...  \n",
       "1  http://www.zergnet.com/news/1642211/magic-john...  \n",
       "2  http://www.zergnet.com/news/1597599/anthony-bo...  \n",
       "3  http://www.zergnet.com/news/1611238/the-real-r...  \n",
       "4  http://www.tmz.com/2017/04/20/carmelo-la-la-an...  "
      ]
     },
     "execution_count": 8,
     "metadata": {},
     "output_type": "execute_result"
    }
   ],
   "source": [
    "data['headline'] = data['headline'].apply(lambda x: re.sub('(?<=[a-z])\\.?([A-Z](.*))' , '', x.strip()))\n",
    "data.head()"
   ]
  },
  {
   "cell_type": "code",
   "execution_count": 9,
   "metadata": {
    "collapsed": false
   },
   "outputs": [
    {
     "data": {
      "text/plain": [
       "0        Why People At NBC Are Reportedly Worried About...\n",
       "1        Magic Johnson Opens Up About His Son EJ Coming...\n",
       "2        Anthony Bourdain Relieved to No Longer Pretend...\n",
       "3        The Real Reason Demi Moore & Ashton Kutcher Go...\n",
       "4        Carmelo and La La Anthony's Prenup Will Contro...\n",
       "5        Steve Harvey Comes to the Defense of President...\n",
       "6           Richard Simmons Goes Out in Public in Disguise\n",
       "7           Drake's House Burglarized By Oddly Thirsty Fan\n",
       "8        Magic Johnson Opens Up About His Son EJ Coming...\n",
       "9        'The Situation' Could Face Up To 20 Years in P...\n",
       "10       Why Gwen Stefani Went Pale When Blake Announce...\n",
       "11             Alessandra Ambrosio Stuns at Private Dinner\n",
       "12                Olivia Munn Arrives Braless at Vancouver\n",
       "13                Chrissy Teigen Shows Off Her Killer Legs\n",
       "14                   Nina Dobrev Goes Braless at Coachella\n",
       "15            Brad Pitt’s Not-Yet Girlfriend Sienna Miller\n",
       "16       Lourdes Leon Bares Her Bum During Miami Sights...\n",
       "17       Jennifer Garner Dating Ben Affleck Look-A-Like...\n",
       "18       Hillary Clinton's Gorgeous Nephew Has His Firs...\n",
       "19       Jenna Dewan-Tatum Opens Up About Love Life To ...\n",
       "20                  What You Never Knew About Keanu Reeves\n",
       "21              Joaquin Phoenix Shows Off His New Red Hair\n",
       "22                      Nina Dobrev Busts out at Coachella\n",
       "23       Stars Who Haven't Figured Out They Aren't Famo...\n",
       "24       The World's 'Hottest Felon' Is Living the High...\n",
       "25       New Pics Show Malia Obama Locking Arms With Go...\n",
       "26       Kim K's and Reggie Bush's Daughters Look Like ...\n",
       "27       Cris Carter Says Aaron Hernandez Will Never Re...\n",
       "28          Facebook Killer Steve Stephens Commits Suicide\n",
       "29       The Beef Between Vin Diesel and The Rock Is Sq...\n",
       "                               ...                        \n",
       "92380    The Richest Person in New York City Probably I...\n",
       "92381    DIY Isn't Always The Best Way To Go: Save Some...\n",
       "92382    Why Doctors In The Know No Longer Prescribe Bl...\n",
       "92383         Here’s Why Guys Are Obsessed With This Polo…\n",
       "92384          How To Fix Your Fatigue (Do This Every Day)\n",
       "92385              20 Forbidden Places You Can Never Visit\n",
       "92386    How this app made by 100 linguists gets you sp...\n",
       "92387    Angelina Jolie's Daughter Used To Be Adorable ...\n",
       "92388                         What Is Psoriatic Arthritis?\n",
       "92389    This Awful Neighbor Put Cinder Blocks Down The...\n",
       "92390    25 Vintage Ads That Are No Longer Socially Acc...\n",
       "92391    Found After 68 Years In the Jungle, But When T...\n",
       "92392    The Morbid Reason This Plane Follows The Presi...\n",
       "92393                  Her Last Words Will Give You Chills\n",
       "92394    This Awful Neighbor Put Cinder Blocks Down The...\n",
       "92395    Here’s Why Guys Are Obsessed With This Underwear…\n",
       "92396                    It's time to say goodbye to solar\n",
       "92397    Mom Was In Court To Pay Parking Fines. Then Th...\n",
       "92398    30 Reasons You Should Go To New Zealand Instea...\n",
       "92399    Don't Do It Yourself - Hire A Professional For...\n",
       "92400       Did You Know These Stars Have a Baby Together?\n",
       "92401          Pay No Interest Until 2019 With These Cards\n",
       "92402                   The Bachelor Couples: Then and Now\n",
       "92403    Former Cruise Workers Reveal What Really Happe...\n",
       "92404    Young Teen Disappears - 6 Months Later Best Fr...\n",
       "92405        Psoriatic Arthritis: The Most Common Symptoms\n",
       "92406    They Thought They Were Alone, But The Deputy D...\n",
       "92407    Haleigh Wakes From Coma And Tells Doctors What...\n",
       "92408    Hollywood Actress Tells All: “I Felt Bloated, ...\n",
       "92409    Thinking About Installing Solar Panels? Read T...\n",
       "Name: headline, dtype: object"
      ]
     },
     "execution_count": 9,
     "metadata": {},
     "output_type": "execute_result"
    }
   ],
   "source": [
    "data['headline']"
   ]
  },
  {
   "cell_type": "markdown",
   "metadata": {},
   "source": [
    "OK, that's better."
   ]
  },
  {
   "cell_type": "markdown",
   "metadata": {},
   "source": [
    "Do we have any null values?"
   ]
  },
  {
   "cell_type": "code",
   "execution_count": 10,
   "metadata": {
    "collapsed": false
   },
   "outputs": [
    {
     "name": "stdout",
     "output_type": "stream",
     "text": [
      "('_id', 0)\n",
      "('headline', 0)\n",
      "('link', 0)\n",
      "('img', 0)\n",
      "('provider', 0)\n",
      "('source', 0)\n",
      "('img_file', 222)\n",
      "('date', 0)\n",
      "('final_link', 0)\n"
     ]
    }
   ],
   "source": [
    "for col in data.columns:\n",
    "    print((col, sum(data[col].isnull())))"
   ]
  },
  {
   "cell_type": "markdown",
   "metadata": {},
   "source": [
    "For future reference, we have a small number of img_files that are null (probably because the scraper errored out grabbing the file). For the most part, that's pretty good."
   ]
  },
  {
   "cell_type": "code",
   "execution_count": 11,
   "metadata": {
    "collapsed": false
   },
   "outputs": [
    {
     "data": {
      "text/html": [
       "<div>\n",
       "<table border=\"1\" class=\"dataframe\">\n",
       "  <thead>\n",
       "    <tr style=\"text-align: right;\">\n",
       "      <th></th>\n",
       "      <th>_id</th>\n",
       "      <th>headline</th>\n",
       "      <th>link</th>\n",
       "      <th>img</th>\n",
       "      <th>provider</th>\n",
       "      <th>source</th>\n",
       "      <th>img_file</th>\n",
       "      <th>date</th>\n",
       "      <th>final_link</th>\n",
       "    </tr>\n",
       "  </thead>\n",
       "  <tbody>\n",
       "    <tr>\n",
       "      <th>count</th>\n",
       "      <td>92410</td>\n",
       "      <td>92410</td>\n",
       "      <td>92410</td>\n",
       "      <td>92410</td>\n",
       "      <td>92410</td>\n",
       "      <td>92410</td>\n",
       "      <td>92188</td>\n",
       "      <td>92410</td>\n",
       "      <td>92410</td>\n",
       "    </tr>\n",
       "    <tr>\n",
       "      <th>unique</th>\n",
       "      <td>92410</td>\n",
       "      <td>14057</td>\n",
       "      <td>27510</td>\n",
       "      <td>18878</td>\n",
       "      <td>3</td>\n",
       "      <td>18</td>\n",
       "      <td>18856</td>\n",
       "      <td>92410</td>\n",
       "      <td>23539</td>\n",
       "    </tr>\n",
       "    <tr>\n",
       "      <th>top</th>\n",
       "      <td>ObjectId(5914b2fd9e1e2a07d5a35152)</td>\n",
       "      <td>Here’s Why Guys Are Obsessed With This Underwear…</td>\n",
       "      <td>https://grizly.com/lifestyle/guy-turned-backya...</td>\n",
       "      <td>http://cdn.taboolasyndication.com/libtrc/stati...</td>\n",
       "      <td>taboola</td>\n",
       "      <td>http://tmz.com</td>\n",
       "      <td>db07ff3401037653d665822c5a78617464fe4ef8.jpg</td>\n",
       "      <td>2017-06-04T01:56:19.322Z</td>\n",
       "      <td>https://grizly.com/lifestyle/guy-turned-backya...</td>\n",
       "    </tr>\n",
       "    <tr>\n",
       "      <th>freq</th>\n",
       "      <td>1</td>\n",
       "      <td>789</td>\n",
       "      <td>459</td>\n",
       "      <td>494</td>\n",
       "      <td>45961</td>\n",
       "      <td>18885</td>\n",
       "      <td>494</td>\n",
       "      <td>1</td>\n",
       "      <td>459</td>\n",
       "    </tr>\n",
       "  </tbody>\n",
       "</table>\n",
       "</div>"
      ],
      "text/plain": [
       "                                       _id  \\\n",
       "count                                92410   \n",
       "unique                               92410   \n",
       "top     ObjectId(5914b2fd9e1e2a07d5a35152)   \n",
       "freq                                     1   \n",
       "\n",
       "                                                 headline  \\\n",
       "count                                               92410   \n",
       "unique                                              14057   \n",
       "top     Here’s Why Guys Are Obsessed With This Underwear…   \n",
       "freq                                                  789   \n",
       "\n",
       "                                                     link  \\\n",
       "count                                               92410   \n",
       "unique                                              27510   \n",
       "top     https://grizly.com/lifestyle/guy-turned-backya...   \n",
       "freq                                                  459   \n",
       "\n",
       "                                                      img provider  \\\n",
       "count                                               92410    92410   \n",
       "unique                                              18878        3   \n",
       "top     http://cdn.taboolasyndication.com/libtrc/stati...  taboola   \n",
       "freq                                                  494    45961   \n",
       "\n",
       "                source                                      img_file  \\\n",
       "count            92410                                         92188   \n",
       "unique              18                                         18856   \n",
       "top     http://tmz.com  db07ff3401037653d665822c5a78617464fe4ef8.jpg   \n",
       "freq             18885                                           494   \n",
       "\n",
       "                            date  \\\n",
       "count                      92410   \n",
       "unique                     92410   \n",
       "top     2017-06-04T01:56:19.322Z   \n",
       "freq                           1   \n",
       "\n",
       "                                               final_link  \n",
       "count                                               92410  \n",
       "unique                                              23539  \n",
       "top     https://grizly.com/lifestyle/guy-turned-backya...  \n",
       "freq                                                  459  "
      ]
     },
     "execution_count": 11,
     "metadata": {},
     "output_type": "execute_result"
    }
   ],
   "source": [
    "data.describe()"
   ]
  },
  {
   "cell_type": "markdown",
   "metadata": {},
   "source": [
    "Already we can see some interesting trends here. Out of 64147 unique records, only 10260 of the headlines are unique, but 19212 of the links are unique and 12709 of the image files are unique (assuming for sure that there were issues with downloading images, but more on that later). So it seems already that there are content links which might reuse the same headline, or image for different destination articles. Let's try to dig into that."
   ]
  },
  {
   "cell_type": "markdown",
   "metadata": {},
   "source": [
    "We're working with a lot of duplicates, I'm sure. Let's remove anything where the headline, link, img, provider, source, img_file, final_link are the same. This should only give us back the unique records we're looking for."
   ]
  },
  {
   "cell_type": "code",
   "execution_count": 12,
   "metadata": {
    "collapsed": false
   },
   "outputs": [],
   "source": [
    "deduped = data.drop_duplicates(subset=['headline', 'link', 'img', 'provider', 'source', 'img_file', 'final_link'], keep=False)"
   ]
  },
  {
   "cell_type": "code",
   "execution_count": 13,
   "metadata": {
    "collapsed": false
   },
   "outputs": [
    {
     "data": {
      "text/html": [
       "<div>\n",
       "<table border=\"1\" class=\"dataframe\">\n",
       "  <thead>\n",
       "    <tr style=\"text-align: right;\">\n",
       "      <th></th>\n",
       "      <th>_id</th>\n",
       "      <th>headline</th>\n",
       "      <th>link</th>\n",
       "      <th>img</th>\n",
       "      <th>provider</th>\n",
       "      <th>source</th>\n",
       "      <th>img_file</th>\n",
       "      <th>date</th>\n",
       "      <th>final_link</th>\n",
       "    </tr>\n",
       "  </thead>\n",
       "  <tbody>\n",
       "    <tr>\n",
       "      <th>count</th>\n",
       "      <td>27947</td>\n",
       "      <td>27947</td>\n",
       "      <td>27947</td>\n",
       "      <td>27947</td>\n",
       "      <td>27947</td>\n",
       "      <td>27947</td>\n",
       "      <td>27886</td>\n",
       "      <td>27947</td>\n",
       "      <td>27947</td>\n",
       "    </tr>\n",
       "    <tr>\n",
       "      <th>unique</th>\n",
       "      <td>27947</td>\n",
       "      <td>11831</td>\n",
       "      <td>21620</td>\n",
       "      <td>15108</td>\n",
       "      <td>3</td>\n",
       "      <td>18</td>\n",
       "      <td>15081</td>\n",
       "      <td>27947</td>\n",
       "      <td>18903</td>\n",
       "    </tr>\n",
       "    <tr>\n",
       "      <th>top</th>\n",
       "      <td>ObjectId(5904e0749e1e2a71a62a1f2c)</td>\n",
       "      <td>Nicole Kidman's Yacht Is Far From You'd Expect</td>\n",
       "      <td>http://topictracker.online/?utm_campaign=us-tb...</td>\n",
       "      <td>http://cdn.taboolasyndication.com/libtrc/stati...</td>\n",
       "      <td>taboola</td>\n",
       "      <td>http://tmz.com</td>\n",
       "      <td>f18167ca58fee4ae691a28ecd39b0c1afe2689e4.jpg</td>\n",
       "      <td>2017-06-04T01:56:19.322Z</td>\n",
       "      <td>http://www.zergnet.com/news/694817/kim-kardash...</td>\n",
       "    </tr>\n",
       "    <tr>\n",
       "      <th>freq</th>\n",
       "      <td>1</td>\n",
       "      <td>269</td>\n",
       "      <td>95</td>\n",
       "      <td>269</td>\n",
       "      <td>11037</td>\n",
       "      <td>3926</td>\n",
       "      <td>269</td>\n",
       "      <td>1</td>\n",
       "      <td>90</td>\n",
       "    </tr>\n",
       "  </tbody>\n",
       "</table>\n",
       "</div>"
      ],
      "text/plain": [
       "                                       _id  \\\n",
       "count                                27947   \n",
       "unique                               27947   \n",
       "top     ObjectId(5904e0749e1e2a71a62a1f2c)   \n",
       "freq                                     1   \n",
       "\n",
       "                                              headline  \\\n",
       "count                                            27947   \n",
       "unique                                           11831   \n",
       "top     Nicole Kidman's Yacht Is Far From You'd Expect   \n",
       "freq                                               269   \n",
       "\n",
       "                                                     link  \\\n",
       "count                                               27947   \n",
       "unique                                              21620   \n",
       "top     http://topictracker.online/?utm_campaign=us-tb...   \n",
       "freq                                                   95   \n",
       "\n",
       "                                                      img provider  \\\n",
       "count                                               27947    27947   \n",
       "unique                                              15108        3   \n",
       "top     http://cdn.taboolasyndication.com/libtrc/stati...  taboola   \n",
       "freq                                                  269    11037   \n",
       "\n",
       "                source                                      img_file  \\\n",
       "count            27947                                         27886   \n",
       "unique              18                                         15081   \n",
       "top     http://tmz.com  f18167ca58fee4ae691a28ecd39b0c1afe2689e4.jpg   \n",
       "freq              3926                                           269   \n",
       "\n",
       "                            date  \\\n",
       "count                      27947   \n",
       "unique                     27947   \n",
       "top     2017-06-04T01:56:19.322Z   \n",
       "freq                           1   \n",
       "\n",
       "                                               final_link  \n",
       "count                                               27947  \n",
       "unique                                              18903  \n",
       "top     http://www.zergnet.com/news/694817/kim-kardash...  \n",
       "freq                                                   90  "
      ]
     },
     "execution_count": 13,
     "metadata": {},
     "output_type": "execute_result"
    }
   ],
   "source": [
    "deduped.describe()"
   ]
  },
  {
   "cell_type": "markdown",
   "metadata": {},
   "source": [
    "And let's just check on those null values again..."
   ]
  },
  {
   "cell_type": "code",
   "execution_count": 14,
   "metadata": {
    "collapsed": false
   },
   "outputs": [
    {
     "name": "stdout",
     "output_type": "stream",
     "text": [
      "('_id', 0)\n",
      "('headline', 0)\n",
      "('link', 0)\n",
      "('img', 0)\n",
      "('provider', 0)\n",
      "('source', 0)\n",
      "('img_file', 61)\n",
      "('date', 0)\n",
      "('final_link', 0)\n"
     ]
    }
   ],
   "source": [
    "for col in deduped.columns:\n",
    "    print((col, sum(deduped[col].isnull())))"
   ]
  },
  {
   "cell_type": "markdown",
   "metadata": {},
   "source": [
    "only 0.2% of images are not available. I think that's ok, It's possible, since we have the original URL, that we might be able to go back and grab them."
   ]
  },
  {
   "cell_type": "markdown",
   "metadata": {},
   "source": [
    "Just to be sure it's doing what we assume it's doing, let's just remove duplicates based on headline. I assume this would leave us with far less records as I don't doubt that the same headline migh appear on another website."
   ]
  },
  {
   "cell_type": "code",
   "execution_count": 15,
   "metadata": {
    "collapsed": true
   },
   "outputs": [],
   "source": [
    "deduped_hl = data.drop_duplicates(subset=['headline'], keep=False)"
   ]
  },
  {
   "cell_type": "code",
   "execution_count": 16,
   "metadata": {
    "collapsed": false
   },
   "outputs": [
    {
     "data": {
      "text/html": [
       "<div>\n",
       "<table border=\"1\" class=\"dataframe\">\n",
       "  <thead>\n",
       "    <tr style=\"text-align: right;\">\n",
       "      <th></th>\n",
       "      <th>_id</th>\n",
       "      <th>headline</th>\n",
       "      <th>link</th>\n",
       "      <th>img</th>\n",
       "      <th>provider</th>\n",
       "      <th>source</th>\n",
       "      <th>img_file</th>\n",
       "      <th>date</th>\n",
       "      <th>final_link</th>\n",
       "    </tr>\n",
       "  </thead>\n",
       "  <tbody>\n",
       "    <tr>\n",
       "      <th>count</th>\n",
       "      <td>6881</td>\n",
       "      <td>6881</td>\n",
       "      <td>6881</td>\n",
       "      <td>6881</td>\n",
       "      <td>6881</td>\n",
       "      <td>6881</td>\n",
       "      <td>6858</td>\n",
       "      <td>6881</td>\n",
       "      <td>6881</td>\n",
       "    </tr>\n",
       "    <tr>\n",
       "      <th>unique</th>\n",
       "      <td>6881</td>\n",
       "      <td>6881</td>\n",
       "      <td>6353</td>\n",
       "      <td>6552</td>\n",
       "      <td>3</td>\n",
       "      <td>18</td>\n",
       "      <td>6531</td>\n",
       "      <td>6881</td>\n",
       "      <td>6354</td>\n",
       "    </tr>\n",
       "    <tr>\n",
       "      <th>top</th>\n",
       "      <td>ObjectId(59375da59e1e2a222abe9b13)</td>\n",
       "      <td>Learn to Migrate to Windows 10 Seamlessly: Get...</td>\n",
       "      <td>http://advertisementfeature.cnn.com/2017/yanmar</td>\n",
       "      <td>http://cdn.taboolasyndication.com/libtrc/stati...</td>\n",
       "      <td>outbrain</td>\n",
       "      <td>http://www.politico.com/magazine/</td>\n",
       "      <td>42e88ba4c1e41b38af84e509ce0c476c88d5d139.jpg</td>\n",
       "      <td>2017-05-01T04:40:08.340Z</td>\n",
       "      <td>http://advertisementfeature.cnn.com/2017/yanmar/</td>\n",
       "    </tr>\n",
       "    <tr>\n",
       "      <th>freq</th>\n",
       "      <td>1</td>\n",
       "      <td>1</td>\n",
       "      <td>8</td>\n",
       "      <td>6</td>\n",
       "      <td>3339</td>\n",
       "      <td>1090</td>\n",
       "      <td>6</td>\n",
       "      <td>1</td>\n",
       "      <td>8</td>\n",
       "    </tr>\n",
       "  </tbody>\n",
       "</table>\n",
       "</div>"
      ],
      "text/plain": [
       "                                       _id  \\\n",
       "count                                 6881   \n",
       "unique                                6881   \n",
       "top     ObjectId(59375da59e1e2a222abe9b13)   \n",
       "freq                                     1   \n",
       "\n",
       "                                                 headline  \\\n",
       "count                                                6881   \n",
       "unique                                               6881   \n",
       "top     Learn to Migrate to Windows 10 Seamlessly: Get...   \n",
       "freq                                                    1   \n",
       "\n",
       "                                                   link  \\\n",
       "count                                              6881   \n",
       "unique                                             6353   \n",
       "top     http://advertisementfeature.cnn.com/2017/yanmar   \n",
       "freq                                                  8   \n",
       "\n",
       "                                                      img  provider  \\\n",
       "count                                                6881      6881   \n",
       "unique                                               6552         3   \n",
       "top     http://cdn.taboolasyndication.com/libtrc/stati...  outbrain   \n",
       "freq                                                    6      3339   \n",
       "\n",
       "                                   source  \\\n",
       "count                                6881   \n",
       "unique                                 18   \n",
       "top     http://www.politico.com/magazine/   \n",
       "freq                                 1090   \n",
       "\n",
       "                                            img_file  \\\n",
       "count                                           6858   \n",
       "unique                                          6531   \n",
       "top     42e88ba4c1e41b38af84e509ce0c476c88d5d139.jpg   \n",
       "freq                                               6   \n",
       "\n",
       "                            date  \\\n",
       "count                       6881   \n",
       "unique                      6881   \n",
       "top     2017-05-01T04:40:08.340Z   \n",
       "freq                           1   \n",
       "\n",
       "                                              final_link  \n",
       "count                                               6881  \n",
       "unique                                              6354  \n",
       "top     http://advertisementfeature.cnn.com/2017/yanmar/  \n",
       "freq                                                   8  "
      ]
     },
     "execution_count": 16,
     "metadata": {},
     "output_type": "execute_result"
    }
   ],
   "source": [
    "deduped_hl.describe()"
   ]
  },
  {
   "cell_type": "markdown",
   "metadata": {},
   "source": [
    "And sure enought we're only left with 4999 records if we only want records with unique headlines."
   ]
  },
  {
   "cell_type": "code",
   "execution_count": 17,
   "metadata": {
    "collapsed": true
   },
   "outputs": [],
   "source": [
    "deduped_hl_source = data.drop_duplicates(subset=['headline', 'source'], keep=False)"
   ]
  },
  {
   "cell_type": "code",
   "execution_count": 18,
   "metadata": {
    "collapsed": false
   },
   "outputs": [
    {
     "data": {
      "text/html": [
       "<div>\n",
       "<table border=\"1\" class=\"dataframe\">\n",
       "  <thead>\n",
       "    <tr style=\"text-align: right;\">\n",
       "      <th></th>\n",
       "      <th>_id</th>\n",
       "      <th>headline</th>\n",
       "      <th>link</th>\n",
       "      <th>img</th>\n",
       "      <th>provider</th>\n",
       "      <th>source</th>\n",
       "      <th>img_file</th>\n",
       "      <th>date</th>\n",
       "      <th>final_link</th>\n",
       "    </tr>\n",
       "  </thead>\n",
       "  <tbody>\n",
       "    <tr>\n",
       "      <th>count</th>\n",
       "      <td>10853</td>\n",
       "      <td>10853</td>\n",
       "      <td>10853</td>\n",
       "      <td>10853</td>\n",
       "      <td>10853</td>\n",
       "      <td>10853</td>\n",
       "      <td>10808</td>\n",
       "      <td>10853</td>\n",
       "      <td>10853</td>\n",
       "    </tr>\n",
       "    <tr>\n",
       "      <th>unique</th>\n",
       "      <td>10853</td>\n",
       "      <td>9272</td>\n",
       "      <td>9376</td>\n",
       "      <td>9371</td>\n",
       "      <td>3</td>\n",
       "      <td>18</td>\n",
       "      <td>9339</td>\n",
       "      <td>10853</td>\n",
       "      <td>9379</td>\n",
       "    </tr>\n",
       "    <tr>\n",
       "      <th>top</th>\n",
       "      <td>ObjectId(59375da59e1e2a222abe9b13)</td>\n",
       "      <td>World War II Slang: How Much Do You Know? [Quiz]</td>\n",
       "      <td>https://ad.doubleclick.net/ddm/trackclk/N6296....</td>\n",
       "      <td>https://console.brax-cdn.com/creatives/645b850...</td>\n",
       "      <td>taboola</td>\n",
       "      <td>http://www.politico.com/magazine/</td>\n",
       "      <td>b8abf89e3effc8105cb0f5cf621bf4bd7b322f42.png</td>\n",
       "      <td>2017-05-01T04:40:08.340Z</td>\n",
       "      <td>https://www.verizon.com/home/fios-gigabit-conn...</td>\n",
       "    </tr>\n",
       "    <tr>\n",
       "      <th>freq</th>\n",
       "      <td>1</td>\n",
       "      <td>6</td>\n",
       "      <td>21</td>\n",
       "      <td>12</td>\n",
       "      <td>5345</td>\n",
       "      <td>1226</td>\n",
       "      <td>12</td>\n",
       "      <td>1</td>\n",
       "      <td>21</td>\n",
       "    </tr>\n",
       "  </tbody>\n",
       "</table>\n",
       "</div>"
      ],
      "text/plain": [
       "                                       _id  \\\n",
       "count                                10853   \n",
       "unique                               10853   \n",
       "top     ObjectId(59375da59e1e2a222abe9b13)   \n",
       "freq                                     1   \n",
       "\n",
       "                                                headline  \\\n",
       "count                                              10853   \n",
       "unique                                              9272   \n",
       "top     World War II Slang: How Much Do You Know? [Quiz]   \n",
       "freq                                                   6   \n",
       "\n",
       "                                                     link  \\\n",
       "count                                               10853   \n",
       "unique                                               9376   \n",
       "top     https://ad.doubleclick.net/ddm/trackclk/N6296....   \n",
       "freq                                                   21   \n",
       "\n",
       "                                                      img provider  \\\n",
       "count                                               10853    10853   \n",
       "unique                                               9371        3   \n",
       "top     https://console.brax-cdn.com/creatives/645b850...  taboola   \n",
       "freq                                                   12     5345   \n",
       "\n",
       "                                   source  \\\n",
       "count                               10853   \n",
       "unique                                 18   \n",
       "top     http://www.politico.com/magazine/   \n",
       "freq                                 1226   \n",
       "\n",
       "                                            img_file  \\\n",
       "count                                          10808   \n",
       "unique                                          9339   \n",
       "top     b8abf89e3effc8105cb0f5cf621bf4bd7b322f42.png   \n",
       "freq                                              12   \n",
       "\n",
       "                            date  \\\n",
       "count                      10853   \n",
       "unique                     10853   \n",
       "top     2017-05-01T04:40:08.340Z   \n",
       "freq                           1   \n",
       "\n",
       "                                               final_link  \n",
       "count                                               10853  \n",
       "unique                                               9379  \n",
       "top     https://www.verizon.com/home/fios-gigabit-conn...  \n",
       "freq                                                   21  "
      ]
     },
     "execution_count": 18,
     "metadata": {},
     "output_type": "execute_result"
    }
   ],
   "source": [
    "deduped_hl_source.describe()"
   ]
  },
  {
   "cell_type": "markdown",
   "metadata": {},
   "source": [
    "But that's enough of that. Let's return to the unique records we're interested in in `deduped`. But first, let's take a look at the rate of success for our record collection."
   ]
  },
  {
   "cell_type": "code",
   "execution_count": 19,
   "metadata": {
    "collapsed": false
   },
   "outputs": [
    {
     "data": {
      "text/plain": [
       "29.823686220711803"
      ]
     },
     "execution_count": 19,
     "metadata": {},
     "output_type": "execute_result"
    }
   ],
   "source": [
    "(19131/64147)*100"
   ]
  },
  {
   "cell_type": "markdown",
   "metadata": {},
   "source": [
    "Crud, doing a harvest yields results where only 30% of our sample is worth examining further. By projection, if we wanted to examine ~100,000 unique records, we're going to have to collect ~340000 records. At this rate, that's still some time away. But let's have our anlysis framework ready for that time."
   ]
  },
  {
   "cell_type": "markdown",
   "metadata": {},
   "source": [
    "Note: We might still be interested in the duplicates if we take a look at the distribution of those records over time. Below, we should probably reduce the date of collection to a week or maybe a 3 day sequence and only remove duplicates if they happened within that period. Which might tell us something about content being shuffled in and out by the provider."
   ]
  },
  {
   "cell_type": "markdown",
   "metadata": {},
   "source": [
    "Let's get the top 10 headlines grouped by img"
   ]
  },
  {
   "cell_type": "code",
   "execution_count": 20,
   "metadata": {
    "collapsed": false,
    "scrolled": true
   },
   "outputs": [
    {
     "data": {
      "text/plain": [
       "img                                                                                              headline                                                                                                 \n",
       "http://cdn.taboolasyndication.com/libtrc/static/thumbnails/21a99ebd78f2af61aeeec2074e0376c0.jpg  Nicole Kidman's Yacht Is Far From You'd Expect                                                               269\n",
       "http://cdn.taboolasyndication.com/libtrc/static/thumbnails/0dba2430aca9e98e05160cfd6e6d3171.jpg  Here Is How You Upgrade To Business Class                                                                    185\n",
       "http://cdn.taboolasyndication.com/libtrc/static/thumbnails/6b232005189e48716587f79b33347846.jpg  Tiger Woods' Yacht Is Far From You'd Expect                                                                  151\n",
       "http://cdn.taboolasyndication.com/libtrc/static/thumbnails/2e967b6db0813815a899401b4746a749.jpg  Stairlifts are disrupting the multi-billion dollar retirement home industry - keeping seniors independent    141\n",
       "http://cdn.taboolasyndication.com/libtrc/static/thumbnails/e70c96286da170d65cbf3fc4c9a3e400.jpg  Best Senior Living Communities Of 2017! View Pricing Here & Compare                                           99\n",
       "http://cdn.taboolasyndication.com/libtrc/static/thumbnails/1472185cdf7f16c8da925b55606c6d3d.jpg  After Losing 220lbs Rebel Wilson Is Gorgeous Now!                                                             96\n",
       "http://img2.zergnet.com/694817_300.jpg                                                           Kim Kardashian and North West Turn Heads On The Red Carpet                                                    89\n",
       "http://img1.zergnet.com/1531624_300.jpg                                                          10 Surprising Things Guys Find Unattractive                                                                   87\n",
       "http://cdn.taboolasyndication.com/libtrc/static/thumbnails/111724989dc74f43d88dd601ba9f55d3.jpg  Search For The Best New Pickup Truck                                                                          83\n",
       "http://www.talktechdaily.com/images/1/phone24-1-640x480.jpg                                      New Jersey Landlines Get Replaced (But Not With Cell Phones)                                                  80\n",
       "Name: headline, dtype: int64"
      ]
     },
     "execution_count": 20,
     "metadata": {},
     "output_type": "execute_result"
    }
   ],
   "source": [
    "deduped['headline'].groupby(deduped['img']).value_counts().nlargest(10)"
   ]
  },
  {
   "cell_type": "code",
   "execution_count": 21,
   "metadata": {
    "collapsed": false,
    "scrolled": true
   },
   "outputs": [
    {
     "data": {
      "text/plain": [
       "Nicole Kidman's Yacht Is Far From You'd Expect                                                               269\n",
       "Forget Social Security if you Own a Home (Do This)                                                           206\n",
       "Here Is How You Upgrade To Business Class                                                                    185\n",
       "Tiger Woods' Yacht Is Far From You'd Expect                                                                  156\n",
       "New Jersey Landlines Get Replaced (But Not With Cell Phones)                                                 156\n",
       "Stairlifts are disrupting the multi-billion dollar retirement home industry - keeping seniors independent    144\n",
       "Best Senior Living Communities Of 2017! View Pricing Here & Compare                                          118\n",
       "After Losing 220lbs Rebel Wilson Is Gorgeous Now!                                                             96\n",
       "Kim Kardashian and North West Turn Heads On The Red Carpet                                                    90\n",
       "10 Surprising Things Guys Find Unattractive                                                                   89\n",
       "Name: headline, dtype: int64"
      ]
     },
     "execution_count": 21,
     "metadata": {},
     "output_type": "execute_result"
    }
   ],
   "source": [
    "deduped['headline'].value_counts().nlargest(10)"
   ]
  },
  {
   "cell_type": "markdown",
   "metadata": {},
   "source": [
    "But hang on. let's just see what the top headlines are. There's certainly overlap, but it's not a one to one relationship between headlines and their images (or at least maybe it's the same image, but coming from a different URL)."
   ]
  },
  {
   "cell_type": "markdown",
   "metadata": {},
   "source": [
    "Note: perhaps something we will want to look into is how many different headline, image permutations there are. I am particularly interested in the reuse of images across different headlines."
   ]
  },
  {
   "cell_type": "code",
   "execution_count": 22,
   "metadata": {
    "collapsed": false,
    "scrolled": true
   },
   "outputs": [
    {
     "data": {
      "text/plain": [
       "http://tmz.com                       3926\n",
       "http://elitedaily.com/               3889\n",
       "http://www.politico.com/magazine/    2491\n",
       "https://www.washingtonpost.com/      2283\n",
       "http://www.thedailybeast.com/        2141\n",
       "http://www.breitbart.com             1961\n",
       "http://www.businessinsider.com/      1482\n",
       "http://thehill.com                   1465\n",
       "http://www.rt.com                    1377\n",
       "http://www.politico.com/politics     1368\n",
       "http://www.dailymail.co.uk/          1068\n",
       "http://reductress.com/               1013\n",
       "https://nypost.com/news/              776\n",
       "http://www.nydailynews.com/news       751\n",
       "http://www.huffingtonpost.com/        701\n",
       "http://observer.com/latest/           648\n",
       "https://www.therebel.media/news       536\n",
       "http://gothamist.com/news              71\n",
       "Name: source, dtype: int64"
      ]
     },
     "execution_count": 22,
     "metadata": {},
     "output_type": "execute_result"
    }
   ],
   "source": [
    "deduped['source'].value_counts().nlargest(25)"
   ]
  },
  {
   "cell_type": "markdown",
   "metadata": {},
   "source": [
    "Whoops, if you notice, there are some sites missing here. Because of the inconsistencies in how PhantomJS works, 4 of our sites have not been collected from this entire time (they have been on our local copy)."
   ]
  },
  {
   "cell_type": "markdown",
   "metadata": {},
   "source": [
    "ok so what are the most frequent images?"
   ]
  },
  {
   "cell_type": "code",
   "execution_count": 23,
   "metadata": {
    "collapsed": false,
    "scrolled": true
   },
   "outputs": [],
   "source": [
    "topimgs = deduped['img'].value_counts().nlargest(10).index.tolist()"
   ]
  },
  {
   "cell_type": "code",
   "execution_count": 24,
   "metadata": {
    "collapsed": false
   },
   "outputs": [],
   "source": [
    "topimgs_taboola = deduped['img'][deduped['provider'].isin(['taboola'])].value_counts().nlargest(10).index.tolist()"
   ]
  },
  {
   "cell_type": "code",
   "execution_count": 25,
   "metadata": {
    "collapsed": false
   },
   "outputs": [],
   "source": [
    "topimgs_outbrain = deduped['img'][deduped['provider'].isin(['outbrain'])].value_counts().nlargest(10).index.tolist()"
   ]
  },
  {
   "cell_type": "code",
   "execution_count": 26,
   "metadata": {
    "collapsed": true
   },
   "outputs": [],
   "source": [
    "topimgs_zergnet = deduped['img'][deduped['provider'].isin(['zergnet'])].value_counts().nlargest(10).index.tolist()"
   ]
  },
  {
   "cell_type": "markdown",
   "metadata": {},
   "source": [
    "If we go back to our provider list, we'll notice that there is nothing from revcontent, and this will reflect in that the 4 sites that are missing from our crawl on our server are all revcontent sites. That's annoying."
   ]
  },
  {
   "cell_type": "code",
   "execution_count": 27,
   "metadata": {
    "collapsed": false
   },
   "outputs": [
    {
     "data": {
      "text/plain": [
       "taboola     11037\n",
       "outbrain     9804\n",
       "zergnet      7106\n",
       "Name: provider, dtype: int64"
      ]
     },
     "execution_count": 27,
     "metadata": {},
     "output_type": "execute_result"
    }
   ],
   "source": [
    "deduped['provider'].value_counts()"
   ]
  },
  {
   "cell_type": "code",
   "execution_count": 28,
   "metadata": {
    "collapsed": false
   },
   "outputs": [
    {
     "data": {
      "text/html": [
       "<img src=http://cdn.taboolasyndication.com/libtrc/static/thumbnails/21a99ebd78f2af61aeeec2074e0376c0.jpg width=\"200\"/>"
      ],
      "text/plain": [
       "<IPython.core.display.HTML object>"
      ]
     },
     "metadata": {},
     "output_type": "display_data"
    },
    {
     "data": {
      "text/html": [
       "<img src=http://cdn.taboolasyndication.com/libtrc/static/thumbnails/0dba2430aca9e98e05160cfd6e6d3171.jpg width=\"200\"/>"
      ],
      "text/plain": [
       "<IPython.core.display.HTML object>"
      ]
     },
     "metadata": {},
     "output_type": "display_data"
    },
    {
     "data": {
      "text/html": [
       "<img src=http://cdn.taboolasyndication.com/libtrc/static/thumbnails/2e967b6db0813815a899401b4746a749.jpg width=\"200\"/>"
      ],
      "text/plain": [
       "<IPython.core.display.HTML object>"
      ]
     },
     "metadata": {},
     "output_type": "display_data"
    },
    {
     "data": {
      "text/html": [
       "<img src=http://cdn.taboolasyndication.com/libtrc/static/thumbnails/6b232005189e48716587f79b33347846.jpg width=\"200\"/>"
      ],
      "text/plain": [
       "<IPython.core.display.HTML object>"
      ]
     },
     "metadata": {},
     "output_type": "display_data"
    },
    {
     "data": {
      "text/html": [
       "<img src=http://www.talktechdaily.com/images/1/phone24-1-640x480.jpg width=\"200\"/>"
      ],
      "text/plain": [
       "<IPython.core.display.HTML object>"
      ]
     },
     "metadata": {},
     "output_type": "display_data"
    },
    {
     "data": {
      "text/html": [
       "<img src=http://cdn.taboolasyndication.com/libtrc/static/thumbnails/1472185cdf7f16c8da925b55606c6d3d.jpg width=\"200\"/>"
      ],
      "text/plain": [
       "<IPython.core.display.HTML object>"
      ]
     },
     "metadata": {},
     "output_type": "display_data"
    },
    {
     "data": {
      "text/html": [
       "<img src=http://cdn.taboolasyndication.com/libtrc/static/thumbnails/e70c96286da170d65cbf3fc4c9a3e400.jpg width=\"200\"/>"
      ],
      "text/plain": [
       "<IPython.core.display.HTML object>"
      ]
     },
     "metadata": {},
     "output_type": "display_data"
    },
    {
     "data": {
      "text/html": [
       "<img src=http://img2.zergnet.com/694817_300.jpg width=\"200\"/>"
      ],
      "text/plain": [
       "<IPython.core.display.HTML object>"
      ]
     },
     "metadata": {},
     "output_type": "display_data"
    },
    {
     "data": {
      "text/html": [
       "<img src=http://img1.zergnet.com/1531624_300.jpg width=\"200\"/>"
      ],
      "text/plain": [
       "<IPython.core.display.HTML object>"
      ]
     },
     "metadata": {},
     "output_type": "display_data"
    },
    {
     "data": {
      "text/html": [
       "<img src=http://cdn.taboolasyndication.com/libtrc/static/thumbnails/111724989dc74f43d88dd601ba9f55d3.jpg width=\"200\"/>"
      ],
      "text/plain": [
       "<IPython.core.display.HTML object>"
      ]
     },
     "metadata": {},
     "output_type": "display_data"
    }
   ],
   "source": [
    "for i in topimgs:\n",
    "    displaystring = '<img src={} width=\"200\"/>'.format(i)\n",
    "    display(HTML(displaystring))"
   ]
  },
  {
   "cell_type": "markdown",
   "metadata": {},
   "source": [
    "Great, lets compare them by source."
   ]
  },
  {
   "cell_type": "code",
   "execution_count": 29,
   "metadata": {
    "collapsed": false
   },
   "outputs": [
    {
     "data": {
      "text/html": [
       "<img src=http://cdn.taboolasyndication.com/libtrc/static/thumbnails/21a99ebd78f2af61aeeec2074e0376c0.jpg width=\"200\"/>"
      ],
      "text/plain": [
       "<IPython.core.display.HTML object>"
      ]
     },
     "metadata": {},
     "output_type": "display_data"
    },
    {
     "data": {
      "text/html": [
       "<img src=http://cdn.taboolasyndication.com/libtrc/static/thumbnails/0dba2430aca9e98e05160cfd6e6d3171.jpg width=\"200\"/>"
      ],
      "text/plain": [
       "<IPython.core.display.HTML object>"
      ]
     },
     "metadata": {},
     "output_type": "display_data"
    },
    {
     "data": {
      "text/html": [
       "<img src=http://cdn.taboolasyndication.com/libtrc/static/thumbnails/2e967b6db0813815a899401b4746a749.jpg width=\"200\"/>"
      ],
      "text/plain": [
       "<IPython.core.display.HTML object>"
      ]
     },
     "metadata": {},
     "output_type": "display_data"
    },
    {
     "data": {
      "text/html": [
       "<img src=http://cdn.taboolasyndication.com/libtrc/static/thumbnails/6b232005189e48716587f79b33347846.jpg width=\"200\"/>"
      ],
      "text/plain": [
       "<IPython.core.display.HTML object>"
      ]
     },
     "metadata": {},
     "output_type": "display_data"
    },
    {
     "data": {
      "text/html": [
       "<img src=http://www.talktechdaily.com/images/1/phone24-1-640x480.jpg width=\"200\"/>"
      ],
      "text/plain": [
       "<IPython.core.display.HTML object>"
      ]
     },
     "metadata": {},
     "output_type": "display_data"
    },
    {
     "data": {
      "text/html": [
       "<img src=http://cdn.taboolasyndication.com/libtrc/static/thumbnails/1472185cdf7f16c8da925b55606c6d3d.jpg width=\"200\"/>"
      ],
      "text/plain": [
       "<IPython.core.display.HTML object>"
      ]
     },
     "metadata": {},
     "output_type": "display_data"
    },
    {
     "data": {
      "text/html": [
       "<img src=http://cdn.taboolasyndication.com/libtrc/static/thumbnails/e70c96286da170d65cbf3fc4c9a3e400.jpg width=\"200\"/>"
      ],
      "text/plain": [
       "<IPython.core.display.HTML object>"
      ]
     },
     "metadata": {},
     "output_type": "display_data"
    },
    {
     "data": {
      "text/html": [
       "<img src=http://cdn.taboolasyndication.com/libtrc/static/thumbnails/111724989dc74f43d88dd601ba9f55d3.jpg width=\"200\"/>"
      ],
      "text/plain": [
       "<IPython.core.display.HTML object>"
      ]
     },
     "metadata": {},
     "output_type": "display_data"
    },
    {
     "data": {
      "text/html": [
       "<img src=http://cdn.taboolasyndication.com/libtrc/static/thumbnails/70a4490ca767d58d5dcbf75a7cdb11fd.png width=\"200\"/>"
      ],
      "text/plain": [
       "<IPython.core.display.HTML object>"
      ]
     },
     "metadata": {},
     "output_type": "display_data"
    },
    {
     "data": {
      "text/html": [
       "<img src=http://cdn.taboolasyndication.com/libtrc/static/thumbnails/62ff504289dbb8ad3aab90dd38c3d76c.jpg width=\"200\"/>"
      ],
      "text/plain": [
       "<IPython.core.display.HTML object>"
      ]
     },
     "metadata": {},
     "output_type": "display_data"
    }
   ],
   "source": [
    "for i in topimgs_taboola:\n",
    "    displaystring = '<img src={} width=\"200\"/>'.format(i)\n",
    "    display(HTML(displaystring))"
   ]
  },
  {
   "cell_type": "code",
   "execution_count": 30,
   "metadata": {
    "collapsed": false
   },
   "outputs": [
    {
     "data": {
      "text/html": [
       "<img src=http://images.outbrain.com/Imaginarium/api/uuid/7055fd3a4363b244a84585d86fa9badc31edf8ff316ffbd88f30b698b0533df0/215/140/2.0 width=\"200\"/>"
      ],
      "text/plain": [
       "<IPython.core.display.HTML object>"
      ]
     },
     "metadata": {},
     "output_type": "display_data"
    },
    {
     "data": {
      "text/html": [
       "<img src=https://images.outbrain.com/Imaginarium/api/uuid/8449bc8ec7da4b4bf4cf8bf17dfb85552ad30a148a782b101735d91951e6ade8/434/288/2.0 width=\"200\"/>"
      ],
      "text/plain": [
       "<IPython.core.display.HTML object>"
      ]
     },
     "metadata": {},
     "output_type": "display_data"
    },
    {
     "data": {
      "text/html": [
       "<img src=http://images.outbrain.com/Imaginarium/api/uuid/5b765d33f61ea1d0c3b95eecf1fc12a8548e7b7c5197ab0ab35e78995e8c12b0/403/218/2.0 width=\"200\"/>"
      ],
      "text/plain": [
       "<IPython.core.display.HTML object>"
      ]
     },
     "metadata": {},
     "output_type": "display_data"
    },
    {
     "data": {
      "text/html": [
       "<img src=http://images.outbrain.com/Imaginarium/api/uuid/d9ee17a3e7ed3614daf40a2d0860d592733263adba941d32f9e6fa5ab870ee42/403/218/2.0 width=\"200\"/>"
      ],
      "text/plain": [
       "<IPython.core.display.HTML object>"
      ]
     },
     "metadata": {},
     "output_type": "display_data"
    },
    {
     "data": {
      "text/html": [
       "<img src=http://images.outbrain.com/Imaginarium/api/uuid/8153a26b5249f3a92677e9dc39a96a3474ec27213058d5e8eac1f9ac33b48d3a/403/218/2.0 width=\"200\"/>"
      ],
      "text/plain": [
       "<IPython.core.display.HTML object>"
      ]
     },
     "metadata": {},
     "output_type": "display_data"
    },
    {
     "data": {
      "text/html": [
       "<img src=https://images.outbrain.com/Imaginarium/api/uuid/5e15e5f52e56c48455ede7b2bdd09a06531cba1aadfaf926f7f85bf743370724/434/288/2.0 width=\"200\"/>"
      ],
      "text/plain": [
       "<IPython.core.display.HTML object>"
      ]
     },
     "metadata": {},
     "output_type": "display_data"
    },
    {
     "data": {
      "text/html": [
       "<img src=http://images.outbrain.com/Imaginarium/api/uuid/d952829966afb625c4d51aee9ff62c6391e4419e48c345b8caf5ad22641478b1/403/218/2.0 width=\"200\"/>"
      ],
      "text/plain": [
       "<IPython.core.display.HTML object>"
      ]
     },
     "metadata": {},
     "output_type": "display_data"
    },
    {
     "data": {
      "text/html": [
       "<img src=http://images.outbrain.com/Imaginarium/api/uuid/8d5688fc2588522a5cf0032d69a3b94b843792b1de5cec2362b7d05b90479937/403/218/2.0 width=\"200\"/>"
      ],
      "text/plain": [
       "<IPython.core.display.HTML object>"
      ]
     },
     "metadata": {},
     "output_type": "display_data"
    },
    {
     "data": {
      "text/html": [
       "<img src=https://images.outbrain.com/Imaginarium/api/uuid/d9ee17a3e7ed3614daf40a2d0860d592733263adba941d32f9e6fa5ab870ee42/434/288/2.0 width=\"200\"/>"
      ],
      "text/plain": [
       "<IPython.core.display.HTML object>"
      ]
     },
     "metadata": {},
     "output_type": "display_data"
    },
    {
     "data": {
      "text/html": [
       "<img src=http://images.outbrain.com/Imaginarium/api/uuid/67f47feaf880e0ab25208a162f14a34fe3df5c054495afbf3f04aa7ccff6d2a0/215/140/2.0 width=\"200\"/>"
      ],
      "text/plain": [
       "<IPython.core.display.HTML object>"
      ]
     },
     "metadata": {},
     "output_type": "display_data"
    }
   ],
   "source": [
    "for i in topimgs_outbrain:\n",
    "    displaystring = '<img src={} width=\"200\"/>'.format(i)\n",
    "    display(HTML(displaystring))"
   ]
  },
  {
   "cell_type": "code",
   "execution_count": 31,
   "metadata": {
    "collapsed": false
   },
   "outputs": [
    {
     "data": {
      "text/html": [
       "<img src=http://img2.zergnet.com/694817_300.jpg width=\"200\"/>"
      ],
      "text/plain": [
       "<IPython.core.display.HTML object>"
      ]
     },
     "metadata": {},
     "output_type": "display_data"
    },
    {
     "data": {
      "text/html": [
       "<img src=http://img1.zergnet.com/1531624_300.jpg width=\"200\"/>"
      ],
      "text/plain": [
       "<IPython.core.display.HTML object>"
      ]
     },
     "metadata": {},
     "output_type": "display_data"
    },
    {
     "data": {
      "text/html": [
       "<img src=http://img4.zergnet.com/1597607_300.jpg width=\"200\"/>"
      ],
      "text/plain": [
       "<IPython.core.display.HTML object>"
      ]
     },
     "metadata": {},
     "output_type": "display_data"
    },
    {
     "data": {
      "text/html": [
       "<img src=http://img5.zergnet.com/1402938_300.jpg width=\"200\"/>"
      ],
      "text/plain": [
       "<IPython.core.display.HTML object>"
      ]
     },
     "metadata": {},
     "output_type": "display_data"
    },
    {
     "data": {
      "text/html": [
       "<img src=http://img1.zergnet.com/1400060_300.jpg width=\"200\"/>"
      ],
      "text/plain": [
       "<IPython.core.display.HTML object>"
      ]
     },
     "metadata": {},
     "output_type": "display_data"
    },
    {
     "data": {
      "text/html": [
       "<img src=http://img5.zergnet.com/1576922_300.jpg width=\"200\"/>"
      ],
      "text/plain": [
       "<IPython.core.display.HTML object>"
      ]
     },
     "metadata": {},
     "output_type": "display_data"
    },
    {
     "data": {
      "text/html": [
       "<img src=http://img4.zergnet.com/1597599_300.jpg width=\"200\"/>"
      ],
      "text/plain": [
       "<IPython.core.display.HTML object>"
      ]
     },
     "metadata": {},
     "output_type": "display_data"
    },
    {
     "data": {
      "text/html": [
       "<img src=http://img4.zergnet.com/1567835_300.jpg width=\"200\"/>"
      ],
      "text/plain": [
       "<IPython.core.display.HTML object>"
      ]
     },
     "metadata": {},
     "output_type": "display_data"
    },
    {
     "data": {
      "text/html": [
       "<img src=http://img5.zergnet.com/1597590_300.jpg width=\"200\"/>"
      ],
      "text/plain": [
       "<IPython.core.display.HTML object>"
      ]
     },
     "metadata": {},
     "output_type": "display_data"
    },
    {
     "data": {
      "text/html": [
       "<img src=http://img2.zergnet.com/1617449_300.jpg width=\"200\"/>"
      ],
      "text/plain": [
       "<IPython.core.display.HTML object>"
      ]
     },
     "metadata": {},
     "output_type": "display_data"
    }
   ],
   "source": [
    "for i in topimgs_zergnet:\n",
    "    displaystring = '<img src={} width=\"200\"/>'.format(i)\n",
    "    display(HTML(displaystring))"
   ]
  },
  {
   "cell_type": "markdown",
   "metadata": {},
   "source": [
    "Yawn!!"
   ]
  },
  {
   "cell_type": "code",
   "execution_count": 32,
   "metadata": {
    "collapsed": false
   },
   "outputs": [],
   "source": [
    "dates = deduped['date']"
   ]
  },
  {
   "cell_type": "code",
   "execution_count": 33,
   "metadata": {
    "collapsed": false
   },
   "outputs": [
    {
     "data": {
      "text/plain": [
       "'2017-04-23T06:30:59.796Z'"
      ]
     },
     "execution_count": 33,
     "metadata": {},
     "output_type": "execute_result"
    }
   ],
   "source": [
    "dates[0]"
   ]
  },
  {
   "cell_type": "code",
   "execution_count": 34,
   "metadata": {
    "collapsed": true
   },
   "outputs": [],
   "source": [
    "deduped = deduped.sort_values('date', ascending=True)"
   ]
  },
  {
   "cell_type": "code",
   "execution_count": 35,
   "metadata": {
    "collapsed": false
   },
   "outputs": [
    {
     "data": {
      "text/plain": [
       "date                      provider\n",
       "2017-04-23T06:30:59.796Z  zergnet     1\n",
       "2017-04-23T06:30:59.835Z  zergnet     1\n",
       "2017-04-23T06:30:59.889Z  zergnet     1\n",
       "2017-04-23T06:30:59.943Z  zergnet     1\n",
       "2017-04-23T06:31:00.003Z  zergnet     1\n",
       "2017-04-23T06:31:00.328Z  zergnet     1\n",
       "2017-04-23T06:31:00.743Z  zergnet     1\n",
       "2017-04-23T06:31:01.043Z  zergnet     1\n",
       "2017-04-23T06:31:01.366Z  zergnet     1\n",
       "2017-04-23T06:31:01.424Z  zergnet     1\n",
       "2017-04-23T06:31:01.485Z  zergnet     1\n",
       "2017-04-23T06:31:01.539Z  zergnet     1\n",
       "2017-04-23T06:31:02.101Z  zergnet     1\n",
       "2017-04-23T06:31:03.086Z  zergnet     1\n",
       "2017-04-23T06:31:03.668Z  zergnet     1\n",
       "2017-04-23T06:31:03.757Z  zergnet     1\n",
       "2017-04-23T06:31:05.173Z  zergnet     1\n",
       "2017-04-23T06:31:05.636Z  zergnet     1\n",
       "2017-04-23T06:31:05.808Z  zergnet     1\n",
       "2017-04-23T06:31:06.263Z  zergnet     1\n",
       "2017-04-23T06:31:06.942Z  zergnet     1\n",
       "2017-04-23T06:31:07.231Z  zergnet     1\n",
       "2017-04-23T06:31:07.640Z  zergnet     1\n",
       "2017-04-23T06:31:08.085Z  zergnet     1\n",
       "2017-04-23T06:31:08.138Z  zergnet     1\n",
       "2017-04-23T06:31:08.191Z  zergnet     1\n",
       "2017-04-23T06:31:08.262Z  zergnet     1\n",
       "2017-04-23T06:31:08.315Z  zergnet     1\n",
       "2017-04-23T06:31:08.638Z  zergnet     1\n",
       "2017-04-23T06:31:08.945Z  zergnet     1\n",
       "                                     ..\n",
       "2017-07-04T04:56:30.625Z  outbrain    1\n",
       "2017-07-04T04:56:31.267Z  outbrain    1\n",
       "2017-07-04T04:56:34.541Z  outbrain    1\n",
       "2017-07-04T04:56:37.211Z  outbrain    1\n",
       "2017-07-04T04:56:37.573Z  outbrain    1\n",
       "2017-07-04T04:56:38.879Z  outbrain    1\n",
       "2017-07-04T04:56:39.230Z  outbrain    1\n",
       "2017-07-04T04:56:40.164Z  outbrain    1\n",
       "2017-07-04T04:56:44.717Z  outbrain    1\n",
       "2017-07-04T04:56:45.464Z  taboola     1\n",
       "2017-07-04T04:56:52.557Z  taboola     1\n",
       "2017-07-04T04:56:52.883Z  taboola     1\n",
       "2017-07-04T04:56:53.467Z  taboola     1\n",
       "2017-07-04T04:56:53.518Z  taboola     1\n",
       "2017-07-04T04:56:53.806Z  taboola     1\n",
       "2017-07-04T04:56:57.018Z  outbrain    1\n",
       "2017-07-04T04:56:57.933Z  outbrain    1\n",
       "2017-07-04T04:56:58.124Z  outbrain    1\n",
       "2017-07-04T04:56:58.617Z  outbrain    1\n",
       "2017-07-04T04:56:59.075Z  outbrain    1\n",
       "2017-07-04T04:56:59.997Z  outbrain    1\n",
       "2017-07-04T04:57:01.097Z  outbrain    1\n",
       "2017-07-04T04:57:01.410Z  outbrain    1\n",
       "2017-07-04T04:57:03.123Z  outbrain    1\n",
       "2017-07-04T04:57:04.073Z  outbrain    1\n",
       "2017-07-04T04:57:05.899Z  outbrain    1\n",
       "2017-07-04T04:57:06.463Z  outbrain    1\n",
       "2017-07-04T04:57:06.766Z  outbrain    1\n",
       "2017-07-04T04:57:07.959Z  outbrain    1\n",
       "2017-07-04T04:57:09.713Z  outbrain    1\n",
       "dtype: int64"
      ]
     },
     "execution_count": 35,
     "metadata": {},
     "output_type": "execute_result"
    }
   ],
   "source": [
    "deduped.groupby(['date','provider']).size()"
   ]
  },
  {
   "cell_type": "code",
   "execution_count": null,
   "metadata": {
    "collapsed": true
   },
   "outputs": [],
   "source": []
  }
 ],
 "metadata": {
  "kernelspec": {
   "display_name": "Python 3",
   "language": "python",
   "name": "python3"
  },
  "language_info": {
   "codemirror_mode": {
    "name": "ipython",
    "version": 3
   },
   "file_extension": ".py",
   "mimetype": "text/x-python",
   "name": "python",
   "nbconvert_exporter": "python",
   "pygments_lexer": "ipython3",
   "version": "3.6.0"
  }
 },
 "nbformat": 4,
 "nbformat_minor": 1
}
